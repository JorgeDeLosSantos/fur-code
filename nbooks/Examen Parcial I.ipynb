{
 "cells": [
  {
   "cell_type": "code",
   "execution_count": 1,
   "metadata": {},
   "outputs": [],
   "source": [
    "from sympy import *\n",
    "from sympy.matrices import *\n",
    "init_printing(use_latex=true)\n",
    "\n",
    "t1,t2,t3,t4,t5,t6 = symbols(\"\\\\theta_1:7\")\n",
    "d1,d2,d3,d4,d5,d6 = symbols(\"d_1:7\")\n",
    "a1,a2,a3,a4,a5,a6 = symbols(\"a_1:7\")\n",
    "x,y,z,t = symbols('x,y,z,t')\n",
    "\n",
    "def R(t,axis=\"z\"):\n",
    "    \"\"\"\n",
    "    Calcula la matriz de transformación homogénea correspondiente a una rotación \n",
    "    en cualesquiera de los ejes coordenados.\n",
    "    \"\"\"\n",
    "    if axis in (\"z\",\"Z\",3):\n",
    "        M = Matrix([[cos(t),-sin(t),0,0],\n",
    "                  [sin(t),cos(t),0,0],\n",
    "                  [0,0,1,0],\n",
    "                  [0,0,0,1]])\n",
    "    elif axis in (\"y\",\"Y\",2):\n",
    "        M = Matrix([[cos(t),0,sin(t),0],\n",
    "                  [0,1,0,0],\n",
    "                  [-sin(t),0,cos(t),0],\n",
    "                  [0,0,0,1]])\n",
    "    elif axis in (\"x\",\"X\",1):\n",
    "        M = Matrix([[1,0,0,0],\n",
    "                  [0,cos(t),-sin(t),0,],\n",
    "                  [0,sin(t),cos(t),0],\n",
    "                  [0,0,0,1]])\n",
    "    else:\n",
    "        return eye(4)\n",
    "    return M\n",
    "\n",
    "def D(q):\n",
    "    \"\"\"\n",
    "    Calcula la matriz de transformación homogénea correspondiente a una traslación  \n",
    "    en cualesquiera de los ejes coordenados.\n",
    "    \"\"\"\n",
    "    M = Matrix([[1,0,0,q[0]],\n",
    "                  [0,1,0,q[1]],\n",
    "                  [0,0,1,q[2]],\n",
    "                  [0,0,0,1]])\n",
    "    return M\n",
    "    \n"
   ]
  },
  {
   "cell_type": "code",
   "execution_count": 2,
   "metadata": {},
   "outputs": [
    {
     "data": {
      "image/png": "[encoded data removed]",
      "text/latex": [
       "$$\\left[\\begin{matrix}0.642787609686539 & -0.766044443118978 & 0 & 64.2787609686539\\\\0.766044443118978 & 0.642787609686539 & 0 & 76.6044443118978\\\\0 & 0 & 1.0 & 0\\\\0 & 0 & 0 & 1.0\\end{matrix}\\right]$$"
      ],
      "text/plain": [
       "⎡0.642787609686539  -0.766044443118978   0   64.2787609686539⎤\n",
       "⎢                                                            ⎥\n",
       "⎢0.766044443118978  0.642787609686539    0   76.6044443118978⎥\n",
       "⎢                                                            ⎥\n",
       "⎢        0                  0           1.0         0        ⎥\n",
       "⎢                                                            ⎥\n",
       "⎣        0                  0            0         1.0       ⎦"
      ]
     },
     "execution_count": 2,
     "metadata": {},
     "output_type": "execute_result"
    }
   ],
   "source": [
    "(R(50*pi/180,\"z\")*D([100,0,0])).evalf()"
   ]
  },
  {
   "cell_type": "code",
   "execution_count": 3,
   "metadata": {},
   "outputs": [
    {
     "data": {
      "image/png": "[encoded data removed]",
      "text/latex": [
       "$$60.1281157959691$$"
      ],
      "text/plain": [
       "60.1281157959691"
      ]
     },
     "execution_count": 3,
     "metadata": {},
     "output_type": "execute_result"
    }
   ],
   "source": [
    "sqrt(100**2 + 120**2 - 2*100*120*cos(pi/6)).evalf()"
   ]
  },
  {
   "cell_type": "code",
   "execution_count": 4,
   "metadata": {},
   "outputs": [
    {
     "data": {
      "image/png": "[encoded data removed]",
      "text/latex": [
       "$$86.2607774900484$$"
      ],
      "text/plain": [
       "86.2607774900484"
      ]
     },
     "execution_count": 4,
     "metadata": {},
     "output_type": "execute_result"
    }
   ],
   "source": [
    "(asin((120/60.128)*sin(pi/6))*180/pi).evalf()"
   ]
  },
  {
   "cell_type": "code",
   "execution_count": 5,
   "metadata": {},
   "outputs": [
    {
     "data": {
      "image/png": "[encoded data removed]",
      "text/latex": [
       "$$93.74000000000001$$"
      ],
      "text/plain": [
       "93.74000000000001"
      ]
     },
     "execution_count": 5,
     "metadata": {},
     "output_type": "execute_result"
    }
   ],
   "source": [
    "180-30-56.26"
   ]
  },
  {
   "cell_type": "code",
   "execution_count": 6,
   "metadata": {},
   "outputs": [
    {
     "data": {
      "image/png": "[encoded data removed]",
      "text/latex": [
       "$$33.74$$"
      ],
      "text/plain": [
       "33.74"
      ]
     },
     "execution_count": 6,
     "metadata": {},
     "output_type": "execute_result"
    }
   ],
   "source": [
    "90-56.26"
   ]
  },
  {
   "cell_type": "code",
   "execution_count": 7,
   "metadata": {},
   "outputs": [
    {
     "data": {
      "image/png": "[encoded data removed]",
      "text/latex": [
       "$$\\left[\\begin{matrix}0.866025403784439 & -0.5 & 0 & -33.3966007576263\\\\0.5 & 0.866025403784439 & 0 & 50.00043441647\\\\0 & 0 & 1.0 & 0\\\\0 & 0 & 0 & 1.0\\end{matrix}\\right]$$"
      ],
      "text/plain": [
       "⎡0.866025403784439        -0.5          0   -33.3966007576263⎤\n",
       "⎢                                                            ⎥\n",
       "⎢       0.5         0.866025403784439   0    50.00043441647  ⎥\n",
       "⎢                                                            ⎥\n",
       "⎢        0                  0          1.0          0        ⎥\n",
       "⎢                                                            ⎥\n",
       "⎣        0                  0           0          1.0       ⎦"
      ]
     },
     "execution_count": 7,
     "metadata": {},
     "output_type": "execute_result"
    }
   ],
   "source": [
    "(R(33.74*pi/180,\"z\")*D([0,60.128,0])*R(-3.74*pi/180,\"z\")).evalf()"
   ]
  },
  {
   "cell_type": "code",
   "execution_count": 8,
   "metadata": {},
   "outputs": [
    {
     "data": {
      "image/png": "[encoded data removed]",
      "text/latex": [
       "$$\\left[\\begin{matrix}0.642787609686539 & 0.766044443118978 & 0 & -100.0\\\\-0.766044443118978 & 0.642787609686539 & 0 & 0\\\\0 & 0 & 1.0 & 0\\\\0 & 0 & 0 & 1.0\\end{matrix}\\right]$$"
      ],
      "text/plain": [
       "⎡0.642787609686539   0.766044443118978   0   -100.0⎤\n",
       "⎢                                                  ⎥\n",
       "⎢-0.766044443118978  0.642787609686539   0     0   ⎥\n",
       "⎢                                                  ⎥\n",
       "⎢        0                   0          1.0    0   ⎥\n",
       "⎢                                                  ⎥\n",
       "⎣        0                   0           0    1.0  ⎦"
      ]
     },
     "execution_count": 8,
     "metadata": {},
     "output_type": "execute_result"
    }
   ],
   "source": [
    "(D([-100,0,0])*R(-50*pi/180,\"z\")).evalf()"
   ]
  },
  {
   "cell_type": "code",
   "execution_count": 9,
   "metadata": {},
   "outputs": [],
   "source": [
    "def dhs(a,alpha,d,theta):\n",
    "    M = Matrix([[cos(theta),-sin(theta)*cos(alpha),sin(theta)*sin(alpha),a*cos(theta)],\n",
    "                  [sin(theta),cos(theta)*cos(alpha),-cos(theta)*sin(alpha),a*sin(theta)],\n",
    "                  [0,sin(alpha),cos(alpha),d],\n",
    "                  [0,0,0,1]])\n",
    "    return M"
   ]
  },
  {
   "cell_type": "code",
   "execution_count": 13,
   "metadata": {},
   "outputs": [
    {
     "data": {
      "image/png": "[encoded data removed]",
      "text/latex": [
       "$$\\left[\\begin{matrix}\\left(- \\sin{\\left (\\theta_2 \\right )} \\sin{\\left (\\theta_3 \\right )} \\cos{\\left (\\theta_1 \\right )} + \\cos{\\left (\\theta_1 \\right )} \\cos{\\left (\\theta_2 \\right )} \\cos{\\left (\\theta_3 \\right )}\\right) \\cos{\\left (\\theta_4 \\right )} + \\sin{\\left (\\theta_1 \\right )} \\sin{\\left (\\theta_4 \\right )} & - \\left(- \\sin{\\left (\\theta_2 \\right )} \\sin{\\left (\\theta_3 \\right )} \\cos{\\left (\\theta_1 \\right )} + \\cos{\\left (\\theta_1 \\right )} \\cos{\\left (\\theta_2 \\right )} \\cos{\\left (\\theta_3 \\right )}\\right) \\sin{\\left (\\theta_4 \\right )} + \\sin{\\left (\\theta_1 \\right )} \\cos{\\left (\\theta_4 \\right )} & \\sin{\\left (\\theta_2 \\right )} \\cos{\\left (\\theta_1 \\right )} \\cos{\\left (\\theta_3 \\right )} + \\sin{\\left (\\theta_3 \\right )} \\cos{\\left (\\theta_1 \\right )} \\cos{\\left (\\theta_2 \\right )} & 80 \\sin{\\left (\\theta_2 \\right )} \\cos{\\left (\\theta_1 \\right )} \\cos{\\left (\\theta_3 \\right )} + 80 \\sin{\\left (\\theta_3 \\right )} \\cos{\\left (\\theta_1 \\right )} \\cos{\\left (\\theta_2 \\right )} + 250 \\cos{\\left (\\theta_1 \\right )} \\cos{\\left (\\theta_2 \\right )}\\\\\\left(- \\sin{\\left (\\theta_1 \\right )} \\sin{\\left (\\theta_2 \\right )} \\sin{\\left (\\theta_3 \\right )} + \\sin{\\left (\\theta_1 \\right )} \\cos{\\left (\\theta_2 \\right )} \\cos{\\left (\\theta_3 \\right )}\\right) \\cos{\\left (\\theta_4 \\right )} - \\sin{\\left (\\theta_4 \\right )} \\cos{\\left (\\theta_1 \\right )} & - \\left(- \\sin{\\left (\\theta_1 \\right )} \\sin{\\left (\\theta_2 \\right )} \\sin{\\left (\\theta_3 \\right )} + \\sin{\\left (\\theta_1 \\right )} \\cos{\\left (\\theta_2 \\right )} \\cos{\\left (\\theta_3 \\right )}\\right) \\sin{\\left (\\theta_4 \\right )} - \\cos{\\left (\\theta_1 \\right )} \\cos{\\left (\\theta_4 \\right )} & \\sin{\\left (\\theta_1 \\right )} \\sin{\\left (\\theta_2 \\right )} \\cos{\\left (\\theta_3 \\right )} + \\sin{\\left (\\theta_1 \\right )} \\sin{\\left (\\theta_3 \\right )} \\cos{\\left (\\theta_2 \\right )} & 80 \\sin{\\left (\\theta_1 \\right )} \\sin{\\left (\\theta_2 \\right )} \\cos{\\left (\\theta_3 \\right )} + 80 \\sin{\\left (\\theta_1 \\right )} \\sin{\\left (\\theta_3 \\right )} \\cos{\\left (\\theta_2 \\right )} + 250 \\sin{\\left (\\theta_1 \\right )} \\cos{\\left (\\theta_2 \\right )}\\\\\\left(\\sin{\\left (\\theta_2 \\right )} \\cos{\\left (\\theta_3 \\right )} + \\sin{\\left (\\theta_3 \\right )} \\cos{\\left (\\theta_2 \\right )}\\right) \\cos{\\left (\\theta_4 \\right )} & - \\left(\\sin{\\left (\\theta_2 \\right )} \\cos{\\left (\\theta_3 \\right )} + \\sin{\\left (\\theta_3 \\right )} \\cos{\\left (\\theta_2 \\right )}\\right) \\sin{\\left (\\theta_4 \\right )} & \\sin{\\left (\\theta_2 \\right )} \\sin{\\left (\\theta_3 \\right )} - \\cos{\\left (\\theta_2 \\right )} \\cos{\\left (\\theta_3 \\right )} & 80 \\sin{\\left (\\theta_2 \\right )} \\sin{\\left (\\theta_3 \\right )} + 250 \\sin{\\left (\\theta_2 \\right )} - 80 \\cos{\\left (\\theta_2 \\right )} \\cos{\\left (\\theta_3 \\right )} + 200\\\\0 & 0 & 0 & 1\\end{matrix}\\right]$$"
      ],
      "text/plain": [
       "⎡(-sin(\\theta₂)⋅sin(\\theta₃)⋅cos(\\theta₁) + cos(\\theta₁)⋅cos(\\theta₂)⋅cos(\\the\n",
       "⎢                                                                             \n",
       "⎢(-sin(\\theta₁)⋅sin(\\theta₂)⋅sin(\\theta₃) + sin(\\theta₁)⋅cos(\\theta₂)⋅cos(\\the\n",
       "⎢                                                                             \n",
       "⎢                           (sin(\\theta₂)⋅cos(\\theta₃) + sin(\\theta₃)⋅cos(\\the\n",
       "⎢                                                                             \n",
       "⎣                                                             0               \n",
       "\n",
       "ta₃))⋅cos(\\theta₄) + sin(\\theta₁)⋅sin(\\theta₄)  -(-sin(\\theta₂)⋅sin(\\theta₃)⋅c\n",
       "                                                                              \n",
       "ta₃))⋅cos(\\theta₄) - sin(\\theta₄)⋅cos(\\theta₁)  -(-sin(\\theta₁)⋅sin(\\theta₂)⋅s\n",
       "                                                                              \n",
       "ta₂))⋅cos(\\theta₄)                                                         -(s\n",
       "                                                                              \n",
       "                                                                              \n",
       "\n",
       "os(\\theta₁) + cos(\\theta₁)⋅cos(\\theta₂)⋅cos(\\theta₃))⋅sin(\\theta₄) + sin(\\thet\n",
       "                                                                              \n",
       "in(\\theta₃) + sin(\\theta₁)⋅cos(\\theta₂)⋅cos(\\theta₃))⋅sin(\\theta₄) - cos(\\thet\n",
       "                                                                              \n",
       "in(\\theta₂)⋅cos(\\theta₃) + sin(\\theta₃)⋅cos(\\theta₂))⋅sin(\\theta₄)            \n",
       "                                                                              \n",
       "                               0                                              \n",
       "\n",
       "a₁)⋅cos(\\theta₄)  sin(\\theta₂)⋅cos(\\theta₁)⋅cos(\\theta₃) + sin(\\theta₃)⋅cos(\\t\n",
       "                                                                              \n",
       "a₁)⋅cos(\\theta₄)  sin(\\theta₁)⋅sin(\\theta₂)⋅cos(\\theta₃) + sin(\\theta₁)⋅sin(\\t\n",
       "                                                                              \n",
       "                               sin(\\theta₂)⋅sin(\\theta₃) - cos(\\theta₂)⋅cos(\\t\n",
       "                                                                              \n",
       "                                                         0                    \n",
       "\n",
       "heta₁)⋅cos(\\theta₂)  80⋅sin(\\theta₂)⋅cos(\\theta₁)⋅cos(\\theta₃) + 80⋅sin(\\theta\n",
       "                                                                              \n",
       "heta₃)⋅cos(\\theta₂)  80⋅sin(\\theta₁)⋅sin(\\theta₂)⋅cos(\\theta₃) + 80⋅sin(\\theta\n",
       "                                                                              \n",
       "heta₃)                               80⋅sin(\\theta₂)⋅sin(\\theta₃) + 250⋅sin(\\t\n",
       "                                                                              \n",
       "                                                                              \n",
       "\n",
       "₃)⋅cos(\\theta₁)⋅cos(\\theta₂) + 250⋅cos(\\theta₁)⋅cos(\\theta₂)⎤\n",
       "                                                            ⎥\n",
       "₁)⋅sin(\\theta₃)⋅cos(\\theta₂) + 250⋅sin(\\theta₁)⋅cos(\\theta₂)⎥\n",
       "                                                            ⎥\n",
       "heta₂) - 80⋅cos(\\theta₂)⋅cos(\\theta₃) + 200                 ⎥\n",
       "                                                            ⎥\n",
       " 1                                                          ⎦"
      ]
     },
     "execution_count": 13,
     "metadata": {},
     "output_type": "execute_result"
    }
   ],
   "source": [
    "dhs(0,pi/2,200,t1)*dhs(250,0,0,t2)*dhs(0,pi/2,0,t3)*dhs(0,0,80,t4)"
   ]
  },
  {
   "cell_type": "code",
   "execution_count": 11,
   "metadata": {},
   "outputs": [
    {
     "data": {
      "image/png": "[encoded data removed]",
      "text/latex": [
       "$$\\left[\\begin{matrix}\\cos{\\left (\\theta_1 \\right )} \\cos{\\left (\\theta_2 \\right )} & - \\sin{\\left (\\theta_2 \\right )} \\cos{\\left (\\theta_1 \\right )} & \\sin{\\left (\\theta_1 \\right )} & 250 \\cos{\\left (\\theta_1 \\right )} \\cos{\\left (\\theta_2 \\right )}\\\\\\sin{\\left (\\theta_1 \\right )} \\cos{\\left (\\theta_2 \\right )} & - \\sin{\\left (\\theta_1 \\right )} \\sin{\\left (\\theta_2 \\right )} & - \\cos{\\left (\\theta_1 \\right )} & 250 \\sin{\\left (\\theta_1 \\right )} \\cos{\\left (\\theta_2 \\right )}\\\\\\sin{\\left (\\theta_2 \\right )} & \\cos{\\left (\\theta_2 \\right )} & 0 & 250 \\sin{\\left (\\theta_2 \\right )} + 200\\\\0 & 0 & 0 & 1\\end{matrix}\\right]$$"
      ],
      "text/plain": [
       "⎡cos(\\theta₁)⋅cos(\\theta₂)  -sin(\\theta₂)⋅cos(\\theta₁)  sin(\\theta₁)   250⋅cos\n",
       "⎢                                                                             \n",
       "⎢sin(\\theta₁)⋅cos(\\theta₂)  -sin(\\theta₁)⋅sin(\\theta₂)  -cos(\\theta₁)  250⋅sin\n",
       "⎢                                                                             \n",
       "⎢      sin(\\theta₂)                cos(\\theta₂)               0           250⋅\n",
       "⎢                                                                             \n",
       "⎣            0                          0                     0               \n",
       "\n",
       "(\\theta₁)⋅cos(\\theta₂)⎤\n",
       "                      ⎥\n",
       "(\\theta₁)⋅cos(\\theta₂)⎥\n",
       "                      ⎥\n",
       "sin(\\theta₂) + 200    ⎥\n",
       "                      ⎥\n",
       "       1              ⎦"
      ]
     },
     "execution_count": 11,
     "metadata": {},
     "output_type": "execute_result"
    }
   ],
   "source": [
    "simplify(dhs(0,pi/2,200,t1)*dhs(250,0,0,t2))"
   ]
  },
  {
   "cell_type": "code",
   "execution_count": 12,
   "metadata": {},
   "outputs": [
    {
     "data": {
      "image/png": "[encoded data removed]",
      "text/latex": [
       "$$\\left[\\begin{matrix}\\cos{\\left (\\theta_3 \\right )} \\cos{\\left (\\theta_4 \\right )} & - \\sin{\\left (\\theta_4 \\right )} \\cos{\\left (\\theta_3 \\right )} & \\sin{\\left (\\theta_3 \\right )} & 80 \\sin{\\left (\\theta_3 \\right )}\\\\\\sin{\\left (\\theta_3 \\right )} \\cos{\\left (\\theta_4 \\right )} & - \\sin{\\left (\\theta_3 \\right )} \\sin{\\left (\\theta_4 \\right )} & - \\cos{\\left (\\theta_3 \\right )} & - 80 \\cos{\\left (\\theta_3 \\right )}\\\\\\sin{\\left (\\theta_4 \\right )} & \\cos{\\left (\\theta_4 \\right )} & 0 & 0\\\\0 & 0 & 0 & 1\\end{matrix}\\right]$$"
      ],
      "text/plain": [
       "⎡cos(\\theta₃)⋅cos(\\theta₄)  -sin(\\theta₄)⋅cos(\\theta₃)  sin(\\theta₃)   80⋅sin(\n",
       "⎢                                                                             \n",
       "⎢sin(\\theta₃)⋅cos(\\theta₄)  -sin(\\theta₃)⋅sin(\\theta₄)  -cos(\\theta₃)  -80⋅cos\n",
       "⎢                                                                             \n",
       "⎢      sin(\\theta₄)                cos(\\theta₄)               0               \n",
       "⎢                                                                             \n",
       "⎣            0                          0                     0               \n",
       "\n",
       "\\theta₃) ⎤\n",
       "         ⎥\n",
       "(\\theta₃)⎥\n",
       "         ⎥\n",
       "0        ⎥\n",
       "         ⎥\n",
       "1        ⎦"
      ]
     },
     "execution_count": 12,
     "metadata": {},
     "output_type": "execute_result"
    }
   ],
   "source": [
    "simplify(dhs(0,pi/2,0,t3)*dhs(0,0,80,t4))"
   ]
  },
  {
   "cell_type": "code",
   "execution_count": 16,
   "metadata": {},
   "outputs": [
    {
     "data": {
      "image/png": "[encoded data removed]",
      "text/latex": [
       "$$-0.766044443118978$$"
      ],
      "text/plain": [
       "-0.766044443118978"
      ]
     },
     "execution_count": 16,
     "metadata": {},
     "output_type": "execute_result"
    }
   ],
   "source": [
    "sin(310*pi/180).evalf()"
   ]
  },
  {
   "cell_type": "code",
   "execution_count": null,
   "metadata": {},
   "outputs": [],
   "source": []
  }
 ],
 "metadata": {
  "kernelspec": {
   "display_name": "Python 3",
   "language": "python",
   "name": "python3"
  },
  "language_info": {
   "codemirror_mode": {
    "name": "ipython",
    "version": 3
   },
   "file_extension": ".py",
   "mimetype": "text/x-python",
   "name": "python",
   "nbconvert_exporter": "python",
   "pygments_lexer": "ipython3",
   "version": "3.6.3"
  }
 },
 "nbformat": 4,
 "nbformat_minor": 2
}
