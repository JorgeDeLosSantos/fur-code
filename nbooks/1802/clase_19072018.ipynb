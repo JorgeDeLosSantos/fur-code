{
 "cells": [
  {
   "cell_type": "markdown",
   "metadata": {},
   "source": [
    "Se tiene un manipulador RR con $L_1 = L_2 = 200$ mm, se requiere que la velocidad lineal del extremo esté dada por:\n",
    "\n",
    "$$ \\vec{v_2^0} = \\begin{bmatrix} 100 \\\\ 0 \\\\ 0 \\end{bmatrix} $$\n",
    "\n",
    "Para cuando $\\theta_1 = 30°$ y $\\theta_2 = 45°$. Calcule las velocidades articulares requeridas ($\\dot{\\theta_1}$ y \n",
    "$\\dot{\\theta_2}$):\n",
    "\n",
    "\n",
    "$\\xi$"
   ]
  },
  {
   "cell_type": "code",
   "execution_count": 8,
   "metadata": {},
   "outputs": [],
   "source": [
    "from sympy import *\n",
    "from sympy.matrices import *\n",
    "init_printing(use_latex=true)"
   ]
  },
  {
   "cell_type": "code",
   "execution_count": 20,
   "metadata": {},
   "outputs": [
    {
     "data": {
      "image/png": "[encoded data removed]",
      "text/latex": [
       "$$\\left[\\begin{matrix}1.54899\\\\-2.8684\\end{matrix}\\right]$$"
      ],
      "text/plain": [
       "⎡1.54899⎤\n",
       "⎢       ⎥\n",
       "⎣-2.8684⎦"
      ]
     },
     "execution_count": 20,
     "metadata": {},
     "output_type": "execute_result"
    }
   ],
   "source": [
    "L1,L2,t1,t2 = symbols(\"L_1, L_2, \\\\theta_1, \\\\theta_2\")\n",
    "\n",
    "J = Matrix([[-L1*sin(t1) - L2*sin(t1+t2), -L2*sin(t1+t2)],\n",
    "            [L1*cos(t1) + L2*cos(t1+t2), L2*cos(t1+t2)],\n",
    "            [0,0], [0,0], [0,0],[1,1] ])\n",
    "\n",
    "valores = {L1:200, L2:200, t1:pi/6, t2:pi/4}\n",
    "JN = J.subs(valores)\n",
    "JPi = ( ( (JN.T*JN).inv() )*JN.T ).evalf(6)\n",
    "xi = Matrix([100,200,0,0,0,0])\n",
    "\n",
    "qp = JPi*xi\n",
    "qp"
   ]
  },
  {
   "cell_type": "code",
   "execution_count": 21,
   "metadata": {},
   "outputs": [
    {
     "data": {
      "image/png": "[encoded data removed]",
      "text/latex": [
       "$$\\left[\\begin{matrix}99.992\\\\199.995\\\\0\\\\0\\\\0\\\\-1.31941\\end{matrix}\\right]$$"
      ],
      "text/plain": [
       "⎡ 99.992 ⎤\n",
       "⎢        ⎥\n",
       "⎢199.995 ⎥\n",
       "⎢        ⎥\n",
       "⎢   0    ⎥\n",
       "⎢        ⎥\n",
       "⎢   0    ⎥\n",
       "⎢        ⎥\n",
       "⎢   0    ⎥\n",
       "⎢        ⎥\n",
       "⎣-1.31941⎦"
      ]
     },
     "execution_count": 21,
     "metadata": {},
     "output_type": "execute_result"
    }
   ],
   "source": [
    "(JN*qp).evalf(6)"
   ]
  },
  {
   "cell_type": "code",
   "execution_count": null,
   "metadata": {},
   "outputs": [],
   "source": []
  }
 ],
 "metadata": {
  "kernelspec": {
   "display_name": "Python 3",
   "language": "python",
   "name": "python3"
  },
  "language_info": {
   "codemirror_mode": {
    "name": "ipython",
    "version": 3
   },
   "file_extension": ".py",
   "mimetype": "text/x-python",
   "name": "python",
   "nbconvert_exporter": "python",
   "pygments_lexer": "ipython3",
   "version": "3.6.5"
  }
 },
 "nbformat": 4,
 "nbformat_minor": 2
}
