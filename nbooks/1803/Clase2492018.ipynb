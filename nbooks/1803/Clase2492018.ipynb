{
 "cells": [
  {
   "cell_type": "code",
   "execution_count": 1,
   "metadata": {},
   "outputs": [],
   "source": [
    "from sympy import *\n",
    "from sympy.matrices import *\n",
    "init_printing(use_latex=True)"
   ]
  },
  {
   "cell_type": "markdown",
   "metadata": {},
   "source": [
    "## ¿Cómo definir una variable simbólica?"
   ]
  },
  {
   "cell_type": "code",
   "execution_count": 10,
   "metadata": {},
   "outputs": [],
   "source": [
    "theta = symbols(\"\\\\theta\")\n",
    "s = symbols(\"s\")"
   ]
  },
  {
   "cell_type": "markdown",
   "metadata": {},
   "source": [
    "## ¿Cómo definir una matriz?"
   ]
  },
  {
   "cell_type": "code",
   "execution_count": 15,
   "metadata": {},
   "outputs": [
    {
     "data": {
      "image/png": "[encoded data removed]",
      "text/latex": [
       "$$\\left[\\begin{matrix}1 & 2\\\\3 & 4\\end{matrix}\\right]$$"
      ],
      "text/plain": [
       "⎡1  2⎤\n",
       "⎢    ⎥\n",
       "⎣3  4⎦"
      ]
     },
     "execution_count": 15,
     "metadata": {},
     "output_type": "execute_result"
    }
   ],
   "source": [
    "A = Matrix([[1,2],[3,4]])\n",
    "A"
   ]
  },
  {
   "cell_type": "code",
   "execution_count": 17,
   "metadata": {},
   "outputs": [
    {
     "data": {
      "image/png": "[encoded data removed]",
      "text/latex": [
       "$$\\left[\\begin{matrix}-5 & 10\\\\7 & 0\\end{matrix}\\right]$$"
      ],
      "text/plain": [
       "⎡-5  10⎤\n",
       "⎢      ⎥\n",
       "⎣7   0 ⎦"
      ]
     },
     "execution_count": 17,
     "metadata": {},
     "output_type": "execute_result"
    }
   ],
   "source": [
    "B = Matrix([[-5,10],[7,0]])\n",
    "B"
   ]
  },
  {
   "cell_type": "code",
   "execution_count": 27,
   "metadata": {},
   "outputs": [
    {
     "data": {
      "image/png": "[encoded data removed]",
      "text/latex": [
       "$$\\left ( \\left[\\begin{matrix}3\\\\5\\\\2\\end{matrix}\\right], \\quad \\left[\\begin{matrix}-1\\\\2\\\\0\\end{matrix}\\right]\\right )$$"
      ],
      "text/plain": [
       "⎛⎡3⎤  ⎡-1⎤⎞\n",
       "⎜⎢ ⎥  ⎢  ⎥⎟\n",
       "⎜⎢5⎥, ⎢2 ⎥⎟\n",
       "⎜⎢ ⎥  ⎢  ⎥⎟\n",
       "⎝⎣2⎦  ⎣0 ⎦⎠"
      ]
     },
     "execution_count": 27,
     "metadata": {},
     "output_type": "execute_result"
    }
   ],
   "source": [
    "u = Matrix([3,5,2])\n",
    "v = Matrix([-1,2,0])\n",
    "u,v"
   ]
  },
  {
   "cell_type": "code",
   "execution_count": 31,
   "metadata": {},
   "outputs": [
    {
     "data": {
      "image/png": "[encoded data removed]",
      "text/latex": [
       "$$\\left ( \\left[\\begin{matrix}-4\\\\-2\\\\11\\end{matrix}\\right], \\quad \\left[\\begin{matrix}4\\\\2\\\\-11\\end{matrix}\\right], \\quad 7, \\quad 7\\right )$$"
      ],
      "text/plain": [
       "⎛⎡-4⎤  ⎡ 4 ⎤      ⎞\n",
       "⎜⎢  ⎥  ⎢   ⎥      ⎟\n",
       "⎜⎢-2⎥, ⎢ 2 ⎥, 7, 7⎟\n",
       "⎜⎢  ⎥  ⎢   ⎥      ⎟\n",
       "⎝⎣11⎦  ⎣-11⎦      ⎠"
      ]
     },
     "execution_count": 31,
     "metadata": {},
     "output_type": "execute_result"
    }
   ],
   "source": [
    "u.cross(v), v.cross(u), u.dot(v), v.dot(u)"
   ]
  },
  {
   "cell_type": "code",
   "execution_count": 35,
   "metadata": {},
   "outputs": [
    {
     "data": {
      "image/png": "[encoded data removed]",
      "text/latex": [
       "$$\\left[\\begin{matrix}\\cos{\\left (\\theta \\right )} & - \\sin{\\left (\\theta \\right )} & 0\\\\\\sin{\\left (\\theta \\right )} & \\cos{\\left (\\theta \\right )} & 0\\\\0 & 0 & 1\\end{matrix}\\right]$$"
      ],
      "text/plain": [
       "⎡cos(\\theta)  -sin(\\theta)  0⎤\n",
       "⎢                            ⎥\n",
       "⎢sin(\\theta)  cos(\\theta)   0⎥\n",
       "⎢                            ⎥\n",
       "⎣     0            0        1⎦"
      ]
     },
     "execution_count": 35,
     "metadata": {},
     "output_type": "execute_result"
    }
   ],
   "source": [
    "R = Matrix([[cos(theta), -sin(theta), 0], [sin(theta), cos(theta), 0], [0, 0, 1]])\n",
    "R"
   ]
  },
  {
   "cell_type": "code",
   "execution_count": 38,
   "metadata": {},
   "outputs": [
    {
     "data": {
      "image/png": "[encoded data removed]",
      "text/latex": [
       "$$1$$"
      ],
      "text/plain": [
       "1"
      ]
     },
     "execution_count": 38,
     "metadata": {},
     "output_type": "execute_result"
    }
   ],
   "source": [
    "simplify(R.det())"
   ]
  },
  {
   "cell_type": "code",
   "execution_count": 41,
   "metadata": {},
   "outputs": [
    {
     "data": {
      "image/png": "[encoded data removed]",
      "text/latex": [
       "$$\\left[\\begin{matrix}\\cos{\\left (3 \\theta \\right )} & - \\sin{\\left (3 \\theta \\right )} & 0\\\\\\sin{\\left (3 \\theta \\right )} & \\cos{\\left (3 \\theta \\right )} & 0\\\\0 & 0 & 1\\end{matrix}\\right]$$"
      ],
      "text/plain": [
       "⎡cos(3⋅\\theta)  -sin(3⋅\\theta)  0⎤\n",
       "⎢                                ⎥\n",
       "⎢sin(3⋅\\theta)  cos(3⋅\\theta)   0⎥\n",
       "⎢                                ⎥\n",
       "⎣      0              0         1⎦"
      ]
     },
     "execution_count": 41,
     "metadata": {},
     "output_type": "execute_result"
    }
   ],
   "source": [
    "simplify(R*R*R)"
   ]
  },
  {
   "cell_type": "code",
   "execution_count": 43,
   "metadata": {},
   "outputs": [
    {
     "data": {
      "image/png": "[encoded data removed]",
      "text/latex": [
       "$$\\left[\\begin{matrix}\\cos{\\left (\\theta \\right )} & \\sin{\\left (\\theta \\right )} & 0\\\\- \\sin{\\left (\\theta \\right )} & \\cos{\\left (\\theta \\right )} & 0\\\\0 & 0 & 1\\end{matrix}\\right]$$"
      ],
      "text/plain": [
       "⎡cos(\\theta)   sin(\\theta)  0⎤\n",
       "⎢                            ⎥\n",
       "⎢-sin(\\theta)  cos(\\theta)  0⎥\n",
       "⎢                            ⎥\n",
       "⎣     0             0       1⎦"
      ]
     },
     "execution_count": 43,
     "metadata": {},
     "output_type": "execute_result"
    }
   ],
   "source": [
    "simplify( R.inv() )"
   ]
  },
  {
   "cell_type": "code",
   "execution_count": 44,
   "metadata": {},
   "outputs": [
    {
     "data": {
      "image/png": "[encoded data removed]",
      "text/latex": [
       "$$\\left[\\begin{matrix}\\frac{- \\sin^{2}{\\left (\\theta \\right )} + 1}{\\cos{\\left (\\theta \\right )}} & \\sin{\\left (\\theta \\right )} & 0\\\\- \\sin{\\left (\\theta \\right )} & \\cos{\\left (\\theta \\right )} & 0\\\\0 & 0 & 1\\end{matrix}\\right]$$"
      ],
      "text/plain": [
       "⎡     2                            ⎤\n",
       "⎢- sin (\\theta) + 1                ⎥\n",
       "⎢──────────────────  sin(\\theta)  0⎥\n",
       "⎢   cos(\\theta)                    ⎥\n",
       "⎢                                  ⎥\n",
       "⎢   -sin(\\theta)     cos(\\theta)  0⎥\n",
       "⎢                                  ⎥\n",
       "⎣        0                0       1⎦"
      ]
     },
     "execution_count": 44,
     "metadata": {},
     "output_type": "execute_result"
    }
   ],
   "source": [
    "R.inv()"
   ]
  },
  {
   "cell_type": "code",
   "execution_count": 46,
   "metadata": {},
   "outputs": [
    {
     "data": {
      "image/png": "[encoded data removed]",
      "text/latex": [
       "$$\\left[\\begin{matrix}\\cos{\\left (s \\right )} & - \\sin{\\left (s \\right )} & 0\\\\\\sin{\\left (s \\right )} & \\cos{\\left (s \\right )} & 0\\\\0 & 0 & 1\\end{matrix}\\right]$$"
      ],
      "text/plain": [
       "⎡cos(s)  -sin(s)  0⎤\n",
       "⎢                  ⎥\n",
       "⎢sin(s)  cos(s)   0⎥\n",
       "⎢                  ⎥\n",
       "⎣  0        0     1⎦"
      ]
     },
     "execution_count": 46,
     "metadata": {},
     "output_type": "execute_result"
    }
   ],
   "source": [
    "R.subs({theta:s})"
   ]
  },
  {
   "cell_type": "code",
   "execution_count": 52,
   "metadata": {},
   "outputs": [],
   "source": [
    "def rotz(theta):\n",
    "    R = Matrix([[cos(theta), -sin(theta), 0], [sin(theta), cos(theta), 0], [0, 0, 1]])\n",
    "    return R\n",
    "\n",
    "def rotx(theta):\n",
    "    R = Matrix([[1, 0, 0], [0, cos(theta), -sin(theta)], [0, sin(theta), cos(theta)]])\n",
    "    return R"
   ]
  },
  {
   "cell_type": "code",
   "execution_count": 53,
   "metadata": {},
   "outputs": [
    {
     "data": {
      "image/png": "[encoded data removed]",
      "text/latex": [
       "$$\\left[\\begin{matrix}0 & -1 & 0\\\\1 & 0 & 0\\\\0 & 0 & 1\\end{matrix}\\right]$$"
      ],
      "text/plain": [
       "⎡0  -1  0⎤\n",
       "⎢        ⎥\n",
       "⎢1  0   0⎥\n",
       "⎢        ⎥\n",
       "⎣0  0   1⎦"
      ]
     },
     "execution_count": 53,
     "metadata": {},
     "output_type": "execute_result"
    }
   ],
   "source": [
    "rotz(pi/2)"
   ]
  },
  {
   "cell_type": "code",
   "execution_count": 55,
   "metadata": {},
   "outputs": [
    {
     "data": {
      "image/png": "[encoded data removed]",
      "text/latex": [
       "$$\\left[\\begin{matrix}1 & 0 & 0\\\\0 & \\cos{\\left (\\theta \\right )} & - \\sin{\\left (\\theta \\right )}\\\\0 & \\sin{\\left (\\theta \\right )} & \\cos{\\left (\\theta \\right )}\\end{matrix}\\right]$$"
      ],
      "text/plain": [
       "⎡1       0            0      ⎤\n",
       "⎢                            ⎥\n",
       "⎢0  cos(\\theta)  -sin(\\theta)⎥\n",
       "⎢                            ⎥\n",
       "⎣0  sin(\\theta)  cos(\\theta) ⎦"
      ]
     },
     "execution_count": 55,
     "metadata": {},
     "output_type": "execute_result"
    }
   ],
   "source": [
    "rotx(theta)"
   ]
  },
  {
   "cell_type": "code",
   "execution_count": 56,
   "metadata": {},
   "outputs": [],
   "source": [
    "phi,psi = symbols(\"\\\\phi, \\\\psi\")"
   ]
  },
  {
   "cell_type": "code",
   "execution_count": 61,
   "metadata": {},
   "outputs": [
    {
     "data": {
      "image/png": "[encoded data removed]",
      "text/latex": [
       "$$\\left[\\begin{matrix}- \\sin{\\left (\\phi \\right )} \\sin{\\left (\\psi \\right )} \\cos{\\left (\\theta \\right )} + \\cos{\\left (\\phi \\right )} \\cos{\\left (\\psi \\right )} & - \\sin{\\left (\\phi \\right )} \\cos{\\left (\\psi \\right )} \\cos{\\left (\\theta \\right )} - \\sin{\\left (\\psi \\right )} \\cos{\\left (\\phi \\right )} & \\sin{\\left (\\phi \\right )} \\sin{\\left (\\theta \\right )}\\\\\\sin{\\left (\\phi \\right )} \\cos{\\left (\\psi \\right )} + \\sin{\\left (\\psi \\right )} \\cos{\\left (\\phi \\right )} \\cos{\\left (\\theta \\right )} & - \\sin{\\left (\\phi \\right )} \\sin{\\left (\\psi \\right )} + \\cos{\\left (\\phi \\right )} \\cos{\\left (\\psi \\right )} \\cos{\\left (\\theta \\right )} & - \\sin{\\left (\\theta \\right )} \\cos{\\left (\\phi \\right )}\\\\\\sin{\\left (\\psi \\right )} \\sin{\\left (\\theta \\right )} & \\sin{\\left (\\theta \\right )} \\cos{\\left (\\psi \\right )} & \\cos{\\left (\\theta \\right )}\\end{matrix}\\right]$$"
      ],
      "text/plain": [
       "⎡-sin(\\phi)⋅sin(\\psi)⋅cos(\\theta) + cos(\\phi)⋅cos(\\psi)  -sin(\\phi)⋅cos(\\psi)⋅\n",
       "⎢                                                                             \n",
       "⎢sin(\\phi)⋅cos(\\psi) + sin(\\psi)⋅cos(\\phi)⋅cos(\\theta)   -sin(\\phi)⋅sin(\\psi) \n",
       "⎢                                                                             \n",
       "⎣                sin(\\psi)⋅sin(\\theta)                                   sin(\\\n",
       "\n",
       "cos(\\theta) - sin(\\psi)⋅cos(\\phi)  sin(\\phi)⋅sin(\\theta) ⎤\n",
       "                                                         ⎥\n",
       "+ cos(\\phi)⋅cos(\\psi)⋅cos(\\theta)  -sin(\\theta)⋅cos(\\phi)⎥\n",
       "                                                         ⎥\n",
       "theta)⋅cos(\\psi)                        cos(\\theta)      ⎦"
      ]
     },
     "execution_count": 61,
     "metadata": {},
     "output_type": "execute_result"
    }
   ],
   "source": [
    "rotz(phi)*rotx(theta)*rotz(psi)"
   ]
  },
  {
   "cell_type": "code",
   "execution_count": 76,
   "metadata": {},
   "outputs": [],
   "source": [
    "def hrotz(theta):\n",
    "    R = Matrix([[cos(theta), -sin(theta), 0, 0], [sin(theta), cos(theta), 0, 0], [0, 0, 1, 0], [0,0,0,1]])\n",
    "    return R\n",
    "\n",
    "def hrotx(theta):\n",
    "    R = Matrix([[1, 0, 0, 0], [0, cos(theta), -sin(theta), 0], [0, sin(theta), cos(theta),0], [0,0,0,1]])\n",
    "    return R\n",
    "\n",
    "def htra(q):\n",
    "    D = Matrix([[1,0,0,q[0]], [0,1,0,q[1]], [0,0,1,q[2]], [0,0,0,1]])\n",
    "    return D"
   ]
  },
  {
   "cell_type": "code",
   "execution_count": 77,
   "metadata": {},
   "outputs": [],
   "source": [
    "a,b,c = symbols(\"a,b,c\")"
   ]
  },
  {
   "cell_type": "code",
   "execution_count": 78,
   "metadata": {},
   "outputs": [
    {
     "data": {
      "image/png": "[encoded data removed]",
      "text/latex": [
       "$$\\left[\\begin{matrix}\\cos{\\left (\\theta \\right )} & - \\sin{\\left (\\theta \\right )} & 0 & a \\cos{\\left (\\theta \\right )}\\\\\\sin{\\left (\\theta \\right )} & \\cos{\\left (\\theta \\right )} & 0 & a \\sin{\\left (\\theta \\right )}\\\\0 & 0 & 1 & 0\\\\0 & 0 & 0 & 1\\end{matrix}\\right]$$"
      ],
      "text/plain": [
       "⎡cos(\\theta)  -sin(\\theta)  0  a⋅cos(\\theta)⎤\n",
       "⎢                                           ⎥\n",
       "⎢sin(\\theta)  cos(\\theta)   0  a⋅sin(\\theta)⎥\n",
       "⎢                                           ⎥\n",
       "⎢     0            0        1        0      ⎥\n",
       "⎢                                           ⎥\n",
       "⎣     0            0        0        1      ⎦"
      ]
     },
     "execution_count": 78,
     "metadata": {},
     "output_type": "execute_result"
    }
   ],
   "source": [
    "hrotz(theta)*htra([a,0,0])"
   ]
  },
  {
   "cell_type": "code",
   "execution_count": 106,
   "metadata": {},
   "outputs": [
    {
     "data": {
      "image/png": "[encoded data removed]",
      "text/latex": [
       "$$\\left[\\begin{matrix}\\cos{\\left (\\theta \\right )} & - \\sin{\\left (\\theta \\right )} & 0 & a \\cos{\\left (\\theta \\right )}\\\\\\sin{\\left (\\theta \\right )} & \\cos{\\left (\\theta \\right )} & 0 & a \\sin{\\left (\\theta \\right )}\\\\0 & 0 & 1 & 0\\\\0 & 0 & 0 & 1\\end{matrix}\\right]$$"
      ],
      "text/plain": [
       "⎡cos(\\theta)  -sin(\\theta)  0  a⋅cos(\\theta)⎤\n",
       "⎢                                           ⎥\n",
       "⎢sin(\\theta)  cos(\\theta)   0  a⋅sin(\\theta)⎥\n",
       "⎢                                           ⎥\n",
       "⎢     0            0        1        0      ⎥\n",
       "⎢                                           ⎥\n",
       "⎣     0            0        0        1      ⎦"
      ]
     },
     "execution_count": 106,
     "metadata": {},
     "output_type": "execute_result"
    }
   ],
   "source": [
    "H = htra([a*cos(theta),a*sin(theta),0])*hrotz(theta)\n",
    "H"
   ]
  },
  {
   "cell_type": "code",
   "execution_count": 108,
   "metadata": {},
   "outputs": [
    {
     "data": {
      "image/png": "[encoded data removed]",
      "text/latex": [
       "$$\\left[\\begin{matrix}\\cos{\\left (\\theta \\right )}\\\\\\sin{\\left (\\theta \\right )}\\\\0\\end{matrix}\\right]$$"
      ],
      "text/plain": [
       "⎡cos(\\theta)⎤\n",
       "⎢           ⎥\n",
       "⎢sin(\\theta)⎥\n",
       "⎢           ⎥\n",
       "⎣     0     ⎦"
      ]
     },
     "execution_count": 108,
     "metadata": {},
     "output_type": "execute_result"
    }
   ],
   "source": [
    "H[:3, 0]"
   ]
  },
  {
   "cell_type": "markdown",
   "metadata": {},
   "source": [
    "## Gráficas"
   ]
  },
  {
   "cell_type": "code",
   "execution_count": 104,
   "metadata": {},
   "outputs": [],
   "source": [
    "import matplotlib.pyplot as plt\n",
    "%matplotlib inline\n",
    "\n",
    "def draw_sys(H):\n",
    "    O = H[:3,3]\n",
    "    U = H[:3,0]\n",
    "    V = H[:3,1]\n",
    "    plt.quiver(float(O[0]), float(O[1]), float(U[0]), float(U[1]), color=\"r\", scale=5, zorder=999)\n",
    "    plt.quiver(float(O[0]), float(O[1]), float(V[0]), float(V[1]), color=\"g\", scale=5, zorder=1000)"
   ]
  },
  {
   "cell_type": "code",
   "execution_count": 112,
   "metadata": {},
   "outputs": [
    {
     "data": {
      "image/png": "[encoded data removed]",
      "text/plain": [
       "<Figure size 432x288 with 1 Axes>"
      ]
     },
     "metadata": {},
     "output_type": "display_data"
    }
   ],
   "source": [
    "A = Matrix([0,0,0,1])\n",
    "B = Matrix([10,0,0,1])\n",
    "C = Matrix([10,5,0,1])\n",
    "D = Matrix([0,5,0,1])\n",
    "\n",
    "H = hrotz(pi/2)*htra([20,0,0])\n",
    "\n",
    "A1 = H*A\n",
    "B1 = H*B\n",
    "C1 = H*C\n",
    "D1 = H*D\n",
    "\n",
    "plt.fill([A[0], B[0], C[0], D[0]], [A[1], B[1], C[1], D[1]], \"y\")\n",
    "plt.fill([A1[0], B1[0], C1[0], D1[0]], [A1[1], B1[1], C1[1], D1[1]], \"b\")\n",
    "draw_sys(H)\n",
    "draw_sys(eye(4))\n",
    "# plt.xlim([-20,20])\n",
    "# plt.ylim([-20,20])\n",
    "plt.axis(\"square\");"
   ]
  },
  {
   "cell_type": "code",
   "execution_count": 114,
   "metadata": {},
   "outputs": [
    {
     "data": {
      "image/png": "[encoded data removed]",
      "text/latex": [
       "$$\\left[\\begin{matrix}1 & 0 & 0 & 0\\\\0 & 1 & 0 & 0\\\\0 & 0 & 1 & 0\\\\0 & 0 & 0 & 1\\end{matrix}\\right]$$"
      ],
      "text/plain": [
       "⎡1  0  0  0⎤\n",
       "⎢          ⎥\n",
       "⎢0  1  0  0⎥\n",
       "⎢          ⎥\n",
       "⎢0  0  1  0⎥\n",
       "⎢          ⎥\n",
       "⎣0  0  0  1⎦"
      ]
     },
     "execution_count": 114,
     "metadata": {},
     "output_type": "execute_result"
    }
   ],
   "source": [
    "eye(4)"
   ]
  },
  {
   "cell_type": "code",
   "execution_count": 115,
   "metadata": {},
   "outputs": [
    {
     "data": {
      "image/png": "[encoded data removed]",
      "text/latex": [
       "$$\\left[\\begin{matrix}0 & -1 & 0 & 0\\\\1 & 0 & 0 & 20\\\\0 & 0 & 1 & 0\\\\0 & 0 & 0 & 1\\end{matrix}\\right]$$"
      ],
      "text/plain": [
       "⎡0  -1  0  0 ⎤\n",
       "⎢            ⎥\n",
       "⎢1  0   0  20⎥\n",
       "⎢            ⎥\n",
       "⎢0  0   1  0 ⎥\n",
       "⎢            ⎥\n",
       "⎣0  0   0  1 ⎦"
      ]
     },
     "execution_count": 115,
     "metadata": {},
     "output_type": "execute_result"
    }
   ],
   "source": [
    "H"
   ]
  },
  {
   "cell_type": "code",
   "execution_count": 116,
   "metadata": {},
   "outputs": [
    {
     "data": {
      "image/png": "[encoded data removed]",
      "text/latex": [
       "$$\\left[\\begin{matrix}\\cos{\\left (\\theta \\right )} & - \\sin{\\left (\\theta \\right )} \\cos{\\left (\\psi \\right )} & \\sin{\\left (\\psi \\right )} \\sin{\\left (\\theta \\right )}\\\\\\sin{\\left (\\theta \\right )} \\cos{\\left (\\phi \\right )} & - \\sin{\\left (\\phi \\right )} \\sin{\\left (\\psi \\right )} + \\cos{\\left (\\phi \\right )} \\cos{\\left (\\psi \\right )} \\cos{\\left (\\theta \\right )} & - \\sin{\\left (\\phi \\right )} \\cos{\\left (\\psi \\right )} - \\sin{\\left (\\psi \\right )} \\cos{\\left (\\phi \\right )} \\cos{\\left (\\theta \\right )}\\\\\\sin{\\left (\\phi \\right )} \\sin{\\left (\\theta \\right )} & \\sin{\\left (\\phi \\right )} \\cos{\\left (\\psi \\right )} \\cos{\\left (\\theta \\right )} + \\sin{\\left (\\psi \\right )} \\cos{\\left (\\phi \\right )} & - \\sin{\\left (\\phi \\right )} \\sin{\\left (\\psi \\right )} \\cos{\\left (\\theta \\right )} + \\cos{\\left (\\phi \\right )} \\cos{\\left (\\psi \\right )}\\end{matrix}\\right]$$"
      ],
      "text/plain": [
       "⎡     cos(\\theta)                       -sin(\\theta)⋅cos(\\psi)                \n",
       "⎢                                                                             \n",
       "⎢sin(\\theta)⋅cos(\\phi)  -sin(\\phi)⋅sin(\\psi) + cos(\\phi)⋅cos(\\psi)⋅cos(\\theta)\n",
       "⎢                                                                             \n",
       "⎣sin(\\phi)⋅sin(\\theta)  sin(\\phi)⋅cos(\\psi)⋅cos(\\theta) + sin(\\psi)⋅cos(\\phi) \n",
       "\n",
       "                  sin(\\psi)⋅sin(\\theta)                 ⎤\n",
       "                                                        ⎥\n",
       "  -sin(\\phi)⋅cos(\\psi) - sin(\\psi)⋅cos(\\phi)⋅cos(\\theta)⎥\n",
       "                                                        ⎥\n",
       "  -sin(\\phi)⋅sin(\\psi)⋅cos(\\theta) + cos(\\phi)⋅cos(\\psi)⎦"
      ]
     },
     "execution_count": 116,
     "metadata": {},
     "output_type": "execute_result"
    }
   ],
   "source": [
    "rotx(phi)*rotz(theta)*rotx(psi)"
   ]
  },
  {
   "cell_type": "code",
   "execution_count": null,
   "metadata": {},
   "outputs": [],
   "source": []
  }
 ],
 "metadata": {
  "kernelspec": {
   "display_name": "Python 3",
   "language": "python",
   "name": "python3"
  },
  "language_info": {
   "codemirror_mode": {
    "name": "ipython",
    "version": 3
   },
   "file_extension": ".py",
   "mimetype": "text/x-python",
   "name": "python",
   "nbconvert_exporter": "python",
   "pygments_lexer": "ipython3",
   "version": "3.6.5"
  }
 },
 "nbformat": 4,
 "nbformat_minor": 2
}
