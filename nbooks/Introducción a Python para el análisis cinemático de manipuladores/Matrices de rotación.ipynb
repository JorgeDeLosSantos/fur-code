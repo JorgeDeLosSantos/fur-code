{
 "cells": [
  {
   "cell_type": "markdown",
   "metadata": {},
   "source": [
    "<center>\n",
    "<h1>Matrices de rotación</h1>\n",
    "<font color=\"#127a69\"><b>\n",
    "Universidad Politécnica de Guanajuato <br>\n",
    "Departamento de Ingeniería Robótica <br>\n",
    "Fundamentos de Robótica\n",
    "</b></font>\n",
    "</center>\n",
    "\n",
    "\n",
    "## Matrices de rotación básicas\n"
   ]
  },
  {
   "cell_type": "code",
   "execution_count": 1,
   "metadata": {},
   "outputs": [],
   "source": [
    "from sympy import *\n",
    "from sympy.matrices import Matrix, eye\n",
    "init_printing(use_latex=True)"
   ]
  },
  {
   "cell_type": "markdown",
   "metadata": {},
   "source": [
    "Las matrices de rotación (y de manera general cualquier tipo de matriz) se pueden definir utilizando la clase `Matrix` de librería SymPy. Naturalmente podríamos crear una variable y asignarla directamente al resultado devuelto por dicha clase, cada vez que se requiera, por ejemplo: "
   ]
  },
  {
   "cell_type": "code",
   "execution_count": 2,
   "metadata": {},
   "outputs": [
    {
     "data": {
      "image/png": "[encoded data removed]",
      "text/latex": [
       "$$\\left[\\begin{matrix}0 & -1 & 0\\\\1 & 0 & 0\\\\0 & 0 & 1\\end{matrix}\\right]$$"
      ],
      "text/plain": [
       "⎡0  -1  0⎤\n",
       "⎢        ⎥\n",
       "⎢1  0   0⎥\n",
       "⎢        ⎥\n",
       "⎣0  0   1⎦"
      ]
     },
     "execution_count": 2,
     "metadata": {},
     "output_type": "execute_result"
    }
   ],
   "source": [
    "R = Matrix([[0,-1,0], [1,0,0], [0,0,1]])\n",
    "R"
   ]
  },
  {
   "cell_type": "markdown",
   "metadata": {},
   "source": [
    "La matriz anterior corresponde a una rotación de 90° alrededor del eje $z$.\n",
    "\n",
    "El detalle con lo anterior radica en la *tardanza* de estar insertando de manera manual cada uno de los valores correspondientes a las matrices. Una forma de *paliar* lo anterior es definiendo matrices simbólicas y posteriormente sustituir por valores numéricos, lo cual ya sería menos problemático:"
   ]
  },
  {
   "cell_type": "code",
   "execution_count": 3,
   "metadata": {},
   "outputs": [
    {
     "data": {
      "image/png": "[encoded data removed]",
      "text/latex": [
       "$$\\left[\\begin{matrix}\\cos{\\left (\\theta \\right )} & - \\sin{\\left (\\theta \\right )} & 0\\\\\\sin{\\left (\\theta \\right )} & \\cos{\\left (\\theta \\right )} & 0\\\\0 & 0 & 1\\end{matrix}\\right]$$"
      ],
      "text/plain": [
       "⎡cos(\\theta)  -sin(\\theta)  0⎤\n",
       "⎢                            ⎥\n",
       "⎢sin(\\theta)  cos(\\theta)   0⎥\n",
       "⎢                            ⎥\n",
       "⎣     0            0        1⎦"
      ]
     },
     "execution_count": 3,
     "metadata": {},
     "output_type": "execute_result"
    }
   ],
   "source": [
    "theta = symbols(\"\\\\theta\")\n",
    "Rz = Matrix([[cos(theta), -sin(theta), 0], [sin(theta), cos(theta), 0], [0, 0, 1]])\n",
    "Rz"
   ]
  },
  {
   "cell_type": "code",
   "execution_count": 7,
   "metadata": {},
   "outputs": [
    {
     "data": {
      "image/png": "[encoded data removed]",
      "text/latex": [
       "$$\\left[\\begin{matrix}-1 & 0 & 0\\\\0 & -1 & 0\\\\0 & 0 & 1\\end{matrix}\\right]$$"
      ],
      "text/plain": [
       "⎡-1  0   0⎤\n",
       "⎢         ⎥\n",
       "⎢0   -1  0⎥\n",
       "⎢         ⎥\n",
       "⎣0   0   1⎦"
      ]
     },
     "execution_count": 7,
     "metadata": {},
     "output_type": "execute_result"
    }
   ],
   "source": [
    "Rz.subs({theta: pi}) # rotación de 180° alrededor de z"
   ]
  },
  {
   "cell_type": "code",
   "execution_count": 8,
   "metadata": {},
   "outputs": [
    {
     "data": {
      "image/png": "[encoded data removed]",
      "text/latex": [
       "$$\\left[\\begin{matrix}\\frac{\\sqrt{2}}{2} & - \\frac{\\sqrt{2}}{2} & 0\\\\\\frac{\\sqrt{2}}{2} & \\frac{\\sqrt{2}}{2} & 0\\\\0 & 0 & 1\\end{matrix}\\right]$$"
      ],
      "text/plain": [
       "⎡√2  -√2    ⎤\n",
       "⎢──  ────  0⎥\n",
       "⎢2    2     ⎥\n",
       "⎢           ⎥\n",
       "⎢√2   √2    ⎥\n",
       "⎢──   ──   0⎥\n",
       "⎢2    2     ⎥\n",
       "⎢           ⎥\n",
       "⎣0    0    1⎦"
      ]
     },
     "execution_count": 8,
     "metadata": {},
     "output_type": "execute_result"
    }
   ],
   "source": [
    "Rz.subs({theta: pi/4}) # rotación de 45° alrededor de z"
   ]
  },
  {
   "cell_type": "markdown",
   "metadata": {},
   "source": [
    "Lo anterior sigue presentando el inconveniente de tener que llamar el método `subs` para remplazar el valor simbólico por el numérico correspondiente. Una manera más *limpia* sería definir una función que devuelva una matriz de rotación, habiéndole pasado como argumento de entrada un valor de rotación, por ejemplo:"
   ]
  },
  {
   "cell_type": "code",
   "execution_count": 9,
   "metadata": {},
   "outputs": [],
   "source": [
    "def rotz(theta):\n",
    "    R = Matrix([[cos(theta), -sin(theta), 0], [sin(theta), cos(theta), 0], [0, 0, 1]])\n",
    "    return R"
   ]
  },
  {
   "cell_type": "code",
   "execution_count": 10,
   "metadata": {},
   "outputs": [
    {
     "data": {
      "image/png": "[encoded data removed]",
      "text/latex": [
       "$$\\left[\\begin{matrix}\\frac{1}{2} & - \\frac{\\sqrt{3}}{2} & 0\\\\\\frac{\\sqrt{3}}{2} & \\frac{1}{2} & 0\\\\0 & 0 & 1\\end{matrix}\\right]$$"
      ],
      "text/plain": [
       "⎡     -√3    ⎤\n",
       "⎢1/2  ────  0⎥\n",
       "⎢      2     ⎥\n",
       "⎢            ⎥\n",
       "⎢√3          ⎥\n",
       "⎢──   1/2   0⎥\n",
       "⎢2           ⎥\n",
       "⎢            ⎥\n",
       "⎣ 0    0    1⎦"
      ]
     },
     "execution_count": 10,
     "metadata": {},
     "output_type": "execute_result"
    }
   ],
   "source": [
    "rotz(pi/3)"
   ]
  },
  {
   "cell_type": "markdown",
   "metadata": {},
   "source": [
    "La ventaja de tener una función radica también en la posibilidad de manejar varios argumentos, y con ello tener la posibilidad de pasar ángulos en grados o en radianes, o inclusive en una misma función agrupar las tres rotaciones básicas:"
   ]
  },
  {
   "cell_type": "code",
   "execution_count": 11,
   "metadata": {},
   "outputs": [],
   "source": [
    "def rotz2(theta,deg=False):\n",
    "    \"\"\" \n",
    "    Ángulo en radianes por default, si deg es True \n",
    "    entonces se asume que el ángulo insertado está\n",
    "    en grados \n",
    "    \"\"\"\n",
    "    if deg==True:\n",
    "        theta = theta*(pi/180)\n",
    "    R = Matrix([[cos(theta), -sin(theta), 0], [sin(theta), cos(theta), 0], [0, 0, 1]])\n",
    "    return R"
   ]
  },
  {
   "cell_type": "code",
   "execution_count": 12,
   "metadata": {},
   "outputs": [
    {
     "data": {
      "image/png": "[encoded data removed]",
      "text/latex": [
       "$$\\left[\\begin{matrix}0 & -1 & 0\\\\1 & 0 & 0\\\\0 & 0 & 1\\end{matrix}\\right]$$"
      ],
      "text/plain": [
       "⎡0  -1  0⎤\n",
       "⎢        ⎥\n",
       "⎢1  0   0⎥\n",
       "⎢        ⎥\n",
       "⎣0  0   1⎦"
      ]
     },
     "execution_count": 12,
     "metadata": {},
     "output_type": "execute_result"
    }
   ],
   "source": [
    "rotz2(90, True) # ángulo en grados"
   ]
  },
  {
   "cell_type": "markdown",
   "metadata": {},
   "source": [
    "Vamos ahora a definir las tres funciones de matrices de rotación básicas, para utilizarlas posteriormente."
   ]
  },
  {
   "cell_type": "code",
   "execution_count": 13,
   "metadata": {},
   "outputs": [],
   "source": [
    "def rotz(theta, deg=False):\n",
    "    \"\"\"\n",
    "    \"\"\"\n",
    "    if deg: # Si theta está dada en grados -> convertir a radianes\n",
    "        theta = rad(theta)\n",
    "    ct = cos(theta)\n",
    "    st = sin(theta)\n",
    "    R = Matrix([[ct, -st, 0],\n",
    "                  [st, ct, 0],\n",
    "                  [0, 0, 1]])\n",
    "    return R\n",
    "\n",
    "\n",
    "def roty(theta, deg=False):\n",
    "    \"\"\"\n",
    "    \"\"\"\n",
    "    if deg: # Si theta está dada en grados -> convertir a radianes\n",
    "        theta = rad(theta)\n",
    "    ct = cos(theta)\n",
    "    st = sin(theta)\n",
    "    R = Matrix([[ct, 0, st],\n",
    "                [0, 1, 0],\n",
    "                [-st, 0, ct]])\n",
    "    return R\n",
    "\n",
    "\n",
    "def rotx(theta, deg=False):\n",
    "    \"\"\"\n",
    "    \"\"\"\n",
    "    if deg: # Si theta está dada en grados -> convertir a radianes\n",
    "        theta = rad(theta)\n",
    "    ct = cos(theta)\n",
    "    st = sin(theta)\n",
    "    R = Matrix([[1, 0, 0],\n",
    "                [0, ct, -st],\n",
    "                [0, st, ct]])\n",
    "    return R"
   ]
  },
  {
   "cell_type": "markdown",
   "metadata": {},
   "source": [
    "## Composición de matrices de rotación"
   ]
  },
  {
   "cell_type": "markdown",
   "metadata": {},
   "source": [
    "Recordemos que la composición de matrices de rotación dependerá del sistema respecto al cual se realizan las transformaciones. Supongamos que se tiene la siguiente secuencia de rotaciones:\n",
    "\n",
    "1. Rotación de 30° alrededor de un eje $x$ fijo\n",
    "2. Rotación de 60° alrededor de un eje $z$ móvil\n",
    "3. Rotación de 45° alrededor de un eje $y$ fijo\n",
    "4. Rotación de 90° alrededor de un eje $x$ móvil\n",
    "\n",
    "La matriz de rotación resultante que describe dichas operaciones está dada por:\n",
    "\n",
    "$$ R = R_{y,45°} \\, R_{x,30°} \\, R_{z,60°} \\, R_{x,90°}  $$\n",
    "\n",
    "Utilizando las funciones definidas previamente se puede calcular esta matriz sin muchos inconvenientes:"
   ]
  },
  {
   "cell_type": "code",
   "execution_count": 14,
   "metadata": {},
   "outputs": [
    {
     "data": {
      "image/png": "[encoded data removed]",
      "text/latex": [
       "$$\\left[\\begin{matrix}\\frac{\\sqrt{6}}{8} + \\frac{\\sqrt{2}}{4} & \\frac{\\sqrt{6}}{4} & - \\frac{\\sqrt{2}}{8} + \\frac{\\sqrt{6}}{4}\\\\\\frac{3}{4} & - \\frac{1}{2} & - \\frac{\\sqrt{3}}{4}\\\\- \\frac{\\sqrt{2}}{4} + \\frac{\\sqrt{6}}{8} & \\frac{\\sqrt{6}}{4} & - \\frac{\\sqrt{6}}{4} - \\frac{\\sqrt{2}}{8}\\end{matrix}\\right]$$"
      ],
      "text/plain": [
       "⎡ √6   √2    √6     √2   √6⎤\n",
       "⎢ ── + ──    ──   - ── + ──⎥\n",
       "⎢ 8    4     4      8    4 ⎥\n",
       "⎢                          ⎥\n",
       "⎢                   -√3    ⎥\n",
       "⎢   3/4     -1/2    ────   ⎥\n",
       "⎢                    4     ⎥\n",
       "⎢                          ⎥\n",
       "⎢  √2   √6   √6     √6   √2⎥\n",
       "⎢- ── + ──   ──   - ── - ──⎥\n",
       "⎣  4    8    4      4    8 ⎦"
      ]
     },
     "execution_count": 14,
     "metadata": {},
     "output_type": "execute_result"
    }
   ],
   "source": [
    "R = roty(pi/4)*rotx(pi/6)*rotz(pi/3)*rotx(pi/2)\n",
    "R"
   ]
  },
  {
   "cell_type": "markdown",
   "metadata": {},
   "source": [
    "¿Cómo obtenemos la versión con decimales en lugar de la fraccionaria?, utilizando `evalf`, es decir:"
   ]
  },
  {
   "cell_type": "code",
   "execution_count": 23,
   "metadata": {},
   "outputs": [
    {
     "data": {
      "image/png": "[encoded data removed]",
      "text/latex": [
       "$$\\left[\\begin{matrix}0.659739608441171 & 0.612372435695794 & 0.435595740399158\\\\0.75 & -0.5 & -0.433012701892219\\\\-0.0473671727453765 & 0.612372435695794 & -0.789149130992431\\end{matrix}\\right]$$"
      ],
      "text/plain": [
       "⎡ 0.659739608441171   0.612372435695794  0.435595740399158 ⎤\n",
       "⎢                                                          ⎥\n",
       "⎢       0.75                -0.5         -0.433012701892219⎥\n",
       "⎢                                                          ⎥\n",
       "⎣-0.0473671727453765  0.612372435695794  -0.789149130992431⎦"
      ]
     },
     "execution_count": 23,
     "metadata": {},
     "output_type": "execute_result"
    }
   ],
   "source": [
    "R.evalf()"
   ]
  },
  {
   "cell_type": "markdown",
   "metadata": {},
   "source": [
    "¿Interesan menos cifras significativas?"
   ]
  },
  {
   "cell_type": "code",
   "execution_count": 25,
   "metadata": {},
   "outputs": [
    {
     "data": {
      "image/png": "[encoded data removed]",
      "text/latex": [
       "$$\\left[\\begin{matrix}0.65974 & 0.612372 & 0.435596\\\\0.75 & -0.5 & -0.433013\\\\-0.0473672 & 0.612372 & -0.789149\\end{matrix}\\right]$$"
      ],
      "text/plain": [
       "⎡ 0.65974    0.612372  0.435596 ⎤\n",
       "⎢                               ⎥\n",
       "⎢   0.75       -0.5    -0.433013⎥\n",
       "⎢                               ⎥\n",
       "⎣-0.0473672  0.612372  -0.789149⎦"
      ]
     },
     "execution_count": 25,
     "metadata": {},
     "output_type": "execute_result"
    }
   ],
   "source": [
    "R.evalf(6)"
   ]
  },
  {
   "cell_type": "code",
   "execution_count": null,
   "metadata": {},
   "outputs": [],
   "source": []
  }
 ],
 "metadata": {
  "kernelspec": {
   "display_name": "Python 3",
   "language": "python",
   "name": "python3"
  },
  "language_info": {
   "codemirror_mode": {
    "name": "ipython",
    "version": 3
   },
   "file_extension": ".py",
   "mimetype": "text/x-python",
   "name": "python",
   "nbconvert_exporter": "python",
   "pygments_lexer": "ipython3",
   "version": "3.6.5"
  }
 },
 "nbformat": 4,
 "nbformat_minor": 2
}
