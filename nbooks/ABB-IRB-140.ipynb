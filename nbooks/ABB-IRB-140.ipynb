{
 "cells": [
  {
   "cell_type": "code",
   "execution_count": 1,
   "metadata": {},
   "outputs": [],
   "source": [
    "from rkd.didactic import *\n",
    "import numpy as np\n",
    "%matplotlib nbagg"
   ]
  },
  {
   "cell_type": "code",
   "execution_count": 2,
   "metadata": {},
   "outputs": [],
   "source": [
    "ABB = Robot((70,pi/2,352,t1), (360,0,0,t2), (0,pi/2,0,t3),(0,-pi/2,380,t4),(0,pi/2,0,t5),(0,0,65,t6))\n",
    "T = ABB.T"
   ]
  },
  {
   "cell_type": "code",
   "execution_count": 3,
   "metadata": {},
   "outputs": [],
   "source": [
    "#T"
   ]
  },
  {
   "cell_type": "markdown",
   "metadata": {},
   "source": [
    "## Inverse Kinematics"
   ]
  },
  {
   "cell_type": "code",
   "execution_count": 33,
   "metadata": {
    "scrolled": true
   },
   "outputs": [
    {
     "name": "stdout",
     "output_type": "stream",
     "text": [
      "45.0000000000000\n",
      "-69.0278612359223\n",
      "174.152839908224\n",
      "180.000000000000\n",
      "105.124978672302\n",
      "-75.0000000000000\n"
     ]
    }
   ],
   "source": [
    "deg = lambda x: (x*180/pi).evalf()\n",
    "rad = lambda x: (x*pi/180).evalf()\n",
    "\n",
    "phi,theta,psi = 0, pi, pi/3\n",
    "MR = eul2htm(phi,theta,psi)\n",
    "d1,l1,l2,d4,d6 = 352,70,360,380,65\n",
    "x,y,z = 400,400,50\n",
    "\n",
    "xm,ym,zm = x - d6*MR[0,2], y - d6*MR[1,2], z - d6*MR[2,2]\n",
    "T1 = atan2(ym,xm).evalf(chop=True)\n",
    "r = sqrt(xm**2 + ym**2)\n",
    "a = r - l1\n",
    "b = zm - d1\n",
    "c = sqrt(a**2 + b**2)\n",
    "alpha = atan2(b,a)\n",
    "beta = acos((c**2 + l2**2 - d4**2)/(2*c*l2))\n",
    "T2 = alpha - beta\n",
    "T3 = pi/2 + acos((c**2 - l2**2 - d4**2)/(2*l2*d4))\n",
    "\n",
    "R3_0 = ((ABB.Ts[0]*ABB.Ts[1]*ABB.Ts[2])[:3,:3]).subs({t1:T1,t2:T2,t3:T3}).evalf()\n",
    "R6_0 = MR[:3,:3]\n",
    "R6_3 = R3_0.inv()*R6_0\n",
    "T4 = atan2(R6_3[1,2],R6_3[0,2]).evalf(chop=True)\n",
    "K5 = R6_3[2,2]\n",
    "T5 = atan2(sqrt(1-K5**2),K5).evalf(chop=True)\n",
    "T6 = atan2(R6_3[2,1],-R6_3[2,0]).evalf(chop=True)\n",
    "for _t in [T1,T2,T3,T4,T5,T6]:\n",
    "    print(deg(_t).evalf())"
   ]
  },
  {
   "cell_type": "code",
   "execution_count": 34,
   "metadata": {},
   "outputs": [
    {
     "data": {
      "image/png": "[encoded data removed]",
      "text/latex": [
       "$$\\left ( \\left[\\begin{matrix}0.5 & -0.8660254 & 0 & 400.0\\\\-0.8660254 & -0.5 & 0 & 400.0\\\\0 & 0 & -1.0 & 50.0\\\\0 & 0 & 0 & 1.0\\end{matrix}\\right], \\quad \\left[\\begin{matrix}\\frac{1}{2} & - \\frac{\\sqrt{3}}{2} & 0 & 0\\\\- \\frac{\\sqrt{3}}{2} & - \\frac{1}{2} & 0 & 0\\\\0 & 0 & -1 & 0\\\\0 & 0 & 0 & 1\\end{matrix}\\right]\\right )$$"
      ],
      "text/plain": [
       "⎛                                       ⎡      -√3        ⎤⎞\n",
       "⎜                                       ⎢1/2   ────  0   0⎥⎟\n",
       "⎜⎡   0.5      -0.8660254   0    400.0⎤  ⎢       2         ⎥⎟\n",
       "⎜⎢                                   ⎥  ⎢                 ⎥⎟\n",
       "⎜⎢-0.8660254     -0.5      0    400.0⎥  ⎢-√3              ⎥⎟\n",
       "⎜⎢                                   ⎥, ⎢────  -1/2  0   0⎥⎟\n",
       "⎜⎢    0           0       -1.0  50.0 ⎥  ⎢ 2               ⎥⎟\n",
       "⎜⎢                                   ⎥  ⎢                 ⎥⎟\n",
       "⎜⎣    0           0        0     1.0 ⎦  ⎢ 0     0    -1  0⎥⎟\n",
       "⎜                                       ⎢                 ⎥⎟\n",
       "⎝                                       ⎣ 0     0    0   1⎦⎠"
      ]
     },
     "execution_count": 34,
     "metadata": {},
     "output_type": "execute_result"
    }
   ],
   "source": [
    "vals = {t1:T1,t2:T2,t3:T3,t4:T4,t5:T5,t6:T6}\n",
    "T.subs(vals).evalf(8, chop=True), MR"
   ]
  },
  {
   "cell_type": "code",
   "execution_count": 37,
   "metadata": {},
   "outputs": [
    {
     "data": {
      "image/png": "[encoded data removed]",
      "text/latex": [
       "$$\\left[\\begin{matrix}\\frac{1}{2} & - \\frac{\\sqrt{3}}{2} & 0 & 400\\\\- \\frac{\\sqrt{3}}{2} & - \\frac{1}{2} & 0 & 400\\\\0 & 0 & -1 & 50\\\\0 & 0 & 0 & 1\\end{matrix}\\right]$$"
      ],
      "text/plain": [
       "⎡      -√3          ⎤\n",
       "⎢1/2   ────  0   400⎥\n",
       "⎢       2           ⎥\n",
       "⎢                   ⎥\n",
       "⎢-√3                ⎥\n",
       "⎢────  -1/2  0   400⎥\n",
       "⎢ 2                 ⎥\n",
       "⎢                   ⎥\n",
       "⎢ 0     0    -1  50 ⎥\n",
       "⎢                   ⎥\n",
       "⎣ 0     0    0    1 ⎦"
      ]
     },
     "execution_count": 37,
     "metadata": {},
     "output_type": "execute_result"
    }
   ],
   "source": [
    "htmtra([x,y,z]) * MR"
   ]
  },
  {
   "cell_type": "markdown",
   "metadata": {},
   "source": [
    "## Jacobiano"
   ]
  },
  {
   "cell_type": "code",
   "execution_count": 22,
   "metadata": {},
   "outputs": [],
   "source": [
    "J = ABB.J"
   ]
  },
  {
   "cell_type": "code",
   "execution_count": 23,
   "metadata": {},
   "outputs": [],
   "source": [
    "vp = []\n",
    "wp = []\n",
    "for t in np.linspace(0,np.pi):\n",
    "    vals={t1:sin(t), t2:pi/2-sin(t), t3:-sin(t), t4:0, t5:-2*sin(3*t), t6:0}\n",
    "    JN = J.subs(vals)\n",
    "    TN = T.subs(vals)\n",
    "    qv = Matrix([cos(t),-cos(t),-cos(t),0,-6*cos(3*t),0])\n",
    "    vs = JN*qv.evalf()\n",
    "    vp.append(vs[:3])\n",
    "    wp.append(vs[3:])"
   ]
  },
  {
   "cell_type": "code",
   "execution_count": 24,
   "metadata": {},
   "outputs": [
    {
     "data": {
      "text/plain": [
       "<matplotlib.legend.Legend at 0x1e7bc03db70>"
      ]
     },
     "execution_count": 24,
     "metadata": {},
     "output_type": "execute_result"
    },
    {
     "data": {
      "image/png": "[encoded data removed]",
      "text/plain": [
       "<Figure size 432x288 with 2 Axes>"
      ]
     },
     "metadata": {},
     "output_type": "display_data"
    }
   ],
   "source": [
    "plt.subplot(2,1,1)\n",
    "plt.plot(vp)\n",
    "plt.legend([\"$v_{px}$\",\"$v_{py}$\",\"$v_{pz}$\"])\n",
    "plt.subplot(2,1,2)\n",
    "plt.plot(wp)\n",
    "plt.legend([\"$\\\\omega_x$\",\"$\\\\omega_y$\",\"$\\\\omega_z$\"])"
   ]
  },
  {
   "cell_type": "code",
   "execution_count": 5,
   "metadata": {},
   "outputs": [],
   "source": [
    "eul2htm?"
   ]
  },
  {
   "cell_type": "code",
   "execution_count": null,
   "metadata": {},
   "outputs": [],
   "source": []
  }
 ],
 "metadata": {
  "kernelspec": {
   "display_name": "Python 3",
   "language": "python",
   "name": "python3"
  },
  "language_info": {
   "codemirror_mode": {
    "name": "ipython",
    "version": 3
   },
   "file_extension": ".py",
   "mimetype": "text/x-python",
   "name": "python",
   "nbconvert_exporter": "python",
   "pygments_lexer": "ipython3",
   "version": "3.6.5"
  }
 },
 "nbformat": 4,
 "nbformat_minor": 2
}
