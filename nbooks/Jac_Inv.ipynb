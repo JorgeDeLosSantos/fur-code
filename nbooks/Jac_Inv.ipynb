{
 "cells": [
  {
   "cell_type": "code",
   "execution_count": 1,
   "metadata": {},
   "outputs": [],
   "source": [
    "from furlib import *"
   ]
  },
  {
   "cell_type": "code",
   "execution_count": 18,
   "metadata": {},
   "outputs": [],
   "source": [
    "r = Robot((100,0,0,pi/6),(100,0,0,pi/4),(100,0,0,pi/9))"
   ]
  },
  {
   "cell_type": "code",
   "execution_count": 19,
   "metadata": {},
   "outputs": [
    {
     "data": {
      "image/png": "[encoded data removed]",
      "text/latex": [
       "$$\\left[\\begin{matrix}-246.212052438081 & -196.212052438081 & -99.6194698091745\\\\103.76887061393 & 17.1663302354863 & -8.71557427476582\\\\0 & 0 & 0\\\\0 & 0 & 0\\\\0 & 0 & 0\\\\1.0 & 1.0 & 1.0\\end{matrix}\\right]$$"
      ],
      "text/plain": [
       "⎡-246.212052438081  -196.212052438081  -99.6194698091745⎤\n",
       "⎢                                                       ⎥\n",
       "⎢ 103.76887061393   17.1663302354863   -8.71557427476582⎥\n",
       "⎢                                                       ⎥\n",
       "⎢        0                  0                  0        ⎥\n",
       "⎢                                                       ⎥\n",
       "⎢        0                  0                  0        ⎥\n",
       "⎢                                                       ⎥\n",
       "⎢        0                  0                  0        ⎥\n",
       "⎢                                                       ⎥\n",
       "⎣       1.0                1.0                1.0       ⎦"
      ]
     },
     "execution_count": 19,
     "metadata": {},
     "output_type": "execute_result"
    }
   ],
   "source": [
    "J = r.J.evalf()\n",
    "J"
   ]
  },
  {
   "cell_type": "markdown",
   "metadata": {},
   "source": [
    "$$ J^+ = (J^T J)^{-1} J^T $$"
   ]
  },
  {
   "cell_type": "code",
   "execution_count": 20,
   "metadata": {},
   "outputs": [],
   "source": [
    "PJ = (J.T*J).inv()*J.T"
   ]
  },
  {
   "cell_type": "code",
   "execution_count": 25,
   "metadata": {},
   "outputs": [],
   "source": [
    "qv = Matrix([100,100,0,0,0,5])"
   ]
  },
  {
   "cell_type": "code",
   "execution_count": 26,
   "metadata": {},
   "outputs": [
    {
     "data": {
      "image/png": "[encoded data removed]",
      "text/latex": [
       "$$\\left[\\begin{matrix}4.15049843395532\\\\-12.4909139068478\\\\13.3404154727062\\end{matrix}\\right]$$"
      ],
      "text/plain": [
       "⎡4.15049843395532 ⎤\n",
       "⎢                 ⎥\n",
       "⎢-12.4909139068478⎥\n",
       "⎢                 ⎥\n",
       "⎣13.3404154727062 ⎦"
      ]
     },
     "execution_count": 26,
     "metadata": {},
     "output_type": "execute_result"
    }
   ],
   "source": [
    "q = PJ*qv\n",
    "q"
   ]
  },
  {
   "cell_type": "code",
   "execution_count": 27,
   "metadata": {},
   "outputs": [
    {
     "data": {
      "image/png": "[encoded data removed]",
      "text/latex": [
       "$$\\left[\\begin{matrix}99.9999999996996\\\\99.999999999846\\\\0\\\\0\\\\0\\\\4.99999999981371\\end{matrix}\\right]$$"
      ],
      "text/plain": [
       "⎡99.9999999996996⎤\n",
       "⎢                ⎥\n",
       "⎢99.999999999846 ⎥\n",
       "⎢                ⎥\n",
       "⎢       0        ⎥\n",
       "⎢                ⎥\n",
       "⎢       0        ⎥\n",
       "⎢                ⎥\n",
       "⎢       0        ⎥\n",
       "⎢                ⎥\n",
       "⎣4.99999999981371⎦"
      ]
     },
     "execution_count": 27,
     "metadata": {},
     "output_type": "execute_result"
    }
   ],
   "source": [
    "J*q"
   ]
  },
  {
   "cell_type": "code",
   "execution_count": null,
   "metadata": {},
   "outputs": [],
   "source": []
  }
 ],
 "metadata": {
  "kernelspec": {
   "display_name": "Python 3",
   "language": "python",
   "name": "python3"
  },
  "language_info": {
   "codemirror_mode": {
    "name": "ipython",
    "version": 3
   },
   "file_extension": ".py",
   "mimetype": "text/x-python",
   "name": "python",
   "nbconvert_exporter": "python",
   "pygments_lexer": "ipython3",
   "version": "3.6.3"
  }
 },
 "nbformat": 4,
 "nbformat_minor": 2
}
