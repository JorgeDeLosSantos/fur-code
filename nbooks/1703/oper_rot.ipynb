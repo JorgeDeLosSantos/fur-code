{
 "cells": [
  {
   "cell_type": "code",
   "execution_count": 6,
   "metadata": {},
   "outputs": [],
   "source": [
    "from sympy import init_printing,true,simplify,symbols\n",
    "from sympy.abc import x,y,z\n",
    "from sympy.matrices import *\n",
    "from sympy import *\n",
    "from sympy import sin,cos,pi,tan,sqrt\n",
    "init_printing(use_latex=true)\n",
    "\n",
    "\n",
    "def Rz(t):\n",
    "    M = Matrix([[cos(t),-sin(t),0,0],\n",
    "                  [sin(t),cos(t),0,0],\n",
    "                  [0,0,1,0],\n",
    "                  [0,0,0,1]])\n",
    "    return M\n",
    "\n",
    "def Ry(t):\n",
    "    M = Matrix([[cos(t),0,sin(t),0],\n",
    "                  [0,1,0,0],\n",
    "                  [-sin(t),0,cos(t),0],\n",
    "                  [0,0,0,1]])\n",
    "    return M\n",
    "\n",
    "def Rx(t):\n",
    "    M = Matrix([[1,0,0,0],\n",
    "                  [0,cos(t),-sin(t),0,],\n",
    "                  [0,sin(t),cos(t),0],\n",
    "                  [0,0,0,1]])\n",
    "    return M\n",
    "\n",
    "def T(px,py,pz):\n",
    "    M = Matrix([[1,0,0,px],\n",
    "                [0,1,0,py],\n",
    "                [0,0,1,pz],\n",
    "                [0,0,0,1]])\n",
    "    return M"
   ]
  },
  {
   "cell_type": "code",
   "execution_count": 7,
   "metadata": {},
   "outputs": [],
   "source": [
    "phi,theta,psi = symbols('\\\\phi,\\\\theta,\\\\psi')\n",
    "R = Rz(phi)*Ry(theta)*Rz(psi)"
   ]
  },
  {
   "cell_type": "code",
   "execution_count": 8,
   "metadata": {},
   "outputs": [
    {
     "data": {
      "image/png": "[encoded data removed]",
      "text/latex": [
       "$$\\frac{\\sin{\\left (\\phi \\right )}}{\\cos{\\left (\\phi \\right )}}$$"
      ],
      "text/plain": [
       "sin(\\phi)\n",
       "─────────\n",
       "cos(\\phi)"
      ]
     },
     "execution_count": 8,
     "metadata": {},
     "output_type": "execute_result"
    }
   ],
   "source": [
    "R[1,2]/R[0,2]"
   ]
  },
  {
   "cell_type": "code",
   "execution_count": 15,
   "metadata": {},
   "outputs": [
    {
     "data": {
      "image/png": "[encoded data removed]",
      "text/latex": [
       "$$\\left[\\begin{matrix}0 & 0 & 1 & 0\\\\0 & 1 & 0 & 0\\\\-1 & 0 & 0 & 0\\\\0 & 0 & 0 & 1\\end{matrix}\\right]$$"
      ],
      "text/plain": [
       "⎡0   0  1  0⎤\n",
       "⎢           ⎥\n",
       "⎢0   1  0  0⎥\n",
       "⎢           ⎥\n",
       "⎢-1  0  0  0⎥\n",
       "⎢           ⎥\n",
       "⎣0   0  0  1⎦"
      ]
     },
     "execution_count": 15,
     "metadata": {},
     "output_type": "execute_result"
    }
   ],
   "source": [
    "Rz(pi/2)*Ry(pi/2)*Rx(pi/2)"
   ]
  },
  {
   "cell_type": "code",
   "execution_count": 16,
   "metadata": {},
   "outputs": [
    {
     "data": {
      "image/png": "[encoded data removed]",
      "text/latex": [
       "$$0$$"
      ],
      "text/plain": [
       "0"
      ]
     },
     "execution_count": 16,
     "metadata": {},
     "output_type": "execute_result"
    }
   ],
   "source": [
    "atan2(0,1)"
   ]
  },
  {
   "cell_type": "code",
   "execution_count": 17,
   "metadata": {},
   "outputs": [
    {
     "data": {
      "image/png": "[encoded data removed]",
      "text/latex": [
       "$$0$$"
      ],
      "text/plain": [
       "0"
      ]
     },
     "execution_count": 17,
     "metadata": {},
     "output_type": "execute_result"
    }
   ],
   "source": [
    "atan2(0,1)"
   ]
  },
  {
   "cell_type": "code",
   "execution_count": null,
   "metadata": {},
   "outputs": [],
   "source": []
  }
 ],
 "metadata": {
  "kernelspec": {
   "display_name": "Python 3",
   "language": "python",
   "name": "python3"
  },
  "language_info": {
   "codemirror_mode": {
    "name": "ipython",
    "version": 3
   },
   "file_extension": ".py",
   "mimetype": "text/x-python",
   "name": "python",
   "nbconvert_exporter": "python",
   "pygments_lexer": "ipython3",
   "version": "3.6.3"
  }
 },
 "nbformat": 4,
 "nbformat_minor": 2
}
