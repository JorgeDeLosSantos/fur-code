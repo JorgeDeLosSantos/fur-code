{
 "cells": [
  {
   "cell_type": "code",
   "execution_count": 3,
   "metadata": {},
   "outputs": [],
   "source": [
    "from sympy import *\n",
    "from sympy.matrices import *\n",
    "init_printing()"
   ]
  },
  {
   "cell_type": "markdown",
   "metadata": {},
   "source": [
    "## ¿Cómo definir matrices?"
   ]
  },
  {
   "cell_type": "code",
   "execution_count": 22,
   "metadata": {},
   "outputs": [
    {
     "data": {
      "image/png": "[encoded data removed]",
      "text/latex": [
       "$$\\left[\\begin{matrix}\\theta_1 - 1 & \\theta_2 - 2 & \\theta_3 - 3\\\\\\theta_6 - 4 & \\theta_4 - 5 & \\theta_5 - 6\\\\-2 & \\cos{\\left (\\theta \\right )} - 8 & x - 9\\end{matrix}\\right]$$"
      ],
      "text/plain": [
       "⎡\\theta₁ - 1    \\theta₂ - 2    \\theta₃ - 3⎤\n",
       "⎢                                         ⎥\n",
       "⎢\\theta₆ - 4    \\theta₄ - 5    \\theta₅ - 6⎥\n",
       "⎢                                         ⎥\n",
       "⎣    -2       cos(\\theta) - 8     x - 9   ⎦"
      ]
     },
     "execution_count": 22,
     "metadata": {},
     "output_type": "execute_result"
    }
   ],
   "source": [
    "x = symbols(\"x\")\n",
    "t1,t2,t3,t4,t5,t6 = symbols(\"\\\\theta_1:7\")\n",
    "a,b,c,d,e,f = symbols(\"a:f\")\n",
    "\n",
    "A = Matrix([[t1,t2,t3], [t6,t4,t5], [5,cos(th),x]])\n",
    "B = Matrix([[1,2,3],[4,5,6],[7,8,9]])\n",
    "A-B"
   ]
  },
  {
   "cell_type": "code",
   "execution_count": 25,
   "metadata": {},
   "outputs": [
    {
     "data": {
      "image/png": "[encoded data removed]",
      "text/latex": [
       "$$\\left[\\begin{matrix}\\theta_1 & \\theta_6 & 5\\\\\\theta_2 & \\theta_4 & \\cos{\\left (\\theta \\right )}\\\\\\theta_3 & \\theta_5 & x\\end{matrix}\\right]$$"
      ],
      "text/plain": [
       "⎡\\theta₁  \\theta₆       5     ⎤\n",
       "⎢                             ⎥\n",
       "⎢\\theta₂  \\theta₄  cos(\\theta)⎥\n",
       "⎢                             ⎥\n",
       "⎣\\theta₃  \\theta₅       x     ⎦"
      ]
     },
     "execution_count": 25,
     "metadata": {},
     "output_type": "execute_result"
    }
   ],
   "source": [
    "A.T"
   ]
  },
  {
   "cell_type": "markdown",
   "metadata": {},
   "source": [
    "## Definiendo funciones para realizar transformaciones"
   ]
  },
  {
   "cell_type": "code",
   "execution_count": 34,
   "metadata": {},
   "outputs": [],
   "source": [
    "def rotz(theta):\n",
    "    H = Matrix([[cos(theta), -sin(theta), 0, 0], \n",
    "                [sin(theta), cos(theta), 0, 0], \n",
    "                [0,0,1,0],\n",
    "                [0,0,0,1]])\n",
    "    return H\n",
    "\n",
    "def roty(theta):\n",
    "    H = Matrix([[cos(theta), 0, sin(theta), 0], \n",
    "                [0,1,0,0],\n",
    "                [-sin(theta), 0, cos(theta), 0], \n",
    "                [0,0,0,1]])\n",
    "    return H\n",
    "\n",
    "def rotx(theta):\n",
    "    H = Matrix([[1,0,0,0],\n",
    "                [0, cos(theta), -sin(theta), 0], \n",
    "                [0, sin(theta), cos(theta), 0], \n",
    "                [0,0,0,1]])\n",
    "    return H\n",
    "\n",
    "def Dx(d):\n",
    "    H = Matrix([[1, 0, 0, d], \n",
    "               [0, 1, 0, 0], \n",
    "               [0, 0, 1, 0],\n",
    "               [0, 0, 0, 1]])\n",
    "    return H\n",
    "\n",
    "def Dy(d):\n",
    "    H = Matrix([[1, 0, 0, 0], \n",
    "               [0, 1, 0, d], \n",
    "               [0, 0, 1, 0],\n",
    "               [0, 0, 0, 1]])\n",
    "    return H\n",
    "\n",
    "def Dz(d):\n",
    "    H = Matrix([[1, 0, 0, 0], \n",
    "               [0, 1, 0, 0], \n",
    "               [0, 0, 1, d],\n",
    "               [0, 0, 0, 1]])\n",
    "    return H"
   ]
  },
  {
   "cell_type": "code",
   "execution_count": 36,
   "metadata": {},
   "outputs": [
    {
     "data": {
      "image/png": "[encoded data removed]",
      "text/latex": [
       "$$\\left ( \\left[\\begin{matrix}\\cos{\\left (\\theta_1 \\right )} & - \\sin{\\left (\\theta_1 \\right )} & 0 & 0\\\\\\sin{\\left (\\theta_1 \\right )} & \\cos{\\left (\\theta_1 \\right )} & 0 & 0\\\\0 & 0 & 1 & 0\\\\0 & 0 & 0 & 1\\end{matrix}\\right], \\quad \\left[\\begin{matrix}\\cos{\\left (\\theta_1 \\right )} & 0 & \\sin{\\left (\\theta_1 \\right )} & 0\\\\0 & 1 & 0 & 0\\\\- \\sin{\\left (\\theta_1 \\right )} & 0 & \\cos{\\left (\\theta_1 \\right )} & 0\\\\0 & 0 & 0 & 1\\end{matrix}\\right], \\quad \\left[\\begin{matrix}1 & 0 & 0 & 0\\\\0 & \\cos{\\left (\\theta_1 \\right )} & - \\sin{\\left (\\theta_1 \\right )} & 0\\\\0 & \\sin{\\left (\\theta_1 \\right )} & \\cos{\\left (\\theta_1 \\right )} & 0\\\\0 & 0 & 0 & 1\\end{matrix}\\right], \\quad \\left[\\begin{matrix}1 & 0 & 0 & x\\\\0 & 1 & 0 & 0\\\\0 & 0 & 1 & 0\\\\0 & 0 & 0 & 1\\end{matrix}\\right], \\quad \\left[\\begin{matrix}1 & 0 & 0 & 0\\\\0 & 1 & 0 & x\\\\0 & 0 & 1 & 0\\\\0 & 0 & 0 & 1\\end{matrix}\\right], \\quad \\left[\\begin{matrix}1 & 0 & 0 & 0\\\\0 & 1 & 0 & 0\\\\0 & 0 & 1 & x\\\\0 & 0 & 0 & 1\\end{matrix}\\right]\\right )$$"
      ],
      "text/plain": [
       "⎛⎡cos(\\theta₁)  -sin(\\theta₁)  0  0⎤  ⎡cos(\\theta₁)   0  sin(\\theta₁)  0⎤  ⎡1 \n",
       "⎜⎢                                 ⎥  ⎢                                 ⎥  ⎢  \n",
       "⎜⎢sin(\\theta₁)  cos(\\theta₁)   0  0⎥  ⎢      0        1       0        0⎥  ⎢0 \n",
       "⎜⎢                                 ⎥, ⎢                                 ⎥, ⎢  \n",
       "⎜⎢     0              0        1  0⎥  ⎢-sin(\\theta₁)  0  cos(\\theta₁)  0⎥  ⎢0 \n",
       "⎜⎢                                 ⎥  ⎢                                 ⎥  ⎢  \n",
       "⎝⎣     0              0        0  1⎦  ⎣      0        0       0        1⎦  ⎣0 \n",
       "\n",
       "      0              0        0⎤  ⎡1  0  0  x⎤  ⎡1  0  0  0⎤  ⎡1  0  0  0⎤⎞\n",
       "                               ⎥  ⎢          ⎥  ⎢          ⎥  ⎢          ⎥⎟\n",
       " cos(\\theta₁)  -sin(\\theta₁)  0⎥  ⎢0  1  0  0⎥  ⎢0  1  0  x⎥  ⎢0  1  0  0⎥⎟\n",
       "                               ⎥, ⎢          ⎥, ⎢          ⎥, ⎢          ⎥⎟\n",
       " sin(\\theta₁)  cos(\\theta₁)   0⎥  ⎢0  0  1  0⎥  ⎢0  0  1  0⎥  ⎢0  0  1  x⎥⎟\n",
       "                               ⎥  ⎢          ⎥  ⎢          ⎥  ⎢          ⎥⎟\n",
       "      0              0        1⎦  ⎣0  0  0  1⎦  ⎣0  0  0  1⎦  ⎣0  0  0  1⎦⎠"
      ]
     },
     "execution_count": 36,
     "metadata": {},
     "output_type": "execute_result"
    }
   ],
   "source": [
    "rotz(t1), roty(t1), rotx(t1), Dx(x), Dy(x), Dz(x)"
   ]
  },
  {
   "cell_type": "code",
   "execution_count": 37,
   "metadata": {},
   "outputs": [],
   "source": [
    "y,z = symbols(\"y,z\")"
   ]
  },
  {
   "cell_type": "code",
   "execution_count": 39,
   "metadata": {},
   "outputs": [
    {
     "data": {
      "image/png": "[encoded data removed]",
      "text/latex": [
       "$$\\left ( \\left[\\begin{matrix}1 & 0 & 0 & x\\\\0 & 1 & 0 & y\\\\0 & 0 & 1 & z\\\\0 & 0 & 0 & 1\\end{matrix}\\right], \\quad \\left[\\begin{matrix}1 & 0 & 0 & x\\\\0 & 1 & 0 & y\\\\0 & 0 & 1 & z\\\\0 & 0 & 0 & 1\\end{matrix}\\right]\\right )$$"
      ],
      "text/plain": [
       "⎛⎡1  0  0  x⎤  ⎡1  0  0  x⎤⎞\n",
       "⎜⎢          ⎥  ⎢          ⎥⎟\n",
       "⎜⎢0  1  0  y⎥  ⎢0  1  0  y⎥⎟\n",
       "⎜⎢          ⎥, ⎢          ⎥⎟\n",
       "⎜⎢0  0  1  z⎥  ⎢0  0  1  z⎥⎟\n",
       "⎜⎢          ⎥  ⎢          ⎥⎟\n",
       "⎝⎣0  0  0  1⎦  ⎣0  0  0  1⎦⎠"
      ]
     },
     "execution_count": 39,
     "metadata": {},
     "output_type": "execute_result"
    }
   ],
   "source": [
    "Dx(x)*Dz(z)*Dy(y), Dz(z)*Dy(y)*Dx(x)"
   ]
  },
  {
   "cell_type": "markdown",
   "metadata": {},
   "source": [
    "1. El sistema de referencia \\{B\\} está trasladado 5 unidades en $X$, 4 unidades en $Y$ y -10 unidades en $Z$ con respecto \n",
    "al sistema \\{A\\}. Se sabe que las coordenadas de un punto $P$ descritas en el sistema \\{B\\} son $\\vec{P}^B = [2,3,-5]^T$, \n",
    "calcule $\\vec{P}^A$."
   ]
  },
  {
   "cell_type": "code",
   "execution_count": 42,
   "metadata": {},
   "outputs": [
    {
     "data": {
      "image/png": "[encoded data removed]",
      "text/latex": [
       "$$\\left[\\begin{matrix}7\\\\7\\\\-15\\\\1\\end{matrix}\\right]$$"
      ],
      "text/plain": [
       "⎡ 7 ⎤\n",
       "⎢   ⎥\n",
       "⎢ 7 ⎥\n",
       "⎢   ⎥\n",
       "⎢-15⎥\n",
       "⎢   ⎥\n",
       "⎣ 1 ⎦"
      ]
     },
     "execution_count": 42,
     "metadata": {},
     "output_type": "execute_result"
    }
   ],
   "source": [
    "TBA = Dx(5)*Dy(4)*Dz(-10)\n",
    "PB = Matrix([2,3,-5,1])\n",
    "PA = TBA*PB\n",
    "PA"
   ]
  },
  {
   "cell_type": "markdown",
   "metadata": {},
   "source": [
    "2. Muestre que la distancia entre dos puntos no cambia con la rotación, es decir, que \n",
    "$\\lVert \\vec{p_1} - \\vec{p_2} \\rVert = \\lVert R\\vec{p_1} - R\\vec{p_2}  \\rVert$. Donde \n",
    "$R$ es una matriz de rotación y $\\vec{p}_1$ y $ \\vec{p}_2 $ dos vectores de posición."
   ]
  },
  {
   "cell_type": "code",
   "execution_count": 64,
   "metadata": {},
   "outputs": [
    {
     "data": {
      "image/png": "[encoded data removed]",
      "text/latex": [
       "$$4.89897948556636$$"
      ],
      "text/plain": [
       "4.89897948556636"
      ]
     },
     "execution_count": 64,
     "metadata": {},
     "output_type": "execute_result"
    }
   ],
   "source": [
    "t1,t2 = symbols(\"\\\\theta_1,\\\\theta_2\", positive=True)\n",
    "R = roty(t1)*rotx(t2)\n",
    "p1 = Matrix([1,2,1,1])\n",
    "p2 = Matrix([5,4,3,1])\n",
    "\n",
    "Matrix( (p1 - p2)[:-1] ).norm().evalf()"
   ]
  },
  {
   "cell_type": "code",
   "execution_count": 65,
   "metadata": {},
   "outputs": [
    {
     "data": {
      "image/png": "[encoded data removed]",
      "text/latex": [
       "$$4.89897948556636$$"
      ],
      "text/plain": [
       "4.89897948556636"
      ]
     },
     "execution_count": 65,
     "metadata": {},
     "output_type": "execute_result"
    }
   ],
   "source": [
    "simplify( Matrix( ( R*p1 - R*p2 )[:-1] ).norm() ).evalf()"
   ]
  },
  {
   "cell_type": "markdown",
   "metadata": {},
   "source": [
    "Suponga que tres sistemas de referencia \\{A\\}, \\{B\\} y \\{C\\} están dados y que además:\n",
    "\n",
    "$$\n",
    "R_B^A = \\left[\\begin{matrix}\\frac{1}{2} & - \\frac{\\sqrt{3}}{2} & 0\\\\0 & 0 & -1\\\\\\frac{\\sqrt{3}}{2} & \\frac{1}{2} & 0\\end{matrix}\\right]\n",
    "\\quad R_C^A = \\left[\\begin{matrix}0 & 1 & 0\\\\0 & 0 & -1\\\\-1 & 0 & 0\\end{matrix}\\right]\n",
    "$$\n",
    "\n",
    "Calcule $R_B^C$."
   ]
  },
  {
   "cell_type": "markdown",
   "metadata": {},
   "source": [
    "$ R_B^C = R_A^C R_B^A $"
   ]
  },
  {
   "cell_type": "code",
   "execution_count": 68,
   "metadata": {},
   "outputs": [
    {
     "data": {
      "image/png": "[encoded data removed]",
      "text/latex": [
       "$$\\left ( \\left[\\begin{matrix}0.5 & - \\frac{\\sqrt{3}}{2} & 0\\\\0 & 0 & -1\\\\\\frac{\\sqrt{3}}{2} & 0.5 & 0\\end{matrix}\\right], \\quad \\left[\\begin{matrix}0 & 1 & 0\\\\0 & 0 & -1\\\\-1 & 0 & 0\\end{matrix}\\right], \\quad \\left[\\begin{matrix}- \\frac{\\sqrt{3}}{2} & -0.5 & 0\\\\0.5 & - \\frac{\\sqrt{3}}{2} & 0\\\\0 & 0 & 1\\end{matrix}\\right]\\right )$$"
      ],
      "text/plain": [
       "⎛⎡     -√3     ⎤               ⎡-√3          ⎤⎞\n",
       "⎜⎢0.5  ────  0 ⎥               ⎢────  -0.5  0⎥⎟\n",
       "⎜⎢      2      ⎥  ⎡0   1  0 ⎤  ⎢ 2           ⎥⎟\n",
       "⎜⎢             ⎥  ⎢         ⎥  ⎢             ⎥⎟\n",
       "⎜⎢ 0    0    -1⎥, ⎢0   0  -1⎥, ⎢      -√3    ⎥⎟\n",
       "⎜⎢             ⎥  ⎢         ⎥  ⎢0.5   ────  0⎥⎟\n",
       "⎜⎢√3           ⎥  ⎣-1  0  0 ⎦  ⎢       2     ⎥⎟\n",
       "⎜⎢──   0.5   0 ⎥               ⎢             ⎥⎟\n",
       "⎝⎣2            ⎦               ⎣ 0     0    1⎦⎠"
      ]
     },
     "execution_count": 68,
     "metadata": {},
     "output_type": "execute_result"
    }
   ],
   "source": [
    "RBA = Matrix([[1/2, -sqrt(3)/2, 0], [0,0,-1], [sqrt(3)/2, 1/2, 0]])\n",
    "RCA = Matrix([[0,1,0], [0,0,-1],[-1,0,0]])\n",
    "RCB = RCA.inv() * RBA\n",
    "RBA, RCA, RCB"
   ]
  },
  {
   "cell_type": "code",
   "execution_count": 70,
   "metadata": {},
   "outputs": [
    {
     "data": {
      "image/png": "[encoded data removed]",
      "text/latex": [
       "$$\\left ( \\left[\\begin{matrix}0 & 0 & -1\\\\1 & 0 & 0\\\\0 & -1 & 0\\end{matrix}\\right], \\quad \\left[\\begin{matrix}0 & 0 & -1\\\\1 & 0 & 0\\\\0 & -1 & 0\\end{matrix}\\right]\\right )$$"
      ],
      "text/plain": [
       "⎛⎡0  0   -1⎤  ⎡0  0   -1⎤⎞\n",
       "⎜⎢         ⎥  ⎢         ⎥⎟\n",
       "⎜⎢1  0   0 ⎥, ⎢1  0   0 ⎥⎟\n",
       "⎜⎢         ⎥  ⎢         ⎥⎟\n",
       "⎝⎣0  -1  0 ⎦  ⎣0  -1  0 ⎦⎠"
      ]
     },
     "execution_count": 70,
     "metadata": {},
     "output_type": "execute_result"
    }
   ],
   "source": [
    "RCA.inv(), RCA.T"
   ]
  },
  {
   "cell_type": "code",
   "execution_count": 71,
   "metadata": {},
   "outputs": [
    {
     "data": {
      "image/png": "[encoded data removed]",
      "text/latex": [
       "$$\\left[\\begin{matrix}- \\sin{\\left (\\phi \\right )} \\sin{\\left (\\psi \\right )} \\cos{\\left (\\theta \\right )} + \\cos{\\left (\\phi \\right )} \\cos{\\left (\\psi \\right )} & - \\sin{\\left (\\phi \\right )} \\cos{\\left (\\psi \\right )} \\cos{\\left (\\theta \\right )} - \\sin{\\left (\\psi \\right )} \\cos{\\left (\\phi \\right )} & \\sin{\\left (\\phi \\right )} \\sin{\\left (\\theta \\right )} & 0\\\\\\sin{\\left (\\phi \\right )} \\cos{\\left (\\psi \\right )} + \\sin{\\left (\\psi \\right )} \\cos{\\left (\\phi \\right )} \\cos{\\left (\\theta \\right )} & - \\sin{\\left (\\phi \\right )} \\sin{\\left (\\psi \\right )} + \\cos{\\left (\\phi \\right )} \\cos{\\left (\\psi \\right )} \\cos{\\left (\\theta \\right )} & - \\sin{\\left (\\theta \\right )} \\cos{\\left (\\phi \\right )} & 0\\\\\\sin{\\left (\\psi \\right )} \\sin{\\left (\\theta \\right )} & \\sin{\\left (\\theta \\right )} \\cos{\\left (\\psi \\right )} & \\cos{\\left (\\theta \\right )} & 0\\\\0 & 0 & 0 & 1\\end{matrix}\\right]$$"
      ],
      "text/plain": [
       "⎡-sin(\\phi)⋅sin(\\psi)⋅cos(\\theta) + cos(\\phi)⋅cos(\\psi)  -sin(\\phi)⋅cos(\\psi)⋅\n",
       "⎢                                                                             \n",
       "⎢sin(\\phi)⋅cos(\\psi) + sin(\\psi)⋅cos(\\phi)⋅cos(\\theta)   -sin(\\phi)⋅sin(\\psi) \n",
       "⎢                                                                             \n",
       "⎢                sin(\\psi)⋅sin(\\theta)                                   sin(\\\n",
       "⎢                                                                             \n",
       "⎣                          0                                                  \n",
       "\n",
       "cos(\\theta) - sin(\\psi)⋅cos(\\phi)  sin(\\phi)⋅sin(\\theta)   0⎤\n",
       "                                                            ⎥\n",
       "+ cos(\\phi)⋅cos(\\psi)⋅cos(\\theta)  -sin(\\theta)⋅cos(\\phi)  0⎥\n",
       "                                                            ⎥\n",
       "theta)⋅cos(\\psi)                        cos(\\theta)        0⎥\n",
       "                                                            ⎥\n",
       "     0                                       0             1⎦"
      ]
     },
     "execution_count": 71,
     "metadata": {},
     "output_type": "execute_result"
    }
   ],
   "source": [
    "phi, theta, psi = symbols(\"\\\\phi, \\\\theta, \\\\psi\")\n",
    "\n",
    "rotz(phi)*rotx(theta)*rotz(psi)"
   ]
  },
  {
   "cell_type": "code",
   "execution_count": null,
   "metadata": {},
   "outputs": [],
   "source": []
  }
 ],
 "metadata": {
  "kernelspec": {
   "display_name": "Python 3",
   "language": "python",
   "name": "python3"
  },
  "language_info": {
   "codemirror_mode": {
    "name": "ipython",
    "version": 3
   },
   "file_extension": ".py",
   "mimetype": "text/x-python",
   "name": "python",
   "nbconvert_exporter": "python",
   "pygments_lexer": "ipython3",
   "version": "3.6.5"
  }
 },
 "nbformat": 4,
 "nbformat_minor": 2
}
