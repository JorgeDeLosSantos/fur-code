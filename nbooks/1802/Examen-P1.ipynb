{
 "cells": [
  {
   "cell_type": "code",
   "execution_count": 1,
   "metadata": {},
   "outputs": [],
   "source": [
    "from furlib import *"
   ]
  },
  {
   "cell_type": "code",
   "execution_count": 9,
   "metadata": {},
   "outputs": [
    {
     "data": {
      "image/png": "[encoded data removed]",
      "text/latex": [
       "$$\\left[\\begin{matrix}0.8995 & -0.05801 & 0.433\\\\0.433 & 0.25 & -0.866\\\\-0.05801 & 0.9665 & 0.25\\end{matrix}\\right]$$"
      ],
      "text/plain": [
       "⎡ 0.8995   -0.05801  0.433 ⎤\n",
       "⎢                          ⎥\n",
       "⎢ 0.433      0.25    -0.866⎥\n",
       "⎢                          ⎥\n",
       "⎣-0.05801   0.9665    0.25 ⎦"
      ]
     },
     "execution_count": 9,
     "metadata": {},
     "output_type": "execute_result"
    }
   ],
   "source": [
    "((htmr(pi/3,\"y\")*htmr(pi/3,\"x\")*htmr(pi/3,\"z\"))[:3,:3]).evalf(4)"
   ]
  },
  {
   "cell_type": "code",
   "execution_count": null,
   "metadata": {},
   "outputs": [],
   "source": []
  }
 ],
 "metadata": {
  "kernelspec": {
   "display_name": "Python 3",
   "language": "python",
   "name": "python3"
  },
  "language_info": {
   "codemirror_mode": {
    "name": "ipython",
    "version": 3
   },
   "file_extension": ".py",
   "mimetype": "text/x-python",
   "name": "python",
   "nbconvert_exporter": "python",
   "pygments_lexer": "ipython3",
   "version": "3.6.3"
  }
 },
 "nbformat": 4,
 "nbformat_minor": 2
}
