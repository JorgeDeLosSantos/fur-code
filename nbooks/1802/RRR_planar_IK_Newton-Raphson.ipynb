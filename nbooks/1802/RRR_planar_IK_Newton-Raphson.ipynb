{
 "cells": [
  {
   "cell_type": "code",
   "execution_count": 10,
   "metadata": {},
   "outputs": [],
   "source": [
    "from furlib import *\n",
    "\n",
    "\n",
    "def newton_raphson(J,b,X0,vals={},eps=1e-5):\n",
    "    k = 1\n",
    "    b = b.subs(vals).evalf()\n",
    "    while True:\n",
    "        x = ((J.subs(X0).subs(vals).evalf()).inv()*b.subs(X0)).evalf()\n",
    "        if x.norm()<eps: break\n",
    "        for jj,ky in enumerate(X0):\n",
    "            X0[ky] += (x[jj]).evalf()\n",
    "        k += 1\n",
    "    return X0,x,k\n",
    "\n",
    "rad = lambda x: (x*pi/180).evalf()\n",
    "deg = lambda x: (x*180/pi).evalf()"
   ]
  },
  {
   "cell_type": "code",
   "execution_count": 25,
   "metadata": {},
   "outputs": [
    {
     "data": {
      "image/png": "[encoded data removed]",
      "text/latex": [
       "$$\\left[\\begin{matrix}\\cos{\\left (\\theta_1 + \\theta_2 + \\theta_3 \\right )} & - \\sin{\\left (\\theta_1 + \\theta_2 + \\theta_3 \\right )} & 0 & 200 \\cos{\\left (\\theta_1 \\right )} + 200 \\cos{\\left (\\theta_1 + \\theta_2 \\right )} + 100 \\cos{\\left (\\theta_1 + \\theta_2 + \\theta_3 \\right )}\\\\\\sin{\\left (\\theta_1 + \\theta_2 + \\theta_3 \\right )} & \\cos{\\left (\\theta_1 + \\theta_2 + \\theta_3 \\right )} & 0 & 200 \\sin{\\left (\\theta_1 \\right )} + 200 \\sin{\\left (\\theta_1 + \\theta_2 \\right )} + 100 \\sin{\\left (\\theta_1 + \\theta_2 + \\theta_3 \\right )}\\\\0 & 0 & 1 & 0\\\\0 & 0 & 0 & 1\\end{matrix}\\right]$$"
      ],
      "text/plain": [
       "⎡cos(\\theta₁ + \\theta₂ + \\theta₃)  -sin(\\theta₁ + \\theta₂ + \\theta₃)  0  200⋅c\n",
       "⎢                                                                             \n",
       "⎢sin(\\theta₁ + \\theta₂ + \\theta₃)  cos(\\theta₁ + \\theta₂ + \\theta₃)   0  200⋅s\n",
       "⎢                                                                             \n",
       "⎢               0                                  0                  1       \n",
       "⎢                                                                             \n",
       "⎣               0                                  0                  0       \n",
       "\n",
       "os(\\theta₁) + 200⋅cos(\\theta₁ + \\theta₂) + 100⋅cos(\\theta₁ + \\theta₂ + \\theta₃\n",
       "                                                                              \n",
       "in(\\theta₁) + 200⋅sin(\\theta₁ + \\theta₂) + 100⋅sin(\\theta₁ + \\theta₂ + \\theta₃\n",
       "                                                                              \n",
       "                                    0                                         \n",
       "                                                                              \n",
       "                                    1                                         \n",
       "\n",
       ")⎤\n",
       " ⎥\n",
       ")⎥\n",
       " ⎥\n",
       " ⎥\n",
       " ⎥\n",
       " ⎦"
      ]
     },
     "execution_count": 25,
     "metadata": {},
     "output_type": "execute_result"
    }
   ],
   "source": [
    "l1,l2,l3 = 200, 200, 100\n",
    "r = Robot((l1,0,0,t1), (l2,0,0,t2), (l3,0,0,t3))\n",
    "T = r.T\n",
    "T"
   ]
  },
  {
   "cell_type": "code",
   "execution_count": 56,
   "metadata": {},
   "outputs": [],
   "source": [
    "px,py = 200,220\n",
    "phi = -pi/2\n",
    "xx = T[0,3]\n",
    "yy = T[1,3]"
   ]
  },
  {
   "cell_type": "code",
   "execution_count": 57,
   "metadata": {},
   "outputs": [],
   "source": [
    "f1 = xx - px\n",
    "f2 = yy - py\n",
    "f3 = cos(t1+t2+t3) - cos(phi)\n",
    "f = Matrix([f1,f2,f3])\n",
    "J = f.jacobian([t1,t2,t3])\n",
    "\n",
    "X0 = {t1:pi.evalf()/6,t2:-pi.evalf()/3,t3:2*pi.evalf()/3}\n",
    "xs,*_ = newton_raphson(J,-f,X0)\n"
   ]
  },
  {
   "cell_type": "code",
   "execution_count": 58,
   "metadata": {},
   "outputs": [
    {
     "data": {
      "image/png": "[encoded data removed]",
      "text/latex": [
       "$$\\left ( 85.2952188023421, \\quad -108.662925442949, \\quad 113.367706640607\\right )$$"
      ],
      "text/plain": [
       "(85.2952188023421, -108.662925442949, 113.367706640607)"
      ]
     },
     "execution_count": 58,
     "metadata": {},
     "output_type": "execute_result"
    }
   ],
   "source": [
    "deg(xs[t1]), deg(xs[t2]), deg(xs[t3])"
   ]
  },
  {
   "cell_type": "code",
   "execution_count": 51,
   "metadata": {},
   "outputs": [
    {
     "data": {
      "image/png": "[encoded data removed]",
      "text/latex": [
       "$$\\left[\\begin{matrix}-7.58099507980342 \\cdot 10^{-6} & 0.999999999971264 & 0 & 199.999999999373\\\\-0.999999999971264 & -7.58099507980342 \\cdot 10^{-6} & 0 & 220.000000000579\\\\0 & 0 & 1.0 & 0\\\\0 & 0 & 0 & 1.0\\end{matrix}\\right]$$"
      ],
      "text/plain": [
       "⎡-7.58099507980342e-6   0.999999999971264     0   199.999999999373⎤\n",
       "⎢                                                                 ⎥\n",
       "⎢ -0.999999999971264   -7.58099507980342e-6   0   220.000000000579⎥\n",
       "⎢                                                                 ⎥\n",
       "⎢         0                     0            1.0         0        ⎥\n",
       "⎢                                                                 ⎥\n",
       "⎣         0                     0             0         1.0       ⎦"
      ]
     },
     "execution_count": 51,
     "metadata": {},
     "output_type": "execute_result"
    }
   ],
   "source": [
    "r.T.subs({t1:xs[t1], t2:xs[t2], t3:xs[t3]}).evalf()"
   ]
  },
  {
   "cell_type": "code",
   "execution_count": 62,
   "metadata": {},
   "outputs": [
    {
     "data": {
      "image/png": "[encoded data removed]",
      "text/latex": [
       "$$\\left ( 200.025431271637, \\quad 219.983318443447\\right )$$"
      ],
      "text/plain": [
       "(200.025431271637, 219.983318443447)"
      ]
     },
     "execution_count": 62,
     "metadata": {},
     "output_type": "execute_result"
    }
   ],
   "source": [
    "l1 = l2 = 200\n",
    "l3 = 100\n",
    "t1 =  rad(38.62)\n",
    "t2 = rad(38.74)\n",
    "t3 = rad(192.64) \n",
    "\n",
    "l1*cos(t1) + l2*cos(t1+t2) + l3*cos(t1+t2+t3), l1*sin(t1) + l2*sin(t1+t2) + l3*sin(t1+t2+t3)"
   ]
  },
  {
   "cell_type": "code",
   "execution_count": null,
   "metadata": {},
   "outputs": [],
   "source": []
  },
  {
   "cell_type": "code",
   "execution_count": null,
   "metadata": {},
   "outputs": [],
   "source": []
  }
 ],
 "metadata": {
  "kernelspec": {
   "display_name": "Python 3",
   "language": "python",
   "name": "python3"
  },
  "language_info": {
   "codemirror_mode": {
    "name": "ipython",
    "version": 3
   },
   "file_extension": ".py",
   "mimetype": "text/x-python",
   "name": "python",
   "nbconvert_exporter": "python",
   "pygments_lexer": "ipython3",
   "version": "3.6.5"
  }
 },
 "nbformat": 4,
 "nbformat_minor": 2
}
