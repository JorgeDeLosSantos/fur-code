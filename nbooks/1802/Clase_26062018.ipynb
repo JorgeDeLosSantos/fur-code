{
 "cells": [
  {
   "cell_type": "code",
   "execution_count": 25,
   "metadata": {},
   "outputs": [],
   "source": [
    "from sympy import *\n",
    "init_printing(use_latex=true)\n",
    "\n",
    "def newton_raphson(J,b,X0,vals={},eps=1e-5):\n",
    "    k = 1\n",
    "    b = b.subs(vals).evalf()\n",
    "    while True:\n",
    "        x = ((J.subs(X0).subs(vals)).inv()*b.subs(X0)).evalf()\n",
    "        if x.norm()<eps: break\n",
    "        for jj,ky in enumerate(X0):\n",
    "            X0[ky] += (x[jj]).evalf()\n",
    "        k += 1\n",
    "    return X0,x,k"
   ]
  },
  {
   "cell_type": "code",
   "execution_count": 49,
   "metadata": {},
   "outputs": [],
   "source": [
    "from sympy.matrices import *\n",
    "t1,t2 = symbols(\"\\\\theta_1, \\\\theta_2\")\n",
    "px = 150\n",
    "py = 120\n",
    "l1 = 100\n",
    "l2 = 100\n",
    "\n",
    "f1 = l1*cos(t1) + l2*cos(t1+t2) - px\n",
    "f2 = l1*sin(t1) + l2*sin(t1+t2) - py"
   ]
  },
  {
   "cell_type": "code",
   "execution_count": 50,
   "metadata": {},
   "outputs": [],
   "source": [
    "f = Matrix([f1,f2])\n",
    "J = f.jacobian([t1,t2])\n",
    "\n",
    "X0 = {t1:pi/6, t2:pi/6}\n",
    "XS,x,k = newton_raphson(J,-f,X0,{})"
   ]
  },
  {
   "cell_type": "code",
   "execution_count": 51,
   "metadata": {},
   "outputs": [
    {
     "data": {
      "image/png": "[encoded data removed]",
      "text/latex": [
       "$$\\left ( 22.496, \\quad 32.328215352194\\right )$$"
      ],
      "text/plain": [
       "(22.496, 32.328215352194)"
      ]
     },
     "execution_count": 51,
     "metadata": {},
     "output_type": "execute_result"
    }
   ],
   "source": [
    "(XS[t1]*180/pi).evalf(5), (XS[t2]*180/pi).evalf()"
   ]
  },
  {
   "cell_type": "code",
   "execution_count": 52,
   "metadata": {},
   "outputs": [
    {
     "data": {
      "image/png": "[encoded data removed]",
      "text/latex": [
       "$$-4.57 \\cdot 10^{-5}$$"
      ],
      "text/plain": [
       "-4.57e-5"
      ]
     },
     "execution_count": 52,
     "metadata": {},
     "output_type": "execute_result"
    }
   ],
   "source": [
    "f2.subs(XS).evalf(3)"
   ]
  },
  {
   "cell_type": "code",
   "execution_count": null,
   "metadata": {},
   "outputs": [],
   "source": []
  }
 ],
 "metadata": {
  "kernelspec": {
   "display_name": "Python 3",
   "language": "python",
   "name": "python3"
  },
  "language_info": {
   "codemirror_mode": {
    "name": "ipython",
    "version": 3
   },
   "file_extension": ".py",
   "mimetype": "text/x-python",
   "name": "python",
   "nbconvert_exporter": "python",
   "pygments_lexer": "ipython3",
   "version": "3.6.3"
  }
 },
 "nbformat": 4,
 "nbformat_minor": 2
}
