{
 "cells": [
  {
   "cell_type": "code",
   "execution_count": 5,
   "metadata": {},
   "outputs": [],
   "source": [
    "from furlib import *"
   ]
  },
  {
   "cell_type": "code",
   "execution_count": 6,
   "metadata": {},
   "outputs": [],
   "source": [
    "def _calc(k):\n",
    "    kx = k[0]\n",
    "    ky = k[1]\n",
    "    kz = k[2]\n",
    "    if ky==0 and kx==0:\n",
    "        alpha = 0\n",
    "    else:\n",
    "        alpha = atan2(ky, kx)\n",
    "    beta = atan2(sqrt(kx**2 + ky**2), kz)\n",
    "    return alpha,beta\n",
    "    \n",
    "def axa2rot(k,theta):\n",
    "    alpha,beta = _calc(k)\n",
    "    R = htmr(alpha,\"z\")*htmr(beta,\"y\")*htmr(theta,\"z\")*htmr(-beta,\"y\")*htmr(-alpha,\"z\")\n",
    "    return R"
   ]
  },
  {
   "cell_type": "code",
   "execution_count": 16,
   "metadata": {},
   "outputs": [
    {
     "data": {
      "image/png": "[encoded data removed]",
      "text/latex": [
       "$$\\left[\\begin{matrix}0.804737854124365 & 0.50587936340168 & -0.310617217526046 & 0\\\\-0.310617217526046 & 0.804737854124365 & 0.50587936340168 & 0\\\\0.50587936340168 & -0.310617217526046 & 0.804737854124365 & 0\\\\0 & 0 & 0 & 1.0\\end{matrix}\\right]$$"
      ],
      "text/plain": [
       "⎡0.804737854124365    0.50587936340168   -0.310617217526046   0 ⎤\n",
       "⎢                                                               ⎥\n",
       "⎢-0.310617217526046  0.804737854124365    0.50587936340168    0 ⎥\n",
       "⎢                                                               ⎥\n",
       "⎢ 0.50587936340168   -0.310617217526046  0.804737854124365    0 ⎥\n",
       "⎢                                                               ⎥\n",
       "⎣        0                   0                   0           1.0⎦"
      ]
     },
     "execution_count": 16,
     "metadata": {},
     "output_type": "execute_result"
    }
   ],
   "source": [
    "k = Matrix([1,1,1])\n",
    "theta = -pi/4\n",
    "axa2rot(k, theta).evalf()"
   ]
  },
  {
   "cell_type": "code",
   "execution_count": 10,
   "metadata": {},
   "outputs": [
    {
     "data": {
      "image/png": "[encoded data removed]",
      "text/latex": [
       "$$\\sqrt{3}$$"
      ],
      "text/plain": [
       "√3"
      ]
     },
     "execution_count": 10,
     "metadata": {},
     "output_type": "execute_result"
    }
   ],
   "source": [
    "k.norm()"
   ]
  },
  {
   "cell_type": "code",
   "execution_count": null,
   "metadata": {},
   "outputs": [],
   "source": []
  }
 ],
 "metadata": {
  "kernelspec": {
   "display_name": "Python 3",
   "language": "python",
   "name": "python3"
  },
  "language_info": {
   "codemirror_mode": {
    "name": "ipython",
    "version": 3
   },
   "file_extension": ".py",
   "mimetype": "text/x-python",
   "name": "python",
   "nbconvert_exporter": "python",
   "pygments_lexer": "ipython3",
   "version": "3.6.5"
  }
 },
 "nbformat": 4,
 "nbformat_minor": 2
}
