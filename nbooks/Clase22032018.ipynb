{
 "cells": [
  {
   "cell_type": "code",
   "execution_count": 7,
   "metadata": {},
   "outputs": [],
   "source": [
    "from furlib import *"
   ]
  },
  {
   "cell_type": "code",
   "execution_count": 12,
   "metadata": {},
   "outputs": [],
   "source": [
    "T1_0 = dhs(l1,0,0,t1)\n",
    "T2_1 = dhs(l2,0,0,t2)\n",
    "T2_0 = simplify(T1_0*T2_1)\n",
    "\n",
    "z0 = Matrix([0,0,1])\n",
    "o0 = Matrix([0,0,0])\n",
    "\n",
    "z1 = T1_0[:3,2]\n",
    "o1 = T1_0[:3,3]\n",
    "\n",
    "o2 = T2_0[:3,3]\n",
    "\n",
    "JV1 = z0.cross(o2-o0)\n",
    "JV2 = z1.cross(o2-o1)\n",
    "JW1 = z0\n",
    "JW2 = z1"
   ]
  },
  {
   "cell_type": "code",
   "execution_count": 16,
   "metadata": {},
   "outputs": [
    {
     "data": {
      "image/png": "[encoded data removed]",
      "text/latex": [
       "$$\\left[\\begin{matrix}- l_{1} \\sin{\\left (\\theta_1 \\right )} - l_{2} \\sin{\\left (\\theta_1 + \\theta_2 \\right )} & - l_{2} \\sin{\\left (\\theta_1 + \\theta_2 \\right )}\\\\l_{1} \\cos{\\left (\\theta_1 \\right )} + l_{2} \\cos{\\left (\\theta_1 + \\theta_2 \\right )} & l_{2} \\cos{\\left (\\theta_1 + \\theta_2 \\right )}\\\\0 & 0\\\\0 & 0\\\\0 & 0\\\\1 & 1\\end{matrix}\\right]$$"
      ],
      "text/plain": [
       "⎡-l₁⋅sin(\\theta₁) - l₂⋅sin(\\theta₁ + \\theta₂)  -l₂⋅sin(\\theta₁ + \\theta₂)⎤\n",
       "⎢                                                                        ⎥\n",
       "⎢l₁⋅cos(\\theta₁) + l₂⋅cos(\\theta₁ + \\theta₂)   l₂⋅cos(\\theta₁ + \\theta₂) ⎥\n",
       "⎢                                                                        ⎥\n",
       "⎢                     0                                    0             ⎥\n",
       "⎢                                                                        ⎥\n",
       "⎢                     0                                    0             ⎥\n",
       "⎢                                                                        ⎥\n",
       "⎢                     0                                    0             ⎥\n",
       "⎢                                                                        ⎥\n",
       "⎣                     1                                    1             ⎦"
      ]
     },
     "execution_count": 16,
     "metadata": {},
     "output_type": "execute_result"
    }
   ],
   "source": [
    "J1 = JV1.col_join(JW1)\n",
    "J2 = JV2.col_join(JW2)\n",
    "J = J1.row_join(J2)\n",
    "J"
   ]
  },
  {
   "cell_type": "code",
   "execution_count": 29,
   "metadata": {},
   "outputs": [
    {
     "data": {
      "image/png": "[encoded data removed]",
      "text/latex": [
       "$$\\left[\\begin{matrix}- d_{2} \\cos{\\left (\\theta_1 \\right )} - l_{2} \\sin{\\left (\\theta_1 \\right )} \\cos{\\left (\\theta_2 \\right )} - l_{3} \\sin{\\left (\\theta_1 \\right )} \\cos{\\left (\\theta_2 + \\theta_3 \\right )} & - \\left(l_{2} \\sin{\\left (\\theta_2 \\right )} + l_{3} \\sin{\\left (\\theta_2 + \\theta_3 \\right )}\\right) \\cos{\\left (\\theta_1 \\right )} & - l_{3} \\sin{\\left (\\theta_2 + \\theta_3 \\right )} \\cos{\\left (\\theta_1 \\right )}\\\\- d_{2} \\sin{\\left (\\theta_1 \\right )} + l_{2} \\cos{\\left (\\theta_1 \\right )} \\cos{\\left (\\theta_2 \\right )} + l_{3} \\cos{\\left (\\theta_1 \\right )} \\cos{\\left (\\theta_2 + \\theta_3 \\right )} & - \\left(l_{2} \\sin{\\left (\\theta_2 \\right )} + l_{3} \\sin{\\left (\\theta_2 + \\theta_3 \\right )}\\right) \\sin{\\left (\\theta_1 \\right )} & - l_{3} \\sin{\\left (\\theta_1 \\right )} \\sin{\\left (\\theta_2 + \\theta_3 \\right )}\\\\0 & l_{2} \\cos{\\left (\\theta_2 \\right )} + l_{3} \\cos{\\left (\\theta_2 + \\theta_3 \\right )} & l_{3} \\cos{\\left (\\theta_2 + \\theta_3 \\right )}\\\\0 & \\sin{\\left (\\theta_1 \\right )} & \\sin{\\left (\\theta_1 \\right )}\\\\0 & - \\cos{\\left (\\theta_1 \\right )} & - \\cos{\\left (\\theta_1 \\right )}\\\\1 & 0 & 0\\end{matrix}\\right]$$"
      ],
      "text/plain": [
       "⎡-d₂⋅cos(\\theta₁) - l₂⋅sin(\\theta₁)⋅cos(\\theta₂) - l₃⋅sin(\\theta₁)⋅cos(\\theta₂\n",
       "⎢                                                                             \n",
       "⎢-d₂⋅sin(\\theta₁) + l₂⋅cos(\\theta₁)⋅cos(\\theta₂) + l₃⋅cos(\\theta₁)⋅cos(\\theta₂\n",
       "⎢                                                                             \n",
       "⎢                                           0                                 \n",
       "⎢                                                                             \n",
       "⎢                                           0                                 \n",
       "⎢                                                                             \n",
       "⎢                                           0                                 \n",
       "⎢                                                                             \n",
       "⎣                                           1                                 \n",
       "\n",
       " + \\theta₃)  -(l₂⋅sin(\\theta₂) + l₃⋅sin(\\theta₂ + \\theta₃))⋅cos(\\theta₁)  -l₃⋅\n",
       "                                                                              \n",
       " + \\theta₃)  -(l₂⋅sin(\\theta₂) + l₃⋅sin(\\theta₂ + \\theta₃))⋅sin(\\theta₁)  -l₃⋅\n",
       "                                                                              \n",
       "                     l₂⋅cos(\\theta₂) + l₃⋅cos(\\theta₂ + \\theta₃)              \n",
       "                                                                              \n",
       "                                    sin(\\theta₁)                              \n",
       "                                                                              \n",
       "                                    -cos(\\theta₁)                             \n",
       "                                                                              \n",
       "                                          0                                   \n",
       "\n",
       "sin(\\theta₂ + \\theta₃)⋅cos(\\theta₁)⎤\n",
       "                                   ⎥\n",
       "sin(\\theta₁)⋅sin(\\theta₂ + \\theta₃)⎥\n",
       "                                   ⎥\n",
       "   l₃⋅cos(\\theta₂ + \\theta₃)       ⎥\n",
       "                                   ⎥\n",
       "         sin(\\theta₁)              ⎥\n",
       "                                   ⎥\n",
       "         -cos(\\theta₁)             ⎥\n",
       "                                   ⎥\n",
       "               0                   ⎦"
      ]
     },
     "execution_count": 29,
     "metadata": {},
     "output_type": "execute_result"
    }
   ],
   "source": [
    "rr = Robot((0,pi/2,d1,t1),(l2,0,-d2,t2),(l3,0,0,t3))\n",
    "rr.J"
   ]
  },
  {
   "cell_type": "code",
   "execution_count": null,
   "metadata": {},
   "outputs": [],
   "source": []
  }
 ],
 "metadata": {
  "kernelspec": {
   "display_name": "Python 3",
   "language": "python",
   "name": "python3"
  },
  "language_info": {
   "codemirror_mode": {
    "name": "ipython",
    "version": 3
   },
   "file_extension": ".py",
   "mimetype": "text/x-python",
   "name": "python",
   "nbconvert_exporter": "python",
   "pygments_lexer": "ipython3",
   "version": "3.6.3"
  }
 },
 "nbformat": 4,
 "nbformat_minor": 2
}
