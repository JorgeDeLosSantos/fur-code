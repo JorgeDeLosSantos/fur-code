{
 "cells": [
  {
   "cell_type": "code",
   "execution_count": 1,
   "metadata": {},
   "outputs": [],
   "source": [
    "from furlib import *"
   ]
  },
  {
   "cell_type": "code",
   "execution_count": 13,
   "metadata": {},
   "outputs": [],
   "source": [
    "r = Robot((0,pi/2,d1,pi/2,'p'), (0,pi/2,d2,-pi/2,'p'), (l3,0,0,t3))\n",
    "rrr = Robot((0,pi/2,d1,t1), (a2,0,-d2,t2), (a3,0,0,t3))"
   ]
  },
  {
   "cell_type": "code",
   "execution_count": 18,
   "metadata": {},
   "outputs": [
    {
     "data": {
      "image/png": "[encoded data removed]",
      "text/latex": [
       "$$\\left[\\begin{matrix}- a_{2} \\sin{\\left (\\theta_1 \\right )} \\cos{\\left (\\theta_2 \\right )} - a_{3} \\sin{\\left (\\theta_1 \\right )} \\cos{\\left (\\theta_2 + \\theta_3 \\right )} - d_{2} \\cos{\\left (\\theta_1 \\right )} & - \\left(a_{2} \\sin{\\left (\\theta_2 \\right )} + a_{3} \\sin{\\left (\\theta_2 + \\theta_3 \\right )}\\right) \\cos{\\left (\\theta_1 \\right )} & - a_{3} \\sin{\\left (\\theta_2 + \\theta_3 \\right )} \\cos{\\left (\\theta_1 \\right )}\\\\a_{2} \\cos{\\left (\\theta_1 \\right )} \\cos{\\left (\\theta_2 \\right )} + a_{3} \\cos{\\left (\\theta_1 \\right )} \\cos{\\left (\\theta_2 + \\theta_3 \\right )} - d_{2} \\sin{\\left (\\theta_1 \\right )} & - \\left(a_{2} \\sin{\\left (\\theta_2 \\right )} + a_{3} \\sin{\\left (\\theta_2 + \\theta_3 \\right )}\\right) \\sin{\\left (\\theta_1 \\right )} & - a_{3} \\sin{\\left (\\theta_1 \\right )} \\sin{\\left (\\theta_2 + \\theta_3 \\right )}\\\\0 & a_{2} \\cos{\\left (\\theta_2 \\right )} + a_{3} \\cos{\\left (\\theta_2 + \\theta_3 \\right )} & a_{3} \\cos{\\left (\\theta_2 + \\theta_3 \\right )}\\\\0 & \\sin{\\left (\\theta_1 \\right )} & \\sin{\\left (\\theta_1 \\right )}\\\\0 & - \\cos{\\left (\\theta_1 \\right )} & - \\cos{\\left (\\theta_1 \\right )}\\\\1 & 0 & 0\\end{matrix}\\right]$$"
      ],
      "text/plain": [
       "⎡-a₂⋅sin(\\theta₁)⋅cos(\\theta₂) - a₃⋅sin(\\theta₁)⋅cos(\\theta₂ + \\theta₃) - d₂⋅c\n",
       "⎢                                                                             \n",
       "⎢a₂⋅cos(\\theta₁)⋅cos(\\theta₂) + a₃⋅cos(\\theta₁)⋅cos(\\theta₂ + \\theta₃) - d₂⋅si\n",
       "⎢                                                                             \n",
       "⎢                                           0                                 \n",
       "⎢                                                                             \n",
       "⎢                                           0                                 \n",
       "⎢                                                                             \n",
       "⎢                                           0                                 \n",
       "⎢                                                                             \n",
       "⎣                                           1                                 \n",
       "\n",
       "os(\\theta₁)  -(a₂⋅sin(\\theta₂) + a₃⋅sin(\\theta₂ + \\theta₃))⋅cos(\\theta₁)  -a₃⋅\n",
       "                                                                              \n",
       "n(\\theta₁)   -(a₂⋅sin(\\theta₂) + a₃⋅sin(\\theta₂ + \\theta₃))⋅sin(\\theta₁)  -a₃⋅\n",
       "                                                                              \n",
       "                     a₂⋅cos(\\theta₂) + a₃⋅cos(\\theta₂ + \\theta₃)              \n",
       "                                                                              \n",
       "                                    sin(\\theta₁)                              \n",
       "                                                                              \n",
       "                                    -cos(\\theta₁)                             \n",
       "                                                                              \n",
       "                                          0                                   \n",
       "\n",
       "sin(\\theta₂ + \\theta₃)⋅cos(\\theta₁)⎤\n",
       "                                   ⎥\n",
       "sin(\\theta₁)⋅sin(\\theta₂ + \\theta₃)⎥\n",
       "                                   ⎥\n",
       "   a₃⋅cos(\\theta₂ + \\theta₃)       ⎥\n",
       "                                   ⎥\n",
       "         sin(\\theta₁)              ⎥\n",
       "                                   ⎥\n",
       "         -cos(\\theta₁)             ⎥\n",
       "                                   ⎥\n",
       "               0                   ⎦"
      ]
     },
     "execution_count": 18,
     "metadata": {},
     "output_type": "execute_result"
    }
   ],
   "source": [
    "rrr.J"
   ]
  },
  {
   "cell_type": "code",
   "execution_count": null,
   "metadata": {},
   "outputs": [],
   "source": []
  }
 ],
 "metadata": {
  "kernelspec": {
   "display_name": "Python 3",
   "language": "python",
   "name": "python3"
  },
  "language_info": {
   "codemirror_mode": {
    "name": "ipython",
    "version": 3
   },
   "file_extension": ".py",
   "mimetype": "text/x-python",
   "name": "python",
   "nbconvert_exporter": "python",
   "pygments_lexer": "ipython3",
   "version": "3.6.5"
  }
 },
 "nbformat": 4,
 "nbformat_minor": 2
}
