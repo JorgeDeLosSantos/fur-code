{
 "cells": [
  {
   "cell_type": "code",
   "execution_count": 98,
   "metadata": {},
   "outputs": [
    {
     "data": {
      "image/png": "[encoded data removed]",
      "text/latex": [
       "$$\\left ( d{\\left (t \\right )} \\sin{\\left (\\theta_{1}{\\left (t \\right )} \\right )}, \\quad - d{\\left (t \\right )} \\cos{\\left (\\theta_{1}{\\left (t \\right )} \\right )}, \\quad \\left[\\begin{matrix}1 & 0 & 0 & 0\\\\0 & 1 & 0 & 0\\\\0 & 0 & 1 & d{\\left (t \\right )}\\\\0 & 0 & 0 & 1\\end{matrix}\\right], \\quad \\left[\\begin{matrix}\\cos{\\left (\\theta_{1}{\\left (t \\right )} \\right )} & 0 & \\sin{\\left (\\theta_{1}{\\left (t \\right )} \\right )} & 0\\\\\\sin{\\left (\\theta_{1}{\\left (t \\right )} \\right )} & 0 & - \\cos{\\left (\\theta_{1}{\\left (t \\right )} \\right )} & 0\\\\0 & 1 & 0 & 0\\\\0 & 0 & 0 & 1\\end{matrix}\\right], \\quad \\left[\\begin{matrix}\\cos{\\left (\\theta_{1}{\\left (t \\right )} \\right )} & 0 & \\sin{\\left (\\theta_{1}{\\left (t \\right )} \\right )} & d{\\left (t \\right )} \\sin{\\left (\\theta_{1}{\\left (t \\right )} \\right )}\\\\\\sin{\\left (\\theta_{1}{\\left (t \\right )} \\right )} & 0 & - \\cos{\\left (\\theta_{1}{\\left (t \\right )} \\right )} & - d{\\left (t \\right )} \\cos{\\left (\\theta_{1}{\\left (t \\right )} \\right )}\\\\0 & 1 & 0 & 0\\\\0 & 0 & 0 & 1\\end{matrix}\\right]\\right )$$"
      ],
      "text/plain": [
       "⎛                                             ⎡1  0  0   0  ⎤  ⎡cos(\\theta₁(t)\n",
       "⎜                                             ⎢             ⎥  ⎢              \n",
       "⎜                                             ⎢0  1  0   0  ⎥  ⎢sin(\\theta₁(t)\n",
       "⎜d(t)⋅sin(\\theta₁(t)), -d(t)⋅cos(\\theta₁(t)), ⎢             ⎥, ⎢              \n",
       "⎜                                             ⎢0  0  1  d(t)⎥  ⎢       0      \n",
       "⎜                                             ⎢             ⎥  ⎢              \n",
       "⎝                                             ⎣0  0  0   1  ⎦  ⎣       0      \n",
       "\n",
       ")  0  sin(\\theta₁(t))   0⎤  ⎡cos(\\theta₁(t))  0  sin(\\theta₁(t))   d(t)⋅sin(\\t\n",
       "                         ⎥  ⎢                                                 \n",
       ")  0  -cos(\\theta₁(t))  0⎥  ⎢sin(\\theta₁(t))  0  -cos(\\theta₁(t))  -d(t)⋅cos(\\\n",
       "                         ⎥, ⎢                                                 \n",
       "   1         0          0⎥  ⎢       0         1         0                    0\n",
       "                         ⎥  ⎢                                                 \n",
       "   0         0          1⎦  ⎣       0         0         0                    1\n",
       "\n",
       "heta₁(t)) ⎤⎞\n",
       "          ⎥⎟\n",
       "theta₁(t))⎥⎟\n",
       "          ⎥⎟\n",
       "          ⎥⎟\n",
       "          ⎥⎟\n",
       "          ⎦⎠"
      ]
     },
     "execution_count": 98,
     "metadata": {},
     "output_type": "execute_result"
    }
   ],
   "source": [
    "import sympy as sp\n",
    "from sympy import sin,cos,tan,pi,true\n",
    "sp.init_printing(use_latex=true)\n",
    "\n",
    "t = sp.symbols('t')\n",
    "t1 = sp.Function('\\\\theta_1')(t)\n",
    "d = sp.Function('d')(t)\n",
    "x,y,z = sp.symbols('x,y,z')\n",
    "\n",
    "\n",
    "def dhs(a,alpha,d,theta):\n",
    "    M = sp.Matrix([[cos(theta),-sin(theta)*cos(alpha),sin(theta)*sin(alpha),a*cos(theta)],\n",
    "                  [sin(theta),cos(theta)*cos(alpha),-cos(theta)*sin(alpha),a*sin(theta)],\n",
    "                  [0,sin(alpha),cos(alpha),d],\n",
    "                  [0,0,0,1]])\n",
    "    return M\n",
    "\n",
    "T1_0 = dhs(0,pi/2,0,t1)\n",
    "T2_1 = dhs(0,0,d,0)\n",
    "\n",
    "T2_0 = T1_0*T2_1\n",
    "xx = sp.simplify(T2_0[0,3])\n",
    "yy = sp.simplify(T2_0[1,3])\n",
    "zz = sp.simplify(T2_0[2,3])\n",
    "xx,yy,T2_1,T1_0,T2_0"
   ]
  },
  {
   "cell_type": "code",
   "execution_count": 103,
   "metadata": {},
   "outputs": [
    {
     "data": {
      "image/png": "[encoded data removed]",
      "text/latex": [
       "$$\\left[\\begin{matrix}- \\sin{\\left (\\theta_{1}{\\left (t \\right )} \\right )} \\frac{d}{d t} \\theta_{1}{\\left (t \\right )} & 0 & \\cos{\\left (\\theta_{1}{\\left (t \\right )} \\right )} \\frac{d}{d t} \\theta_{1}{\\left (t \\right )} & d{\\left (t \\right )} \\cos{\\left (\\theta_{1}{\\left (t \\right )} \\right )} \\frac{d}{d t} \\theta_{1}{\\left (t \\right )} + \\sin{\\left (\\theta_{1}{\\left (t \\right )} \\right )} \\frac{d}{d t} d{\\left (t \\right )}\\\\\\cos{\\left (\\theta_{1}{\\left (t \\right )} \\right )} \\frac{d}{d t} \\theta_{1}{\\left (t \\right )} & 0 & \\sin{\\left (\\theta_{1}{\\left (t \\right )} \\right )} \\frac{d}{d t} \\theta_{1}{\\left (t \\right )} & d{\\left (t \\right )} \\sin{\\left (\\theta_{1}{\\left (t \\right )} \\right )} \\frac{d}{d t} \\theta_{1}{\\left (t \\right )} - \\cos{\\left (\\theta_{1}{\\left (t \\right )} \\right )} \\frac{d}{d t} d{\\left (t \\right )}\\\\0 & 0 & 0 & 0\\\\0 & 0 & 0 & 0\\end{matrix}\\right]$$"
      ],
      "text/plain": [
       "⎡                 d                                  d                        \n",
       "⎢-sin(\\theta₁(t))⋅──(\\theta₁(t))  0  cos(\\theta₁(t))⋅──(\\theta₁(t))  d(t)⋅cos(\n",
       "⎢                 dt                                 dt                       \n",
       "⎢                                                                             \n",
       "⎢                d                                   d                        \n",
       "⎢cos(\\theta₁(t))⋅──(\\theta₁(t))   0  sin(\\theta₁(t))⋅──(\\theta₁(t))  d(t)⋅sin(\n",
       "⎢                dt                                  dt                       \n",
       "⎢                                                                             \n",
       "⎢               0                 0                0                          \n",
       "⎢                                                                             \n",
       "⎣               0                 0                0                          \n",
       "\n",
       "            d                                d       ⎤\n",
       "\\theta₁(t))⋅──(\\theta₁(t)) + sin(\\theta₁(t))⋅──(d(t))⎥\n",
       "            dt                               dt      ⎥\n",
       "                                                     ⎥\n",
       "            d                                d       ⎥\n",
       "\\theta₁(t))⋅──(\\theta₁(t)) - cos(\\theta₁(t))⋅──(d(t))⎥\n",
       "            dt                               dt      ⎥\n",
       "                                                     ⎥\n",
       "                     0                               ⎥\n",
       "                                                     ⎥\n",
       "                     0                               ⎦"
      ]
     },
     "execution_count": 103,
     "metadata": {},
     "output_type": "execute_result"
    }
   ],
   "source": [
    "J = T2_0.diff(t)\n",
    "J"
   ]
  },
  {
   "cell_type": "code",
   "execution_count": 100,
   "metadata": {},
   "outputs": [
    {
     "data": {
      "image/png": "[encoded data removed]",
      "text/latex": [
       "$$d{\\left (t \\right )} \\cos{\\left (\\theta_{1}{\\left (t \\right )} \\right )} \\frac{d}{d t} \\theta_{1}{\\left (t \\right )} + \\sin{\\left (\\theta_{1}{\\left (t \\right )} \\right )} \\frac{d}{d t} d{\\left (t \\right )}$$"
      ],
      "text/plain": [
       "                     d                                d       \n",
       "d(t)⋅cos(\\theta₁(t))⋅──(\\theta₁(t)) + sin(\\theta₁(t))⋅──(d(t))\n",
       "                     dt                               dt      "
      ]
     },
     "execution_count": 100,
     "metadata": {},
     "output_type": "execute_result"
    }
   ],
   "source": [
    "vx = sp.simplify(J[0,3])\n",
    "vy = sp.simplify(J[1,3])\n",
    "vz = sp.simplify(J[2,3])\n",
    "vx"
   ]
  },
  {
   "cell_type": "code",
   "execution_count": 101,
   "metadata": {},
   "outputs": [
    {
     "data": {
      "image/png": "[encoded data removed]",
      "text/latex": [
       "$$d{\\left (t \\right )} \\sin{\\left (\\theta_{1}{\\left (t \\right )} \\right )} \\frac{d}{d t} \\theta_{1}{\\left (t \\right )} - \\cos{\\left (\\theta_{1}{\\left (t \\right )} \\right )} \\frac{d}{d t} d{\\left (t \\right )}$$"
      ],
      "text/plain": [
       "                     d                                d       \n",
       "d(t)⋅sin(\\theta₁(t))⋅──(\\theta₁(t)) - cos(\\theta₁(t))⋅──(d(t))\n",
       "                     dt                               dt      "
      ]
     },
     "execution_count": 101,
     "metadata": {},
     "output_type": "execute_result"
    }
   ],
   "source": [
    "vy"
   ]
  },
  {
   "cell_type": "code",
   "execution_count": 102,
   "metadata": {},
   "outputs": [
    {
     "data": {
      "image/png": "[encoded data removed]",
      "text/latex": [
       "$$\\sqrt{d^{2}{\\left (t \\right )} \\left(\\frac{d}{d t} \\theta_{1}{\\left (t \\right )}\\right)^{2} + \\left(\\frac{d}{d t} d{\\left (t \\right )}\\right)^{2}}$$"
      ],
      "text/plain": [
       "     _______________________________________\n",
       "    ╱                       2             2 \n",
       "   ╱   2    ⎛d             ⎞    ⎛d       ⎞  \n",
       "  ╱   d (t)⋅⎜──(\\theta₁(t))⎟  + ⎜──(d(t))⎟  \n",
       "╲╱          ⎝dt            ⎠    ⎝dt      ⎠  "
      ]
     },
     "execution_count": 102,
     "metadata": {},
     "output_type": "execute_result"
    }
   ],
   "source": [
    "sp.simplify(sp.sqrt(vx**2+vy**2))"
   ]
  },
  {
   "cell_type": "code",
   "execution_count": null,
   "metadata": {},
   "outputs": [],
   "source": []
  },
  {
   "cell_type": "code",
   "execution_count": null,
   "metadata": {},
   "outputs": [],
   "source": []
  }
 ],
 "metadata": {
  "kernelspec": {
   "display_name": "Python 3",
   "language": "python",
   "name": "python3"
  },
  "language_info": {
   "codemirror_mode": {
    "name": "ipython",
    "version": 3
   },
   "file_extension": ".py",
   "mimetype": "text/x-python",
   "name": "python",
   "nbconvert_exporter": "python",
   "pygments_lexer": "ipython3",
   "version": "3.6.3"
  }
 },
 "nbformat": 4,
 "nbformat_minor": 2
}
