{
 "cells": [
  {
   "cell_type": "code",
   "execution_count": 1,
   "metadata": {},
   "outputs": [
    {
     "data": {
      "image/png": "[encoded data removed]",
      "text/latex": [
       "$$\\left[\\begin{matrix}0 & - \\frac{d}{d t} \\theta_{1}{\\left (t \\right )} - \\frac{d}{d t} \\theta_{2}{\\left (t \\right )} & 0\\\\\\frac{d}{d t} \\theta_{1}{\\left (t \\right )} + \\frac{d}{d t} \\theta_{2}{\\left (t \\right )} & 0 & 0\\\\0 & 0 & 0\\end{matrix}\\right]$$"
      ],
      "text/plain": [
       "⎡                                   d                d                ⎤\n",
       "⎢               0                 - ──(\\theta₁(t)) - ──(\\theta₂(t))  0⎥\n",
       "⎢                                   dt               dt               ⎥\n",
       "⎢                                                                     ⎥\n",
       "⎢d                d                                                   ⎥\n",
       "⎢──(\\theta₁(t)) + ──(\\theta₂(t))                  0                  0⎥\n",
       "⎢dt               dt                                                  ⎥\n",
       "⎢                                                                     ⎥\n",
       "⎣               0                                 0                  0⎦"
      ]
     },
     "execution_count": 1,
     "metadata": {},
     "output_type": "execute_result"
    }
   ],
   "source": [
    "from sympy import *\n",
    "from sympy.matrices import *\n",
    "init_printing(use_latex=true)\n",
    "\n",
    "t,d1,l1,l2,l3 = symbols('t,d_1,l_1,l_2,l_3')\n",
    "t1 = Function('\\\\theta_1')(t)\n",
    "t2 = Function('\\\\theta_2')(t)\n",
    "t3 = Function('\\\\theta_3')(t)\n",
    "d3 = Function('d_3')(t)\n",
    "x,y,z = symbols('x,y,z')\n",
    "\n",
    "\n",
    "def dhs(a,alpha,d,theta):\n",
    "    M = Matrix([[cos(theta),-sin(theta)*cos(alpha),sin(theta)*sin(alpha),a*cos(theta)],\n",
    "                  [sin(theta),cos(theta)*cos(alpha),-cos(theta)*sin(alpha),a*sin(theta)],\n",
    "                  [0,sin(alpha),cos(alpha),d],\n",
    "                  [0,0,0,1]])\n",
    "    return M\n",
    "\n",
    "T3_0 = dhs(l1,0,d1,t1)*dhs(l2,pi,0,t2)*dhs(0,0,d3,0)\n",
    "xx = simplify(T3_0[0,3])\n",
    "yy = simplify(T3_0[1,3])\n",
    "zz = simplify(T3_0[2,3])\n",
    "R = T3_0[:3,:3]\n",
    "simplify(R.diff(t)*R.transpose())"
   ]
  },
  {
   "cell_type": "code",
   "execution_count": 2,
   "metadata": {},
   "outputs": [
    {
     "data": {
      "image/png": "[encoded data removed]",
      "text/latex": [
       "$$\\left[\\begin{matrix}0 & - \\frac{d}{d t} \\theta_{1}{\\left (t \\right )} & - \\left(\\frac{d}{d t} \\theta_{2}{\\left (t \\right )} + \\frac{d}{d t} \\theta_{3}{\\left (t \\right )}\\right) \\cos{\\left (\\theta_{1}{\\left (t \\right )} \\right )}\\\\\\frac{d}{d t} \\theta_{1}{\\left (t \\right )} & 0 & - \\left(\\frac{d}{d t} \\theta_{2}{\\left (t \\right )} + \\frac{d}{d t} \\theta_{3}{\\left (t \\right )}\\right) \\sin{\\left (\\theta_{1}{\\left (t \\right )} \\right )}\\\\\\left(\\frac{d}{d t} \\theta_{2}{\\left (t \\right )} + \\frac{d}{d t} \\theta_{3}{\\left (t \\right )}\\right) \\cos{\\left (\\theta_{1}{\\left (t \\right )} \\right )} & \\left(\\frac{d}{d t} \\theta_{2}{\\left (t \\right )} + \\frac{d}{d t} \\theta_{3}{\\left (t \\right )}\\right) \\sin{\\left (\\theta_{1}{\\left (t \\right )} \\right )} & 0\\end{matrix}\\right]$$"
      ],
      "text/plain": [
       "⎡                                                                     d       \n",
       "⎢                        0                                           -──(\\thet\n",
       "⎢                                                                     dt      \n",
       "⎢                                                                             \n",
       "⎢                 d                                                           \n",
       "⎢                 ──(\\theta₁(t))                                            0 \n",
       "⎢                 dt                                                          \n",
       "⎢                                                                             \n",
       "⎢⎛d                d             ⎞                  ⎛d                d       \n",
       "⎢⎜──(\\theta₂(t)) + ──(\\theta₃(t))⎟⋅cos(\\theta₁(t))  ⎜──(\\theta₂(t)) + ──(\\thet\n",
       "⎣⎝dt               dt            ⎠                  ⎝dt               dt      \n",
       "\n",
       "                          ⎛d                d             ⎞                ⎤\n",
       "a₁(t))                   -⎜──(\\theta₂(t)) + ──(\\theta₃(t))⎟⋅cos(\\theta₁(t))⎥\n",
       "                          ⎝dt               dt            ⎠                ⎥\n",
       "                                                                           ⎥\n",
       "                          ⎛d                d             ⎞                ⎥\n",
       "                         -⎜──(\\theta₂(t)) + ──(\\theta₃(t))⎟⋅sin(\\theta₁(t))⎥\n",
       "                          ⎝dt               dt            ⎠                ⎥\n",
       "                                                                           ⎥\n",
       "      ⎞                                                                    ⎥\n",
       "a₃(t))⎟⋅sin(\\theta₁(t))                          0                         ⎥\n",
       "      ⎠                                                                    ⎦"
      ]
     },
     "execution_count": 2,
     "metadata": {},
     "output_type": "execute_result"
    }
   ],
   "source": [
    "T3_0 = dhs(0,pi/2,0,t1)*dhs(l2,0,0,t2)*dhs(l3,0,0,t3)\n",
    "xx = simplify(T3_0[0,3])\n",
    "yy = simplify(T3_0[1,3])\n",
    "zz = simplify(T3_0[2,3])\n",
    "R = T3_0[:3,:3]\n",
    "simplify(R.diff(t)*R.transpose())"
   ]
  },
  {
   "cell_type": "code",
   "execution_count": 3,
   "metadata": {},
   "outputs": [],
   "source": [
    "t1,t2,t3 = symbols('\\\\theta_1,\\\\theta_2,\\\\theta_3')\n",
    "a2, a3 = symbols('a_2,a_3')\n",
    "z0 = Matrix([0,0,1])\n",
    "z1 = Matrix([sin(t1),-cos(t1),0])\n",
    "z2 = Matrix([sin(t1),-cos(t1),0])\n",
    "\n",
    "p3 = Matrix([cos(t1)*(a2*cos(t2)+a3*cos(t3+t2)), sin(t1)*(a2*cos(t2)+a3*cos(t3+t2)), (a2*sin(t2)+a3*sin(t3+t2))])\n",
    "p2 = Matrix([a2*cos(t1)*cos(t2),a2*sin(t2)*cos(t2),a2*sin(t2)])\n",
    "p1 = Matrix([0,0,0])\n",
    "p0 = Matrix([0,0,0])"
   ]
  },
  {
   "cell_type": "code",
   "execution_count": 4,
   "metadata": {},
   "outputs": [
    {
     "data": {
      "image/png": "[encoded data removed]",
      "text/latex": [
       "$$\\left ( \\left[\\begin{matrix}- \\left(a_{2} \\cos{\\left (\\theta_2 \\right )} + a_{3} \\cos{\\left (\\theta_2 + \\theta_3 \\right )}\\right) \\sin{\\left (\\theta_1 \\right )}\\\\\\left(a_{2} \\cos{\\left (\\theta_2 \\right )} + a_{3} \\cos{\\left (\\theta_2 + \\theta_3 \\right )}\\right) \\cos{\\left (\\theta_1 \\right )}\\\\0\\end{matrix}\\right], \\quad \\left[\\begin{matrix}- a_{2} \\sin{\\left (\\theta_2 \\right )} \\cos{\\left (\\theta_1 \\right )}\\\\- a_{2} \\sin{\\left (\\theta_1 \\right )} \\sin{\\left (\\theta_2 \\right )}\\\\a_{2} \\sin{\\left (\\theta_1 \\right )} \\sin{\\left (\\theta_2 \\right )} \\cos{\\left (\\theta_2 \\right )} + a_{2} \\cos^{2}{\\left (\\theta_1 \\right )} \\cos{\\left (\\theta_2 \\right )}\\end{matrix}\\right], \\quad \\left[\\begin{matrix}0\\\\0\\\\0\\end{matrix}\\right]\\right )$$"
      ],
      "text/plain": [
       "⎛                                                               ⎡             \n",
       "⎜⎡-(a₂⋅cos(\\theta₂) + a₃⋅cos(\\theta₂ + \\theta₃))⋅sin(\\theta₁)⎤  ⎢             \n",
       "⎜⎢                                                           ⎥  ⎢             \n",
       "⎜⎢(a₂⋅cos(\\theta₂) + a₃⋅cos(\\theta₂ + \\theta₃))⋅cos(\\theta₁) ⎥, ⎢             \n",
       "⎜⎢                                                           ⎥  ⎢             \n",
       "⎝⎣                             0                             ⎦  ⎣a₂⋅sin(\\theta\n",
       "\n",
       "         -a₂⋅sin(\\theta₂)⋅cos(\\theta₁)                      ⎤     ⎞\n",
       "                                                            ⎥  ⎡0⎤⎟\n",
       "         -a₂⋅sin(\\theta₁)⋅sin(\\theta₂)                      ⎥  ⎢ ⎥⎟\n",
       "                                                            ⎥, ⎢0⎥⎟\n",
       "                                     2                      ⎥  ⎢ ⎥⎟\n",
       "₁)⋅sin(\\theta₂)⋅cos(\\theta₂) + a₂⋅cos (\\theta₁)⋅cos(\\theta₂)⎦  ⎣0⎦⎠"
      ]
     },
     "execution_count": 4,
     "metadata": {},
     "output_type": "execute_result"
    }
   ],
   "source": [
    "z0.cross(p3-p0),z1.cross(p2-p0),z2.cross(p1-p0)"
   ]
  },
  {
   "cell_type": "code",
   "execution_count": 5,
   "metadata": {},
   "outputs": [
    {
     "data": {
      "image/png": "[encoded data removed]",
      "text/latex": [
       "$$\\left ( \\left[\\begin{matrix}0\\\\0\\\\1\\end{matrix}\\right], \\quad \\left[\\begin{matrix}\\sin{\\left (\\theta_1 \\right )}\\\\- \\cos{\\left (\\theta_1 \\right )}\\\\0\\end{matrix}\\right], \\quad \\left[\\begin{matrix}\\sin{\\left (\\theta_1 \\right )}\\\\- \\cos{\\left (\\theta_1 \\right )}\\\\0\\end{matrix}\\right]\\right )$$"
      ],
      "text/plain": [
       "⎛⎡0⎤  ⎡sin(\\theta₁) ⎤  ⎡sin(\\theta₁) ⎤⎞\n",
       "⎜⎢ ⎥  ⎢             ⎥  ⎢             ⎥⎟\n",
       "⎜⎢0⎥, ⎢-cos(\\theta₁)⎥, ⎢-cos(\\theta₁)⎥⎟\n",
       "⎜⎢ ⎥  ⎢             ⎥  ⎢             ⎥⎟\n",
       "⎝⎣1⎦  ⎣      0      ⎦  ⎣      0      ⎦⎠"
      ]
     },
     "execution_count": 5,
     "metadata": {},
     "output_type": "execute_result"
    }
   ],
   "source": [
    "z0,z1,z2"
   ]
  },
  {
   "cell_type": "code",
   "execution_count": null,
   "metadata": {},
   "outputs": [],
   "source": []
  }
 ],
 "metadata": {
  "kernelspec": {
   "display_name": "Python 3",
   "language": "python",
   "name": "python3"
  },
  "language_info": {
   "codemirror_mode": {
    "name": "ipython",
    "version": 3
   },
   "file_extension": ".py",
   "mimetype": "text/x-python",
   "name": "python",
   "nbconvert_exporter": "python",
   "pygments_lexer": "ipython3",
   "version": "3.6.3"
  }
 },
 "nbformat": 4,
 "nbformat_minor": 2
}
