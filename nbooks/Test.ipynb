{
 "cells": [
  {
   "cell_type": "code",
   "execution_count": 51,
   "metadata": {},
   "outputs": [],
   "source": [
    "from sympy import *\n",
    "from sympy.matrices import *\n",
    "init_printing(use_latex=true)\n",
    "\n",
    "t = symbols('t')\n",
    "theta = Function('\\\\theta')(t)\n",
    "d = Function('d')(t)\n",
    "x,y,z = symbols('x,y,z')\n",
    "\n",
    "def dhs(a,alpha,d,theta):\n",
    "    M = Matrix([[cos(theta),-sin(theta)*cos(alpha),sin(theta)*sin(alpha),a*cos(theta)],\n",
    "                  [sin(theta),cos(theta)*cos(alpha),-cos(theta)*sin(alpha),a*sin(theta)],\n",
    "                  [0,sin(alpha),cos(alpha),d],\n",
    "                  [0,0,0,1]])\n",
    "    return M"
   ]
  },
  {
   "cell_type": "code",
   "execution_count": 52,
   "metadata": {},
   "outputs": [],
   "source": [
    "Rd = dhs(0,pi/2,0,theta)*dhs(0,0,d,0)"
   ]
  },
  {
   "cell_type": "code",
   "execution_count": 53,
   "metadata": {},
   "outputs": [
    {
     "data": {
      "image/png": "[encoded data removed]",
      "text/latex": [
       "$$\\left[\\begin{matrix}- \\sin{\\left (\\theta{\\left (t \\right )} \\right )} \\frac{d}{d t} \\theta{\\left (t \\right )} & 0 & \\cos{\\left (\\theta{\\left (t \\right )} \\right )} \\frac{d}{d t} \\theta{\\left (t \\right )} & d{\\left (t \\right )} \\cos{\\left (\\theta{\\left (t \\right )} \\right )} \\frac{d}{d t} \\theta{\\left (t \\right )} + \\sin{\\left (\\theta{\\left (t \\right )} \\right )} \\frac{d}{d t} d{\\left (t \\right )}\\\\\\cos{\\left (\\theta{\\left (t \\right )} \\right )} \\frac{d}{d t} \\theta{\\left (t \\right )} & 0 & \\sin{\\left (\\theta{\\left (t \\right )} \\right )} \\frac{d}{d t} \\theta{\\left (t \\right )} & d{\\left (t \\right )} \\sin{\\left (\\theta{\\left (t \\right )} \\right )} \\frac{d}{d t} \\theta{\\left (t \\right )} - \\cos{\\left (\\theta{\\left (t \\right )} \\right )} \\frac{d}{d t} d{\\left (t \\right )}\\\\0 & 0 & 0 & 0\\\\0 & 0 & 0 & 0\\end{matrix}\\right]$$"
      ],
      "text/plain": [
       "⎡                d                                d                           \n",
       "⎢-sin(\\theta(t))⋅──(\\theta(t))  0  cos(\\theta(t))⋅──(\\theta(t))  d(t)⋅cos(\\the\n",
       "⎢                dt                               dt                          \n",
       "⎢                                                                             \n",
       "⎢               d                                 d                           \n",
       "⎢cos(\\theta(t))⋅──(\\theta(t))   0  sin(\\theta(t))⋅──(\\theta(t))  d(t)⋅sin(\\the\n",
       "⎢               dt                                dt                          \n",
       "⎢                                                                             \n",
       "⎢              0                0               0                             \n",
       "⎢                                                                             \n",
       "⎣              0                0               0                             \n",
       "\n",
       "       d                              d       ⎤\n",
       "ta(t))⋅──(\\theta(t)) + sin(\\theta(t))⋅──(d(t))⎥\n",
       "       dt                             dt      ⎥\n",
       "                                              ⎥\n",
       "       d                              d       ⎥\n",
       "ta(t))⋅──(\\theta(t)) - cos(\\theta(t))⋅──(d(t))⎥\n",
       "       dt                             dt      ⎥\n",
       "                                              ⎥\n",
       "                0                             ⎥\n",
       "                                              ⎥\n",
       "                0                             ⎦"
      ]
     },
     "execution_count": 53,
     "metadata": {},
     "output_type": "execute_result"
    }
   ],
   "source": [
    "Rd.diff(t)"
   ]
  },
  {
   "cell_type": "code",
   "execution_count": 54,
   "metadata": {},
   "outputs": [],
   "source": [
    "JD=Matrix([[d*cos(theta), sin(theta)],\n",
    "       [d*sin(theta), -cos(theta)]])"
   ]
  },
  {
   "cell_type": "code",
   "execution_count": 65,
   "metadata": {},
   "outputs": [],
   "source": [
    "JI = JD.inv()\n",
    "JI.simplify()"
   ]
  },
  {
   "cell_type": "code",
   "execution_count": null,
   "metadata": {},
   "outputs": [],
   "source": []
  },
  {
   "cell_type": "code",
   "execution_count": 66,
   "metadata": {},
   "outputs": [
    {
     "data": {
      "image/png": "[encoded data removed]",
      "text/latex": [
       "$$\\left[\\begin{matrix}- \\frac{\\cos{\\left (\\theta{\\left (t \\right )} \\right )}}{d{\\left (t \\right )}}\\\\- \\sin{\\left (\\theta{\\left (t \\right )} \\right )}\\end{matrix}\\right]$$"
      ],
      "text/plain": [
       "⎡-cos(\\theta(t)) ⎤\n",
       "⎢────────────────⎥\n",
       "⎢      d(t)      ⎥\n",
       "⎢                ⎥\n",
       "⎣-sin(\\theta(t)) ⎦"
      ]
     },
     "execution_count": 66,
     "metadata": {},
     "output_type": "execute_result"
    }
   ],
   "source": [
    "theta = pi/2\n",
    "d = 200\n",
    "v = JI*Matrix([[-1],[0]])\n",
    "v"
   ]
  },
  {
   "cell_type": "code",
   "execution_count": 68,
   "metadata": {},
   "outputs": [
    {
     "data": {
      "image/png": "[encoded data removed]",
      "text/latex": [
       "$$\\left[\\begin{matrix}- \\sin{\\left (\\theta{\\left (t \\right )} \\right )}\\\\\\cos{\\left (\\theta{\\left (t \\right )} \\right )}\\end{matrix}\\right]$$"
      ],
      "text/plain": [
       "⎡-sin(\\theta(t))⎤\n",
       "⎢               ⎥\n",
       "⎣cos(\\theta(t)) ⎦"
      ]
     },
     "execution_count": 68,
     "metadata": {},
     "output_type": "execute_result"
    }
   ],
   "source": [
    "JD*Matrix([[0],[-1]])"
   ]
  },
  {
   "cell_type": "code",
   "execution_count": null,
   "metadata": {},
   "outputs": [],
   "source": []
  }
 ],
 "metadata": {
  "kernelspec": {
   "display_name": "Python 3",
   "language": "python",
   "name": "python3"
  },
  "language_info": {
   "codemirror_mode": {
    "name": "ipython",
    "version": 3
   },
   "file_extension": ".py",
   "mimetype": "text/x-python",
   "name": "python",
   "nbconvert_exporter": "python",
   "pygments_lexer": "ipython3",
   "version": "3.6.3"
  }
 },
 "nbformat": 4,
 "nbformat_minor": 2
}
