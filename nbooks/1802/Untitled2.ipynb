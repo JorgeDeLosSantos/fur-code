{
 "cells": [
  {
   "cell_type": "markdown",
   "metadata": {},
   "source": [
    "$$ \\theta_1 = cos(t) $$\n",
    "$$ \\theta_2 = sin(t) $$\n",
    "\n",
    "$$ 0 \\leq t \\leq 5 $$"
   ]
  },
  {
   "cell_type": "code",
   "execution_count": 5,
   "metadata": {},
   "outputs": [
    {
     "data": {
      "image/png": "[encoded data removed]",
      "text/plain": [
       "<Figure size 432x288 with 1 Axes>"
      ]
     },
     "metadata": {},
     "output_type": "display_data"
    }
   ],
   "source": [
    "from sympy import *\n",
    "from sympy.matrices import *\n",
    "import numpy as np\n",
    "import matplotlib.pyplot as plt\n",
    "%matplotlib inline\n",
    "init_printing(use_latex=true)\n",
    "\n",
    "L1,L2,t1,t2 = symbols(\"L_1, L_2, \\\\theta_1, \\\\theta_2\")\n",
    "\n",
    "J = Matrix([[-L1*sin(t1) - L2*sin(t1+t2), -L2*sin(t1+t2)],\n",
    "            [L1*cos(t1) + L2*cos(t1+t2), L2*cos(t1+t2)],\n",
    "            [0,0], [0,0], [0,0],[1,1] ])\n",
    "\n",
    "T = np.linspace(0,5)\n",
    "\n",
    "for t in T:\n",
    "    valores = {L1:200, L2:200, t1:np.cos(t), t2:np.sin(t)}\n",
    "    JN = J.subs(valores)\n",
    "    qp = Matrix([-np.sin(t), np.cos(t)])\n",
    "    xi = JN*qp\n",
    "    vx = xi[0]\n",
    "    vy = xi[1]\n",
    "    plt.plot(t, vx, \"ro\")\n",
    "    plt.plot(t, vy, \"bo\")\n",
    "    \n",
    "    "
   ]
  },
  {
   "cell_type": "code",
   "execution_count": null,
   "metadata": {},
   "outputs": [],
   "source": []
  }
 ],
 "metadata": {
  "kernelspec": {
   "display_name": "Python 3",
   "language": "python",
   "name": "python3"
  },
  "language_info": {
   "codemirror_mode": {
    "name": "ipython",
    "version": 3
   },
   "file_extension": ".py",
   "mimetype": "text/x-python",
   "name": "python",
   "nbconvert_exporter": "python",
   "pygments_lexer": "ipython3",
   "version": "3.6.5"
  }
 },
 "nbformat": 4,
 "nbformat_minor": 2
}
