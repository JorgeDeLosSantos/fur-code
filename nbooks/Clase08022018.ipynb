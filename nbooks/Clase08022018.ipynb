{
 "cells": [
  {
   "cell_type": "code",
   "execution_count": 1,
   "metadata": {},
   "outputs": [],
   "source": [
    "from sympy import *\n",
    "from sympy.matrices import Matrix, eye\n",
    "init_printing(use_latex=true)"
   ]
  },
  {
   "cell_type": "code",
   "execution_count": 16,
   "metadata": {},
   "outputs": [],
   "source": [
    "t1,t2,t3 = symbols(\"\\\\theta_1:4\")\n",
    "r1,r2,r3 = symbols(\"r_1:4\")\n",
    "l1,l2,l3 = symbols(\"l_1:4\")\n",
    "h, d3 = symbols(\"h, d_3\")\n",
    "\n",
    "def dh(a,alpha,d,theta):\n",
    "    M = Matrix([[cos(theta),-sin(theta)*cos(alpha),sin(theta)*sin(alpha),a*cos(theta)],\n",
    "                  [sin(theta),cos(theta)*cos(alpha),-cos(theta)*sin(alpha),a*sin(theta)],\n",
    "                  [0,sin(alpha),cos(alpha),d],\n",
    "                  [0,0,0,1]])\n",
    "    return M"
   ]
  },
  {
   "cell_type": "code",
   "execution_count": 20,
   "metadata": {},
   "outputs": [
    {
     "data": {
      "image/png": "[encoded data removed]",
      "text/latex": [
       "$$\\left[\\begin{matrix}\\cos{\\left (\\theta_1 + \\theta_2 \\right )} & \\sin{\\left (\\theta_1 + \\theta_2 \\right )} & 0 & l_{1} \\cos{\\left (\\theta_1 \\right )} + l_{2} \\cos{\\left (\\theta_1 + \\theta_2 \\right )}\\\\\\sin{\\left (\\theta_1 + \\theta_2 \\right )} & - \\cos{\\left (\\theta_1 + \\theta_2 \\right )} & 0 & l_{1} \\sin{\\left (\\theta_1 \\right )} + l_{2} \\sin{\\left (\\theta_1 + \\theta_2 \\right )}\\\\0 & 0 & -1 & - d_{3} + h\\\\0 & 0 & 0 & 1\\end{matrix}\\right]$$"
      ],
      "text/plain": [
       "⎡cos(\\theta₁ + \\theta₂)  sin(\\theta₁ + \\theta₂)   0   l₁⋅cos(\\theta₁) + l₂⋅cos\n",
       "⎢                                                                             \n",
       "⎢sin(\\theta₁ + \\theta₂)  -cos(\\theta₁ + \\theta₂)  0   l₁⋅sin(\\theta₁) + l₂⋅sin\n",
       "⎢                                                                             \n",
       "⎢          0                        0             -1                    -d₃ + \n",
       "⎢                                                                             \n",
       "⎣          0                        0             0                        1  \n",
       "\n",
       "(\\theta₁ + \\theta₂)⎤\n",
       "                   ⎥\n",
       "(\\theta₁ + \\theta₂)⎥\n",
       "                   ⎥\n",
       "h                  ⎥\n",
       "                   ⎥\n",
       "                   ⎦"
      ]
     },
     "execution_count": 20,
     "metadata": {},
     "output_type": "execute_result"
    }
   ],
   "source": [
    "simplify(dh(l1,0,h,t1)*dh(l2,0,0,t2)*dh(0,pi,-d3,0))"
   ]
  },
  {
   "cell_type": "code",
   "execution_count": null,
   "metadata": {},
   "outputs": [],
   "source": []
  },
  {
   "cell_type": "code",
   "execution_count": null,
   "metadata": {},
   "outputs": [],
   "source": []
  }
 ],
 "metadata": {
  "kernelspec": {
   "display_name": "Python 3",
   "language": "python",
   "name": "python3"
  },
  "language_info": {
   "codemirror_mode": {
    "name": "ipython",
    "version": 3
   },
   "file_extension": ".py",
   "mimetype": "text/x-python",
   "name": "python",
   "nbconvert_exporter": "python",
   "pygments_lexer": "ipython3",
   "version": "3.6.3"
  }
 },
 "nbformat": 4,
 "nbformat_minor": 2
}
