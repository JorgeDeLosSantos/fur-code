{
 "cells": [
  {
   "cell_type": "code",
   "execution_count": 65,
   "metadata": {},
   "outputs": [],
   "source": [
    "from furlib import *\n",
    "\n",
    "def newton_raphson(J,b,X0,vals={},eps=1e-5,maxiter=1000):\n",
    "    k = 0\n",
    "    Jinv = J.inv().subs(vals)\n",
    "    b = b.subs(vals)\n",
    "    while True:\n",
    "        x = (Jinv.subs(X0)*b.subs(X0)).evalf()\n",
    "        if x.norm()<eps: break\n",
    "        if k>maxiter: break\n",
    "        for jj,ky in enumerate(X0):\n",
    "            X0[ky] += (x[jj]).evalf()\n",
    "        k += 1   \n",
    "    return X0,x,k"
   ]
  },
  {
   "cell_type": "code",
   "execution_count": 26,
   "metadata": {},
   "outputs": [],
   "source": [
    "rr = Robot((100,0,0,t1),(100,0,0,t2))"
   ]
  },
  {
   "cell_type": "code",
   "execution_count": 27,
   "metadata": {},
   "outputs": [],
   "source": [
    "T = rr.T\n",
    "eqx = T[0,3]\n",
    "eqy = T[1,3]"
   ]
  },
  {
   "cell_type": "code",
   "execution_count": 85,
   "metadata": {},
   "outputs": [],
   "source": [
    "px,py = -100,-100"
   ]
  },
  {
   "cell_type": "code",
   "execution_count": 86,
   "metadata": {},
   "outputs": [],
   "source": [
    "f = Matrix([eqx-px, eqy-py])\n",
    "J = f.jacobian([t1,t2])\n",
    "X0 = {t1:0.2, t2:0.5}\n",
    "\n",
    "sol,*_ = newton_raphson(J, -f, X0, eps=1e-8, maxiter=20)"
   ]
  },
  {
   "cell_type": "code",
   "execution_count": 87,
   "metadata": {},
   "outputs": [
    {
     "data": {
      "image/png": "[encoded data removed]",
      "text/latex": [
       "$$\\left ( -99.999999999998, \\quad -100.0\\right )$$"
      ],
      "text/plain": [
       "(-99.999999999998, -100.0)"
      ]
     },
     "execution_count": 87,
     "metadata": {},
     "output_type": "execute_result"
    }
   ],
   "source": [
    "eqx.subs(sol),eqy.subs(sol)"
   ]
  },
  {
   "cell_type": "code",
   "execution_count": 88,
   "metadata": {},
   "outputs": [
    {
     "data": {
      "image/png": "[encoded data removed]",
      "text/latex": [
       "$$\\left [ \\left[\\begin{matrix}1.421085471516 \\cdot 10^{-16}\\\\-2.06314445402118 \\cdot 10^{-14}\\end{matrix}\\right], \\quad 12\\right ]$$"
      ],
      "text/plain": [
       "⎡⎡ 1.421085471516e-16  ⎤    ⎤\n",
       "⎢⎢                     ⎥, 12⎥\n",
       "⎣⎣-2.06314445402118e-14⎦    ⎦"
      ]
     },
     "execution_count": 88,
     "metadata": {},
     "output_type": "execute_result"
    }
   ],
   "source": [
    "_"
   ]
  },
  {
   "cell_type": "code",
   "execution_count": null,
   "metadata": {},
   "outputs": [],
   "source": []
  }
 ],
 "metadata": {
  "kernelspec": {
   "display_name": "Python 3",
   "language": "python",
   "name": "python3"
  },
  "language_info": {
   "codemirror_mode": {
    "name": "ipython",
    "version": 3
   },
   "file_extension": ".py",
   "mimetype": "text/x-python",
   "name": "python",
   "nbconvert_exporter": "python",
   "pygments_lexer": "ipython3",
   "version": "3.6.3"
  }
 },
 "nbformat": 4,
 "nbformat_minor": 2
}
