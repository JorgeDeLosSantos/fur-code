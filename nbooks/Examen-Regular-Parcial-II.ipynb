{
 "cells": [
  {
   "cell_type": "code",
   "execution_count": 34,
   "metadata": {},
   "outputs": [],
   "source": [
    "from furlib import *"
   ]
  },
  {
   "cell_type": "code",
   "execution_count": 35,
   "metadata": {},
   "outputs": [],
   "source": [
    "alpha = atan(120/200)\n",
    "beta = pi/2 - alpha\n",
    "gamma = pi - 2*beta\n",
    "a = sqrt(120**2+200**2)"
   ]
  },
  {
   "cell_type": "code",
   "execution_count": 36,
   "metadata": {},
   "outputs": [
    {
     "data": {
      "image/png": "[encoded data removed]",
      "text/latex": [
       "$$\\left[\\begin{matrix}0.514495755427527 & -0.857492925712544 & 0 & 200\\\\0.857492925712544 & 0.514495755427527 & 0 & 0\\\\0 & 0 & 1 & 0\\\\0 & 0 & 0 & 1\\end{matrix}\\right]$$"
      ],
      "text/plain": [
       "⎡0.514495755427527  -0.857492925712544  0  200⎤\n",
       "⎢                                             ⎥\n",
       "⎢0.857492925712544  0.514495755427527   0   0 ⎥\n",
       "⎢                                             ⎥\n",
       "⎢        0                  0           1   0 ⎥\n",
       "⎢                                             ⎥\n",
       "⎣        0                  0           0   1 ⎦"
      ]
     },
     "execution_count": 36,
     "metadata": {},
     "output_type": "execute_result"
    }
   ],
   "source": [
    "# T_10\n",
    "htmt(200,0,0)*htmr(beta)"
   ]
  },
  {
   "cell_type": "code",
   "execution_count": 37,
   "metadata": {},
   "outputs": [],
   "source": [
    "# T_20\n",
    "T_20 = (htmr(alpha)*htmt(a,0,0)).evalf()"
   ]
  },
  {
   "cell_type": "code",
   "execution_count": 38,
   "metadata": {},
   "outputs": [],
   "source": [
    "# T3_0\n",
    "T_30 = (htmr(alpha)*htmt(a/2,0,0)*htmr(-gamma)*htmr(pi,\"x\")).evalf()"
   ]
  },
  {
   "cell_type": "code",
   "execution_count": 39,
   "metadata": {},
   "outputs": [
    {
     "data": {
      "image/png": "[encoded data removed]",
      "text/latex": [
       "$$\\left[\\begin{matrix}0.470588235294118 & -0.882352941176471 & 0 & -116.619037896906\\\\-0.882352941176471 & -0.470588235294118 & 0 & -7.105427357601 \\cdot 10^{-15}\\\\0 & 0 & -1.0 & 0\\\\0 & 0 & 0 & 1.0\\end{matrix}\\right]$$"
      ],
      "text/plain": [
       "⎡0.470588235294118   -0.882352941176471   0     -116.619037896906 ⎤\n",
       "⎢                                                                 ⎥\n",
       "⎢-0.882352941176471  -0.470588235294118   0    -7.105427357601e-15⎥\n",
       "⎢                                                                 ⎥\n",
       "⎢        0                   0           -1.0           0         ⎥\n",
       "⎢                                                                 ⎥\n",
       "⎣        0                   0            0            1.0        ⎦"
      ]
     },
     "execution_count": 39,
     "metadata": {},
     "output_type": "execute_result"
    }
   ],
   "source": [
    "(T_20.inv()*T_30).evalf(chop=True)"
   ]
  },
  {
   "cell_type": "code",
   "execution_count": 46,
   "metadata": {},
   "outputs": [
    {
     "data": {
      "image/png": "[encoded data removed]",
      "text/latex": [
       "$$\\left ( 0.857526656193652, \\quad 0.514439533781506, \\quad 0.514439533781506, \\quad 0.857526656193652, \\quad -0.857526656193652, \\quad -0.514439533781507\\right )$$"
      ],
      "text/plain": [
       "(0.857526656193652, 0.514439533781506, 0.514439533781506, 0.857526656193652, -\n",
       "0.857526656193652, -0.514439533781507)"
      ]
     },
     "execution_count": 46,
     "metadata": {},
     "output_type": "execute_result"
    }
   ],
   "source": [
    "t1 = (30.96*pi/180).evalf()\n",
    "t2 = (59.04*pi/180).evalf()\n",
    "t3 = (210.96*pi/180).evalf()\n",
    "cos(t1),sin(t1),cos(t2),sin(t2),cos(t3),sin(t3)"
   ]
  },
  {
   "cell_type": "code",
   "execution_count": 41,
   "metadata": {},
   "outputs": [
    {
     "data": {
      "image/png": "[encoded data removed]",
      "text/latex": [
       "$$\\left[\\begin{matrix}0.857492925712544 & -0.514495755427526 & 0 & 100.0\\\\-0.514495755427526 & -0.857492925712544 & 0 & 60.0\\\\0 & 0 & -1.0 & 0\\\\0 & 0 & 0 & 1.0\\end{matrix}\\right]$$"
      ],
      "text/plain": [
       "⎡0.857492925712544   -0.514495755427526   0    100.0⎤\n",
       "⎢                                                   ⎥\n",
       "⎢-0.514495755427526  -0.857492925712544   0    60.0 ⎥\n",
       "⎢                                                   ⎥\n",
       "⎢        0                   0           -1.0    0  ⎥\n",
       "⎢                                                   ⎥\n",
       "⎣        0                   0            0     1.0 ⎦"
      ]
     },
     "execution_count": 41,
     "metadata": {},
     "output_type": "execute_result"
    }
   ],
   "source": [
    "T_30"
   ]
  },
  {
   "cell_type": "code",
   "execution_count": 42,
   "metadata": {},
   "outputs": [],
   "source": [
    "r = Robot((50,pi/2,330,t1),(330,0,0,t2),(35,pi/2,0,t3),(0,pi/2,335,t4),(0,pi/2,0,t5),(0,0,80,t6))"
   ]
  },
  {
   "cell_type": "code",
   "execution_count": 44,
   "metadata": {},
   "outputs": [
    {
     "data": {
      "image/png": "[encoded data removed]",
      "text/latex": [
       "$$\\left[\\begin{matrix}\\cos{\\left (\\theta_1 \\right )} \\cos{\\left (\\theta_2 + \\theta_3 \\right )} & \\sin{\\left (\\theta_1 \\right )} & \\sin{\\left (\\theta_2 + \\theta_3 \\right )} \\cos{\\left (\\theta_1 \\right )} & 5 \\left(66 \\cos{\\left (\\theta_2 \\right )} + 7 \\cos{\\left (\\theta_2 + \\theta_3 \\right )} + 10\\right) \\cos{\\left (\\theta_1 \\right )}\\\\\\sin{\\left (\\theta_1 \\right )} \\cos{\\left (\\theta_2 + \\theta_3 \\right )} & - \\cos{\\left (\\theta_1 \\right )} & \\sin{\\left (\\theta_1 \\right )} \\sin{\\left (\\theta_2 + \\theta_3 \\right )} & 5 \\left(66 \\cos{\\left (\\theta_2 \\right )} + 7 \\cos{\\left (\\theta_2 + \\theta_3 \\right )} + 10\\right) \\sin{\\left (\\theta_1 \\right )}\\\\\\sin{\\left (\\theta_2 + \\theta_3 \\right )} & 0 & - \\cos{\\left (\\theta_2 + \\theta_3 \\right )} & 330 \\sin{\\left (\\theta_2 \\right )} + 35 \\sin{\\left (\\theta_2 + \\theta_3 \\right )} + 330\\\\0 & 0 & 0 & 1\\end{matrix}\\right]$$"
      ],
      "text/plain": [
       "⎡cos(\\theta₁)⋅cos(\\theta₂ + \\theta₃)  sin(\\theta₁)   sin(\\theta₂ + \\theta₃)⋅co\n",
       "⎢                                                                             \n",
       "⎢sin(\\theta₁)⋅cos(\\theta₂ + \\theta₃)  -cos(\\theta₁)  sin(\\theta₁)⋅sin(\\theta₂ \n",
       "⎢                                                                             \n",
       "⎢      sin(\\theta₂ + \\theta₃)               0              -cos(\\theta₂ + \\the\n",
       "⎢                                                                             \n",
       "⎣                 0                         0                         0       \n",
       "\n",
       "s(\\theta₁)  5⋅(66⋅cos(\\theta₂) + 7⋅cos(\\theta₂ + \\theta₃) + 10)⋅cos(\\theta₁)⎤\n",
       "                                                                            ⎥\n",
       "+ \\theta₃)  5⋅(66⋅cos(\\theta₂) + 7⋅cos(\\theta₂ + \\theta₃) + 10)⋅sin(\\theta₁)⎥\n",
       "                                                                            ⎥\n",
       "ta₃)               330⋅sin(\\theta₂) + 35⋅sin(\\theta₂ + \\theta₃) + 330       ⎥\n",
       "                                                                            ⎥\n",
       "                                           1                                ⎦"
      ]
     },
     "execution_count": 44,
     "metadata": {},
     "output_type": "execute_result"
    }
   ],
   "source": [
    "from furlib import *\n",
    "simplify(r.Ts[0]*r.Ts[1]*r.Ts[2])"
   ]
  },
  {
   "cell_type": "code",
   "execution_count": 45,
   "metadata": {},
   "outputs": [
    {
     "data": {
      "image/png": "[encoded data removed]",
      "text/latex": [
       "$$\\left [ \\left[\\begin{matrix}\\cos{\\left (\\theta_1 \\right )} & 0 & \\sin{\\left (\\theta_1 \\right )} & 50 \\cos{\\left (\\theta_1 \\right )}\\\\\\sin{\\left (\\theta_1 \\right )} & 0 & - \\cos{\\left (\\theta_1 \\right )} & 50 \\sin{\\left (\\theta_1 \\right )}\\\\0 & 1 & 0 & 330\\\\0 & 0 & 0 & 1\\end{matrix}\\right], \\quad \\left[\\begin{matrix}\\cos{\\left (\\theta_2 \\right )} & - \\sin{\\left (\\theta_2 \\right )} & 0 & 330 \\cos{\\left (\\theta_2 \\right )}\\\\\\sin{\\left (\\theta_2 \\right )} & \\cos{\\left (\\theta_2 \\right )} & 0 & 330 \\sin{\\left (\\theta_2 \\right )}\\\\0 & 0 & 1 & 0\\\\0 & 0 & 0 & 1\\end{matrix}\\right], \\quad \\left[\\begin{matrix}\\cos{\\left (\\theta_3 \\right )} & 0 & \\sin{\\left (\\theta_3 \\right )} & 35 \\cos{\\left (\\theta_3 \\right )}\\\\\\sin{\\left (\\theta_3 \\right )} & 0 & - \\cos{\\left (\\theta_3 \\right )} & 35 \\sin{\\left (\\theta_3 \\right )}\\\\0 & 1 & 0 & 0\\\\0 & 0 & 0 & 1\\end{matrix}\\right], \\quad \\left[\\begin{matrix}\\cos{\\left (\\theta_4 \\right )} & 0 & \\sin{\\left (\\theta_4 \\right )} & 0\\\\\\sin{\\left (\\theta_4 \\right )} & 0 & - \\cos{\\left (\\theta_4 \\right )} & 0\\\\0 & 1 & 0 & 335\\\\0 & 0 & 0 & 1\\end{matrix}\\right], \\quad \\left[\\begin{matrix}\\cos{\\left (\\theta_5 \\right )} & 0 & \\sin{\\left (\\theta_5 \\right )} & 0\\\\\\sin{\\left (\\theta_5 \\right )} & 0 & - \\cos{\\left (\\theta_5 \\right )} & 0\\\\0 & 1 & 0 & 0\\\\0 & 0 & 0 & 1\\end{matrix}\\right], \\quad \\left[\\begin{matrix}\\cos{\\left (\\theta_6 \\right )} & - \\sin{\\left (\\theta_6 \\right )} & 0 & 0\\\\\\sin{\\left (\\theta_6 \\right )} & \\cos{\\left (\\theta_6 \\right )} & 0 & 0\\\\0 & 0 & 1 & 80\\\\0 & 0 & 0 & 1\\end{matrix}\\right]\\right ]$$"
      ],
      "text/plain": [
       "⎡⎡cos(\\theta₁)  0  sin(\\theta₁)   50⋅cos(\\theta₁)⎤  ⎡cos(\\theta₂)  -sin(\\theta\n",
       "⎢⎢                                               ⎥  ⎢                         \n",
       "⎢⎢sin(\\theta₁)  0  -cos(\\theta₁)  50⋅sin(\\theta₁)⎥  ⎢sin(\\theta₂)  cos(\\theta₂\n",
       "⎢⎢                                               ⎥, ⎢                         \n",
       "⎢⎢     0        1        0              330      ⎥  ⎢     0              0    \n",
       "⎢⎢                                               ⎥  ⎢                         \n",
       "⎣⎣     0        0        0               1       ⎦  ⎣     0              0    \n",
       "\n",
       "₂)  0  330⋅cos(\\theta₂)⎤  ⎡cos(\\theta₃)  0  sin(\\theta₃)   35⋅cos(\\theta₃)⎤  ⎡\n",
       "                       ⎥  ⎢                                               ⎥  ⎢\n",
       ")   0  330⋅sin(\\theta₂)⎥  ⎢sin(\\theta₃)  0  -cos(\\theta₃)  35⋅sin(\\theta₃)⎥  ⎢\n",
       "                       ⎥, ⎢                                               ⎥, ⎢\n",
       "    1         0        ⎥  ⎢     0        1        0               0       ⎥  ⎢\n",
       "                       ⎥  ⎢                                               ⎥  ⎢\n",
       "    0         1        ⎦  ⎣     0        0        0               1       ⎦  ⎣\n",
       "\n",
       "cos(\\theta₄)  0  sin(\\theta₄)    0 ⎤  ⎡cos(\\theta₅)  0  sin(\\theta₅)   0⎤  ⎡co\n",
       "                                   ⎥  ⎢                                 ⎥  ⎢  \n",
       "sin(\\theta₄)  0  -cos(\\theta₄)   0 ⎥  ⎢sin(\\theta₅)  0  -cos(\\theta₅)  0⎥  ⎢si\n",
       "                                   ⎥, ⎢                                 ⎥, ⎢  \n",
       "     0        1        0        335⎥  ⎢     0        1        0        0⎥  ⎢  \n",
       "                                   ⎥  ⎢                                 ⎥  ⎢  \n",
       "     0        0        0         1 ⎦  ⎣     0        0        0        1⎦  ⎣  \n",
       "\n",
       "s(\\theta₆)  -sin(\\theta₆)  0  0 ⎤⎤\n",
       "                                ⎥⎥\n",
       "n(\\theta₆)  cos(\\theta₆)   0  0 ⎥⎥\n",
       "                                ⎥⎥\n",
       "   0              0        1  80⎥⎥\n",
       "                                ⎥⎥\n",
       "   0              0        0  1 ⎦⎦"
      ]
     },
     "execution_count": 45,
     "metadata": {},
     "output_type": "execute_result"
    }
   ],
   "source": [
    "r.Ts"
   ]
  },
  {
   "cell_type": "code",
   "execution_count": null,
   "metadata": {},
   "outputs": [],
   "source": []
  }
 ],
 "metadata": {
  "kernelspec": {
   "display_name": "Python 3",
   "language": "python",
   "name": "python3"
  },
  "language_info": {
   "codemirror_mode": {
    "name": "ipython",
    "version": 3
   },
   "file_extension": ".py",
   "mimetype": "text/x-python",
   "name": "python",
   "nbconvert_exporter": "python",
   "pygments_lexer": "ipython3",
   "version": "3.6.3"
  }
 },
 "nbformat": 4,
 "nbformat_minor": 2
}
