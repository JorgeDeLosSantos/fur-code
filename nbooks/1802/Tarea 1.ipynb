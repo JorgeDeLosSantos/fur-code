{
 "cells": [
  {
   "cell_type": "code",
   "execution_count": 58,
   "metadata": {},
   "outputs": [],
   "source": [
    "from furlib import *"
   ]
  },
  {
   "cell_type": "markdown",
   "metadata": {},
   "source": [
    "**1.** El sistema de referencia {B} está trasladado 5 unidades en X, 4 unidades en Y y -10 unidades en\n",
    "Z con respecto al sistema {A}. Se sabe que las coordenadas de un punto P descritas en el sistema\n",
    "{B} son $P^B = [2, 3,−5]^T$, calcule $P^A$."
   ]
  },
  {
   "cell_type": "code",
   "execution_count": 59,
   "metadata": {},
   "outputs": [
    {
     "data": {
      "image/png": "[encoded data removed]",
      "text/latex": [
       "$$\\left[\\begin{matrix}7\\\\7\\\\-15\\\\1\\end{matrix}\\right]$$"
      ],
      "text/plain": [
       "⎡ 7 ⎤\n",
       "⎢   ⎥\n",
       "⎢ 7 ⎥\n",
       "⎢   ⎥\n",
       "⎢-15⎥\n",
       "⎢   ⎥\n",
       "⎣ 1 ⎦"
      ]
     },
     "execution_count": 59,
     "metadata": {},
     "output_type": "execute_result"
    }
   ],
   "source": [
    "PB = Matrix([2,3,-5,1])\n",
    "HBA = htmt(5,4,-10)\n",
    "PA = HBA*PB\n",
    "PA"
   ]
  },
  {
   "cell_type": "markdown",
   "metadata": {},
   "source": [
    "<hr>\n",
    "\n",
    "**2.** Muestre que la distancia entre dos puntos no cambia con la rotación, es decir, que \n",
    "$\\lVert \\vec{p_1} - \\vec{p_2} \\rVert = \\lVert R\\vec{p_1} - R\\vec{p_2}  \\rVert$"
   ]
  },
  {
   "cell_type": "code",
   "execution_count": 60,
   "metadata": {},
   "outputs": [
    {
     "data": {
      "image/png": "[encoded data removed]",
      "text/latex": [
       "$$\\sqrt{a^{2} - 2 a d + b^{2} - 2 b e + c^{2} - 2 c f + d^{2} + e^{2} + f^{2}}$$"
      ],
      "text/plain": [
       "   _____________________________________________________\n",
       "  ╱  2            2            2            2    2    2 \n",
       "╲╱  a  - 2⋅a⋅d + b  - 2⋅b⋅e + c  - 2⋅c⋅f + d  + e  + f  "
      ]
     },
     "execution_count": 60,
     "metadata": {},
     "output_type": "execute_result"
    }
   ],
   "source": [
    "# Sean p1 y p2:\n",
    "a,b,c,d,e,f,phi = symbols('a,b,c,d,e,f,phi', real=true)\n",
    "p1 = Matrix([a,b,c])\n",
    "p2 = Matrix([d,e,f])\n",
    "\n",
    "# Sea R una matriz de rotación resultante de un giro alrededor de \"z\" un ángulo \"phi\"\n",
    "R = htmr(phi,\"z\")[:3,:3]\n",
    "\n",
    "# Luego ||p1 - p2||\n",
    "#expand((p1-p2)[0]**2 + (p1-p2)[1]**2 + (p1-p2)[2]**2)\n",
    "expand((p1-p2).norm())"
   ]
  },
  {
   "cell_type": "code",
   "execution_count": 61,
   "metadata": {},
   "outputs": [
    {
     "data": {
      "image/png": "[encoded data removed]",
      "text/latex": [
       "$$\\sqrt{a^{2} - 2 a d + b^{2} - 2 b e + c^{2} - 2 c f + d^{2} + e^{2} + f^{2}}$$"
      ],
      "text/plain": [
       "   _____________________________________________________\n",
       "  ╱  2            2            2            2    2    2 \n",
       "╲╱  a  - 2⋅a⋅d + b  - 2⋅b⋅e + c  - 2⋅c⋅f + d  + e  + f  "
      ]
     },
     "execution_count": 61,
     "metadata": {},
     "output_type": "execute_result"
    }
   ],
   "source": [
    "# Para el caso de ||Rp1 - Rp2||\n",
    "simplify((R*p1-R*p2).norm())"
   ]
  },
  {
   "cell_type": "code",
   "execution_count": 62,
   "metadata": {},
   "outputs": [
    {
     "data": {
      "image/png": "[encoded data removed]",
      "text/latex": [
       "$$\\left ( 5 \\sqrt{170}, \\quad 5 \\sqrt{170}\\right )$$"
      ],
      "text/plain": [
       "(5⋅√170, 5⋅√170)"
      ]
     },
     "execution_count": 62,
     "metadata": {},
     "output_type": "execute_result"
    }
   ],
   "source": [
    "## Un ejemplo numérico\n",
    "p1,p2 = randMatrix(3,1), randMatrix(3,1) # Random points\n",
    "(p1-p2).norm(), simplify((R*p1 - R*p2).norm())"
   ]
  },
  {
   "cell_type": "markdown",
   "metadata": {},
   "source": [
    "<hr>\n",
    "\n",
    "**3.** Un vector $\\vec{P}^{uvw}$ se rota alrededor del eje $w$ un ángulo $\\theta$ y enseguida se rota \n",
    "alrededor del eje $u$ un ángulo $\\phi$. Calcule la MTH que realiza las transformaciones en el orden indicado.\n"
   ]
  },
  {
   "cell_type": "code",
   "execution_count": 63,
   "metadata": {},
   "outputs": [
    {
     "data": {
      "image/png": "[encoded data removed]",
      "text/latex": [
       "$$\\left[\\begin{matrix}\\cos{\\left (\\theta \\right )} & - \\sin{\\left (\\theta \\right )} \\cos{\\left (\\phi \\right )} & \\sin{\\left (\\theta \\right )} \\sin{\\left (\\phi \\right )} & 0\\\\\\sin{\\left (\\theta \\right )} & \\cos{\\left (\\theta \\right )} \\cos{\\left (\\phi \\right )} & - \\sin{\\left (\\phi \\right )} \\cos{\\left (\\theta \\right )} & 0\\\\0 & \\sin{\\left (\\phi \\right )} & \\cos{\\left (\\phi \\right )} & 0\\\\0 & 0 & 0 & 1\\end{matrix}\\right]$$"
      ],
      "text/plain": [
       "⎡cos(\\theta)  -sin(\\theta)⋅cos(φ)  sin(\\theta)⋅sin(φ)   0⎤\n",
       "⎢                                                        ⎥\n",
       "⎢sin(\\theta)  cos(\\theta)⋅cos(φ)   -sin(φ)⋅cos(\\theta)  0⎥\n",
       "⎢                                                        ⎥\n",
       "⎢     0             sin(φ)               cos(φ)         0⎥\n",
       "⎢                                                        ⎥\n",
       "⎣     0                0                    0           1⎦"
      ]
     },
     "execution_count": 63,
     "metadata": {},
     "output_type": "execute_result"
    }
   ],
   "source": [
    "theta = symbols('\\\\theta')\n",
    "htmr(theta,\"z\")*htmr(phi,\"x\")"
   ]
  },
  {
   "cell_type": "markdown",
   "metadata": {},
   "source": [
    "<hr>\n",
    "\n",
    "**4. Rotación global y local de un cubo.** La figura muestra la posición inicial de un cubo con un punto \n",
    "fijo en $D$ y aristas de longitud $l=1$. Calcule:\n",
    "\n",
    "a) Las coordenadas de las esquinas después de una rotación de 30° alrededor del eje $x$, seguida por \n",
    "una rotación de 30° alrededor del eje $X$.\n",
    "\n",
    "b) Las coordenadas de las esquinas después de una rotación de 30° alrededor del eje $y$, seguida por \n",
    "una rotación de 30° alrededor del eje $X$.\n",
    "\n",
    "c) Las coordenadas de las esquinas después de la rotación de 30° alrededor del ej $x$, seguida por \n",
    "una rotación de 30° alrededor del eje $x$ y posteriormente una rotación de 30° alrededor del eje $x$.\n",
    "\n",
    "d) Las coordenadas de las esquinas después de una rotación de 30° alrededor del eje $x$, seguida por \n",
    "una rotación de 30° alrededor de $Y$ y finalmente una rotación de 30° alrededor del eje $z$."
   ]
  },
  {
   "cell_type": "code",
   "execution_count": 81,
   "metadata": {},
   "outputs": [
    {
     "data": {
      "image/png": "[encoded data removed]",
      "text/latex": [
       "$$\\left ( \\left[\\begin{matrix}1.0\\\\0\\\\0\\\\1.0\\end{matrix}\\right], \\quad \\left[\\begin{matrix}1.0\\\\0.5\\\\0.86602\\\\1.0\\end{matrix}\\right], \\quad \\left[\\begin{matrix}0\\\\0.5\\\\0.86602\\\\1.0\\end{matrix}\\right], \\quad \\left[\\begin{matrix}1.0\\\\-0.86602\\\\0.5\\\\1.0\\end{matrix}\\right], \\quad \\left[\\begin{matrix}1.0\\\\-0.36602\\\\1.366\\\\1.0\\end{matrix}\\right], \\quad \\left[\\begin{matrix}0\\\\-0.36602\\\\1.366\\\\1.0\\end{matrix}\\right], \\quad \\left[\\begin{matrix}0\\\\-0.86602\\\\0.5\\\\1.0\\end{matrix}\\right]\\right )$$"
      ],
      "text/plain": [
       "⎛⎡1.0⎤  ⎡  1.0  ⎤  ⎡   0   ⎤  ⎡  1.0   ⎤  ⎡  1.0   ⎤  ⎡   0    ⎤  ⎡   0    ⎤⎞\n",
       "⎜⎢   ⎥  ⎢       ⎥  ⎢       ⎥  ⎢        ⎥  ⎢        ⎥  ⎢        ⎥  ⎢        ⎥⎟\n",
       "⎜⎢ 0 ⎥  ⎢  0.5  ⎥  ⎢  0.5  ⎥  ⎢-0.86602⎥  ⎢-0.36602⎥  ⎢-0.36602⎥  ⎢-0.86602⎥⎟\n",
       "⎜⎢   ⎥, ⎢       ⎥, ⎢       ⎥, ⎢        ⎥, ⎢        ⎥, ⎢        ⎥, ⎢        ⎥⎟\n",
       "⎜⎢ 0 ⎥  ⎢0.86602⎥  ⎢0.86602⎥  ⎢  0.5   ⎥  ⎢ 1.366  ⎥  ⎢ 1.366  ⎥  ⎢  0.5   ⎥⎟\n",
       "⎜⎢   ⎥  ⎢       ⎥  ⎢       ⎥  ⎢        ⎥  ⎢        ⎥  ⎢        ⎥  ⎢        ⎥⎟\n",
       "⎝⎣1.0⎦  ⎣  1.0  ⎦  ⎣  1.0  ⎦  ⎣  1.0   ⎦  ⎣  1.0   ⎦  ⎣  1.0   ⎦  ⎣  1.0   ⎦⎠"
      ]
     },
     "execution_count": 81,
     "metadata": {},
     "output_type": "execute_result"
    }
   ],
   "source": [
    "# Puntos en coordenadas locales\n",
    "A = Matrix([1,0,0,1])\n",
    "B = Matrix([1,1,0,1])\n",
    "C = Matrix([0,1,0,1])\n",
    "E = Matrix([1,0,1,1])\n",
    "F = Matrix([1,1,1,1])\n",
    "G = Matrix([0,1,1,1])\n",
    "H = Matrix([0,0,1,1])\n",
    "\n",
    "# Para a)\n",
    "HA = (htmr(pi/6,\"x\")*htmr(pi/6,\"x\")).evalf(5)\n",
    "HA*A, HA*B, HA*C, HA*E, HA*F, HA*G, HA*H"
   ]
  },
  {
   "cell_type": "code",
   "execution_count": 82,
   "metadata": {},
   "outputs": [
    {
     "data": {
      "image/png": "[encoded data removed]",
      "text/latex": [
       "$$\\left ( \\left[\\begin{matrix}0.86602\\\\0.25\\\\-0.43301\\\\1.0\\end{matrix}\\right], \\quad \\left[\\begin{matrix}0.86602\\\\1.116\\\\0.066988\\\\1.0\\end{matrix}\\right], \\quad \\left[\\begin{matrix}0\\\\0.86602\\\\0.5\\\\1.0\\end{matrix}\\right], \\quad \\left[\\begin{matrix}1.366\\\\-0.18301\\\\0.31699\\\\1.0\\end{matrix}\\right], \\quad \\left[\\begin{matrix}1.366\\\\0.68301\\\\0.81699\\\\1.0\\end{matrix}\\right], \\quad \\left[\\begin{matrix}0.5\\\\0.43301\\\\1.25\\\\1.0\\end{matrix}\\right], \\quad \\left[\\begin{matrix}0.5\\\\-0.43301\\\\0.75\\\\1.0\\end{matrix}\\right]\\right )$$"
      ],
      "text/plain": [
       "⎛⎡0.86602 ⎤  ⎡0.86602 ⎤  ⎡   0   ⎤  ⎡ 1.366  ⎤  ⎡ 1.366 ⎤  ⎡  0.5  ⎤  ⎡  0.5  \n",
       "⎜⎢        ⎥  ⎢        ⎥  ⎢       ⎥  ⎢        ⎥  ⎢       ⎥  ⎢       ⎥  ⎢       \n",
       "⎜⎢  0.25  ⎥  ⎢ 1.116  ⎥  ⎢0.86602⎥  ⎢-0.18301⎥  ⎢0.68301⎥  ⎢0.43301⎥  ⎢-0.4330\n",
       "⎜⎢        ⎥, ⎢        ⎥, ⎢       ⎥, ⎢        ⎥, ⎢       ⎥, ⎢       ⎥, ⎢       \n",
       "⎜⎢-0.43301⎥  ⎢0.066988⎥  ⎢  0.5  ⎥  ⎢0.31699 ⎥  ⎢0.81699⎥  ⎢ 1.25  ⎥  ⎢  0.75 \n",
       "⎜⎢        ⎥  ⎢        ⎥  ⎢       ⎥  ⎢        ⎥  ⎢       ⎥  ⎢       ⎥  ⎢       \n",
       "⎝⎣  1.0   ⎦  ⎣  1.0   ⎦  ⎣  1.0  ⎦  ⎣  1.0   ⎦  ⎣  1.0  ⎦  ⎣  1.0  ⎦  ⎣  1.0  \n",
       "\n",
       " ⎤⎞\n",
       " ⎥⎟\n",
       "1⎥⎟\n",
       " ⎥⎟\n",
       " ⎥⎟\n",
       " ⎥⎟\n",
       " ⎦⎠"
      ]
     },
     "execution_count": 82,
     "metadata": {},
     "output_type": "execute_result"
    }
   ],
   "source": [
    "# Para b)\n",
    "HB = ( htmr(pi/6,\"x\")*htmr(pi/6,\"y\") ).evalf(5)\n",
    "HB*A, HB*B, HB*C, HB*E, HB*F, HB*G, HB*H"
   ]
  },
  {
   "cell_type": "code",
   "execution_count": 83,
   "metadata": {},
   "outputs": [
    {
     "data": {
      "image/png": "[encoded data removed]",
      "text/latex": [
       "$$\\left ( \\left[\\begin{matrix}1.0\\\\0\\\\0\\\\1.0\\end{matrix}\\right], \\quad \\left[\\begin{matrix}1.0\\\\0\\\\1.0\\\\1.0\\end{matrix}\\right], \\quad \\left[\\begin{matrix}0\\\\0\\\\1.0\\\\1.0\\end{matrix}\\right], \\quad \\left[\\begin{matrix}1.0\\\\-1.0\\\\0\\\\1.0\\end{matrix}\\right], \\quad \\left[\\begin{matrix}1.0\\\\-1.0\\\\1.0\\\\1.0\\end{matrix}\\right], \\quad \\left[\\begin{matrix}0\\\\-1.0\\\\1.0\\\\1.0\\end{matrix}\\right], \\quad \\left[\\begin{matrix}0\\\\-1.0\\\\0\\\\1.0\\end{matrix}\\right]\\right )$$"
      ],
      "text/plain": [
       "⎛⎡1.0⎤  ⎡1.0⎤  ⎡ 0 ⎤  ⎡1.0 ⎤  ⎡1.0 ⎤  ⎡ 0  ⎤  ⎡ 0  ⎤⎞\n",
       "⎜⎢   ⎥  ⎢   ⎥  ⎢   ⎥  ⎢    ⎥  ⎢    ⎥  ⎢    ⎥  ⎢    ⎥⎟\n",
       "⎜⎢ 0 ⎥  ⎢ 0 ⎥  ⎢ 0 ⎥  ⎢-1.0⎥  ⎢-1.0⎥  ⎢-1.0⎥  ⎢-1.0⎥⎟\n",
       "⎜⎢   ⎥, ⎢   ⎥, ⎢   ⎥, ⎢    ⎥, ⎢    ⎥, ⎢    ⎥, ⎢    ⎥⎟\n",
       "⎜⎢ 0 ⎥  ⎢1.0⎥  ⎢1.0⎥  ⎢ 0  ⎥  ⎢1.0 ⎥  ⎢1.0 ⎥  ⎢ 0  ⎥⎟\n",
       "⎜⎢   ⎥  ⎢   ⎥  ⎢   ⎥  ⎢    ⎥  ⎢    ⎥  ⎢    ⎥  ⎢    ⎥⎟\n",
       "⎝⎣1.0⎦  ⎣1.0⎦  ⎣1.0⎦  ⎣1.0 ⎦  ⎣1.0 ⎦  ⎣1.0 ⎦  ⎣1.0 ⎦⎠"
      ]
     },
     "execution_count": 83,
     "metadata": {},
     "output_type": "execute_result"
    }
   ],
   "source": [
    "# Para c)\n",
    "HC = ( htmr(pi/2,\"x\") ).evalf(5)\n",
    "HC*A, HC*B, HC*C, HC*E, HC*F, HC*G, HC*H"
   ]
  },
  {
   "cell_type": "code",
   "execution_count": 84,
   "metadata": {},
   "outputs": [
    {
     "data": {
      "image/png": "[encoded data removed]",
      "text/latex": [
       "$$\\left ( \\left[\\begin{matrix}0.875\\\\0.43301\\\\-0.21651\\\\1.0\\end{matrix}\\right], \\quad \\left[\\begin{matrix}0.65849\\\\1.183\\\\0.40849\\\\1.0\\end{matrix}\\right], \\quad \\left[\\begin{matrix}-0.21651\\\\0.75\\\\0.625\\\\1.0\\end{matrix}\\right], \\quad \\left[\\begin{matrix}1.308\\\\-0.066988\\\\0.53349\\\\1.0\\end{matrix}\\right], \\quad \\left[\\begin{matrix}1.0915\\\\0.68301\\\\1.1585\\\\1.0\\end{matrix}\\right], \\quad \\left[\\begin{matrix}0.21651\\\\0.25\\\\1.375\\\\1.0\\end{matrix}\\right], \\quad \\left[\\begin{matrix}0.43301\\\\-0.5\\\\0.75\\\\1.0\\end{matrix}\\right]\\right )$$"
      ],
      "text/plain": [
       "⎛⎡ 0.875  ⎤  ⎡0.65849⎤  ⎡-0.21651⎤  ⎡  1.308  ⎤  ⎡1.0915 ⎤  ⎡0.21651⎤  ⎡0.4330\n",
       "⎜⎢        ⎥  ⎢       ⎥  ⎢        ⎥  ⎢         ⎥  ⎢       ⎥  ⎢       ⎥  ⎢      \n",
       "⎜⎢0.43301 ⎥  ⎢ 1.183 ⎥  ⎢  0.75  ⎥  ⎢-0.066988⎥  ⎢0.68301⎥  ⎢ 0.25  ⎥  ⎢ -0.5 \n",
       "⎜⎢        ⎥, ⎢       ⎥, ⎢        ⎥, ⎢         ⎥, ⎢       ⎥, ⎢       ⎥, ⎢      \n",
       "⎜⎢-0.21651⎥  ⎢0.40849⎥  ⎢ 0.625  ⎥  ⎢ 0.53349 ⎥  ⎢1.1585 ⎥  ⎢ 1.375 ⎥  ⎢ 0.75 \n",
       "⎜⎢        ⎥  ⎢       ⎥  ⎢        ⎥  ⎢         ⎥  ⎢       ⎥  ⎢       ⎥  ⎢      \n",
       "⎝⎣  1.0   ⎦  ⎣  1.0  ⎦  ⎣  1.0   ⎦  ⎣   1.0   ⎦  ⎣  1.0  ⎦  ⎣  1.0  ⎦  ⎣  1.0 \n",
       "\n",
       "1⎤⎞\n",
       " ⎥⎟\n",
       " ⎥⎟\n",
       " ⎥⎟\n",
       " ⎥⎟\n",
       " ⎥⎟\n",
       " ⎦⎠"
      ]
     },
     "execution_count": 84,
     "metadata": {},
     "output_type": "execute_result"
    }
   ],
   "source": [
    "# Para d)\n",
    "HD = ( htmr(pi/6,\"y\")*htmr(pi/6,\"x\")*htmr(pi/6,\"z\") ).evalf(5)\n",
    "HD*A, HD*B, HD*C, HD*E, HD*F, HD*G, HD*H"
   ]
  },
  {
   "cell_type": "markdown",
   "metadata": {},
   "source": [
    "**5.** Suponga que tres sistemas de referencia $o_1 x_1 y_1 z_1$, $o_2 x_2 y_2 z_2$ y $o_3 x_3 y_3 z_3$ están \n",
    "dados y que además:\n",
    "\n",
    "$$\n",
    "R_2^1 = \\begin{bmatrix}\n",
    "1 & 0 & 0 \\\\\n",
    "0 & \\frac{1}{2} & \\frac{-\\sqrt{3}}{2} \\\\\n",
    "0 &  \\frac{\\sqrt{3}}{2} &  \\frac{1}{2} \\\\\n",
    "\\end{bmatrix}\n",
    "\\quad ; \\quad\n",
    "R_3^1 = \\begin{bmatrix}\n",
    "0 & 0 & -1 \\\\\n",
    "0 & 1 & 0 \\\\\n",
    "1 & 0 & 0 \\\\\n",
    "\\end{bmatrix}\n",
    "$$\n",
    "\n",
    "Calcule $R_3^2$.\n",
    "\n",
    "Se sabe que $R_3^1 = R_2^1 R_3^2 $, entonces $R_3^2 = (R_2^1)^{-1} R_3^1 $\n"
   ]
  },
  {
   "cell_type": "code",
   "execution_count": 91,
   "metadata": {},
   "outputs": [
    {
     "data": {
      "image/png": "[encoded data removed]",
      "text/latex": [
       "$$\\left[\\begin{matrix}0 & 0 & -1\\\\\\frac{\\sqrt{3}}{2} & \\frac{1}{2} & 0\\\\\\frac{1}{2} & - \\frac{\\sqrt{3}}{2} & 0\\end{matrix}\\right]$$"
      ],
      "text/plain": [
       "⎡ 0    0    -1⎤\n",
       "⎢             ⎥\n",
       "⎢√3           ⎥\n",
       "⎢──   1/2   0 ⎥\n",
       "⎢2            ⎥\n",
       "⎢             ⎥\n",
       "⎢     -√3     ⎥\n",
       "⎢1/2  ────  0 ⎥\n",
       "⎣      2      ⎦"
      ]
     },
     "execution_count": 91,
     "metadata": {},
     "output_type": "execute_result"
    }
   ],
   "source": [
    "R21 = htmr(pi/3,'X')[:3,:3]\n",
    "R31 = htmr(-pi/2,\"y\")[:3,:3]\n",
    "\n",
    "R21.inv()*R31"
   ]
  },
  {
   "cell_type": "markdown",
   "metadata": {},
   "source": [
    "<hr>\n",
    "\n",
    "**6.** Muestre que para una matriz de rotación se cumple la propiedad $R^{-1} = R^T $. Utilice la matriz de rotación alrededor \n",
    "de $x$ para comprobarlo. Suponga un ángulo $\\theta$ de rotación y proceda mediante un método convencional para el cálculo de \n",
    "la matriz inversa y compare con lo obtenido transponiendo la matriz de rotación.\n"
   ]
  },
  {
   "cell_type": "code",
   "execution_count": 93,
   "metadata": {},
   "outputs": [
    {
     "data": {
      "image/png": "[encoded data removed]",
      "text/latex": [
       "$$\\left ( \\left[\\begin{matrix}1 & 0 & 0 & 0\\\\0 & \\cos{\\left (\\theta \\right )} & \\sin{\\left (\\theta \\right )} & 0\\\\0 & - \\sin{\\left (\\theta \\right )} & \\cos{\\left (\\theta \\right )} & 0\\\\0 & 0 & 0 & 1\\end{matrix}\\right], \\quad \\left[\\begin{matrix}1 & 0 & 0 & 0\\\\0 & \\cos{\\left (\\theta \\right )} & \\sin{\\left (\\theta \\right )} & 0\\\\0 & - \\sin{\\left (\\theta \\right )} & \\cos{\\left (\\theta \\right )} & 0\\\\0 & 0 & 0 & 1\\end{matrix}\\right]\\right )$$"
      ],
      "text/plain": [
       "⎛⎡1       0             0       0⎤  ⎡1       0             0       0⎤⎞\n",
       "⎜⎢                               ⎥  ⎢                               ⎥⎟\n",
       "⎜⎢0  cos(\\theta)   sin(\\theta)  0⎥  ⎢0  cos(\\theta)   sin(\\theta)  0⎥⎟\n",
       "⎜⎢                               ⎥, ⎢                               ⎥⎟\n",
       "⎜⎢0  -sin(\\theta)  cos(\\theta)  0⎥  ⎢0  -sin(\\theta)  cos(\\theta)  0⎥⎟\n",
       "⎜⎢                               ⎥  ⎢                               ⎥⎟\n",
       "⎝⎣0       0             0       1⎦  ⎣0       0             0       1⎦⎠"
      ]
     },
     "execution_count": 93,
     "metadata": {},
     "output_type": "execute_result"
    }
   ],
   "source": [
    "R = htmr(theta,'x')\n",
    "R.T, simplify(R.inv())"
   ]
  },
  {
   "cell_type": "markdown",
   "metadata": {},
   "source": [
    "<hr>\n",
    "**7.** Calcule la matriz de rotación correspondiente al conjunto de ángulos de Euler \\{ $\\pi/2$, $\\pi/3$, $\\pi/4$ \\}. \n",
    "¿Cuál es la dirección del eje $x_1$ respecto al sistema base?. "
   ]
  },
  {
   "cell_type": "code",
   "execution_count": 100,
   "metadata": {},
   "outputs": [
    {
     "data": {
      "image/png": "[encoded data removed]",
      "text/latex": [
       "$$\\left[\\begin{matrix}-0.35355 & -0.35355 & 0.86602 & 0\\\\0.70711 & -0.70711 & 0 & 0\\\\0.61237 & 0.61237 & 0.5 & 0\\\\0 & 0 & 0 & 1.0\\end{matrix}\\right]$$"
      ],
      "text/plain": [
       "⎡-0.35355  -0.35355  0.86602   0 ⎤\n",
       "⎢                                ⎥\n",
       "⎢0.70711   -0.70711     0      0 ⎥\n",
       "⎢                                ⎥\n",
       "⎢0.61237   0.61237     0.5     0 ⎥\n",
       "⎢                                ⎥\n",
       "⎣   0         0         0     1.0⎦"
      ]
     },
     "execution_count": 100,
     "metadata": {},
     "output_type": "execute_result"
    }
   ],
   "source": [
    "(htmr(pi/2,\"z\")*htmr(pi/3,\"x\")*htmr(pi/4,\"z\")).evalf(5)"
   ]
  },
  {
   "cell_type": "code",
   "execution_count": 101,
   "metadata": {},
   "outputs": [
    {
     "data": {
      "image/png": "[encoded data removed]",
      "text/latex": [
       "$$\\left[\\begin{matrix}-0.35355\\\\0.70711\\\\0.61237\\end{matrix}\\right]$$"
      ],
      "text/plain": [
       "⎡-0.35355⎤\n",
       "⎢        ⎥\n",
       "⎢0.70711 ⎥\n",
       "⎢        ⎥\n",
       "⎣0.61237 ⎦"
      ]
     },
     "execution_count": 101,
     "metadata": {},
     "output_type": "execute_result"
    }
   ],
   "source": [
    "# Dirección del eje x1\n",
    "_[:3,0]"
   ]
  },
  {
   "cell_type": "markdown",
   "metadata": {},
   "source": [
    "<hr>\n",
    "**8.** Calcule la matriz de rotación correspondiente al conjunto de ángulos de Euler ZYZ."
   ]
  },
  {
   "cell_type": "code",
   "execution_count": 102,
   "metadata": {},
   "outputs": [
    {
     "data": {
      "image/png": "[encoded data removed]",
      "text/latex": [
       "$$\\left[\\begin{matrix}- \\sin{\\left (\\phi \\right )} \\sin{\\left (\\psi \\right )} + \\cos{\\left (\\phi \\right )} \\cos{\\left (\\psi \\right )} \\cos{\\left (\\theta \\right )} & - \\sin{\\left (\\phi \\right )} \\cos{\\left (\\psi \\right )} - \\sin{\\left (\\psi \\right )} \\cos{\\left (\\phi \\right )} \\cos{\\left (\\theta \\right )} & \\sin{\\left (\\theta \\right )} \\cos{\\left (\\phi \\right )} & 0\\\\\\sin{\\left (\\phi \\right )} \\cos{\\left (\\psi \\right )} \\cos{\\left (\\theta \\right )} + \\sin{\\left (\\psi \\right )} \\cos{\\left (\\phi \\right )} & - \\sin{\\left (\\phi \\right )} \\sin{\\left (\\psi \\right )} \\cos{\\left (\\theta \\right )} + \\cos{\\left (\\phi \\right )} \\cos{\\left (\\psi \\right )} & \\sin{\\left (\\phi \\right )} \\sin{\\left (\\theta \\right )} & 0\\\\- \\sin{\\left (\\theta \\right )} \\cos{\\left (\\psi \\right )} & \\sin{\\left (\\psi \\right )} \\sin{\\left (\\theta \\right )} & \\cos{\\left (\\theta \\right )} & 0\\\\0 & 0 & 0 & 1\\end{matrix}\\right]$$"
      ],
      "text/plain": [
       "⎡-sin(\\phi)⋅sin(\\psi) + cos(\\phi)⋅cos(\\psi)⋅cos(\\theta)  -sin(\\phi)⋅cos(\\psi) \n",
       "⎢                                                                             \n",
       "⎢sin(\\phi)⋅cos(\\psi)⋅cos(\\theta) + sin(\\psi)⋅cos(\\phi)   -sin(\\phi)⋅sin(\\psi)⋅\n",
       "⎢                                                                             \n",
       "⎢                -sin(\\theta)⋅cos(\\psi)                                  sin(\\\n",
       "⎢                                                                             \n",
       "⎣                          0                                                  \n",
       "\n",
       "- sin(\\psi)⋅cos(\\phi)⋅cos(\\theta)  sin(\\theta)⋅cos(\\phi)  0⎤\n",
       "                                                           ⎥\n",
       "cos(\\theta) + cos(\\phi)⋅cos(\\psi)  sin(\\phi)⋅sin(\\theta)  0⎥\n",
       "                                                           ⎥\n",
       "psi)⋅sin(\\theta)                        cos(\\theta)       0⎥\n",
       "                                                           ⎥\n",
       "     0                                       0            1⎦"
      ]
     },
     "execution_count": 102,
     "metadata": {},
     "output_type": "execute_result"
    }
   ],
   "source": [
    "phi,theta,psi = symbols('\\\\phi,\\\\theta,\\\\psi')\n",
    "htmr(phi,'z')*htmr(theta,'y')*htmr(psi,'z')"
   ]
  },
  {
   "cell_type": "markdown",
   "metadata": {},
   "source": [
    "<hr>\n",
    "**9.** Calcule la matriz de transformación homogénea que representa una traslación de 3 unidades \n",
    "a lo largo del eje $x$ seguida por una rotación de $\\frac{\\pi}{2}$ alrededor del eje $z$ actual \n",
    "seguida por una traslación de 1 unidad a lo largo del eje $y$ fijo. Esquematice el sistema \n",
    "de referencia resultante."
   ]
  },
  {
   "cell_type": "code",
   "execution_count": 103,
   "metadata": {},
   "outputs": [
    {
     "data": {
      "image/png": "[encoded data removed]",
      "text/latex": [
       "$$\\left[\\begin{matrix}0 & -1 & 0 & 3\\\\1 & 0 & 0 & 1\\\\0 & 0 & 1 & 0\\\\0 & 0 & 0 & 1\\end{matrix}\\right]$$"
      ],
      "text/plain": [
       "⎡0  -1  0  3⎤\n",
       "⎢           ⎥\n",
       "⎢1  0   0  1⎥\n",
       "⎢           ⎥\n",
       "⎢0  0   1  0⎥\n",
       "⎢           ⎥\n",
       "⎣0  0   0  1⎦"
      ]
     },
     "execution_count": 103,
     "metadata": {},
     "output_type": "execute_result"
    }
   ],
   "source": [
    "htmt(0,1,0)*htmt(3,0,0)*htmr(pi/2,\"z\")"
   ]
  },
  {
   "cell_type": "markdown",
   "metadata": {},
   "source": [
    "<hr>\n",
    "**10.** Calcule la matriz de rotación que representa un *roll* de $\\pi/4$ seguido por un \n",
    "*yaw* de $\\pi/2$ y finalmente por un *pitch* de $\\pi/2$"
   ]
  },
  {
   "cell_type": "markdown",
   "metadata": {},
   "source": [
    "**11.** La siguiente matriz de transformación homogénea se obtiene de realizar una rotación alrededor de $w$ seguida por \n",
    "una traslación en el plano $uv$.\n",
    "\n",
    "$$\n",
    "T = \\begin{bmatrix} 0.7071 & -0.7071 & 0 & 3.536\\\\0.7071 & 0.7071 & 0 & 10.61\\\\0 & 0 & 1.0 & 0\\\\0 & 0 & 0 & 1.0 \\end{bmatrix}\n",
    "$$\n",
    "\n",
    "Determine el ángulo que se ha rotado, así como las componentes de traslación correspondientes."
   ]
  },
  {
   "cell_type": "code",
   "execution_count": null,
   "metadata": {},
   "outputs": [],
   "source": []
  },
  {
   "cell_type": "markdown",
   "metadata": {},
   "source": [
    "**12.** Sea $H$ una matriz de transformación homogénea de la forma:\n",
    "\n",
    "$$ H = \\begin{bmatrix}\n",
    "\\vec{R} & \\vec{d} \\\\\n",
    "\\vec{0} & 1 \\\\\n",
    "\\end{bmatrix} $$\n",
    "\n",
    "Entonces su inversa viene dada por:\n",
    "\n",
    "$$ H^{-1} = \\begin{bmatrix}\n",
    "\\vec{R}^T & -\\vec{R}^T\\vec{d} \\\\\n",
    "\\vec{0} & 1 \\\\\n",
    "\\end{bmatrix} $$\n",
    "\n",
    "Compruebe lo anterior utilizando un ejemplo demostrativo."
   ]
  },
  {
   "cell_type": "code",
   "execution_count": 112,
   "metadata": {},
   "outputs": [
    {
     "data": {
      "image/png": "[encoded data removed]",
      "text/latex": [
       "$$\\left[\\begin{matrix}\\cos{\\left (\\phi \\right )} \\cos{\\left (\\psi \\right )} & - \\sin{\\left (\\psi \\right )} \\cos{\\left (\\phi \\right )} & \\sin{\\left (\\phi \\right )} & x \\cos{\\left (\\phi \\right )} + z \\sin{\\left (\\phi \\right )}\\\\\\sin{\\left (\\psi \\right )} & \\cos{\\left (\\psi \\right )} & 0 & y\\\\- \\sin{\\left (\\phi \\right )} \\cos{\\left (\\psi \\right )} & \\sin{\\left (\\phi \\right )} \\sin{\\left (\\psi \\right )} & \\cos{\\left (\\phi \\right )} & - x \\sin{\\left (\\phi \\right )} + z \\cos{\\left (\\phi \\right )}\\\\0 & 0 & 0 & 1\\end{matrix}\\right]$$"
      ],
      "text/plain": [
       "⎡cos(\\phi)⋅cos(\\psi)   -sin(\\psi)⋅cos(\\phi)  sin(\\phi)  x⋅cos(\\phi) + z⋅sin(\\p\n",
       "⎢                                                                             \n",
       "⎢     sin(\\psi)             cos(\\psi)            0                  y         \n",
       "⎢                                                                             \n",
       "⎢-sin(\\phi)⋅cos(\\psi)  sin(\\phi)⋅sin(\\psi)   cos(\\phi)  -x⋅sin(\\phi) + z⋅cos(\\\n",
       "⎢                                                                             \n",
       "⎣         0                     0                0                  1         \n",
       "\n",
       "hi) ⎤\n",
       "    ⎥\n",
       "    ⎥\n",
       "    ⎥\n",
       "phi)⎥\n",
       "    ⎥\n",
       "    ⎦"
      ]
     },
     "execution_count": 112,
     "metadata": {},
     "output_type": "execute_result"
    }
   ],
   "source": [
    "# Sea H\n",
    "H = htmr(phi,'y')*htmt(x,y,z)*htmr(psi)\n",
    "H"
   ]
  },
  {
   "cell_type": "code",
   "execution_count": 113,
   "metadata": {},
   "outputs": [
    {
     "data": {
      "image/png": "[encoded data removed]",
      "text/latex": [
       "$$\\left ( \\left[\\begin{matrix}\\cos{\\left (\\phi \\right )} \\cos{\\left (\\psi \\right )} & \\sin{\\left (\\psi \\right )} & - \\sin{\\left (\\phi \\right )} \\cos{\\left (\\psi \\right )}\\\\- \\sin{\\left (\\psi \\right )} \\cos{\\left (\\phi \\right )} & \\cos{\\left (\\psi \\right )} & \\sin{\\left (\\phi \\right )} \\sin{\\left (\\psi \\right )}\\\\\\sin{\\left (\\phi \\right )} & 0 & \\cos{\\left (\\phi \\right )}\\end{matrix}\\right], \\quad \\left[\\begin{matrix}- x \\cos{\\left (\\psi \\right )} - y \\sin{\\left (\\psi \\right )}\\\\x \\sin{\\left (\\psi \\right )} - y \\cos{\\left (\\psi \\right )}\\\\- z\\end{matrix}\\right]\\right )$$"
      ],
      "text/plain": [
       "⎛⎡cos(\\phi)⋅cos(\\psi)   sin(\\psi)  -sin(\\phi)⋅cos(\\psi)⎤  ⎡-x⋅cos(\\psi) - y⋅si\n",
       "⎜⎢                                                     ⎥  ⎢                   \n",
       "⎜⎢-sin(\\psi)⋅cos(\\phi)  cos(\\psi)  sin(\\phi)⋅sin(\\psi) ⎥, ⎢x⋅sin(\\psi) - y⋅cos\n",
       "⎜⎢                                                     ⎥  ⎢                   \n",
       "⎝⎣     sin(\\phi)            0           cos(\\phi)      ⎦  ⎣            -z     \n",
       "\n",
       "n(\\psi)⎤⎞\n",
       "       ⎥⎟\n",
       "(\\psi) ⎥⎟\n",
       "       ⎥⎟\n",
       "       ⎦⎠"
      ]
     },
     "execution_count": 113,
     "metadata": {},
     "output_type": "execute_result"
    }
   ],
   "source": [
    "# Con fórmula\n",
    "(H[:3,:3]).T, -simplify(((H[:3,:3]).T)*H[:3,3])"
   ]
  },
  {
   "cell_type": "code",
   "execution_count": 114,
   "metadata": {},
   "outputs": [
    {
     "data": {
      "image/png": "[encoded data removed]",
      "text/latex": [
       "$$\\left[\\begin{matrix}\\cos{\\left (\\phi \\right )} \\cos{\\left (\\psi \\right )} & \\sin{\\left (\\psi \\right )} & - \\sin{\\left (\\phi \\right )} \\cos{\\left (\\psi \\right )} & - x \\cos{\\left (\\psi \\right )} - y \\sin{\\left (\\psi \\right )}\\\\- \\sin{\\left (\\psi \\right )} \\cos{\\left (\\phi \\right )} & \\cos{\\left (\\psi \\right )} & \\sin{\\left (\\phi \\right )} \\sin{\\left (\\psi \\right )} & x \\sin{\\left (\\psi \\right )} - y \\cos{\\left (\\psi \\right )}\\\\\\sin{\\left (\\phi \\right )} & 0 & \\cos{\\left (\\phi \\right )} & - z\\\\0 & 0 & 0 & 1\\end{matrix}\\right]$$"
      ],
      "text/plain": [
       "⎡cos(\\phi)⋅cos(\\psi)   sin(\\psi)  -sin(\\phi)⋅cos(\\psi)  -x⋅cos(\\psi) - y⋅sin(\\\n",
       "⎢                                                                             \n",
       "⎢-sin(\\psi)⋅cos(\\phi)  cos(\\psi)  sin(\\phi)⋅sin(\\psi)   x⋅sin(\\psi) - y⋅cos(\\p\n",
       "⎢                                                                             \n",
       "⎢     sin(\\phi)            0           cos(\\phi)                    -z        \n",
       "⎢                                                                             \n",
       "⎣         0                0               0                        1         \n",
       "\n",
       "psi)⎤\n",
       "    ⎥\n",
       "si) ⎥\n",
       "    ⎥\n",
       "    ⎥\n",
       "    ⎥\n",
       "    ⎦"
      ]
     },
     "execution_count": 114,
     "metadata": {},
     "output_type": "execute_result"
    }
   ],
   "source": [
    "# Inversa\n",
    "simplify(H.inv())"
   ]
  },
  {
   "cell_type": "markdown",
   "metadata": {},
   "source": [
    "**13.** Para el conjunto de sistemas de referencia mostrados en la figura calcule: $T_1^0, T_2^0, T_2^1, T_0^1$."
   ]
  },
  {
   "cell_type": "code",
   "execution_count": 118,
   "metadata": {},
   "outputs": [
    {
     "data": {
      "image/png": "[encoded data removed]",
      "text/latex": [
       "$$\\left ( \\left[\\begin{matrix}0.93969 & -0.34202 & 0 & 112.76\\\\0.34202 & 0.93969 & 0 & 41.042\\\\0 & 0 & 1.0 & 0\\\\0 & 0 & 0 & 1.0\\end{matrix}\\right], \\quad \\left[\\begin{matrix}0.86602 & -0.5 & 0 & -33.397\\\\0.5 & 0.86602 & 0 & 50.0\\\\0 & 0 & 1.0 & 0\\\\0 & 0 & 0 & 1.0\\end{matrix}\\right], \\quad \\left[\\begin{matrix}0.64279 & -0.76604 & 0 & 64.279\\\\0.76604 & 0.64279 & 0 & 76.604\\\\0 & 0 & 1.0 & 0\\\\0 & 0 & 0 & 1.0\\end{matrix}\\right], \\quad \\left[\\begin{matrix}0.64279 & 0.76604 & 0 & -100.0\\\\-0.76604 & 0.64279 & 0 & 0\\\\0 & 0 & 1.0 & 0\\\\0 & 0 & 0 & 1.0\\end{matrix}\\right]\\right )$$"
      ],
      "text/plain": [
       "⎛⎡0.93969  -0.34202   0   112.76⎤  ⎡0.86602   -0.5     0   -33.397⎤  ⎡0.64279 \n",
       "⎜⎢                              ⎥  ⎢                              ⎥  ⎢        \n",
       "⎜⎢0.34202  0.93969    0   41.042⎥  ⎢  0.5    0.86602   0    50.0  ⎥  ⎢0.76604 \n",
       "⎜⎢                              ⎥, ⎢                              ⎥, ⎢        \n",
       "⎜⎢   0        0      1.0    0   ⎥  ⎢   0        0     1.0     0   ⎥  ⎢   0    \n",
       "⎜⎢                              ⎥  ⎢                              ⎥  ⎢        \n",
       "⎝⎣   0        0       0    1.0  ⎦  ⎣   0        0      0     1.0  ⎦  ⎣   0    \n",
       "\n",
       " -0.76604   0   64.279⎤  ⎡0.64279   0.76604   0   -100.0⎤⎞\n",
       "                      ⎥  ⎢                              ⎥⎟\n",
       " 0.64279    0   76.604⎥  ⎢-0.76604  0.64279   0     0   ⎥⎟\n",
       "                      ⎥, ⎢                              ⎥⎟\n",
       "    0      1.0    0   ⎥  ⎢   0         0     1.0    0   ⎥⎟\n",
       "                      ⎥  ⎢                              ⎥⎟\n",
       "    0       0    1.0  ⎦  ⎣   0         0      0    1.0  ⎦⎠"
      ]
     },
     "execution_count": 118,
     "metadata": {},
     "output_type": "execute_result"
    }
   ],
   "source": [
    "t1 = 20*pi/180\n",
    "t2 = 30*pi/180\n",
    "T10 = htmr(t1)*htmt(120,0,0)\n",
    "T20 = htmr(t1+t2)*htmt(100,0,0)\n",
    "# T20 = T10*T21  ->  T21 = (T10)^{-1} T20\n",
    "T21 = T10.inv()*T20\n",
    "T02 = T20.inv()\n",
    "T10.evalf(5), T21.evalf(5), T20.evalf(5), T02.evalf(5)"
   ]
  },
  {
   "cell_type": "code",
   "execution_count": null,
   "metadata": {},
   "outputs": [],
   "source": []
  },
  {
   "cell_type": "code",
   "execution_count": null,
   "metadata": {},
   "outputs": [],
   "source": []
  }
 ],
 "metadata": {
  "kernelspec": {
   "display_name": "Python 3",
   "language": "python",
   "name": "python3"
  },
  "language_info": {
   "codemirror_mode": {
    "name": "ipython",
    "version": 3
   },
   "file_extension": ".py",
   "mimetype": "text/x-python",
   "name": "python",
   "nbconvert_exporter": "python",
   "pygments_lexer": "ipython3",
   "version": "3.6.3"
  }
 },
 "nbformat": 4,
 "nbformat_minor": 2
}
