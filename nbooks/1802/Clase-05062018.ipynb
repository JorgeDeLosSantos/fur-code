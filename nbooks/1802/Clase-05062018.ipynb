{
 "cells": [
  {
   "cell_type": "code",
   "execution_count": 3,
   "metadata": {},
   "outputs": [],
   "source": [
    "from sympy import *\n",
    "from sympy.matrices import *\n",
    "import matplotlib.pyplot as plt\n",
    "%matplotlib inline\n",
    "init_printing(use_latex=true)"
   ]
  },
  {
   "cell_type": "code",
   "execution_count": 8,
   "metadata": {},
   "outputs": [],
   "source": [
    "a,b = symbols(\"a,b\")\n",
    "A = Matrix([[a,b],[b,a]])\n",
    "B = Matrix([[a,b],[b,a]])"
   ]
  },
  {
   "cell_type": "code",
   "execution_count": 9,
   "metadata": {},
   "outputs": [
    {
     "data": {
      "image/png": "[encoded data removed]",
      "text/latex": [
       "$$\\left[\\begin{matrix}a^{2} + b^{2} & 2 a b\\\\2 a b & a^{2} + b^{2}\\end{matrix}\\right]$$"
      ],
      "text/plain": [
       "⎡ 2    2         ⎤\n",
       "⎢a  + b    2⋅a⋅b ⎥\n",
       "⎢                ⎥\n",
       "⎢          2    2⎥\n",
       "⎣ 2⋅a⋅b   a  + b ⎦"
      ]
     },
     "execution_count": 9,
     "metadata": {},
     "output_type": "execute_result"
    }
   ],
   "source": [
    "A*B"
   ]
  },
  {
   "cell_type": "code",
   "execution_count": 28,
   "metadata": {},
   "outputs": [],
   "source": [
    "def mthrz(eje,t):\n",
    "    M = Matrix([[cos(t), -sin(t), 0, 0],\n",
    "               [sin(t), cos(t), 0, 0],\n",
    "               [0, 0, 1, 0],\n",
    "               [0,0,0,1]])\n",
    "    return M\n",
    "\n",
    "def mthd(dx,dy,dz):\n",
    "    M = Matrix([[1,0,0,dx],\n",
    "                [0,1,0,dy],\n",
    "                [0,0,1,dz],\n",
    "                [0,0,0,1]])\n",
    "    return M\n",
    "\n",
    "def draw_uv(T):\n",
    "    O = T[:3,3]\n",
    "    U = T[:3,0]\n",
    "    V = T[:3,1]\n",
    "    plt.quiver(float(O[0]), float(O[1]), float(U[0]), float(U[1]), color=\"r\")\n",
    "    plt.quiver(float(O[0]), float(O[1]), float(V[0]), float(V[1]), color=\"g\")"
   ]
  },
  {
   "cell_type": "code",
   "execution_count": 29,
   "metadata": {},
   "outputs": [
    {
     "data": {
      "image/png": "[encoded data removed]",
      "text/latex": [
       "$$\\left[\\begin{matrix}\\cos{\\left (a \\right )} & - \\sin{\\left (a \\right )} & 0 & b \\cos{\\left (a \\right )}\\\\\\sin{\\left (a \\right )} & \\cos{\\left (a \\right )} & 0 & b \\sin{\\left (a \\right )}\\\\0 & 0 & 1 & 0\\\\0 & 0 & 0 & 1\\end{matrix}\\right]$$"
      ],
      "text/plain": [
       "⎡cos(a)  -sin(a)  0  b⋅cos(a)⎤\n",
       "⎢                            ⎥\n",
       "⎢sin(a)  cos(a)   0  b⋅sin(a)⎥\n",
       "⎢                            ⎥\n",
       "⎢  0        0     1     0    ⎥\n",
       "⎢                            ⎥\n",
       "⎣  0        0     0     1    ⎦"
      ]
     },
     "execution_count": 29,
     "metadata": {},
     "output_type": "execute_result"
    }
   ],
   "source": [
    "mthrz(a)*mthd(b,0,0)"
   ]
  },
  {
   "cell_type": "markdown",
   "metadata": {},
   "source": [
    "## Representación de sólidos en el plano"
   ]
  },
  {
   "cell_type": "code",
   "execution_count": 33,
   "metadata": {},
   "outputs": [
    {
     "data": {
      "image/png": "[encoded data removed]",
      "text/plain": [
       "<matplotlib.figure.Figure at 0x12dbd5f8>"
      ]
     },
     "metadata": {},
     "output_type": "display_data"
    }
   ],
   "source": [
    "A = Matrix([0,0,0,1])\n",
    "B = Matrix([2,0,0,1])\n",
    "C = Matrix([0,1,0,1])\n",
    "H = mthrz(pi)*mthd(5,5,0)\n",
    "\n",
    "A1 = H*A\n",
    "B1 = H*B\n",
    "C1 = H*C\n",
    "\n",
    "plt.fill([A[0], B[0], C[0]], [A[1], B[1], C[1]], \"y\")\n",
    "plt.fill([A1[0], B1[0], C1[0]], [A1[1], B1[1], C1[1]], \"c\")\n",
    "draw_uv(eye(4))\n",
    "draw_uv(H)\n",
    "plt.axis('equal');"
   ]
  },
  {
   "cell_type": "code",
   "execution_count": null,
   "metadata": {},
   "outputs": [],
   "source": []
  }
 ],
 "metadata": {
  "kernelspec": {
   "display_name": "Python 3",
   "language": "python",
   "name": "python3"
  },
  "language_info": {
   "codemirror_mode": {
    "name": "ipython",
    "version": 3
   },
   "file_extension": ".py",
   "mimetype": "text/x-python",
   "name": "python",
   "nbconvert_exporter": "python",
   "pygments_lexer": "ipython3",
   "version": "3.6.5"
  }
 },
 "nbformat": 4,
 "nbformat_minor": 2
}
