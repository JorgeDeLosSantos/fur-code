{
 "cells": [
  {
   "cell_type": "code",
   "execution_count": 8,
   "metadata": {},
   "outputs": [],
   "source": [
    "from sympy import *\n",
    "from sympy.matrices import *\n",
    "init_printing(use_latex=true)\n",
    "import operator, functools\n",
    "\n",
    "t1,t2,t3,t4,t5,t6,l1,l2,l3,d1,d2,d3,d4,d5,d6 = symbols('\\\\theta_1, \\\\theta_2, \\\\theta_3, \\\\theta_4, \\\\theta_5, \\\\theta_6, l_1,l_2,l_3,d_1,d_2,d_3,d_4,d_5,d_6')\n",
    "x,y,z = symbols('x,y,z')\n",
    "\n",
    "def dhs(a,alpha,d,theta):\n",
    "    M = Matrix([[cos(theta),-sin(theta)*cos(alpha),sin(theta)*sin(alpha),a*cos(theta)],\n",
    "                  [sin(theta),cos(theta)*cos(alpha),-cos(theta)*sin(alpha),a*sin(theta)],\n",
    "                  [0,sin(alpha),cos(alpha),d],\n",
    "                  [0,0,0,1]])\n",
    "    return M\n",
    "\n",
    "class Manipulator(object):\n",
    "    def __init__(self,*args):\n",
    "        self.Ts = []\n",
    "        self.type = []\n",
    "        for k in args:\n",
    "            self.Ts.append(dhs(k[0],k[1],k[2],k[3]))\n",
    "            if len(k)>4:\n",
    "                self.type.append(k[4])\n",
    "            else:\n",
    "                self.type.append('r')\n",
    "        self.dof = len(args)\n",
    "    \n",
    "    def z(self,i):\n",
    "        if i == 0: return Matrix([[0],[0],[1]])\n",
    "        MTH = eye(4)\n",
    "        for k in range(i):\n",
    "            MTH = MTH*self.Ts[k]\n",
    "        return MTH[:3,2]\n",
    "    \n",
    "    def p(self,i):\n",
    "        if i == 0: return Matrix([[0],[0],[0]])\n",
    "        MTH = eye(4)\n",
    "        for k in range(i):\n",
    "            MTH = MTH*self.Ts[k]\n",
    "        return MTH[:3,3]\n",
    "    \n",
    "    @property\n",
    "    def J(self):\n",
    "        n = self.dof\n",
    "        M_ = zeros(6,n)\n",
    "        for i in range(self.dof):\n",
    "            if self.type[i]=='r':\n",
    "                jp = self.z(i).cross(self.p(n) - self.p(i))\n",
    "                jo = self.z(i)\n",
    "            else:\n",
    "                jp = self.z(i)\n",
    "                jo = zeros(3,1)\n",
    "            jp = jp.col_join(jo)\n",
    "            M_[:,i] = jp\n",
    "        return simplify(M_)\n",
    "    \n",
    "    @property\n",
    "    def T(self):\n",
    "        return simplify(functools.reduce(operator.mul, self.Ts))"
   ]
  },
  {
   "cell_type": "code",
   "execution_count": 9,
   "metadata": {},
   "outputs": [],
   "source": [
    "RRR = Manipulator((0,pi/2,d1,t1),(l2,0,0,t2),(l3,0,0,t3)) # RRR\n",
    "PPP = Manipulator((0,pi/2,d1,0,'p'), (0,pi/2,d2,pi/2,'p'), (0,0,d3,0,'p')) # PPP"
   ]
  },
  {
   "cell_type": "code",
   "execution_count": 11,
   "metadata": {},
   "outputs": [
    {
     "data": {
      "image/png": "[encoded data removed]",
      "text/latex": [
       "$$\\left[\\begin{matrix}\\cos{\\left (\\theta_1 \\right )} \\cos{\\left (\\theta_2 \\right )} & - \\sin{\\left (\\theta_1 \\right )} & \\sin{\\left (\\theta_2 \\right )} \\cos{\\left (\\theta_1 \\right )} & - d_{2} \\sin{\\left (\\theta_1 \\right )} + d_{3} \\sin{\\left (\\theta_2 \\right )} \\cos{\\left (\\theta_1 \\right )}\\\\\\sin{\\left (\\theta_1 \\right )} \\cos{\\left (\\theta_2 \\right )} & \\cos{\\left (\\theta_1 \\right )} & \\sin{\\left (\\theta_1 \\right )} \\sin{\\left (\\theta_2 \\right )} & d_{2} \\cos{\\left (\\theta_1 \\right )} + d_{3} \\sin{\\left (\\theta_1 \\right )} \\sin{\\left (\\theta_2 \\right )}\\\\- \\sin{\\left (\\theta_2 \\right )} & 0 & \\cos{\\left (\\theta_2 \\right )} & d_{3} \\cos{\\left (\\theta_2 \\right )}\\\\0 & 0 & 0 & 1\\end{matrix}\\right]$$"
      ],
      "text/plain": [
       "⎡cos(\\theta₁)⋅cos(\\theta₂)  -sin(\\theta₁)  sin(\\theta₂)⋅cos(\\theta₁)  -d₂⋅sin(\n",
       "⎢                                                                             \n",
       "⎢sin(\\theta₁)⋅cos(\\theta₂)  cos(\\theta₁)   sin(\\theta₁)⋅sin(\\theta₂)  d₂⋅cos(\\\n",
       "⎢                                                                             \n",
       "⎢      -sin(\\theta₂)              0              cos(\\theta₂)                 \n",
       "⎢                                                                             \n",
       "⎣            0                    0                    0                      \n",
       "\n",
       "\\theta₁) + d₃⋅sin(\\theta₂)⋅cos(\\theta₁)⎤\n",
       "                                       ⎥\n",
       "theta₁) + d₃⋅sin(\\theta₁)⋅sin(\\theta₂) ⎥\n",
       "                                       ⎥\n",
       "        d₃⋅cos(\\theta₂)                ⎥\n",
       "                                       ⎥\n",
       "               1                       ⎦"
      ]
     },
     "execution_count": 11,
     "metadata": {},
     "output_type": "execute_result"
    }
   ],
   "source": [
    "SM = Manipulator((0,-pi/2,0,t1),(0,pi/2,d2,t2),(0,0,d3,0,'p')) # RRP\n",
    "SM.T"
   ]
  },
  {
   "cell_type": "code",
   "execution_count": 14,
   "metadata": {
    "scrolled": true
   },
   "outputs": [
    {
     "data": {
      "image/png": "[encoded data removed]",
      "text/latex": [
       "$$\\left[\\begin{matrix}- l_{2} \\sin{\\left (\\theta_1 \\right )} \\cos{\\left (\\theta_2 \\right )} & - l_{2} \\sin{\\left (\\theta_2 \\right )} \\cos{\\left (\\theta_1 \\right )}\\\\l_{2} \\cos{\\left (\\theta_1 \\right )} \\cos{\\left (\\theta_2 \\right )} & - l_{2} \\sin{\\left (\\theta_1 \\right )} \\sin{\\left (\\theta_2 \\right )}\\\\0 & l_{2} \\cos{\\left (\\theta_2 \\right )}\\\\0 & \\sin{\\left (\\theta_1 \\right )}\\\\0 & - \\cos{\\left (\\theta_1 \\right )}\\\\1 & 0\\end{matrix}\\right]$$"
      ],
      "text/plain": [
       "⎡-l₂⋅sin(\\theta₁)⋅cos(\\theta₂)  -l₂⋅sin(\\theta₂)⋅cos(\\theta₁)⎤\n",
       "⎢                                                            ⎥\n",
       "⎢l₂⋅cos(\\theta₁)⋅cos(\\theta₂)   -l₂⋅sin(\\theta₁)⋅sin(\\theta₂)⎥\n",
       "⎢                                                            ⎥\n",
       "⎢              0                       l₂⋅cos(\\theta₂)       ⎥\n",
       "⎢                                                            ⎥\n",
       "⎢              0                        sin(\\theta₁)         ⎥\n",
       "⎢                                                            ⎥\n",
       "⎢              0                        -cos(\\theta₁)        ⎥\n",
       "⎢                                                            ⎥\n",
       "⎣              1                              0              ⎦"
      ]
     },
     "execution_count": 14,
     "metadata": {},
     "output_type": "execute_result"
    }
   ],
   "source": [
    "RR = Manipulator((0,pi/2,0,t1),(l2,0,0,t2)) # RR\n",
    "J2R = RR.J\n",
    "J2R"
   ]
  },
  {
   "cell_type": "code",
   "execution_count": 13,
   "metadata": {},
   "outputs": [
    {
     "data": {
      "image/png": "[encoded data removed]",
      "text/latex": [
       "$$\\left ( \\left[\\begin{matrix}- l_{2} \\sin{\\left (\\theta_1 \\right )} \\cos{\\left (\\theta_2 \\right )} & - l_{2} \\sin{\\left (\\theta_2 \\right )} \\cos{\\left (\\theta_1 \\right )}\\\\l_{2} \\cos{\\left (\\theta_1 \\right )} \\cos{\\left (\\theta_2 \\right )} & - l_{2} \\sin{\\left (\\theta_1 \\right )} \\sin{\\left (\\theta_2 \\right )}\\\\0 & l_{2} \\cos{\\left (\\theta_2 \\right )}\\\\0 & \\sin{\\left (\\theta_1 \\right )}\\\\0 & - \\cos{\\left (\\theta_1 \\right )}\\\\1 & 0\\end{matrix}\\right], \\quad \\left[\\begin{matrix}-306.186217847897 & -176.776695296637\\\\176.776695296637 & -306.186217847897\\\\0 & 353.553390593274\\\\0 & 0.866025403784439\\\\0 & -0.5\\\\1.0 & 0\\end{matrix}\\right]\\right )$$"
      ],
      "text/plain": [
       "⎛⎡-l₂⋅sin(\\theta₁)⋅cos(\\theta₂)  -l₂⋅sin(\\theta₂)⋅cos(\\theta₁)⎤  ⎡-306.1862178\n",
       "⎜⎢                                                            ⎥  ⎢            \n",
       "⎜⎢l₂⋅cos(\\theta₁)⋅cos(\\theta₂)   -l₂⋅sin(\\theta₁)⋅sin(\\theta₂)⎥  ⎢176.77669529\n",
       "⎜⎢                                                            ⎥  ⎢            \n",
       "⎜⎢              0                       l₂⋅cos(\\theta₂)       ⎥  ⎢        0   \n",
       "⎜⎢                                                            ⎥, ⎢            \n",
       "⎜⎢              0                        sin(\\theta₁)         ⎥  ⎢        0   \n",
       "⎜⎢                                                            ⎥  ⎢            \n",
       "⎜⎢              0                        -cos(\\theta₁)        ⎥  ⎢        0   \n",
       "⎜⎢                                                            ⎥  ⎢            \n",
       "⎝⎣              1                              0              ⎦  ⎣       1.0  \n",
       "\n",
       "47897  -176.776695296637⎤⎞\n",
       "                        ⎥⎟\n",
       "6637   -306.186217847897⎥⎟\n",
       "                        ⎥⎟\n",
       "       353.553390593274 ⎥⎟\n",
       "                        ⎥⎟\n",
       "       0.866025403784439⎥⎟\n",
       "                        ⎥⎟\n",
       "             -0.5       ⎥⎟\n",
       "                        ⎥⎟\n",
       "               0        ⎦⎠"
      ]
     },
     "execution_count": 13,
     "metadata": {},
     "output_type": "execute_result"
    }
   ],
   "source": [
    "J2R,J2R.subs({t1:60*pi/180, t2:45*pi/180, l2:500}).evalf()"
   ]
  },
  {
   "cell_type": "code",
   "execution_count": 6,
   "metadata": {},
   "outputs": [
    {
     "data": {
      "image/png": "[encoded data removed]",
      "text/latex": [
       "$$\\left ( \\left[\\begin{matrix}-386.597065715562\\\\-410.786714773877\\\\-22.7860342318321\\\\-1.73205080756888\\\\1.0\\\\5.0\\end{matrix}\\right], \\quad 564.554886269361, \\quad 5.3851648071345\\right )$$"
      ],
      "text/plain": [
       "⎛⎡-386.597065715562⎤                                   ⎞\n",
       "⎜⎢                 ⎥                                   ⎟\n",
       "⎜⎢-410.786714773877⎥                                   ⎟\n",
       "⎜⎢                 ⎥                                   ⎟\n",
       "⎜⎢-22.7860342318321⎥                                   ⎟\n",
       "⎜⎢                 ⎥, 564.554886269361, 5.3851648071345⎟\n",
       "⎜⎢-1.73205080756888⎥                                   ⎟\n",
       "⎜⎢                 ⎥                                   ⎟\n",
       "⎜⎢       1.0       ⎥                                   ⎟\n",
       "⎜⎢                 ⎥                                   ⎟\n",
       "⎝⎣       5.0       ⎦                                   ⎠"
      ]
     },
     "execution_count": 6,
     "metadata": {},
     "output_type": "execute_result"
    }
   ],
   "source": [
    "JME = SM.J.subs({t1:60*pi/180, t2:15*pi/180, d3:100, d2:150}).evalf()\n",
    "VV = JME*Matrix([[5],[2],[30]])\n",
    "v = sqrt(VV[0]**2+VV[1]**2+VV[2]**2)\n",
    "w = sqrt(VV[3]**2+VV[4]**2+VV[5]**2)\n",
    "VV,v,w"
   ]
  },
  {
   "cell_type": "code",
   "execution_count": 16,
   "metadata": {},
   "outputs": [
    {
     "data": {
      "image/png": "[encoded data removed]",
      "text/latex": [
       "$$\\left[\\begin{matrix}\\cos{\\left (\\theta_1 \\right )} \\cos{\\left (\\theta_2 + \\theta_3 \\right )} & - \\sin{\\left (\\theta_2 + \\theta_3 \\right )} \\cos{\\left (\\theta_1 \\right )} & \\sin{\\left (\\theta_1 \\right )} & \\left(l_{2} \\cos{\\left (\\theta_2 \\right )} + l_{3} \\cos{\\left (\\theta_2 + \\theta_3 \\right )}\\right) \\cos{\\left (\\theta_1 \\right )}\\\\\\sin{\\left (\\theta_1 \\right )} \\cos{\\left (\\theta_2 + \\theta_3 \\right )} & - \\sin{\\left (\\theta_1 \\right )} \\sin{\\left (\\theta_2 + \\theta_3 \\right )} & - \\cos{\\left (\\theta_1 \\right )} & \\left(l_{2} \\cos{\\left (\\theta_2 \\right )} + l_{3} \\cos{\\left (\\theta_2 + \\theta_3 \\right )}\\right) \\sin{\\left (\\theta_1 \\right )}\\\\\\sin{\\left (\\theta_2 + \\theta_3 \\right )} & \\cos{\\left (\\theta_2 + \\theta_3 \\right )} & 0 & d_{1} + l_{2} \\sin{\\left (\\theta_2 \\right )} + l_{3} \\sin{\\left (\\theta_2 + \\theta_3 \\right )}\\\\0 & 0 & 0 & 1\\end{matrix}\\right]$$"
      ],
      "text/plain": [
       "⎡cos(\\theta₁)⋅cos(\\theta₂ + \\theta₃)  -sin(\\theta₂ + \\theta₃)⋅cos(\\theta₁)  si\n",
       "⎢                                                                             \n",
       "⎢sin(\\theta₁)⋅cos(\\theta₂ + \\theta₃)  -sin(\\theta₁)⋅sin(\\theta₂ + \\theta₃)  -c\n",
       "⎢                                                                             \n",
       "⎢      sin(\\theta₂ + \\theta₃)                cos(\\theta₂ + \\theta₃)           \n",
       "⎢                                                                             \n",
       "⎣                 0                                    0                      \n",
       "\n",
       "n(\\theta₁)   (l₂⋅cos(\\theta₂) + l₃⋅cos(\\theta₂ + \\theta₃))⋅cos(\\theta₁)⎤\n",
       "                                                                       ⎥\n",
       "os(\\theta₁)  (l₂⋅cos(\\theta₂) + l₃⋅cos(\\theta₂ + \\theta₃))⋅sin(\\theta₁)⎥\n",
       "                                                                       ⎥\n",
       "    0             d₁ + l₂⋅sin(\\theta₂) + l₃⋅sin(\\theta₂ + \\theta₃)     ⎥\n",
       "                                                                       ⎥\n",
       "    0                                    1                             ⎦"
      ]
     },
     "execution_count": 16,
     "metadata": {},
     "output_type": "execute_result"
    }
   ],
   "source": [
    "RRR = Manipulator((0,pi/2,d1,t1),(l2,0,0,t2),(l3,0,0,t3)) # RRR\n",
    "RRR.T"
   ]
  },
  {
   "cell_type": "code",
   "execution_count": 17,
   "metadata": {},
   "outputs": [
    {
     "data": {
      "image/png": "[encoded data removed]",
      "text/latex": [
       "$$\\left[\\begin{matrix}\\cos{\\left (\\theta_1 \\right )} \\cos{\\left (\\theta_2 + \\theta_3 \\right )} & - \\sin{\\left (\\theta_2 + \\theta_3 \\right )} \\cos{\\left (\\theta_1 \\right )} & \\sin{\\left (\\theta_1 \\right )} & \\left(l_{2} \\cos{\\left (\\theta_2 \\right )} + l_{3} \\cos{\\left (\\theta_2 + \\theta_3 \\right )}\\right) \\cos{\\left (\\theta_1 \\right )}\\\\\\sin{\\left (\\theta_1 \\right )} \\cos{\\left (\\theta_2 + \\theta_3 \\right )} & - \\sin{\\left (\\theta_1 \\right )} \\sin{\\left (\\theta_2 + \\theta_3 \\right )} & - \\cos{\\left (\\theta_1 \\right )} & \\left(l_{2} \\cos{\\left (\\theta_2 \\right )} + l_{3} \\cos{\\left (\\theta_2 + \\theta_3 \\right )}\\right) \\sin{\\left (\\theta_1 \\right )}\\\\\\sin{\\left (\\theta_2 + \\theta_3 \\right )} & \\cos{\\left (\\theta_2 + \\theta_3 \\right )} & 0 & l_{2} \\sin{\\left (\\theta_2 \\right )} + l_{3} \\sin{\\left (\\theta_2 + \\theta_3 \\right )}\\\\0 & 0 & 0 & 1\\end{matrix}\\right]$$"
      ],
      "text/plain": [
       "⎡cos(\\theta₁)⋅cos(\\theta₂ + \\theta₃)  -sin(\\theta₂ + \\theta₃)⋅cos(\\theta₁)  si\n",
       "⎢                                                                             \n",
       "⎢sin(\\theta₁)⋅cos(\\theta₂ + \\theta₃)  -sin(\\theta₁)⋅sin(\\theta₂ + \\theta₃)  -c\n",
       "⎢                                                                             \n",
       "⎢      sin(\\theta₂ + \\theta₃)                cos(\\theta₂ + \\theta₃)           \n",
       "⎢                                                                             \n",
       "⎣                 0                                    0                      \n",
       "\n",
       "n(\\theta₁)   (l₂⋅cos(\\theta₂) + l₃⋅cos(\\theta₂ + \\theta₃))⋅cos(\\theta₁)⎤\n",
       "                                                                       ⎥\n",
       "os(\\theta₁)  (l₂⋅cos(\\theta₂) + l₃⋅cos(\\theta₂ + \\theta₃))⋅sin(\\theta₁)⎥\n",
       "                                                                       ⎥\n",
       "    0               l₂⋅sin(\\theta₂) + l₃⋅sin(\\theta₂ + \\theta₃)        ⎥\n",
       "                                                                       ⎥\n",
       "    0                                    1                             ⎦"
      ]
     },
     "execution_count": 17,
     "metadata": {},
     "output_type": "execute_result"
    }
   ],
   "source": [
    "RRR = Manipulator((0,pi/2,0,t1),(l2,0,0,t2),(l3,0,0,t3)) # RRR\n",
    "RRR.T"
   ]
  },
  {
   "cell_type": "code",
   "execution_count": null,
   "metadata": {},
   "outputs": [],
   "source": []
  }
 ],
 "metadata": {
  "kernelspec": {
   "display_name": "Python 3",
   "language": "python",
   "name": "python3"
  },
  "language_info": {
   "codemirror_mode": {
    "name": "ipython",
    "version": 3
   },
   "file_extension": ".py",
   "mimetype": "text/x-python",
   "name": "python",
   "nbconvert_exporter": "python",
   "pygments_lexer": "ipython3",
   "version": "3.6.3"
  }
 },
 "nbformat": 4,
 "nbformat_minor": 2
}
