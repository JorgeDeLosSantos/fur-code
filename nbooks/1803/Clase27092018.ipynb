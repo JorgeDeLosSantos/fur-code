{
 "cells": [
  {
   "cell_type": "code",
   "execution_count": 3,
   "metadata": {},
   "outputs": [],
   "source": [
    "from sympy import *\n",
    "from sympy.matrices import *\n",
    "init_printing(use_latex=True)"
   ]
  },
  {
   "cell_type": "code",
   "execution_count": 41,
   "metadata": {},
   "outputs": [],
   "source": [
    "x = symbols(\"x\")\n",
    "y = symbols(\"y\")\n",
    "alpha = symbols(\"\\\\alpha\")\n",
    "x0 = symbols(\"x_0\")"
   ]
  },
  {
   "cell_type": "code",
   "execution_count": 48,
   "metadata": {},
   "outputs": [
    {
     "data": {
      "image/png": "[encoded data removed]",
      "text/latex": [
       "$$x^{5} + 20 x^{2} + 10 = 0$$"
      ],
      "text/plain": [
       " 5       2         \n",
       "x  + 20⋅x  + 10 = 0"
      ]
     },
     "execution_count": 48,
     "metadata": {},
     "output_type": "execute_result"
    }
   ],
   "source": [
    "Eq(x**5 + 20*x**2 + 10, 0)"
   ]
  },
  {
   "cell_type": "markdown",
   "metadata": {},
   "source": [
    "## Matrices\n",
    "\n",
    "$$ A =\n",
    "\\begin{bmatrix}\n",
    "1 & 2 \\\\ 3 & 4\n",
    "\\end{bmatrix}\n",
    "$$"
   ]
  },
  {
   "cell_type": "code",
   "execution_count": 60,
   "metadata": {},
   "outputs": [
    {
     "data": {
      "image/png": "[encoded data removed]",
      "text/latex": [
       "$$\\left[\\begin{matrix}1 & 0\\\\0 & 1\\end{matrix}\\right]$$"
      ],
      "text/plain": [
       "⎡1  0⎤\n",
       "⎢    ⎥\n",
       "⎣0  1⎦"
      ]
     },
     "execution_count": 60,
     "metadata": {},
     "output_type": "execute_result"
    }
   ],
   "source": [
    "A = Matrix([ [1,2], [3,4] ])\n",
    "A*A.inv()"
   ]
  },
  {
   "cell_type": "code",
   "execution_count": 77,
   "metadata": {},
   "outputs": [
    {
     "data": {
      "image/png": "[encoded data removed]",
      "text/latex": [
       "$$\\left[\\begin{matrix}0 & -1 & 0\\\\1 & 0 & 0\\\\0 & 0 & 1\\end{matrix}\\right]$$"
      ],
      "text/plain": [
       "⎡0  -1  0⎤\n",
       "⎢        ⎥\n",
       "⎢1  0   0⎥\n",
       "⎢        ⎥\n",
       "⎣0  0   1⎦"
      ]
     },
     "execution_count": 77,
     "metadata": {},
     "output_type": "execute_result"
    }
   ],
   "source": [
    "R = Matrix([ [cos(alpha), -sin(alpha), 0], [sin(alpha), cos(alpha), 0], [0,0,1]])\n",
    "R.subs({alpha:pi/2})"
   ]
  },
  {
   "cell_type": "code",
   "execution_count": 69,
   "metadata": {},
   "outputs": [
    {
     "data": {
      "image/png": "[encoded data removed]",
      "text/latex": [
       "$$\\left ( \\left[\\begin{matrix}\\cos{\\left (\\alpha \\right )} & \\sin{\\left (\\alpha \\right )} & 0\\\\- \\sin{\\left (\\alpha \\right )} & \\cos{\\left (\\alpha \\right )} & 0\\\\0 & 0 & 1\\end{matrix}\\right], \\quad \\left[\\begin{matrix}\\cos{\\left (\\alpha \\right )} & \\sin{\\left (\\alpha \\right )} & 0\\\\- \\sin{\\left (\\alpha \\right )} & \\cos{\\left (\\alpha \\right )} & 0\\\\0 & 0 & 1\\end{matrix}\\right], \\quad 1\\right )$$"
      ],
      "text/plain": [
       "⎛⎡cos(\\alpha)   sin(\\alpha)  0⎤  ⎡cos(\\alpha)   sin(\\alpha)  0⎤   ⎞\n",
       "⎜⎢                            ⎥  ⎢                            ⎥   ⎟\n",
       "⎜⎢-sin(\\alpha)  cos(\\alpha)  0⎥, ⎢-sin(\\alpha)  cos(\\alpha)  0⎥, 1⎟\n",
       "⎜⎢                            ⎥  ⎢                            ⎥   ⎟\n",
       "⎝⎣     0             0       1⎦  ⎣     0             0       1⎦   ⎠"
      ]
     },
     "execution_count": 69,
     "metadata": {},
     "output_type": "execute_result"
    }
   ],
   "source": [
    "simplify( R.inv() ), R.transpose(), simplify( R.det() )"
   ]
  },
  {
   "cell_type": "code",
   "execution_count": 75,
   "metadata": {},
   "outputs": [
    {
     "data": {
      "image/png": "[encoded data removed]",
      "text/latex": [
       "$$\\left[\\begin{matrix}\\cos{\\left (3 \\alpha \\right )} & - \\sin{\\left (3 \\alpha \\right )} & 0\\\\\\sin{\\left (3 \\alpha \\right )} & \\cos{\\left (3 \\alpha \\right )} & 0\\\\0 & 0 & 1\\end{matrix}\\right]$$"
      ],
      "text/plain": [
       "⎡cos(3⋅\\alpha)  -sin(3⋅\\alpha)  0⎤\n",
       "⎢                                ⎥\n",
       "⎢sin(3⋅\\alpha)  cos(3⋅\\alpha)   0⎥\n",
       "⎢                                ⎥\n",
       "⎣      0              0         1⎦"
      ]
     },
     "execution_count": 75,
     "metadata": {},
     "output_type": "execute_result"
    }
   ],
   "source": [
    "simplify( R*R*R )"
   ]
  },
  {
   "cell_type": "markdown",
   "metadata": {},
   "source": [
    "## Funciones"
   ]
  },
  {
   "cell_type": "code",
   "execution_count": 80,
   "metadata": {},
   "outputs": [],
   "source": [
    "def suma(a,b):\n",
    "    c = a + b\n",
    "    return c"
   ]
  },
  {
   "cell_type": "code",
   "execution_count": 86,
   "metadata": {},
   "outputs": [],
   "source": [
    "def rotz(alpha):\n",
    "    R = Matrix([ [cos(alpha), -sin(alpha), 0], [sin(alpha), cos(alpha), 0], [0,0,1]])\n",
    "    return R\n",
    "\n",
    "def rotx(alpha):\n",
    "    R = Matrix([ [1, 0, 0], [0, cos(alpha), -sin(alpha)], [0,sin(alpha),cos(alpha)]])\n",
    "    return R"
   ]
  },
  {
   "cell_type": "code",
   "execution_count": 88,
   "metadata": {},
   "outputs": [],
   "source": [
    "phi = symbols(\"\\\\phi\")\n",
    "theta = symbols(\"\\\\theta\")\n",
    "psi = symbols(\"\\\\psi\")"
   ]
  },
  {
   "cell_type": "code",
   "execution_count": 93,
   "metadata": {},
   "outputs": [
    {
     "data": {
      "image/png": "[encoded data removed]",
      "text/latex": [
       "$$\\left[\\begin{matrix}- \\sin{\\left (\\phi \\right )} \\sin{\\left (\\psi \\right )} \\cos{\\left (\\theta \\right )} + \\cos{\\left (\\phi \\right )} \\cos{\\left (\\psi \\right )} & - \\sin{\\left (\\phi \\right )} \\cos{\\left (\\psi \\right )} \\cos{\\left (\\theta \\right )} - \\sin{\\left (\\psi \\right )} \\cos{\\left (\\phi \\right )} & \\sin{\\left (\\phi \\right )} \\sin{\\left (\\theta \\right )}\\\\\\sin{\\left (\\phi \\right )} \\cos{\\left (\\psi \\right )} + \\sin{\\left (\\psi \\right )} \\cos{\\left (\\phi \\right )} \\cos{\\left (\\theta \\right )} & - \\sin{\\left (\\phi \\right )} \\sin{\\left (\\psi \\right )} + \\cos{\\left (\\phi \\right )} \\cos{\\left (\\psi \\right )} \\cos{\\left (\\theta \\right )} & - \\sin{\\left (\\theta \\right )} \\cos{\\left (\\phi \\right )}\\\\\\sin{\\left (\\psi \\right )} \\sin{\\left (\\theta \\right )} & \\sin{\\left (\\theta \\right )} \\cos{\\left (\\psi \\right )} & \\cos{\\left (\\theta \\right )}\\end{matrix}\\right]$$"
      ],
      "text/plain": [
       "⎡-sin(\\phi)⋅sin(\\psi)⋅cos(\\theta) + cos(\\phi)⋅cos(\\psi)  -sin(\\phi)⋅cos(\\psi)⋅\n",
       "⎢                                                                             \n",
       "⎢sin(\\phi)⋅cos(\\psi) + sin(\\psi)⋅cos(\\phi)⋅cos(\\theta)   -sin(\\phi)⋅sin(\\psi) \n",
       "⎢                                                                             \n",
       "⎣                sin(\\psi)⋅sin(\\theta)                                   sin(\\\n",
       "\n",
       "cos(\\theta) - sin(\\psi)⋅cos(\\phi)  sin(\\phi)⋅sin(\\theta) ⎤\n",
       "                                                         ⎥\n",
       "+ cos(\\phi)⋅cos(\\psi)⋅cos(\\theta)  -sin(\\theta)⋅cos(\\phi)⎥\n",
       "                                                         ⎥\n",
       "theta)⋅cos(\\psi)                        cos(\\theta)      ⎦"
      ]
     },
     "execution_count": 93,
     "metadata": {},
     "output_type": "execute_result"
    }
   ],
   "source": [
    "rotz(phi)*rotx(theta)*rotz(psi)"
   ]
  },
  {
   "cell_type": "code",
   "execution_count": 98,
   "metadata": {},
   "outputs": [],
   "source": [
    "def hrotz(alpha):\n",
    "    R = Matrix([ [cos(alpha), -sin(alpha), 0, 0], [sin(alpha), cos(alpha), 0, 0], [0,0,1,0], [0,0,0,1]])\n",
    "    return R\n",
    "\n",
    "def hrotx(alpha):\n",
    "    R = Matrix([ [1, 0, 0,0], [0, cos(alpha), -sin(alpha), 0], [0,sin(alpha),cos(alpha),0], [0,0,0,1]])\n",
    "    return R\n",
    "\n",
    "def htra(q):\n",
    "    D = Matrix([[1,0,0,q[0]], [0,1,0,q[1]], [0,0,1,q[2]], [0,0,0,1]])\n",
    "    return D"
   ]
  },
  {
   "cell_type": "code",
   "execution_count": 102,
   "metadata": {},
   "outputs": [
    {
     "data": {
      "image/png": "[encoded data removed]",
      "text/latex": [
       "$$\\left[\\begin{matrix}\\cos{\\left (\\theta \\right )} & - \\sin{\\left (\\theta \\right )} & 0 & x\\\\\\sin{\\left (\\theta \\right )} & \\cos{\\left (\\theta \\right )} & 0 & y\\\\0 & 0 & 1 & 0\\\\0 & 0 & 0 & 1\\end{matrix}\\right]$$"
      ],
      "text/plain": [
       "⎡cos(\\theta)  -sin(\\theta)  0  x⎤\n",
       "⎢                               ⎥\n",
       "⎢sin(\\theta)  cos(\\theta)   0  y⎥\n",
       "⎢                               ⎥\n",
       "⎢     0            0        1  0⎥\n",
       "⎢                               ⎥\n",
       "⎣     0            0        0  1⎦"
      ]
     },
     "execution_count": 102,
     "metadata": {},
     "output_type": "execute_result"
    }
   ],
   "source": [
    "htra([x,y,0])*hrotz(theta)"
   ]
  },
  {
   "cell_type": "code",
   "execution_count": 103,
   "metadata": {},
   "outputs": [
    {
     "data": {
      "image/png": "[encoded data removed]",
      "text/latex": [
       "$$\\left[\\begin{matrix}\\cos{\\left (\\theta \\right )} & - \\sin{\\left (\\theta \\right )} & 0 & x \\cos{\\left (\\theta \\right )} - y \\sin{\\left (\\theta \\right )}\\\\\\sin{\\left (\\theta \\right )} & \\cos{\\left (\\theta \\right )} & 0 & x \\sin{\\left (\\theta \\right )} + y \\cos{\\left (\\theta \\right )}\\\\0 & 0 & 1 & 0\\\\0 & 0 & 0 & 1\\end{matrix}\\right]$$"
      ],
      "text/plain": [
       "⎡cos(\\theta)  -sin(\\theta)  0  x⋅cos(\\theta) - y⋅sin(\\theta)⎤\n",
       "⎢                                                           ⎥\n",
       "⎢sin(\\theta)  cos(\\theta)   0  x⋅sin(\\theta) + y⋅cos(\\theta)⎥\n",
       "⎢                                                           ⎥\n",
       "⎢     0            0        1                0              ⎥\n",
       "⎢                                                           ⎥\n",
       "⎣     0            0        0                1              ⎦"
      ]
     },
     "execution_count": 103,
     "metadata": {},
     "output_type": "execute_result"
    }
   ],
   "source": [
    "hrotz(theta)*htra([x,y,0])"
   ]
  },
  {
   "cell_type": "markdown",
   "metadata": {},
   "source": [
    "## Gráficas"
   ]
  },
  {
   "cell_type": "code",
   "execution_count": 106,
   "metadata": {},
   "outputs": [],
   "source": [
    "import matplotlib.pyplot as plt\n",
    "%matplotlib inline"
   ]
  },
  {
   "cell_type": "code",
   "execution_count": 125,
   "metadata": {},
   "outputs": [
    {
     "data": {
      "image/png": "[encoded data removed]",
      "text/plain": [
       "<Figure size 432x288 with 1 Axes>"
      ]
     },
     "metadata": {},
     "output_type": "display_data"
    }
   ],
   "source": [
    "A = Matrix([0,0,0,1])\n",
    "B = Matrix([5,0,0,1])\n",
    "C = Matrix([5,3,0,1])\n",
    "D = Matrix([0,3,0,1])\n",
    "\n",
    "H = htra([10,0,0])*hrotz(pi/4)\n",
    "A1 = H*A\n",
    "B1 = H*B\n",
    "C1 = H*C\n",
    "D1 = H*D\n",
    "\n",
    "plt.fill([ A[0],B[0],C[0],D[0] ], [ A[1],B[1],C[1],D[1] ], \"b\")\n",
    "plt.fill([ A1[0],B1[0],C1[0],D1[0] ], [ A1[1],B1[1],C1[1],D1[1] ], \"r\")\n",
    "plt.axis(\"square\");"
   ]
  },
  {
   "cell_type": "code",
   "execution_count": 116,
   "metadata": {},
   "outputs": [
    {
     "data": {
      "image/png": "[encoded data removed]",
      "text/latex": [
       "$$1$$"
      ],
      "text/plain": [
       "1"
      ]
     },
     "execution_count": 116,
     "metadata": {},
     "output_type": "execute_result"
    }
   ],
   "source": [
    "A[3]"
   ]
  },
  {
   "cell_type": "code",
   "execution_count": 113,
   "metadata": {},
   "outputs": [
    {
     "data": {
      "image/png": "[encoded data removed]",
      "text/latex": [
       "$$\\left[\\begin{matrix}0\\\\0\\\\0\\\\1\\end{matrix}\\right]$$"
      ],
      "text/plain": [
       "⎡0⎤\n",
       "⎢ ⎥\n",
       "⎢0⎥\n",
       "⎢ ⎥\n",
       "⎢0⎥\n",
       "⎢ ⎥\n",
       "⎣1⎦"
      ]
     },
     "execution_count": 113,
     "metadata": {},
     "output_type": "execute_result"
    }
   ],
   "source": [
    "A"
   ]
  },
  {
   "cell_type": "code",
   "execution_count": null,
   "metadata": {},
   "outputs": [],
   "source": []
  }
 ],
 "metadata": {
  "kernelspec": {
   "display_name": "Python 3",
   "language": "python",
   "name": "python3"
  },
  "language_info": {
   "codemirror_mode": {
    "name": "ipython",
    "version": 3
   },
   "file_extension": ".py",
   "mimetype": "text/x-python",
   "name": "python",
   "nbconvert_exporter": "python",
   "pygments_lexer": "ipython3",
   "version": "3.6.5"
  }
 },
 "nbformat": 4,
 "nbformat_minor": 2
}
