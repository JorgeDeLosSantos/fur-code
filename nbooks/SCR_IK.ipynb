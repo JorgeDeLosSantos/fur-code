{
 "cells": [
  {
   "cell_type": "code",
   "execution_count": 9,
   "metadata": {},
   "outputs": [
    {
     "data": {
      "image/png": "[encoded data removed]",
      "text/latex": [
       "$$d_{1} - \\operatorname{d_{3}}{\\left (t \\right )}$$"
      ],
      "text/plain": [
       "d₁ - d₃(t)"
      ]
     },
     "execution_count": 9,
     "metadata": {},
     "output_type": "execute_result"
    }
   ],
   "source": [
    "from sympy import *\n",
    "init_printing(use_latex=true)\n",
    "\n",
    "t,d1,l1,l2 = symbols('t,d_1,l_1,l_2')\n",
    "t1 = Function('\\\\theta_1')(t)\n",
    "t2 = Function('\\\\theta_2')(t)\n",
    "d3 = Function('d_3')(t)\n",
    "x,y,z = symbols('x,y,z')\n",
    "\n",
    "\n",
    "def dhs(a,alpha,d,theta):\n",
    "    M = Matrix([[cos(theta),-sin(theta)*cos(alpha),sin(theta)*sin(alpha),a*cos(theta)],\n",
    "                  [sin(theta),cos(theta)*cos(alpha),-cos(theta)*sin(alpha),a*sin(theta)],\n",
    "                  [0,sin(alpha),cos(alpha),d],\n",
    "                  [0,0,0,1]])\n",
    "    return M\n",
    "\n",
    "#T1_0 = dh(l1,0,d1,t1)\n",
    "#T2_1 = dh(l2,0,0,t2)\n",
    "#T3_2 = dh(0,pi,d3,0)\n",
    "\n",
    "T3_0 = dhs(l1,0,d1,t1)*dhs(l2,pi,0,t2)*dhs(0,0,d3,0)\n",
    "xx = simplify(T3_0[0,3])\n",
    "yy = simplify(T3_0[1,3])\n",
    "zz = simplify(T3_0[2,3])\n",
    "zz"
   ]
  },
  {
   "cell_type": "code",
   "execution_count": 12,
   "metadata": {},
   "outputs": [
    {
     "data": {
      "image/png": "[encoded data removed]",
      "text/latex": [
       "$$- l_{1} \\sin{\\left (\\theta_{1}{\\left (t \\right )} \\right )} \\frac{d}{d t} \\theta_{1}{\\left (t \\right )} - l_{2} \\left(\\frac{d}{d t} \\theta_{1}{\\left (t \\right )} + \\frac{d}{d t} \\theta_{2}{\\left (t \\right )}\\right) \\sin{\\left (\\theta_{1}{\\left (t \\right )} + \\theta_{2}{\\left (t \\right )} \\right )}$$"
      ],
      "text/plain": [
       "                     d                   ⎛d                d             ⎞    \n",
       "- l₁⋅sin(\\theta₁(t))⋅──(\\theta₁(t)) - l₂⋅⎜──(\\theta₁(t)) + ──(\\theta₂(t))⎟⋅sin\n",
       "                     dt                  ⎝dt               dt            ⎠    \n",
       "\n",
       "                         \n",
       "(\\theta₁(t) + \\theta₂(t))\n",
       "                         "
      ]
     },
     "execution_count": 12,
     "metadata": {},
     "output_type": "execute_result"
    }
   ],
   "source": [
    "xx.diff(t)"
   ]
  },
  {
   "cell_type": "markdown",
   "metadata": {},
   "source": [
    "import numpy as np \n",
    "import matplotlib.pyplot as plt\n",
    "from mpl_toolkits.mplot3d import Axes3D\n",
    "from numpy import sin,cos,tan,arcsin,arccos,arctan,arctan2,sqrt,pi\n",
    "%matplotlib notebook\n",
    "\n",
    "def dh(a,alpha,d,theta):\n",
    "    M = np.array([[cos(theta),-sin(theta)*cos(alpha),sin(theta)*sin(alpha),a*cos(theta)],\n",
    "                  [sin(theta),cos(theta)*cos(alpha),-cos(theta)*sin(alpha),a*sin(theta)],\n",
    "                  [0,sin(alpha),cos(alpha),d],\n",
    "                  [0,0,0,1]])\n",
    "    return M"
   ]
  },
  {
   "cell_type": "markdown",
   "metadata": {},
   "source": [
    "fig = plt.figure()\n",
    "ax = fig.add_subplot(1, 1, 1, projection='3d')\n",
    "\n",
    "# IK\n",
    "x,y,z = 1,1.5,0.5\n",
    "d1,l1,l2 = 2,1,1\n",
    "K = (x**2 + y**2 - l1**2 - l2**2)/(2*l1*l2)\n",
    "t2 = arctan2(-sqrt(1-(K**2)), K)\n",
    "t1 = arctan2(l2*y*cos(t2) + l1*y - l2*x*sin(t2), l2*x*cos(t2) + l1*x + l2*y*sin(t2))\n",
    "d3 = d1 - z\n",
    "\n",
    "# FK\n",
    "T1_0 = dh(l1,0,d1,t1)\n",
    "T2_1 = dh(l2,pi,0,t2)\n",
    "T3_2 = dh(0,0,d3,0)\n",
    "T2_0 = np.dot(T1_0,T2_1)\n",
    "T3_0 = np.dot(T2_0,T3_2)\n",
    "O1 = np.array([0,0,d1])\n",
    "A = np.array([T1_0[0][3],T1_0[1][3],T1_0[2][3]])\n",
    "B = np.array([T2_0[0][3],T2_0[1][3],T2_0[2][3]])\n",
    "C = np.array([T3_0[0][3],T3_0[1][3],T3_0[2][3]])\n",
    "ax.plot([0,O1[0],A[0],B[0],C[0]],[0,O1[1],A[1],B[1],C[1]],[0,O1[2],A[2],B[2],C[2]],'-o',lw=4)\n",
    "ax.plot([0],[0],[0],'o',markersize=20)\n",
    "ax.set_xlabel('x'),ax.set_ylabel('y'),ax.set_zlabel('z')\n",
    "plt.axis('equal');\n",
    "ax.view_init(20,60)"
   ]
  },
  {
   "cell_type": "code",
   "execution_count": null,
   "metadata": {},
   "outputs": [],
   "source": []
  }
 ],
 "metadata": {
  "kernelspec": {
   "display_name": "Python 3",
   "language": "python",
   "name": "python3"
  },
  "language_info": {
   "codemirror_mode": {
    "name": "ipython",
    "version": 3
   },
   "file_extension": ".py",
   "mimetype": "text/x-python",
   "name": "python",
   "nbconvert_exporter": "python",
   "pygments_lexer": "ipython3",
   "version": "3.6.3"
  }
 },
 "nbformat": 4,
 "nbformat_minor": 2
}
