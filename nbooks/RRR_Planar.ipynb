{
 "cells": [
  {
   "cell_type": "code",
   "execution_count": 1,
   "metadata": {},
   "outputs": [],
   "source": [
    "import numpy as np \n",
    "import matplotlib.pyplot as plt\n",
    "from numpy import sin,cos,tan,arcsin,arccos,arctan,arctan2,sqrt,pi\n",
    "%matplotlib inline\n",
    "\n",
    "def dh(a,alpha,d,theta):\n",
    "    M = np.array([[cos(theta),-sin(theta)*cos(alpha),sin(theta)*sin(alpha),a*cos(theta)],\n",
    "                  [sin(theta),cos(theta)*cos(alpha),-cos(theta)*sin(alpha),a*sin(theta)],\n",
    "                  [0,sin(alpha),cos(alpha),d],\n",
    "                  [0,0,0,1]])\n",
    "    return M"
   ]
  },
  {
   "cell_type": "code",
   "execution_count": 2,
   "metadata": {},
   "outputs": [
    {
     "data": {
      "image/png": "[encoded data removed]",
      "text/plain": [
       "<matplotlib.figure.Figure at 0x8d734e0>"
      ]
     },
     "metadata": {},
     "output_type": "display_data"
    }
   ],
   "source": [
    "# IK\n",
    "xq,yq = 150,100\n",
    "phi = -pi/2\n",
    "l1,l2,l3 = 100, 100, 20\n",
    "rc = np.array([xq,yq]) - l3*np.array([cos(phi),sin(phi)])\n",
    "x,y = rc[0],rc[1]\n",
    "K = (x**2 + y**2 - l1**2 - l2**2)/(2*l1*l2)\n",
    "t2 = arctan2(sqrt(1-(K**2)), K)\n",
    "t1 = arctan2(l2*y*cos(t2) + l1*y - l2*x*sin(t2), l2*x*cos(t2) + l1*x + l2*y*sin(t2))\n",
    "#t1 = arctan2(y,x)\n",
    "#d = sqrt(x**2 + y**2)\n",
    "\n",
    "# FK\n",
    "T1_0 = dh(l1,0,0,t1)\n",
    "T2_1 = dh(l2,0,0,t2)\n",
    "T3_0 = np.array([[cos(phi),-sin(phi),0,xq],\n",
    "                 [sin(phi),cos(phi),0,yq],\n",
    "                 [0,0,1,0],\n",
    "                 [0,0,0,1]])\n",
    "T2_0 = np.dot(T1_0,T2_1)\n",
    "A = np.array([T1_0[0][3],T1_0[1][3]])\n",
    "B = np.array([T2_0[0][3],T2_0[1][3]])\n",
    "C = np.array([T3_0[0][3],T3_0[1][3]])\n",
    "plt.plot([0,A[0],B[0],C[0]],[0,A[1],B[1],C[1]],\"o-\")\n",
    "plt.plot([0],[0],'ko',markersize=10)\n",
    "plt.grid('on')\n",
    "plt.axis('equal');"
   ]
  },
  {
   "cell_type": "code",
   "execution_count": 7,
   "metadata": {},
   "outputs": [],
   "source": [
    "from furlib import *\n",
    "\n",
    "rrr = Manipulator((l1,0,0,t1),(l2,0,0,t2),(l3,0,0,t3))\n",
    "J = rrr.J"
   ]
  },
  {
   "cell_type": "code",
   "execution_count": 10,
   "metadata": {},
   "outputs": [
    {
     "data": {
      "image/png": "[encoded data removed]",
      "text/latex": [
       "$$\\left[\\begin{matrix}-3751.33086946048\\\\1996.03592968527\\\\0\\\\0\\\\0\\\\25.0\\end{matrix}\\right]$$"
      ],
      "text/plain": [
       "⎡-3751.33086946048⎤\n",
       "⎢                 ⎥\n",
       "⎢1996.03592968527 ⎥\n",
       "⎢                 ⎥\n",
       "⎢        0        ⎥\n",
       "⎢                 ⎥\n",
       "⎢        0        ⎥\n",
       "⎢                 ⎥\n",
       "⎢        0        ⎥\n",
       "⎢                 ⎥\n",
       "⎣      25.0       ⎦"
      ]
     },
     "execution_count": 10,
     "metadata": {},
     "output_type": "execute_result"
    }
   ],
   "source": [
    "JN = J.subs({t1:pi/6, t2:pi/4, t3:-pi/6, l1:100, l2:100, l3:20})\n",
    "(JN*Matrix([10,20,-5])).evalf()"
   ]
  },
  {
   "cell_type": "code",
   "execution_count": null,
   "metadata": {},
   "outputs": [],
   "source": []
  }
 ],
 "metadata": {
  "kernelspec": {
   "display_name": "Python 3",
   "language": "python",
   "name": "python3"
  },
  "language_info": {
   "codemirror_mode": {
    "name": "ipython",
    "version": 3
   },
   "file_extension": ".py",
   "mimetype": "text/x-python",
   "name": "python",
   "nbconvert_exporter": "python",
   "pygments_lexer": "ipython3",
   "version": "3.6.3"
  }
 },
 "nbformat": 4,
 "nbformat_minor": 2
}
