{
 "cells": [
  {
   "cell_type": "code",
   "execution_count": 1,
   "metadata": {},
   "outputs": [],
   "source": [
    "from sympy import *\n",
    "from sympy.matrices import Matrix\n",
    "init_printing(use_latex=true)\n",
    "\n",
    "def dh(a,alpha,d,theta):\n",
    "    \"\"\"\n",
    "    Calcula la matriz de Denavit-Hartenberg de manera simbólica\n",
    "    \"\"\"\n",
    "    M = Matrix([[cos(theta),-sin(theta)*cos(alpha),sin(theta)*sin(alpha),a*cos(theta)],\n",
    "                  [sin(theta),cos(theta)*cos(alpha),-cos(theta)*sin(alpha),a*sin(theta)],\n",
    "                  [0,sin(alpha),cos(alpha),d],\n",
    "                  [0,0,0,1]])\n",
    "    return M"
   ]
  },
  {
   "cell_type": "markdown",
   "metadata": {},
   "source": [
    "## Calculando la matriz $R_6^3$"
   ]
  },
  {
   "cell_type": "code",
   "execution_count": 13,
   "metadata": {},
   "outputs": [
    {
     "data": {
      "image/png": "[encoded data removed]",
      "text/latex": [
       "$$\\left[\\begin{matrix}- \\sin{\\left (\\theta_4 \\right )} \\sin{\\left (\\theta_6 \\right )} + \\cos{\\left (\\theta_4 \\right )} \\cos{\\left (\\theta_5 \\right )} \\cos{\\left (\\theta_6 \\right )} & - \\sin{\\left (\\theta_4 \\right )} \\cos{\\left (\\theta_6 \\right )} - \\sin{\\left (\\theta_6 \\right )} \\cos{\\left (\\theta_4 \\right )} \\cos{\\left (\\theta_5 \\right )} & - \\sin{\\left (\\theta_5 \\right )} \\cos{\\left (\\theta_4 \\right )}\\\\\\sin{\\left (\\theta_4 \\right )} \\cos{\\left (\\theta_5 \\right )} \\cos{\\left (\\theta_6 \\right )} + \\sin{\\left (\\theta_6 \\right )} \\cos{\\left (\\theta_4 \\right )} & - \\sin{\\left (\\theta_4 \\right )} \\sin{\\left (\\theta_6 \\right )} \\cos{\\left (\\theta_5 \\right )} + \\cos{\\left (\\theta_4 \\right )} \\cos{\\left (\\theta_6 \\right )} & - \\sin{\\left (\\theta_4 \\right )} \\sin{\\left (\\theta_5 \\right )}\\\\\\sin{\\left (\\theta_5 \\right )} \\cos{\\left (\\theta_6 \\right )} & - \\sin{\\left (\\theta_5 \\right )} \\sin{\\left (\\theta_6 \\right )} & \\cos{\\left (\\theta_5 \\right )}\\end{matrix}\\right]$$"
      ],
      "text/plain": [
       "⎡-sin(\\theta₄)⋅sin(\\theta₆) + cos(\\theta₄)⋅cos(\\theta₅)⋅cos(\\theta₆)  -sin(\\th\n",
       "⎢                                                                             \n",
       "⎢sin(\\theta₄)⋅cos(\\theta₅)⋅cos(\\theta₆) + sin(\\theta₆)⋅cos(\\theta₄)   -sin(\\th\n",
       "⎢                                                                             \n",
       "⎣                     sin(\\theta₅)⋅cos(\\theta₆)                               \n",
       "\n",
       "eta₄)⋅cos(\\theta₆) - sin(\\theta₆)⋅cos(\\theta₄)⋅cos(\\theta₅)  -sin(\\theta₅)⋅cos\n",
       "                                                                              \n",
       "eta₄)⋅sin(\\theta₆)⋅cos(\\theta₅) + cos(\\theta₄)⋅cos(\\theta₆)  -sin(\\theta₄)⋅sin\n",
       "                                                                              \n",
       "            -sin(\\theta₅)⋅sin(\\theta₆)                              cos(\\theta\n",
       "\n",
       "(\\theta₄)⎤\n",
       "         ⎥\n",
       "(\\theta₅)⎥\n",
       "         ⎥\n",
       "₅)       ⎦"
      ]
     },
     "execution_count": 13,
     "metadata": {},
     "output_type": "execute_result"
    }
   ],
   "source": [
    "t1,t2,t3,t4,t5,t6 = symbols(\"\\\\theta_1:7\")\n",
    "R6_3 = simplify(dh(0,pi/2,600,t4)*dh(0,-pi/2,0,t5)*dh(0,0,65,t6))[:3,:3]\n",
    "R6_3"
   ]
  },
  {
   "cell_type": "code",
   "execution_count": 20,
   "metadata": {},
   "outputs": [
    {
     "data": {
      "image/png": "[encoded data removed]",
      "text/latex": [
       "$$\\left[\\begin{matrix}\\cos{\\left (\\theta_1 \\right )} \\cos{\\left (\\theta_2 + \\theta_3 \\right )} & \\sin{\\left (\\theta_1 \\right )} & - \\sin{\\left (\\theta_2 + \\theta_3 \\right )} \\cos{\\left (\\theta_1 \\right )}\\\\\\sin{\\left (\\theta_1 \\right )} \\cos{\\left (\\theta_2 + \\theta_3 \\right )} & - \\cos{\\left (\\theta_1 \\right )} & - \\sin{\\left (\\theta_1 \\right )} \\sin{\\left (\\theta_2 + \\theta_3 \\right )}\\\\- \\sin{\\left (\\theta_2 + \\theta_3 \\right )} & 0 & - \\cos{\\left (\\theta_2 + \\theta_3 \\right )}\\end{matrix}\\right]$$"
      ],
      "text/plain": [
       "⎡cos(\\theta₁)⋅cos(\\theta₂ + \\theta₃)  sin(\\theta₁)   -sin(\\theta₂ + \\theta₃)⋅c\n",
       "⎢                                                                             \n",
       "⎢sin(\\theta₁)⋅cos(\\theta₂ + \\theta₃)  -cos(\\theta₁)  -sin(\\theta₁)⋅sin(\\theta₂\n",
       "⎢                                                                             \n",
       "⎣      -sin(\\theta₂ + \\theta₃)              0              -cos(\\theta₂ + \\the\n",
       "\n",
       "os(\\theta₁)⎤\n",
       "           ⎥\n",
       " + \\theta₃)⎥\n",
       "           ⎥\n",
       "ta₃)       ⎦"
      ]
     },
     "execution_count": 20,
     "metadata": {},
     "output_type": "execute_result"
    }
   ],
   "source": [
    "R3_0 = simplify(dh(150,-pi/2,486.5,t1)*dh(475,0,0,t2)*dh(0,-pi/2,0,t3))[:3,:3]\n",
    "R3_0"
   ]
  },
  {
   "cell_type": "code",
   "execution_count": 19,
   "metadata": {},
   "outputs": [
    {
     "data": {
      "image/png": "[encoded data removed]",
      "text/latex": [
       "$$\\left[\\begin{matrix}0 & -0.70711 & 0.70711\\\\1 & 0 & 0\\\\0 & 0.70711 & 0.70711\\end{matrix}\\right]$$"
      ],
      "text/plain": [
       "⎡0  -0.70711  0.70711⎤\n",
       "⎢                    ⎥\n",
       "⎢1     0         0   ⎥\n",
       "⎢                    ⎥\n",
       "⎣0  0.70711   0.70711⎦"
      ]
     },
     "execution_count": 19,
     "metadata": {},
     "output_type": "execute_result"
    }
   ],
   "source": [
    "H = Matrix([[0,-0.70711,0.70711,700],[1,0,0,20],[0,0.70711,0.70711,1000],[0,0,0,1]])\n",
    "R6_0 = H[:3,:3]\n",
    "R6_0"
   ]
  },
  {
   "cell_type": "code",
   "execution_count": 22,
   "metadata": {},
   "outputs": [
    {
     "data": {
      "image/png": "[encoded data removed]",
      "text/latex": [
       "$$\\left[\\begin{matrix}0 & 1 & 0\\\\-0.70711 & 0 & 0.70711\\\\0.70711 & 0 & 0.70711\\end{matrix}\\right]$$"
      ],
      "text/plain": [
       "⎡   0      1     0   ⎤\n",
       "⎢                    ⎥\n",
       "⎢-0.70711  0  0.70711⎥\n",
       "⎢                    ⎥\n",
       "⎣0.70711   0  0.70711⎦"
      ]
     },
     "execution_count": 22,
     "metadata": {},
     "output_type": "execute_result"
    }
   ],
   "source": [
    "R6_0.T"
   ]
  },
  {
   "cell_type": "code",
   "execution_count": 2,
   "metadata": {},
   "outputs": [],
   "source": [
    "t1,t2,l1,l2 = symbols(\"\\\\theta_1,\\\\theta_2,l_1,l_2\")"
   ]
  },
  {
   "cell_type": "code",
   "execution_count": 5,
   "metadata": {},
   "outputs": [
    {
     "data": {
      "image/png": "[encoded data removed]",
      "text/latex": [
       "$$\\left[\\begin{matrix}\\cos{\\left (\\theta_1 + \\theta_2 \\right )} & - \\sin{\\left (\\theta_1 + \\theta_2 \\right )} & 0 & l_{1} \\cos{\\left (\\theta_1 \\right )} + l_{2} \\cos{\\left (\\theta_1 + \\theta_2 \\right )}\\\\\\sin{\\left (\\theta_1 + \\theta_2 \\right )} & \\cos{\\left (\\theta_1 + \\theta_2 \\right )} & 0 & l_{1} \\sin{\\left (\\theta_1 \\right )} + l_{2} \\sin{\\left (\\theta_1 + \\theta_2 \\right )}\\\\0 & 0 & 1 & 0\\\\0 & 0 & 0 & 1\\end{matrix}\\right]$$"
      ],
      "text/plain": [
       "⎡cos(\\theta₁ + \\theta₂)  -sin(\\theta₁ + \\theta₂)  0  l₁⋅cos(\\theta₁) + l₂⋅cos(\n",
       "⎢                                                                             \n",
       "⎢sin(\\theta₁ + \\theta₂)  cos(\\theta₁ + \\theta₂)   0  l₁⋅sin(\\theta₁) + l₂⋅sin(\n",
       "⎢                                                                             \n",
       "⎢          0                        0             1                       0   \n",
       "⎢                                                                             \n",
       "⎣          0                        0             0                       1   \n",
       "\n",
       "\\theta₁ + \\theta₂)⎤\n",
       "                  ⎥\n",
       "\\theta₁ + \\theta₂)⎥\n",
       "                  ⎥\n",
       "                  ⎥\n",
       "                  ⎥\n",
       "                  ⎦"
      ]
     },
     "execution_count": 5,
     "metadata": {},
     "output_type": "execute_result"
    }
   ],
   "source": [
    "simplify( dh(l1,0,0,t1)*dh(l2,0,0,t2) )"
   ]
  },
  {
   "cell_type": "code",
   "execution_count": null,
   "metadata": {},
   "outputs": [],
   "source": []
  }
 ],
 "metadata": {
  "kernelspec": {
   "display_name": "Python 3",
   "language": "python",
   "name": "python3"
  },
  "language_info": {
   "codemirror_mode": {
    "name": "ipython",
    "version": 3
   },
   "file_extension": ".py",
   "mimetype": "text/x-python",
   "name": "python",
   "nbconvert_exporter": "python",
   "pygments_lexer": "ipython3",
   "version": "3.6.5"
  }
 },
 "nbformat": 4,
 "nbformat_minor": 2
}
