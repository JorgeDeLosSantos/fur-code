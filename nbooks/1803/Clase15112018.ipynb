{
 "cells": [
  {
   "cell_type": "code",
   "execution_count": 62,
   "metadata": {},
   "outputs": [],
   "source": [
    "from rkd.didactic import *"
   ]
  },
  {
   "cell_type": "code",
   "execution_count": 10,
   "metadata": {},
   "outputs": [
    {
     "data": {
      "image/png": "[encoded data removed]",
      "text/latex": [
       "$$\\left[\\begin{matrix}0.707106781186548 & -0.707106781186547 & 0\\\\0.707106781186547 & 0.707106781186548 & 0\\\\0 & 0 & 1\\end{matrix}\\right]$$"
      ],
      "text/plain": [
       "⎡0.707106781186548  -0.707106781186547  0⎤\n",
       "⎢                                        ⎥\n",
       "⎢0.707106781186547  0.707106781186548   0⎥\n",
       "⎢                                        ⎥\n",
       "⎣        0                  0           1⎦"
      ]
     },
     "execution_count": 10,
     "metadata": {},
     "output_type": "execute_result"
    }
   ],
   "source": [
    "rotz(45, deg=True)"
   ]
  },
  {
   "cell_type": "code",
   "execution_count": 13,
   "metadata": {},
   "outputs": [
    {
     "data": {
      "image/png": "[encoded data removed]",
      "text/latex": [
       "$$\\left[\\begin{matrix}1 & 0 & 0 & 0\\\\0 & 0 & -1 & 0\\\\0 & 1 & 0 & 0\\\\0 & 0 & 0 & 1\\end{matrix}\\right]$$"
      ],
      "text/plain": [
       "⎡1  0  0   0⎤\n",
       "⎢           ⎥\n",
       "⎢0  0  -1  0⎥\n",
       "⎢           ⎥\n",
       "⎢0  1  0   0⎥\n",
       "⎢           ⎥\n",
       "⎣0  0  0   1⎦"
      ]
     },
     "execution_count": 13,
     "metadata": {},
     "output_type": "execute_result"
    }
   ],
   "source": [
    "htmrot(pi/2, \"x\")"
   ]
  },
  {
   "cell_type": "code",
   "execution_count": 17,
   "metadata": {},
   "outputs": [
    {
     "data": {
      "image/png": "[encoded data removed]",
      "text/latex": [
       "$$\\left[\\begin{matrix}1 & 0 & 0 & 0\\\\0 & 1 & 0 & 55\\\\0 & 0 & 1 & 10\\\\0 & 0 & 0 & 1\\end{matrix}\\right]$$"
      ],
      "text/plain": [
       "⎡1  0  0  0 ⎤\n",
       "⎢           ⎥\n",
       "⎢0  1  0  55⎥\n",
       "⎢           ⎥\n",
       "⎢0  0  1  10⎥\n",
       "⎢           ⎥\n",
       "⎣0  0  0  1 ⎦"
      ]
     },
     "execution_count": 17,
     "metadata": {},
     "output_type": "execute_result"
    }
   ],
   "source": [
    "htmtra([0,55,10])"
   ]
  },
  {
   "cell_type": "code",
   "execution_count": 22,
   "metadata": {},
   "outputs": [
    {
     "data": {
      "image/png": "[encoded data removed]",
      "text/latex": [
       "$$\\left[\\begin{matrix}\\cos{\\left (\\theta_1 + \\theta_2 \\right )} & - \\sin{\\left (\\theta_1 + \\theta_2 \\right )} & 0 & l_{1} \\cos{\\left (\\theta_1 \\right )} + l_{2} \\cos{\\left (\\theta_1 + \\theta_2 \\right )}\\\\\\sin{\\left (\\theta_1 + \\theta_2 \\right )} & \\cos{\\left (\\theta_1 + \\theta_2 \\right )} & 0 & l_{1} \\sin{\\left (\\theta_1 \\right )} + l_{2} \\sin{\\left (\\theta_1 + \\theta_2 \\right )}\\\\0 & 0 & 1 & 0\\\\0 & 0 & 0 & 1\\end{matrix}\\right]$$"
      ],
      "text/plain": [
       "⎡cos(\\theta₁ + \\theta₂)  -sin(\\theta₁ + \\theta₂)  0  l₁⋅cos(\\theta₁) + l₂⋅cos(\n",
       "⎢                                                                             \n",
       "⎢sin(\\theta₁ + \\theta₂)  cos(\\theta₁ + \\theta₂)   0  l₁⋅sin(\\theta₁) + l₂⋅sin(\n",
       "⎢                                                                             \n",
       "⎢          0                        0             1                       0   \n",
       "⎢                                                                             \n",
       "⎣          0                        0             0                       1   \n",
       "\n",
       "\\theta₁ + \\theta₂)⎤\n",
       "                  ⎥\n",
       "\\theta₁ + \\theta₂)⎥\n",
       "                  ⎥\n",
       "                  ⎥\n",
       "                  ⎥\n",
       "                  ⎦"
      ]
     },
     "execution_count": 22,
     "metadata": {},
     "output_type": "execute_result"
    }
   ],
   "source": [
    "simplify( dh(l1,0,0,t1)*dh(l2,0,0,t2) )"
   ]
  },
  {
   "cell_type": "code",
   "execution_count": 24,
   "metadata": {},
   "outputs": [],
   "source": [
    "H = htmrot(pi/2)*htmrot(pi/3, \"x\")"
   ]
  },
  {
   "cell_type": "code",
   "execution_count": 25,
   "metadata": {},
   "outputs": [
    {
     "data": {
      "image/png": "[encoded data removed]",
      "text/latex": [
       "$$\\left[\\begin{matrix}0 & - \\frac{1}{2} & \\frac{\\sqrt{3}}{2} & 0\\\\1 & 0 & 0 & 0\\\\0 & \\frac{\\sqrt{3}}{2} & \\frac{1}{2} & 0\\\\0 & 0 & 0 & 1\\end{matrix}\\right]$$"
      ],
      "text/plain": [
       "⎡         √3    ⎤\n",
       "⎢0  -1/2  ──   0⎥\n",
       "⎢         2     ⎥\n",
       "⎢               ⎥\n",
       "⎢1   0     0   0⎥\n",
       "⎢               ⎥\n",
       "⎢    √3         ⎥\n",
       "⎢0   ──   1/2  0⎥\n",
       "⎢    2          ⎥\n",
       "⎢               ⎥\n",
       "⎣0   0     0   1⎦"
      ]
     },
     "execution_count": 25,
     "metadata": {},
     "output_type": "execute_result"
    }
   ],
   "source": [
    "H"
   ]
  },
  {
   "cell_type": "code",
   "execution_count": 26,
   "metadata": {},
   "outputs": [
    {
     "data": {
      "image/png": "[encoded data removed]",
      "text/latex": [
       "$$\\left ( \\frac{\\pi}{2}, \\quad \\frac{\\pi}{3}, \\quad 0\\right )$$"
      ],
      "text/plain": [
       "⎛π  π   ⎞\n",
       "⎜─, ─, 0⎟\n",
       "⎝2  3   ⎠"
      ]
     },
     "execution_count": 26,
     "metadata": {},
     "output_type": "execute_result"
    }
   ],
   "source": [
    "htm2eul(H)"
   ]
  },
  {
   "cell_type": "code",
   "execution_count": 35,
   "metadata": {},
   "outputs": [],
   "source": [
    "r = Robot((l1,0,0,t1), (l2,0,0,t2), (l3,0,0,t3))"
   ]
  },
  {
   "cell_type": "code",
   "execution_count": 42,
   "metadata": {
    "scrolled": true
   },
   "outputs": [
    {
     "data": {
      "image/png": "[encoded data removed]",
      "text/latex": [
       "$$\\left[\\begin{matrix}- l_{1} \\sin{\\left (\\theta_1 \\right )} - l_{2} \\sin{\\left (\\theta_1 + \\theta_2 \\right )} - l_{3} \\sin{\\left (\\theta_1 + \\theta_2 + \\theta_3 \\right )} & - l_{2} \\sin{\\left (\\theta_1 + \\theta_2 \\right )} - l_{3} \\sin{\\left (\\theta_1 + \\theta_2 + \\theta_3 \\right )} & - l_{3} \\sin{\\left (\\theta_1 + \\theta_2 + \\theta_3 \\right )}\\\\l_{1} \\cos{\\left (\\theta_1 \\right )} + l_{2} \\cos{\\left (\\theta_1 + \\theta_2 \\right )} + l_{3} \\cos{\\left (\\theta_1 + \\theta_2 + \\theta_3 \\right )} & l_{2} \\cos{\\left (\\theta_1 + \\theta_2 \\right )} + l_{3} \\cos{\\left (\\theta_1 + \\theta_2 + \\theta_3 \\right )} & l_{3} \\cos{\\left (\\theta_1 + \\theta_2 + \\theta_3 \\right )}\\\\0 & 0 & 0\\\\0 & 0 & 0\\\\0 & 0 & 0\\\\1 & 1 & 1\\end{matrix}\\right]$$"
      ],
      "text/plain": [
       "⎡-l₁⋅sin(\\theta₁) - l₂⋅sin(\\theta₁ + \\theta₂) - l₃⋅sin(\\theta₁ + \\theta₂ + \\th\n",
       "⎢                                                                             \n",
       "⎢l₁⋅cos(\\theta₁) + l₂⋅cos(\\theta₁ + \\theta₂) + l₃⋅cos(\\theta₁ + \\theta₂ + \\the\n",
       "⎢                                                                             \n",
       "⎢                                        0                                    \n",
       "⎢                                                                             \n",
       "⎢                                        0                                    \n",
       "⎢                                                                             \n",
       "⎢                                        0                                    \n",
       "⎢                                                                             \n",
       "⎣                                        1                                    \n",
       "\n",
       "eta₃)  -l₂⋅sin(\\theta₁ + \\theta₂) - l₃⋅sin(\\theta₁ + \\theta₂ + \\theta₃)  -l₃⋅s\n",
       "                                                                              \n",
       "ta₃)   l₂⋅cos(\\theta₁ + \\theta₂) + l₃⋅cos(\\theta₁ + \\theta₂ + \\theta₃)   l₃⋅co\n",
       "                                                                              \n",
       "                                      0                                       \n",
       "                                                                              \n",
       "                                      0                                       \n",
       "                                                                              \n",
       "                                      0                                       \n",
       "                                                                              \n",
       "                                      1                                       \n",
       "\n",
       "in(\\theta₁ + \\theta₂ + \\theta₃)⎤\n",
       "                               ⎥\n",
       "s(\\theta₁ + \\theta₂ + \\theta₃) ⎥\n",
       "                               ⎥\n",
       "            0                  ⎥\n",
       "                               ⎥\n",
       "            0                  ⎥\n",
       "                               ⎥\n",
       "            0                  ⎥\n",
       "                               ⎥\n",
       "            1                  ⎦"
      ]
     },
     "execution_count": 42,
     "metadata": {},
     "output_type": "execute_result"
    }
   ],
   "source": [
    "r.J"
   ]
  },
  {
   "cell_type": "code",
   "execution_count": 69,
   "metadata": {},
   "outputs": [
    {
     "data": {
      "image/png": "[encoded data removed]",
      "text/plain": [
       "<Figure size 432x288 with 1 Axes>"
      ]
     },
     "metadata": {},
     "output_type": "display_data"
    }
   ],
   "source": [
    "%matplotlib inline\n",
    "r.plot_diagram({l1:100, l2:200, l3:200, t1:0, t2:0, t3:-pi/2})"
   ]
  },
  {
   "cell_type": "code",
   "execution_count": 78,
   "metadata": {},
   "outputs": [
    {
     "data": {
      "image/png": "[encoded data removed]",
      "text/plain": [
       "<Figure size 432x288 with 1 Axes>"
      ]
     },
     "metadata": {},
     "output_type": "display_data"
    }
   ],
   "source": [
    "puntos = [(0,0), (1,0), (0,2)]\n",
    "\n",
    "rb = RigidBody2D(puntos)\n",
    "rb.draw()\n",
    "rb.move([10,0,0])\n",
    "rb.rotate(pi/2)\n",
    "rb.draw(\"b\")\n",
    "rb.rotate(pi/4)\n",
    "rb.draw(\"y\")"
   ]
  },
  {
   "cell_type": "code",
   "execution_count": 80,
   "metadata": {},
   "outputs": [
    {
     "data": {
      "image/png": "[encoded data removed]",
      "text/latex": [
       "$$\\left[\\begin{matrix}- \\frac{\\sqrt{2}}{2} & - \\frac{\\sqrt{2}}{2} & 0 & 10\\\\\\frac{\\sqrt{2}}{2} & - \\frac{\\sqrt{2}}{2} & 0 & 0\\\\0 & 0 & 1 & 0\\\\0 & 0 & 0 & 1\\end{matrix}\\right]$$"
      ],
      "text/plain": [
       "⎡-√2   -√2        ⎤\n",
       "⎢────  ────  0  10⎥\n",
       "⎢ 2     2         ⎥\n",
       "⎢                 ⎥\n",
       "⎢ √2   -√2        ⎥\n",
       "⎢ ──   ────  0  0 ⎥\n",
       "⎢ 2     2         ⎥\n",
       "⎢                 ⎥\n",
       "⎢ 0     0    1  0 ⎥\n",
       "⎢                 ⎥\n",
       "⎣ 0     0    0  1 ⎦"
      ]
     },
     "execution_count": 80,
     "metadata": {},
     "output_type": "execute_result"
    }
   ],
   "source": [
    "rb.H"
   ]
  },
  {
   "cell_type": "code",
   "execution_count": null,
   "metadata": {},
   "outputs": [],
   "source": []
  }
 ],
 "metadata": {
  "kernelspec": {
   "display_name": "Python 3",
   "language": "python",
   "name": "python3"
  },
  "language_info": {
   "codemirror_mode": {
    "name": "ipython",
    "version": 3
   },
   "file_extension": ".py",
   "mimetype": "text/x-python",
   "name": "python",
   "nbconvert_exporter": "python",
   "pygments_lexer": "ipython3",
   "version": "3.6.5"
  }
 },
 "nbformat": 4,
 "nbformat_minor": 2
}
