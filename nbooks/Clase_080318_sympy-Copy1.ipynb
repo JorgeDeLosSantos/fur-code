{
 "cells": [
  {
   "cell_type": "code",
   "execution_count": 46,
   "metadata": {},
   "outputs": [],
   "source": [
    "from sympy import *\n",
    "from sympy.matrices import *\n",
    "init_printing(use_latex=true)\n",
    "\n",
    "t1,t2 = symbols('\\\\theta_1, \\\\theta_2')\n",
    "l1,l2 = symbols('l_1, l_2')\n",
    "\n",
    "def dh(a,alpha,d,theta):\n",
    "    M = Matrix([[cos(theta),-sin(theta)*cos(alpha),sin(theta)*sin(alpha),a*cos(theta)],\n",
    "                  [sin(theta),cos(theta)*cos(alpha),-cos(theta)*sin(alpha),a*sin(theta)],\n",
    "                  [0,sin(alpha),cos(alpha),d],\n",
    "                  [0,0,0,1]])\n",
    "    return M"
   ]
  },
  {
   "cell_type": "code",
   "execution_count": 49,
   "metadata": {},
   "outputs": [
    {
     "data": {
      "image/png": "[encoded data removed]",
      "text/latex": [
       "$$l_{1}^{2} + 2 l_{1} l_{2} \\cos{\\left (\\theta_2 \\right )} + l_{2}^{2}$$"
      ],
      "text/plain": [
       "  2                            2\n",
       "l₁  + 2⋅l₁⋅l₂⋅cos(\\theta₂) + l₂ "
      ]
     },
     "execution_count": 49,
     "metadata": {},
     "output_type": "execute_result"
    }
   ],
   "source": [
    "H = simplify(dh(l1,0,0,t1)*dh(l2,0,0,t2))\n",
    "px = H[0,3]\n",
    "py = H[1,3]\n",
    "simplify(px**2 + py**2)"
   ]
  },
  {
   "cell_type": "code",
   "execution_count": 41,
   "metadata": {},
   "outputs": [
    {
     "data": {
      "image/png": "[encoded data removed]",
      "text/latex": [
       "$$\\frac{l_{1} \\sin{\\left (\\theta_1 \\right )} + l_{2} \\sin{\\left (\\theta_1 \\right )} \\cos{\\left (\\theta_2 \\right )} + l_{2} \\sin{\\left (\\theta_2 \\right )} \\cos{\\left (\\theta_1 \\right )}}{l_{1} \\cos{\\left (\\theta_1 \\right )} - l_{2} \\sin{\\left (\\theta_1 \\right )} \\sin{\\left (\\theta_2 \\right )} + l_{2} \\cos{\\left (\\theta_1 \\right )} \\cos{\\left (\\theta_2 \\right )}} = \\frac{y}{x}$$"
      ],
      "text/plain": [
       "l₁⋅sin(\\theta₁) + l₂⋅sin(\\theta₁)⋅cos(\\theta₂) + l₂⋅sin(\\theta₂)⋅cos(\\theta₁) \n",
       "───────────────────────────────────────────────────────────────────────────── \n",
       "l₁⋅cos(\\theta₁) - l₂⋅sin(\\theta₁)⋅sin(\\theta₂) + l₂⋅cos(\\theta₁)⋅cos(\\theta₂) \n",
       "\n",
       "  y\n",
       "= ─\n",
       "  x"
      ]
     },
     "execution_count": 41,
     "metadata": {},
     "output_type": "execute_result"
    }
   ],
   "source": [
    "Eq(py/px, y/x)"
   ]
  },
  {
   "cell_type": "code",
   "execution_count": 43,
   "metadata": {},
   "outputs": [
    {
     "data": {
      "image/png": "[encoded data removed]",
      "text/latex": [
       "$$x \\left(l_{1} \\sin{\\left (\\theta_1 \\right )} + l_{2} \\sin{\\left (\\theta_1 \\right )} \\cos{\\left (\\theta_2 \\right )} + l_{2} \\sin{\\left (\\theta_2 \\right )} \\cos{\\left (\\theta_1 \\right )}\\right)$$"
      ],
      "text/plain": [
       "x⋅(l₁⋅sin(\\theta₁) + l₂⋅sin(\\theta₁)⋅cos(\\theta₂) + l₂⋅sin(\\theta₂)⋅cos(\\theta\n",
       "₁))"
      ]
     },
     "execution_count": 43,
     "metadata": {},
     "output_type": "execute_result"
    }
   ],
   "source": [
    "x*py"
   ]
  },
  {
   "cell_type": "code",
   "execution_count": 44,
   "metadata": {
    "scrolled": true
   },
   "outputs": [
    {
     "data": {
      "image/png": "[encoded data removed]",
      "text/latex": [
       "$$y \\left(l_{1} \\cos{\\left (\\theta_1 \\right )} - l_{2} \\sin{\\left (\\theta_1 \\right )} \\sin{\\left (\\theta_2 \\right )} + l_{2} \\cos{\\left (\\theta_1 \\right )} \\cos{\\left (\\theta_2 \\right )}\\right)$$"
      ],
      "text/plain": [
       "y⋅(l₁⋅cos(\\theta₁) - l₂⋅sin(\\theta₁)⋅sin(\\theta₂) + l₂⋅cos(\\theta₁)⋅cos(\\theta\n",
       "₂))"
      ]
     },
     "execution_count": 44,
     "metadata": {},
     "output_type": "execute_result"
    }
   ],
   "source": [
    "y*px"
   ]
  },
  {
   "cell_type": "markdown",
   "metadata": {},
   "source": [
    "### Método de Newton-Raphson"
   ]
  },
  {
   "cell_type": "code",
   "execution_count": 47,
   "metadata": {},
   "outputs": [],
   "source": [
    "def newton_raphson(J,b,X0,vals,eps=0.001,icg=[t1,t2]):\n",
    "    ei, k = [], 1\n",
    "    Jinv = J.inv().subs(vals)\n",
    "    b = b.subs(vals)\n",
    "    while True:\n",
    "        x = (Jinv.subs(X0)*b.subs(X0)).evalf()\n",
    "        ei.append([x.norm(),X0[icg[0]],X0[icg[1]]])\n",
    "        if x.norm()<eps: break\n",
    "        for jj,ky in enumerate(X0):\n",
    "            X0[ky] += (x[jj]).evalf()\n",
    "        k += 1\n",
    "    return X0,x,k,ei"
   ]
  },
  {
   "cell_type": "code",
   "execution_count": 67,
   "metadata": {},
   "outputs": [],
   "source": [
    "xp,yp = 2,2\n",
    "f1 = px - xp\n",
    "f2 = py - yp\n",
    "\n",
    "F = Matrix([f1,f2])\n",
    "J = F.jacobian([t1,t2])\n",
    "b = -F\n",
    "\n",
    "vals = {l1:3,l2:2}\n",
    "X0 = {t1:pi/3,t2:pi/6}\n",
    "sol,*_ = newton_raphson(J,b,X0,vals, eps=1e-8)"
   ]
  },
  {
   "cell_type": "code",
   "execution_count": 68,
   "metadata": {},
   "outputs": [
    {
     "data": {
      "image/png": "[encoded data removed]",
      "text/latex": [
       "$$\\left ( 4.99892170063176, \\quad 114.624318368404\\right )$$"
      ],
      "text/plain": [
       "(4.99892170063176, 114.624318368404)"
      ]
     },
     "execution_count": 68,
     "metadata": {},
     "output_type": "execute_result"
    }
   ],
   "source": [
    "(sol[t1]*180/pi).evalf(), (sol[t2]*180/pi).evalf()"
   ]
  },
  {
   "cell_type": "code",
   "execution_count": 70,
   "metadata": {},
   "outputs": [],
   "source": [
    "solve?"
   ]
  },
  {
   "cell_type": "code",
   "execution_count": 73,
   "metadata": {},
   "outputs": [],
   "source": [
    "def suma(a,b):\n",
    "    \"\"\" \n",
    "    Funcispá´psia so S S SDS\n",
    "    \n",
    "    a - int,float\n",
    "    b - int,float\n",
    "    \n",
    "    \"\"\"\n",
    "    return a+b"
   ]
  },
  {
   "cell_type": "code",
   "execution_count": null,
   "metadata": {},
   "outputs": [],
   "source": []
  }
 ],
 "metadata": {
  "kernelspec": {
   "display_name": "Python 3",
   "language": "python",
   "name": "python3"
  },
  "language_info": {
   "codemirror_mode": {
    "name": "ipython",
    "version": 3
   },
   "file_extension": ".py",
   "mimetype": "text/x-python",
   "name": "python",
   "nbconvert_exporter": "python",
   "pygments_lexer": "ipython3",
   "version": "3.6.3"
  }
 },
 "nbformat": 4,
 "nbformat_minor": 2
}
