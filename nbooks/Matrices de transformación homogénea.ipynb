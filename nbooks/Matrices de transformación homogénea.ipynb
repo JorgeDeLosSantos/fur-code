{
 "cells": [
  {
   "cell_type": "markdown",
   "metadata": {},
   "source": [
    "<center>\n",
    "<h1>Matrices de transformación homogénea: utilizando Python</h1>\n",
    "<font color=\"#127a69\"><b>\n",
    "Universidad Politécnica de Guanajuato <br>\n",
    "Departamento de Ingeniería Robótica <br>\n",
    "Fundamentos de Robótica <br>\n",
    "M.C. Pedro Jorge De Los Santos Lara\n",
    "</b></font>\n",
    "</center>\n",
    "\n"
   ]
  },
  {
   "cell_type": "code",
   "execution_count": 12,
   "metadata": {},
   "outputs": [],
   "source": [
    "import numpy as np \n",
    "import matplotlib.pyplot as plt\n",
    "from numpy import sin,cos,tan,arcsin,arccos,arctan,arctan2,sqrt,pi\n",
    "np.set_printoptions(suppress=True)\n",
    "%matplotlib inline\n",
    "\n",
    "def MR(t,axis=\"z\"):\n",
    "    \"\"\"\n",
    "    Calcula la matriz de transformación homogénea correspondiente a una rotación \n",
    "    en cualesquiera de los ejes coordenados.\n",
    "    \"\"\"\n",
    "    from numpy import sin,cos,tan\n",
    "    if axis in (\"z\",\"Z\",3):\n",
    "        M = np.array([[cos(t),-sin(t),0,0],\n",
    "                  [sin(t),cos(t),0,0],\n",
    "                  [0,0,1,0],\n",
    "                  [0,0,0,1]])\n",
    "    elif axis in (\"y\",\"Y\",2):\n",
    "        M = np.array([[cos(t),0,sin(t),0],\n",
    "                  [0,1,0,0],\n",
    "                  [-sin(t),0,cos(t),0],\n",
    "                  [0,0,0,1]])\n",
    "    elif axis in (\"x\",\"X\",1):\n",
    "        M = np.array([[1,0,0,0],\n",
    "                  [0,cos(t),-sin(t),0,],\n",
    "                  [0,sin(t),cos(t),0],\n",
    "                  [0,0,0,1]])\n",
    "    else:\n",
    "        return np.eye(3)\n",
    "    return M\n",
    "\n",
    "def MT(x,y,z):\n",
    "    M = np.array([[1,0,0,x],\n",
    "                  [0,1,0,y,],\n",
    "                  [0,0,1,z],\n",
    "                  [0,0,0,1]])\n",
    "    return M"
   ]
  },
  {
   "cell_type": "code",
   "execution_count": 13,
   "metadata": {},
   "outputs": [
    {
     "data": {
      "image/png": "[encoded data removed]",
      "text/plain": [
       "<Figure size 432x288 with 1 Axes>"
      ]
     },
     "metadata": {},
     "output_type": "display_data"
    }
   ],
   "source": [
    "A = np.array([0,0,0,1])\n",
    "B = np.array([2,0,0,1])\n",
    "C = np.array([0,1,0,1])\n",
    "H = np.dot(MT(2,2,0),MR(pi/3))\n",
    "\n",
    "A1 = np.dot(H,A)\n",
    "B1 = np.dot(H,B)\n",
    "C1 = np.dot(H,C)\n",
    "\n",
    "plt.fill([A[0],B[0],C[0]],[A[1],B[1],C[1]])\n",
    "plt.fill([A1[0],B1[0],C1[0]],[A1[1],B1[1],C1[1]])\n",
    "plt.axis('square')\n",
    "plt.grid(ls=\"--\");"
   ]
  },
  {
   "cell_type": "markdown",
   "metadata": {},
   "source": [
    "\n",
    "\n",
    "## No elemental"
   ]
  },
  {
   "cell_type": "code",
   "execution_count": 14,
   "metadata": {},
   "outputs": [],
   "source": [
    "class RigidBody(object):\n",
    "    \"\"\"\n",
    "    Define un cuerpo rígido en el plano mediante un sistema de partículas (puntos) \n",
    "    que lo conforman.\n",
    "    \"\"\"\n",
    "    def __init__(self,points):\n",
    "        self.points = points # Puntos que conforman el sólido rígido\n",
    "        \n",
    "    def rotate(self,angle,axis=\"z\"):\n",
    "        \"\"\"\n",
    "        Rota el cuerpo rígido un ángulo determinado alrededor \n",
    "        de un eje coordenado.\n",
    "        \"\"\"\n",
    "        _points = [] \n",
    "        for p in self.points:\n",
    "            Q = np.array([p[0],p[1],0,1]) # Coords. Homog.\n",
    "            R = MR(angle,axis) # Aplicando rotación\n",
    "            _points.append(np.dot(R,Q))\n",
    "        self.points = _points\n",
    "    \n",
    "    def move(self,q):\n",
    "        \"\"\"\n",
    "        Traslada el cuerpo rígido un vector q\n",
    "        \"\"\"\n",
    "        _points = [] \n",
    "        for p in self.points:\n",
    "            Q = np.array([p[0],p[1],0,1]) # Coords. Homog.\n",
    "            R = MT(q[0],q[1],q[2]) # Aplicando rotación\n",
    "            _points.append(np.dot(R,Q))\n",
    "        self.points = _points\n",
    "        \n",
    "    def scale(self,sf):\n",
    "        \"\"\"\n",
    "        Escala el cuerpo rígido\n",
    "        \"\"\"\n",
    "        _points = [] \n",
    "        for p in self.points:\n",
    "            Q = np.array([p[0],p[1],0,1]) # Coords. Homog.\n",
    "            S = self.SM(sf) # Aplicando escalado\n",
    "            _points.append(np.dot(S,Q))\n",
    "        self.points = _points\n",
    "    \n",
    "    def perspective(self,w):\n",
    "        \"\"\"\n",
    "        Escala el cuerpo rígido\n",
    "        \"\"\"\n",
    "        _points = [] \n",
    "        for p in self.points:\n",
    "            Q = np.array([p[0],p[1],0,1]) # Coords. Homog.\n",
    "            P = self.PM(w)\n",
    "            _points.append(np.dot(P,Q))\n",
    "        self.points = _points\n",
    "        \n",
    "    def SM(self,sf):\n",
    "        M = np.array([[sf,0,0,0],\n",
    "                      [0,sf,0,0],\n",
    "                      [0,0,sf,0],\n",
    "                      [0,0,0,sf]])\n",
    "        return M\n",
    "        \n",
    "    def PM(self,w):\n",
    "        M = np.array([[1,0,0,0],\n",
    "                      [0,1,0,0],\n",
    "                      [0,0,1,0],\n",
    "                      [w[0],w[1],w[2],1]])\n",
    "        return M\n",
    "        \n",
    "    def draw(self,color=\"r\"):\n",
    "        \"\"\"\n",
    "        Dibuja el cuerpo rígido en sus estatus actual\n",
    "        \"\"\"\n",
    "        X,Y = [],[]\n",
    "        for p in self.points:\n",
    "            X.append(p[0])\n",
    "            Y.append(p[1])\n",
    "        plt.fill(X,Y,color)\n",
    "#         plt.plot(X,Y,'.')\n",
    "        plt.axis('equal')\n",
    "        plt.grid(ls=\"--\")"
   ]
  },
  {
   "cell_type": "code",
   "execution_count": 26,
   "metadata": {},
   "outputs": [
    {
     "data": {
      "image/png": "[encoded data removed]",
      "text/plain": [
       "<Figure size 432x288 with 1 Axes>"
      ]
     },
     "metadata": {},
     "output_type": "display_data"
    }
   ],
   "source": [
    "from scipy.spatial import ConvexHull\n",
    "points = np.random.rand(1000, 2)   # 30 random points in 2-D\n",
    "#hull = ConvexHull(points)\n",
    "#points = points[hull.vertices]\n",
    "\n",
    "r = RigidBody(points)\n",
    "r.draw(\"r\")\n",
    "r.rotate(pi)\n",
    "r.draw(\"g\")\n",
    "r.move([2,5,0])\n",
    "r.draw(\"b\")\n",
    "r.rotate(pi/4)\n",
    "r.draw(\"y\")"
   ]
  },
  {
   "cell_type": "code",
   "execution_count": null,
   "metadata": {},
   "outputs": [],
   "source": []
  },
  {
   "cell_type": "code",
   "execution_count": null,
   "metadata": {},
   "outputs": [],
   "source": []
  },
  {
   "cell_type": "code",
   "execution_count": null,
   "metadata": {},
   "outputs": [],
   "source": []
  },
  {
   "cell_type": "code",
   "execution_count": null,
   "metadata": {},
   "outputs": [],
   "source": []
  },
  {
   "cell_type": "code",
   "execution_count": null,
   "metadata": {},
   "outputs": [],
   "source": []
  },
  {
   "cell_type": "code",
   "execution_count": null,
   "metadata": {},
   "outputs": [],
   "source": []
  },
  {
   "cell_type": "code",
   "execution_count": null,
   "metadata": {},
   "outputs": [],
   "source": []
  },
  {
   "cell_type": "code",
   "execution_count": 16,
   "metadata": {},
   "outputs": [],
   "source": [
    "class RigidBody2(object):\n",
    "    \"\"\"\n",
    "    Define un cuerpo rígido en el plano mediante un sistema de partículas (puntos) \n",
    "    que lo conforman.\n",
    "    \"\"\"\n",
    "    def __init__(self,points):\n",
    "        self._points = points # Puntos que conforman el sólido rígido\n",
    "        self.Hs = [np.eye(4),] # Matrices de transformación\n",
    "    \n",
    "    @property\n",
    "    def points(self):\n",
    "        _points = [] \n",
    "        H = self.H # Aplicando MTH\n",
    "        for p in self._points:\n",
    "            Q = np.array([p[0],p[1],0,1]) # Coords. Homog.\n",
    "            _points.append(np.dot(H,Q))\n",
    "        return _points\n",
    "    \n",
    "    @property\n",
    "    def H(self):\n",
    "        _h = np.eye(4)\n",
    "        for _mth in self.Hs:\n",
    "            _h = np.dot(_h,_mth)\n",
    "        return _h\n",
    "    \n",
    "    def rotate(self,angle,axis=\"z\"):\n",
    "        \"\"\"\n",
    "        Rota el cuerpo rígido un ángulo determinado alrededor \n",
    "        de un eje coordenado.\n",
    "        \"\"\"\n",
    "        R = MR(angle,axis) # Aplicando rotación\n",
    "        self.Hs.append(R)\n",
    "    \n",
    "    def move(self,q):\n",
    "        \"\"\"\n",
    "        Traslada el cuerpo rígido un vector q\n",
    "        \"\"\"\n",
    "        T = MT(q[0],q[1],q[2]) # Aplicando traslación\n",
    "        self.Hs.append(T)\n",
    "        \n",
    "    def scale(self,sf):\n",
    "        \"\"\"\n",
    "        Escala el cuerpo rígido\n",
    "        \"\"\"\n",
    "        #S = self.SM(sf) # Aplicando escalado\n",
    "        #self.Hs.append(S)\n",
    "        pass\n",
    "\n",
    "    def SM(self,sf):\n",
    "        M = np.array([[sf,0,0,0],\n",
    "                      [0,sf,0,0],\n",
    "                      [0,0,sf,0],\n",
    "                      [0,0,0,sf]])\n",
    "        return M\n",
    "        \n",
    "    def draw(self,color=\"r\"):\n",
    "        \"\"\"\n",
    "        Dibuja el cuerpo rígido en sus estatus actual\n",
    "        \"\"\"\n",
    "        X,Y = [],[]\n",
    "        for p in self.points:\n",
    "            X.append(p[0])\n",
    "            Y.append(p[1])\n",
    "        plt.fill(X,Y,color)\n",
    "        plt.axis('equal')\n",
    "        plt.grid(ls=\"--\")"
   ]
  },
  {
   "cell_type": "code",
   "execution_count": 25,
   "metadata": {},
   "outputs": [
    {
     "data": {
      "image/png": "[encoded data removed]",
      "text/plain": [
       "<Figure size 432x288 with 1 Axes>"
      ]
     },
     "metadata": {},
     "output_type": "display_data"
    }
   ],
   "source": [
    "points = [(0,0),(0,1),(2,0)]\n",
    "rx = RigidBody2(points)\n",
    "rx.draw(\"#000000\")\n",
    "rx.rotate(pi)\n",
    "rx.draw(\"r\")\n",
    "rx.move([5,0,0])\n",
    "rx.draw(\"g\")\n",
    "rx.rotate(pi/2)\n",
    "rx.draw(\"b\")\n",
    "rx.move([1,2,3])\n",
    "rx.draw()"
   ]
  },
  {
   "cell_type": "code",
   "execution_count": 24,
   "metadata": {},
   "outputs": [
    {
     "data": {
      "image/png": "[encoded data removed]",
      "text/plain": [
       "<Figure size 432x288 with 1 Axes>"
      ]
     },
     "metadata": {},
     "output_type": "display_data"
    }
   ],
   "source": []
  },
  {
   "cell_type": "code",
   "execution_count": null,
   "metadata": {},
   "outputs": [],
   "source": []
  }
 ],
 "metadata": {
  "kernelspec": {
   "display_name": "Python 3",
   "language": "python",
   "name": "python3"
  },
  "language_info": {
   "codemirror_mode": {
    "name": "ipython",
    "version": 3
   },
   "file_extension": ".py",
   "mimetype": "text/x-python",
   "name": "python",
   "nbconvert_exporter": "python",
   "pygments_lexer": "ipython3",
   "version": "3.6.5"
  }
 },
 "nbformat": 4,
 "nbformat_minor": 2
}
