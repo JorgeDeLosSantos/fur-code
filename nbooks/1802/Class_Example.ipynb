{
 "cells": [
  {
   "cell_type": "code",
   "execution_count": 6,
   "metadata": {},
   "outputs": [
    {
     "data": {
      "image/png": "[encoded data removed]",
      "text/latex": [
       "$$\\left ( 1.75151730406028, \\quad 15.9548325344686, \\quad -191.400639548959, \\quad -1.90909946474708, \\quad 40.4478178611336, \\quad -89.7856647424455\\right )$$"
      ],
      "text/plain": [
       "(1.75151730406028, 15.9548325344686, -191.400639548959, -1.90909946474708, 40.\n",
       "4478178611336, -89.7856647424455)"
      ]
     },
     "execution_count": 6,
     "metadata": {},
     "output_type": "execute_result"
    }
   ],
   "source": [
    "from furlib import *\n",
    "def dh(a,alpha,d,theta):\n",
    "    \"\"\"\n",
    "    Calcula la matriz de Denavit-Hartenberg de manera simbólica\n",
    "    \"\"\"\n",
    "    M = Matrix([[cos(theta),-sin(theta)*cos(alpha),sin(theta)*sin(alpha),a*cos(theta)],\n",
    "                  [sin(theta),cos(theta)*cos(alpha),-cos(theta)*sin(alpha),a*sin(theta)],\n",
    "                  [0,sin(alpha),cos(alpha),d],\n",
    "                  [0,0,0,1]])\n",
    "    return M\n",
    "\n",
    "\n",
    "d1 = 486.5\n",
    "a1 = 150\n",
    "a2 = 475\n",
    "d4 = 600\n",
    "d6 = 65\n",
    "\n",
    "deg = lambda x: (x*180/pi).evalf()\n",
    "\n",
    "x,y,z = 700,20,1000\n",
    "\n",
    "H = Matrix([[0,-0.70711,0.70711,700],[1,0,0,20],[0,0.70711,0.70711,1000],[0,0,0,1]])\n",
    "\n",
    "xm,ym,zm = x - d6*H[0,2], y - d6*H[1,2], z - d6*H[2,2]\n",
    "\n",
    "T1 = atan2(ym,xm)\n",
    "c = sqrt(xm**2 + ym**2)\n",
    "a = c - a1\n",
    "b = zm - d1\n",
    "r = sqrt(a**2 + b**2)\n",
    "K1 = (r**2 + a2**2 - d4**2)/(2*r*a2)\n",
    "K2 = (r**2 - a2**2 - d4**2)/(2*a2*d4)\n",
    "alpha = atan2(b,a)\n",
    "beta = atan2(sqrt(1-K1**2), K1)\n",
    "T2 = -(alpha - beta)\n",
    "T3 = -( atan2(sqrt(1-K2**2), K2) + pi/2 )\n",
    "\n",
    "R3_0 = (simplify(dh(150,-pi/2,486.5,t1)*dh(475,0,0,t2)*dh(0,-pi/2,0,t3))[:3,:3]).subs({t1:T1, t2:T2, t3:T3})\n",
    "R6_0 = H[:3,:3]\n",
    "\n",
    "B = R3_0.inv()*(R6_0)\n",
    "\n",
    "T4 = atan2(-B[1,2], -B[0,2])\n",
    "T5 = atan2(sqrt(1-B[2,2]**2), B[2,2])\n",
    "T6 = atan2(-B[2,1], B[2,0])\n",
    "\n",
    "deg(T1),deg(T2),deg(T3),deg(T4),deg(T5),deg(T6)"
   ]
  },
  {
   "cell_type": "code",
   "execution_count": 7,
   "metadata": {},
   "outputs": [
    {
     "data": {
      "image/png": "[encoded data removed]",
      "text/latex": [
       "$$\\left[\\begin{matrix}-2.08318087172726 \\cdot 10^{-9} & -0.707110556825136 & 0.707103005527799 & 699.999545359307\\\\1.0 & 1.70284993662208 \\cdot 10^{-8} & 1.99747595889914 \\cdot 10^{-8} & 20.0000012983594\\\\-2.61652664569623 \\cdot 10^{-8} & 0.707103005527799 & 0.707110556825135 & 1000.00003619363\\\\0 & 0 & 0 & 1\\end{matrix}\\right]$$"
      ],
      "text/plain": [
       "⎡-2.08318087172726e-9  -0.707110556825136    0.707103005527799   699.999545359\n",
       "⎢                                                                             \n",
       "⎢        1.0           1.70284993662208e-8  1.99747595889914e-8  20.0000012983\n",
       "⎢                                                                             \n",
       "⎢-2.61652664569623e-8   0.707103005527799    0.707110556825135   1000.00003619\n",
       "⎢                                                                             \n",
       "⎣         0                     0                    0                  1     \n",
       "\n",
       "307⎤\n",
       "   ⎥\n",
       "594⎥\n",
       "   ⎥\n",
       "363⎥\n",
       "   ⎥\n",
       "   ⎦"
      ]
     },
     "execution_count": 7,
     "metadata": {},
     "output_type": "execute_result"
    }
   ],
   "source": [
    "vals = {t1:T1, t2:T2, t3:T3, t4:T4, t5:T5, t6:T6}\n",
    "simplify((dh(150,-pi/2,486.5,t1)*dh(475,0,0,t2)*dh(0,-pi/2,0,t3)*dh(0,pi/2,600,t4)*dh(0,-pi/2,0,t5)*dh(0,0,65,t6)).subs(vals))"
   ]
  },
  {
   "cell_type": "code",
   "execution_count": null,
   "metadata": {},
   "outputs": [],
   "source": []
  }
 ],
 "metadata": {
  "kernelspec": {
   "display_name": "Python 3",
   "language": "python",
   "name": "python3"
  },
  "language_info": {
   "codemirror_mode": {
    "name": "ipython",
    "version": 3
   },
   "file_extension": ".py",
   "mimetype": "text/x-python",
   "name": "python",
   "nbconvert_exporter": "python",
   "pygments_lexer": "ipython3",
   "version": "3.6.5"
  }
 },
 "nbformat": 4,
 "nbformat_minor": 2
}
