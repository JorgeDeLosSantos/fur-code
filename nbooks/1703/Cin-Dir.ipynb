{
 "cells": [
  {
   "cell_type": "code",
   "execution_count": 9,
   "metadata": {},
   "outputs": [],
   "source": [
    "from sympy import *\n",
    "init_printing(use_latex=true)\n",
    "\n",
    "t1,t2,t3,t4,t5,t6 = symbols('\\\\theta_1:7')\n",
    "a1,a2,a3,a4,a5,a6 = symbols('a_1:7')\n",
    "d1,d2,d3,d4,d5,d6 = symbols('d_1:7')\n",
    "alpha1,alpha2,alpha3,alpha4,alpha5,alpha6 = symbols('\\\\alpha_1:7')\n",
    "\n",
    "def dhs(a,alpha,d,theta):\n",
    "    M = Matrix([[cos(theta),-sin(theta)*cos(alpha),sin(theta)*sin(alpha),a*cos(theta)],\n",
    "                  [sin(theta),cos(theta)*cos(alpha),-cos(theta)*sin(alpha),a*sin(theta)],\n",
    "                  [0,sin(alpha),cos(alpha),d],\n",
    "                  [0,0,0,1]])\n",
    "    return M\n",
    "\n",
    "def Rz(t):\n",
    "    M = Matrix([[cos(t),-sin(t),0,0],\n",
    "                  [sin(t),cos(t),0,0],\n",
    "                  [0,0,1,0],\n",
    "                  [0,0,0,1]])\n",
    "    return M\n",
    "\n",
    "def Ry(t):\n",
    "    M = Matrix([[cos(t),0,sin(t),0],\n",
    "                  [0,1,0,0],\n",
    "                  [-sin(t),0,cos(t),0],\n",
    "                  [0,0,0,1]])\n",
    "    return M\n",
    "\n",
    "def Rx(t):\n",
    "    M = Matrix([[1,0,0,0],\n",
    "                  [0,cos(t),-sin(t),0,],\n",
    "                  [0,sin(t),cos(t),0],\n",
    "                  [0,0,0,1]])\n",
    "    return M\n",
    "\n",
    "def T(px,py,pz):\n",
    "    M = Matrix([[1,0,0,px],\n",
    "                [0,1,0,py],\n",
    "                [0,0,1,pz],\n",
    "                [0,0,0,1]])\n",
    "    return M\n"
   ]
  },
  {
   "cell_type": "code",
   "execution_count": 15,
   "metadata": {},
   "outputs": [],
   "source": [
    "TT = T(0,0,d1)*Rz(t1)*T(a1,0,0)*Rx(alpha1)"
   ]
  },
  {
   "cell_type": "code",
   "execution_count": 17,
   "metadata": {},
   "outputs": [
    {
     "data": {
      "image/png": "[encoded data removed]",
      "text/latex": [
       "$$\\left[\\begin{matrix}\\cos{\\left (\\theta_1 \\right )} & \\sin{\\left (\\theta_1 \\right )} & 0 & - a_{1}\\\\- \\sin{\\left (\\theta_1 \\right )} \\cos{\\left (\\alpha_1 \\right )} & \\cos{\\left (\\alpha_1 \\right )} \\cos{\\left (\\theta_1 \\right )} & \\sin{\\left (\\alpha_1 \\right )} & - d_{1} \\sin{\\left (\\alpha_1 \\right )}\\\\\\sin{\\left (\\alpha_1 \\right )} \\sin{\\left (\\theta_1 \\right )} & - \\sin{\\left (\\alpha_1 \\right )} \\cos{\\left (\\theta_1 \\right )} & \\cos{\\left (\\alpha_1 \\right )} & - d_{1} \\cos{\\left (\\alpha_1 \\right )}\\\\0 & 0 & 0 & 1\\end{matrix}\\right]$$"
      ],
      "text/plain": [
       "⎡       cos(\\theta₁)                sin(\\theta₁)              0              -\n",
       "⎢                                                                             \n",
       "⎢-sin(\\theta₁)⋅cos(\\alpha₁)  cos(\\alpha₁)⋅cos(\\theta₁)   sin(\\alpha₁)  -d₁⋅sin\n",
       "⎢                                                                             \n",
       "⎢sin(\\alpha₁)⋅sin(\\theta₁)   -sin(\\alpha₁)⋅cos(\\theta₁)  cos(\\alpha₁)  -d₁⋅cos\n",
       "⎢                                                                             \n",
       "⎣            0                           0                    0               \n",
       "\n",
       "a₁       ⎤\n",
       "         ⎥\n",
       "(\\alpha₁)⎥\n",
       "         ⎥\n",
       "(\\alpha₁)⎥\n",
       "         ⎥\n",
       "1        ⎦"
      ]
     },
     "execution_count": 17,
     "metadata": {},
     "output_type": "execute_result"
    }
   ],
   "source": [
    "simplify(TT.inv())"
   ]
  },
  {
   "cell_type": "code",
   "execution_count": 32,
   "metadata": {},
   "outputs": [
    {
     "data": {
      "image/png": "[encoded data removed]",
      "text/latex": [
       "$$\\left[\\begin{matrix}\\cos{\\left (\\theta_1 + \\theta_2 + \\theta_3 + \\theta_4 \\right )} & - \\sin{\\left (\\theta_1 + \\theta_2 + \\theta_3 + \\theta_4 \\right )} & 0 & a_{1} \\cos{\\left (\\theta_1 \\right )} - a_{2} \\sin{\\left (\\theta_1 \\right )} \\sin{\\left (\\theta_2 \\right )} + a_{2} \\cos{\\left (\\theta_1 \\right )} \\cos{\\left (\\theta_2 \\right )} - a_{3} \\sin{\\left (\\theta_3 \\right )} \\sin{\\left (\\theta_1 + \\theta_2 \\right )} + a_{3} \\cos{\\left (\\theta_3 \\right )} \\cos{\\left (\\theta_1 + \\theta_2 \\right )} - a_{4} \\sin{\\left (\\theta_4 \\right )} \\sin{\\left (\\theta_1 + \\theta_2 + \\theta_3 \\right )} + a_{4} \\cos{\\left (\\theta_4 \\right )} \\cos{\\left (\\theta_1 + \\theta_2 + \\theta_3 \\right )}\\\\\\sin{\\left (\\theta_1 + \\theta_2 + \\theta_3 + \\theta_4 \\right )} & \\cos{\\left (\\theta_1 + \\theta_2 + \\theta_3 + \\theta_4 \\right )} & 0 & a_{1} \\sin{\\left (\\theta_1 \\right )} + a_{2} \\sin{\\left (\\theta_1 + \\theta_2 \\right )} + a_{3} \\sin{\\left (\\theta_1 + \\theta_2 + \\theta_3 \\right )} + a_{4} \\sin{\\left (\\theta_1 + \\theta_2 + \\theta_3 + \\theta_4 \\right )}\\\\0 & 0 & 1 & 0\\\\0 & 0 & 0 & 1\\end{matrix}\\right] = \\left[\\begin{matrix}1 & 0 & 0 & 0\\\\0 & 1 & 0 & 0\\\\0 & 0 & 1 & 0\\\\0 & 0 & 0 & 1\\end{matrix}\\right]$$"
      ],
      "text/plain": [
       "⎡cos(\\theta₁ + \\theta₂ + \\theta₃ + \\theta₄)  -sin(\\theta₁ + \\theta₂ + \\theta₃ \n",
       "⎢                                                                             \n",
       "⎢sin(\\theta₁ + \\theta₂ + \\theta₃ + \\theta₄)  cos(\\theta₁ + \\theta₂ + \\theta₃ +\n",
       "⎢                                                                             \n",
       "⎢                    0                                            0           \n",
       "⎢                                                                             \n",
       "⎣                    0                                            0           \n",
       "\n",
       "+ \\theta₄)  0  a₁⋅cos(\\theta₁) - a₂⋅sin(\\theta₁)⋅sin(\\theta₂) + a₂⋅cos(\\theta₁\n",
       "                                                                              \n",
       " \\theta₄)   0                                                                 \n",
       "                                                                              \n",
       "            1                                                                 \n",
       "                                                                              \n",
       "            0                                                                 \n",
       "\n",
       ")⋅cos(\\theta₂) - a₃⋅sin(\\theta₃)⋅sin(\\theta₁ + \\theta₂) + a₃⋅cos(\\theta₃)⋅cos(\n",
       "                                                                              \n",
       "   a₁⋅sin(\\theta₁) + a₂⋅sin(\\theta₁ + \\theta₂) + a₃⋅sin(\\theta₁ + \\theta₂ + \\t\n",
       "                                                                              \n",
       "                                                                   0          \n",
       "                                                                              \n",
       "                                                                   1          \n",
       "\n",
       "\\theta₁ + \\theta₂) - a₄⋅sin(\\theta₄)⋅sin(\\theta₁ + \\theta₂ + \\theta₃) + a₄⋅cos\n",
       "                                                                              \n",
       "heta₃) + a₄⋅sin(\\theta₁ + \\theta₂ + \\theta₃ + \\theta₄)                        \n",
       "                                                                              \n",
       "                                                                              \n",
       "                                                                              \n",
       "                                                                              \n",
       "\n",
       "(\\theta₄)⋅cos(\\theta₁ + \\theta₂ + \\theta₃)⎤   ⎡1  0  0  0⎤\n",
       "                                          ⎥   ⎢          ⎥\n",
       "                                          ⎥   ⎢0  1  0  0⎥\n",
       "                                          ⎥ = ⎢          ⎥\n",
       "                                          ⎥   ⎢0  0  1  0⎥\n",
       "                                          ⎥   ⎢          ⎥\n",
       "                                          ⎦   ⎣0  0  0  1⎦"
      ]
     },
     "execution_count": 32,
     "metadata": {},
     "output_type": "execute_result"
    }
   ],
   "source": [
    "Eq(simplify(dhs(a1,0,0,t1)*dhs(a2,0,0,t2)*dhs(a3,0,0,t3)*dhs(a4,0,0,t4)),eye(4))"
   ]
  },
  {
   "cell_type": "code",
   "execution_count": null,
   "metadata": {},
   "outputs": [],
   "source": []
  }
 ],
 "metadata": {
  "kernelspec": {
   "display_name": "Python 3",
   "language": "python",
   "name": "python3"
  },
  "language_info": {
   "codemirror_mode": {
    "name": "ipython",
    "version": 3
   },
   "file_extension": ".py",
   "mimetype": "text/x-python",
   "name": "python",
   "nbconvert_exporter": "python",
   "pygments_lexer": "ipython3",
   "version": "3.6.3"
  }
 },
 "nbformat": 4,
 "nbformat_minor": 2
}
