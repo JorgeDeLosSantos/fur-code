{
 "cells": [
  {
   "cell_type": "markdown",
   "metadata": {},
   "source": [
    "<center>\n",
    "<h1>Introducción a RKD</h1>\n",
    "<font color=\"#127a69\"><b>\n",
    "Universidad Politécnica de Guanajuato <br>\n",
    "Departamento de Ingeniería Robótica <br>\n",
    "Fundamentos de Robótica\n",
    "</b></font>\n",
    "</center>"
   ]
  },
  {
   "cell_type": "markdown",
   "metadata": {},
   "source": [
    "RKD es una librería Python diseñada para el análisis cinemático y dinámico de manipuladores. El módulo a revisar en estas notas está pensado como herramienta didáctica en la enseñanza de la cinemática de manipuladores y está basado en la librería SymPy. La otra sección de la librería está pensada para un uso más general y utiliza NumPy como base. \n",
    "\n",
    "El código base y la documentación puede encontrarlas en https://github.com/iro-upgto/rkd.\n",
    "\n",
    "\n",
    "## Importando la librería\n",
    "\n",
    "Podemos importar la librería como sigue:"
   ]
  },
  {
   "cell_type": "code",
   "execution_count": 7,
   "metadata": {},
   "outputs": [],
   "source": [
    "from rkd.didactic import *"
   ]
  },
  {
   "cell_type": "markdown",
   "metadata": {},
   "source": [
    "Con ello tendremos disponibles muchas variables, funciones y clases disponibles (incluyendo las nativas de SymPy). Por ejemplo:"
   ]
  },
  {
   "cell_type": "code",
   "execution_count": 21,
   "metadata": {},
   "outputs": [
    {
     "data": {
      "image/png": "[encoded data removed]",
      "text/latex": [
       "$$\\left ( a_{1}, \\quad d_{1}, \\quad \\theta_1, \\quad l_{1}, \\quad x_{0}, \\quad y_{0}, \\quad z_{0}, \\quad \\alpha\\right )$$"
      ],
      "text/plain": [
       "(a₁, d₁, \\theta₁, l₁, x₀, y₀, z₀, α)"
      ]
     },
     "execution_count": 21,
     "metadata": {},
     "output_type": "execute_result"
    }
   ],
   "source": [
    "a1,d1,t1,l1,x0,y0,z0,alpha"
   ]
  },
  {
   "cell_type": "markdown",
   "metadata": {},
   "source": [
    "## Matrices de rotación\n",
    "\n",
    "### Matrices de rotación básicas"
   ]
  },
  {
   "cell_type": "code",
   "execution_count": 25,
   "metadata": {},
   "outputs": [
    {
     "data": {
      "image/png": "[encoded data removed]",
      "text/latex": [
       "$$\\left ( \\left[\\begin{matrix}1 & 0 & 0\\\\0 & \\cos{\\left (\\theta \\right )} & - \\sin{\\left (\\theta \\right )}\\\\0 & \\sin{\\left (\\theta \\right )} & \\cos{\\left (\\theta \\right )}\\end{matrix}\\right], \\quad \\left[\\begin{matrix}\\cos{\\left (\\theta \\right )} & 0 & \\sin{\\left (\\theta \\right )}\\\\0 & 1 & 0\\\\- \\sin{\\left (\\theta \\right )} & 0 & \\cos{\\left (\\theta \\right )}\\end{matrix}\\right], \\quad \\left[\\begin{matrix}\\cos{\\left (\\theta \\right )} & - \\sin{\\left (\\theta \\right )} & 0\\\\\\sin{\\left (\\theta \\right )} & \\cos{\\left (\\theta \\right )} & 0\\\\0 & 0 & 1\\end{matrix}\\right]\\right )$$"
      ],
      "text/plain": [
       "⎛⎡1    0        0   ⎤  ⎡cos(θ)   0  sin(θ)⎤  ⎡cos(θ)  -sin(θ)  0⎤⎞\n",
       "⎜⎢                  ⎥  ⎢                  ⎥  ⎢                  ⎥⎟\n",
       "⎜⎢0  cos(θ)  -sin(θ)⎥, ⎢   0     1    0   ⎥, ⎢sin(θ)  cos(θ)   0⎥⎟\n",
       "⎜⎢                  ⎥  ⎢                  ⎥  ⎢                  ⎥⎟\n",
       "⎝⎣0  sin(θ)  cos(θ) ⎦  ⎣-sin(θ)  0  cos(θ)⎦  ⎣  0        0     1⎦⎠"
      ]
     },
     "execution_count": 25,
     "metadata": {},
     "output_type": "execute_result"
    }
   ],
   "source": [
    "rotx(theta), roty(theta), rotz(theta)"
   ]
  },
  {
   "cell_type": "markdown",
   "metadata": {},
   "source": [
    "### Composición de matrices"
   ]
  },
  {
   "cell_type": "code",
   "execution_count": 26,
   "metadata": {},
   "outputs": [
    {
     "data": {
      "image/png": "[encoded data removed]",
      "text/latex": [
       "$$\\left[\\begin{matrix}\\cos{\\left (\\psi \\right )} \\cos{\\left (\\theta \\right )} & - \\sin{\\left (\\psi \\right )} \\cos{\\left (\\theta \\right )} & \\sin{\\left (\\theta \\right )}\\\\\\sin{\\left (\\phi \\right )} \\sin{\\left (\\theta \\right )} \\cos{\\left (\\psi \\right )} + \\sin{\\left (\\psi \\right )} \\cos{\\left (\\phi \\right )} & - \\sin{\\left (\\phi \\right )} \\sin{\\left (\\psi \\right )} \\sin{\\left (\\theta \\right )} + \\cos{\\left (\\phi \\right )} \\cos{\\left (\\psi \\right )} & - \\sin{\\left (\\phi \\right )} \\cos{\\left (\\theta \\right )}\\\\\\sin{\\left (\\phi \\right )} \\sin{\\left (\\psi \\right )} - \\sin{\\left (\\theta \\right )} \\cos{\\left (\\phi \\right )} \\cos{\\left (\\psi \\right )} & \\sin{\\left (\\phi \\right )} \\cos{\\left (\\psi \\right )} + \\sin{\\left (\\psi \\right )} \\sin{\\left (\\theta \\right )} \\cos{\\left (\\phi \\right )} & \\cos{\\left (\\phi \\right )} \\cos{\\left (\\theta \\right )}\\end{matrix}\\right]$$"
      ],
      "text/plain": [
       "⎡           cos(ψ)⋅cos(θ)                         -sin(ψ)⋅cos(θ)              \n",
       "⎢                                                                             \n",
       "⎢sin(φ)⋅sin(θ)⋅cos(ψ) + sin(ψ)⋅cos(φ)  -sin(φ)⋅sin(ψ)⋅sin(θ) + cos(φ)⋅cos(ψ)  \n",
       "⎢                                                                             \n",
       "⎣sin(φ)⋅sin(ψ) - sin(θ)⋅cos(φ)⋅cos(ψ)  sin(φ)⋅cos(ψ) + sin(ψ)⋅sin(θ)⋅cos(φ)   \n",
       "\n",
       "    sin(θ)    ⎤\n",
       "              ⎥\n",
       "-sin(φ)⋅cos(θ)⎥\n",
       "              ⎥\n",
       "cos(φ)⋅cos(θ) ⎦"
      ]
     },
     "execution_count": 26,
     "metadata": {},
     "output_type": "execute_result"
    }
   ],
   "source": [
    "rotx(phi)*roty(theta)*rotz(psi)"
   ]
  },
  {
   "cell_type": "code",
   "execution_count": 31,
   "metadata": {},
   "outputs": [
    {
     "data": {
      "image/png": "[encoded data removed]",
      "text/latex": [
       "$$\\left[\\begin{matrix}\\cos{\\left (\\psi \\right )} \\cos{\\left (\\theta \\right )} & - \\sin{\\left (\\psi \\right )} \\cos{\\left (\\theta \\right )} & \\sin{\\left (\\theta \\right )}\\\\\\sin{\\left (\\phi \\right )} \\sin{\\left (\\theta \\right )} \\cos{\\left (\\psi \\right )} + \\sin{\\left (\\psi \\right )} \\cos{\\left (\\phi \\right )} & - \\sin{\\left (\\phi \\right )} \\sin{\\left (\\psi \\right )} \\sin{\\left (\\theta \\right )} + \\cos{\\left (\\phi \\right )} \\cos{\\left (\\psi \\right )} & - \\sin{\\left (\\phi \\right )} \\cos{\\left (\\theta \\right )}\\\\\\sin{\\left (\\phi \\right )} \\sin{\\left (\\psi \\right )} - \\sin{\\left (\\theta \\right )} \\cos{\\left (\\phi \\right )} \\cos{\\left (\\psi \\right )} & \\sin{\\left (\\phi \\right )} \\cos{\\left (\\psi \\right )} + \\sin{\\left (\\psi \\right )} \\sin{\\left (\\theta \\right )} \\cos{\\left (\\phi \\right )} & \\cos{\\left (\\phi \\right )} \\cos{\\left (\\theta \\right )}\\end{matrix}\\right]$$"
      ],
      "text/plain": [
       "⎡           cos(ψ)⋅cos(θ)                         -sin(ψ)⋅cos(θ)              \n",
       "⎢                                                                             \n",
       "⎢sin(φ)⋅sin(θ)⋅cos(ψ) + sin(ψ)⋅cos(φ)  -sin(φ)⋅sin(ψ)⋅sin(θ) + cos(φ)⋅cos(ψ)  \n",
       "⎢                                                                             \n",
       "⎣sin(φ)⋅sin(ψ) - sin(θ)⋅cos(φ)⋅cos(ψ)  sin(φ)⋅cos(ψ) + sin(ψ)⋅sin(θ)⋅cos(φ)   \n",
       "\n",
       "    sin(θ)    ⎤\n",
       "              ⎥\n",
       "-sin(φ)⋅cos(θ)⎥\n",
       "              ⎥\n",
       "cos(φ)⋅cos(θ) ⎦"
      ]
     },
     "execution_count": 31,
     "metadata": {},
     "output_type": "execute_result"
    }
   ],
   "source": [
    "compose_rotations((phi,\"x\",\"local\"),(theta,\"y\",\"local\"),(psi,\"z\",\"local\"))"
   ]
  },
  {
   "cell_type": "code",
   "execution_count": 33,
   "metadata": {},
   "outputs": [
    {
     "data": {
      "image/png": "[encoded data removed]",
      "text/latex": [
       "$$\\left[\\begin{matrix}\\cos{\\left (\\theta \\right )} & - \\sin{\\left (\\theta \\right )} \\cos{\\left (\\phi \\right )} & \\sin{\\left (\\phi \\right )} \\sin{\\left (\\theta \\right )}\\\\\\sin{\\left (\\theta \\right )} \\cos{\\left (\\psi \\right )} & - \\sin{\\left (\\phi \\right )} \\sin{\\left (\\psi \\right )} + \\cos{\\left (\\phi \\right )} \\cos{\\left (\\psi \\right )} \\cos{\\left (\\theta \\right )} & - \\sin{\\left (\\phi \\right )} \\cos{\\left (\\psi \\right )} \\cos{\\left (\\theta \\right )} - \\sin{\\left (\\psi \\right )} \\cos{\\left (\\phi \\right )}\\\\\\sin{\\left (\\psi \\right )} \\sin{\\left (\\theta \\right )} & \\sin{\\left (\\phi \\right )} \\cos{\\left (\\psi \\right )} + \\sin{\\left (\\psi \\right )} \\cos{\\left (\\phi \\right )} \\cos{\\left (\\theta \\right )} & - \\sin{\\left (\\phi \\right )} \\sin{\\left (\\psi \\right )} \\cos{\\left (\\theta \\right )} + \\cos{\\left (\\phi \\right )} \\cos{\\left (\\psi \\right )}\\end{matrix}\\right]$$"
      ],
      "text/plain": [
       "⎡   cos(θ)                 -sin(θ)⋅cos(φ)                          sin(φ)⋅sin(\n",
       "⎢                                                                             \n",
       "⎢sin(θ)⋅cos(ψ)  -sin(φ)⋅sin(ψ) + cos(φ)⋅cos(ψ)⋅cos(θ)  -sin(φ)⋅cos(ψ)⋅cos(θ) -\n",
       "⎢                                                                             \n",
       "⎣sin(ψ)⋅sin(θ)  sin(φ)⋅cos(ψ) + sin(ψ)⋅cos(φ)⋅cos(θ)   -sin(φ)⋅sin(ψ)⋅cos(θ) +\n",
       "\n",
       "θ)            ⎤\n",
       "              ⎥\n",
       " sin(ψ)⋅cos(φ)⎥\n",
       "              ⎥\n",
       " cos(φ)⋅cos(ψ)⎦"
      ]
     },
     "execution_count": 33,
     "metadata": {},
     "output_type": "execute_result"
    }
   ],
   "source": [
    "compose_rotations((phi,\"x\",\"local\"),(theta,\"z\",\"fixed\"),(psi,\"x\",\"fixed\"))"
   ]
  },
  {
   "cell_type": "markdown",
   "metadata": {},
   "source": [
    "¿Sintaxis? Puede solicitar ayuda con la función `help` "
   ]
  },
  {
   "cell_type": "code",
   "execution_count": 34,
   "metadata": {},
   "outputs": [
    {
     "name": "stdout",
     "output_type": "stream",
     "text": [
      "Help on function compose_rotations in module rkd.didactic.transformations:\n",
      "\n",
      "compose_rotations(*rotations)\n",
      "    Composes rotation matrices w.r.t. fixed or movable frames\n",
      "    \n",
      "    Parameters\n",
      "    ----------\n",
      "    rotations : tuple\n",
      "        A tuple that contains (angle, axis, frame, deg)\n",
      "    \n",
      "    Returns\n",
      "    -------\n",
      "    R : :class:`sympy.matrices.dense.MutableDenseMatrix`\n",
      "        Rotation matrix\n",
      "    \n",
      "    Examples\n",
      "    --------\n",
      "    >>> compose_rotations((45, \"z\", \"fixed\", True), (30, \"x\", \"local\", True))\n",
      "    ⎡0.707106781186548  -0.612372435695794  0.353553390593274 ⎤\n",
      "    ⎢                                                         ⎥\n",
      "    ⎢0.707106781186547  0.612372435695795   -0.353553390593274⎥\n",
      "    ⎢                                                         ⎥\n",
      "    ⎣        0                 0.5          0.866025403784439 ⎦\n",
      "\n"
     ]
    }
   ],
   "source": [
    "help( compose_rotations )"
   ]
  },
  {
   "cell_type": "markdown",
   "metadata": {},
   "source": [
    "## Ángulos de Euler\n",
    "\n",
    "### Matricez de transformación homogénea dados los ángulos {$\\phi$, $\\theta$, $\\psi$}"
   ]
  },
  {
   "cell_type": "code",
   "execution_count": 38,
   "metadata": {},
   "outputs": [
    {
     "data": {
      "image/png": "[encoded data removed]",
      "text/latex": [
       "$$\\left[\\begin{matrix}- \\sin{\\left (\\phi \\right )} \\sin{\\left (\\psi \\right )} \\cos{\\left (\\theta \\right )} + \\cos{\\left (\\phi \\right )} \\cos{\\left (\\psi \\right )} & - \\sin{\\left (\\phi \\right )} \\cos{\\left (\\psi \\right )} \\cos{\\left (\\theta \\right )} - \\sin{\\left (\\psi \\right )} \\cos{\\left (\\phi \\right )} & \\sin{\\left (\\phi \\right )} \\sin{\\left (\\theta \\right )} & 0\\\\\\sin{\\left (\\phi \\right )} \\cos{\\left (\\psi \\right )} + \\sin{\\left (\\psi \\right )} \\cos{\\left (\\phi \\right )} \\cos{\\left (\\theta \\right )} & - \\sin{\\left (\\phi \\right )} \\sin{\\left (\\psi \\right )} + \\cos{\\left (\\phi \\right )} \\cos{\\left (\\psi \\right )} \\cos{\\left (\\theta \\right )} & - \\sin{\\left (\\theta \\right )} \\cos{\\left (\\phi \\right )} & 0\\\\\\sin{\\left (\\psi \\right )} \\sin{\\left (\\theta \\right )} & \\sin{\\left (\\theta \\right )} \\cos{\\left (\\psi \\right )} & \\cos{\\left (\\theta \\right )} & 0\\\\0 & 0 & 0 & 1\\end{matrix}\\right]$$"
      ],
      "text/plain": [
       "⎡-sin(φ)⋅sin(ψ)⋅cos(θ) + cos(φ)⋅cos(ψ)  -sin(φ)⋅cos(ψ)⋅cos(θ) - sin(ψ)⋅cos(φ) \n",
       "⎢                                                                             \n",
       "⎢sin(φ)⋅cos(ψ) + sin(ψ)⋅cos(φ)⋅cos(θ)   -sin(φ)⋅sin(ψ) + cos(φ)⋅cos(ψ)⋅cos(θ) \n",
       "⎢                                                                             \n",
       "⎢            sin(ψ)⋅sin(θ)                          sin(θ)⋅cos(ψ)             \n",
       "⎢                                                                             \n",
       "⎣                  0                                      0                   \n",
       "\n",
       " sin(φ)⋅sin(θ)   0⎤\n",
       "                  ⎥\n",
       " -sin(θ)⋅cos(φ)  0⎥\n",
       "                  ⎥\n",
       "     cos(θ)      0⎥\n",
       "                  ⎥\n",
       "       0         1⎦"
      ]
     },
     "execution_count": 38,
     "metadata": {},
     "output_type": "execute_result"
    }
   ],
   "source": [
    "eul2htm(phi,theta,psi) # seq -> zxz"
   ]
  },
  {
   "cell_type": "code",
   "execution_count": 39,
   "metadata": {},
   "outputs": [
    {
     "data": {
      "image/png": "[encoded data removed]",
      "text/latex": [
       "$$\\left[\\begin{matrix}1 & 0 & 0 & 0\\\\0 & 0 & -1 & 0\\\\0 & 1 & 0 & 0\\\\0 & 0 & 0 & 1\\end{matrix}\\right]$$"
      ],
      "text/plain": [
       "⎡1  0  0   0⎤\n",
       "⎢           ⎥\n",
       "⎢0  0  -1  0⎥\n",
       "⎢           ⎥\n",
       "⎢0  1  0   0⎥\n",
       "⎢           ⎥\n",
       "⎣0  0  0   1⎦"
      ]
     },
     "execution_count": 39,
     "metadata": {},
     "output_type": "execute_result"
    }
   ],
   "source": [
    "eul2htm(0,pi/2,0)"
   ]
  },
  {
   "cell_type": "code",
   "execution_count": 40,
   "metadata": {},
   "outputs": [
    {
     "data": {
      "image/png": "[encoded data removed]",
      "text/latex": [
       "$$\\left[\\begin{matrix}0 & -1 & 0 & 0\\\\1 & 0 & 0 & 0\\\\0 & 0 & 1 & 0\\\\0 & 0 & 0 & 1\\end{matrix}\\right]$$"
      ],
      "text/plain": [
       "⎡0  -1  0  0⎤\n",
       "⎢           ⎥\n",
       "⎢1  0   0  0⎥\n",
       "⎢           ⎥\n",
       "⎢0  0   1  0⎥\n",
       "⎢           ⎥\n",
       "⎣0  0   0  1⎦"
      ]
     },
     "execution_count": 40,
     "metadata": {},
     "output_type": "execute_result"
    }
   ],
   "source": [
    "eul2htm(0,0,pi/2)"
   ]
  },
  {
   "cell_type": "markdown",
   "metadata": {},
   "source": [
    "### Ángulos de Euler equivalentes a una matriz de rotación "
   ]
  },
  {
   "cell_type": "code",
   "execution_count": 43,
   "metadata": {},
   "outputs": [
    {
     "data": {
      "image/png": "[encoded data removed]",
      "text/latex": [
       "$$\\left ( \\left[\\begin{matrix}1 & 0 & 0\\\\0 & \\frac{1}{2} & - \\frac{\\sqrt{3}}{2}\\\\0 & \\frac{\\sqrt{3}}{2} & \\frac{1}{2}\\end{matrix}\\right], \\quad \\left ( 0, \\quad \\frac{\\pi}{3}, \\quad 0\\right )\\right )$$"
      ],
      "text/plain": [
       "⎛⎡1   0    0  ⎤           ⎞\n",
       "⎜⎢            ⎥           ⎟\n",
       "⎜⎢        -√3 ⎥           ⎟\n",
       "⎜⎢0  1/2  ────⎥  ⎛   π   ⎞⎟\n",
       "⎜⎢         2  ⎥, ⎜0, ─, 0⎟⎟\n",
       "⎜⎢            ⎥  ⎝   3   ⎠⎟\n",
       "⎜⎢   √3       ⎥           ⎟\n",
       "⎜⎢0  ──   1/2 ⎥           ⎟\n",
       "⎝⎣   2        ⎦           ⎠"
      ]
     },
     "execution_count": 43,
     "metadata": {},
     "output_type": "execute_result"
    }
   ],
   "source": [
    "R = rotx(pi/3)\n",
    "R, htm2eul(R)"
   ]
  },
  {
   "cell_type": "code",
   "execution_count": 44,
   "metadata": {},
   "outputs": [
    {
     "data": {
      "image/png": "[encoded data removed]",
      "text/latex": [
       "$$\\left ( \\left[\\begin{matrix}\\frac{\\sqrt{3}}{2} & - \\frac{1}{2} & 0\\\\\\frac{1}{4} & \\frac{\\sqrt{3}}{4} & - \\frac{\\sqrt{3}}{2}\\\\\\frac{\\sqrt{3}}{4} & \\frac{3}{4} & \\frac{1}{2}\\end{matrix}\\right], \\quad \\left ( 0, \\quad \\frac{\\pi}{3}, \\quad \\frac{\\pi}{6}\\right )\\right )$$"
      ],
      "text/plain": [
       "⎛⎡√3             ⎤           ⎞\n",
       "⎜⎢──   -1/2   0  ⎥           ⎟\n",
       "⎜⎢2              ⎥           ⎟\n",
       "⎜⎢               ⎥           ⎟\n",
       "⎜⎢      √3   -√3 ⎥  ⎛   π  π⎞⎟\n",
       "⎜⎢1/4   ──   ────⎥, ⎜0, ─, ─⎟⎟\n",
       "⎜⎢      4     2  ⎥  ⎝   3  6⎠⎟\n",
       "⎜⎢               ⎥           ⎟\n",
       "⎜⎢√3             ⎥           ⎟\n",
       "⎜⎢──   3/4   1/2 ⎥           ⎟\n",
       "⎝⎣4              ⎦           ⎠"
      ]
     },
     "execution_count": 44,
     "metadata": {},
     "output_type": "execute_result"
    }
   ],
   "source": [
    "R = rotx(pi/3)*rotz(pi/6)\n",
    "R, htm2eul(R)"
   ]
  },
  {
   "cell_type": "code",
   "execution_count": 45,
   "metadata": {},
   "outputs": [
    {
     "data": {
      "image/png": "[encoded data removed]",
      "text/latex": [
       "$$\\left ( \\left[\\begin{matrix}\\frac{\\sqrt{2}}{4} & - \\frac{\\sqrt{2}}{4} & \\frac{\\sqrt{3}}{2}\\\\\\frac{\\sqrt{2}}{2} & \\frac{\\sqrt{2}}{2} & 0\\\\- \\frac{\\sqrt{6}}{4} & \\frac{\\sqrt{6}}{4} & \\frac{1}{2}\\end{matrix}\\right], \\quad \\left ( \\frac{\\pi}{2}, \\quad \\frac{\\pi}{3}, \\quad - \\frac{\\pi}{4}\\right )\\right )$$"
      ],
      "text/plain": [
       "⎛⎡ √2   -√2   √3 ⎤             ⎞\n",
       "⎜⎢ ──   ────  ── ⎥             ⎟\n",
       "⎜⎢ 4     4    2  ⎥             ⎟\n",
       "⎜⎢               ⎥             ⎟\n",
       "⎜⎢ √2    √2      ⎥  ⎛π  π  -π ⎞⎟\n",
       "⎜⎢ ──    ──    0 ⎥, ⎜─, ─, ───⎟⎟\n",
       "⎜⎢ 2     2       ⎥  ⎝2  3   4 ⎠⎟\n",
       "⎜⎢               ⎥             ⎟\n",
       "⎜⎢-√6    √6      ⎥             ⎟\n",
       "⎜⎢────   ──   1/2⎥             ⎟\n",
       "⎝⎣ 4     4       ⎦             ⎠"
      ]
     },
     "execution_count": 45,
     "metadata": {},
     "output_type": "execute_result"
    }
   ],
   "source": [
    "R = roty(pi/3)*rotz(pi/4)\n",
    "R, htm2eul(R)"
   ]
  },
  {
   "cell_type": "markdown",
   "metadata": {},
   "source": [
    "## Matrices de transformación homogénea\n",
    "\n",
    "### Traslación"
   ]
  },
  {
   "cell_type": "code",
   "execution_count": 49,
   "metadata": {},
   "outputs": [
    {
     "data": {
      "image/png": "[encoded data removed]",
      "text/latex": [
       "$$\\left[\\begin{matrix}1 & 0 & 0 & 10\\\\0 & 1 & 0 & 20\\\\0 & 0 & 1 & -50\\\\0 & 0 & 0 & 1\\end{matrix}\\right]$$"
      ],
      "text/plain": [
       "⎡1  0  0  10 ⎤\n",
       "⎢            ⎥\n",
       "⎢0  1  0  20 ⎥\n",
       "⎢            ⎥\n",
       "⎢0  0  1  -50⎥\n",
       "⎢            ⎥\n",
       "⎣0  0  0   1 ⎦"
      ]
     },
     "execution_count": 49,
     "metadata": {},
     "output_type": "execute_result"
    }
   ],
   "source": [
    "htmtra([10,20,-50])"
   ]
  },
  {
   "cell_type": "markdown",
   "metadata": {},
   "source": [
    "### Rotación"
   ]
  },
  {
   "cell_type": "code",
   "execution_count": 50,
   "metadata": {},
   "outputs": [
    {
     "data": {
      "image/png": "[encoded data removed]",
      "text/latex": [
       "$$\\left[\\begin{matrix}1 & 0 & 0 & 0\\\\0 & \\cos{\\left (\\alpha \\right )} & - \\sin{\\left (\\alpha \\right )} & 0\\\\0 & \\sin{\\left (\\alpha \\right )} & \\cos{\\left (\\alpha \\right )} & 0\\\\0 & 0 & 0 & 1\\end{matrix}\\right]$$"
      ],
      "text/plain": [
       "⎡1    0        0     0⎤\n",
       "⎢                     ⎥\n",
       "⎢0  cos(α)  -sin(α)  0⎥\n",
       "⎢                     ⎥\n",
       "⎢0  sin(α)  cos(α)   0⎥\n",
       "⎢                     ⎥\n",
       "⎣0    0        0     1⎦"
      ]
     },
     "execution_count": 50,
     "metadata": {},
     "output_type": "execute_result"
    }
   ],
   "source": [
    "htmrot(alpha, \"x\")"
   ]
  },
  {
   "cell_type": "markdown",
   "metadata": {},
   "source": [
    "### Rotación + Traslación"
   ]
  },
  {
   "cell_type": "code",
   "execution_count": 55,
   "metadata": {},
   "outputs": [
    {
     "data": {
      "image/png": "[encoded data removed]",
      "text/latex": [
       "$$\\left[\\begin{matrix}\\cos{\\left (\\theta \\right )} & - \\sin{\\left (\\theta \\right )} & 0 & dx \\cos{\\left (\\theta \\right )} - dy \\sin{\\left (\\theta \\right )}\\\\\\sin{\\left (\\theta \\right )} & \\cos{\\left (\\theta \\right )} & 0 & dx \\sin{\\left (\\theta \\right )} + dy \\cos{\\left (\\theta \\right )}\\\\0 & 0 & 1 & 0\\\\0 & 0 & 0 & 1\\end{matrix}\\right]$$"
      ],
      "text/plain": [
       "⎡cos(θ)  -sin(θ)  0  dx⋅cos(θ) - dy⋅sin(θ)⎤\n",
       "⎢                                         ⎥\n",
       "⎢sin(θ)  cos(θ)   0  dx⋅sin(θ) + dy⋅cos(θ)⎥\n",
       "⎢                                         ⎥\n",
       "⎢  0        0     1            0          ⎥\n",
       "⎢                                         ⎥\n",
       "⎣  0        0     0            1          ⎦"
      ]
     },
     "execution_count": 55,
     "metadata": {},
     "output_type": "execute_result"
    }
   ],
   "source": [
    "dx,dy = symbols(\"dx,dy\")\n",
    "htmrot(theta, \"z\") * htmtra([dx,dy,0])"
   ]
  },
  {
   "cell_type": "markdown",
   "metadata": {},
   "source": [
    "### Traslación + Rotación"
   ]
  },
  {
   "cell_type": "code",
   "execution_count": 56,
   "metadata": {},
   "outputs": [
    {
     "data": {
      "image/png": "[encoded data removed]",
      "text/latex": [
       "$$\\left[\\begin{matrix}\\cos{\\left (\\theta \\right )} & - \\sin{\\left (\\theta \\right )} & 0 & dx\\\\\\sin{\\left (\\theta \\right )} & \\cos{\\left (\\theta \\right )} & 0 & dy\\\\0 & 0 & 1 & 0\\\\0 & 0 & 0 & 1\\end{matrix}\\right]$$"
      ],
      "text/plain": [
       "⎡cos(θ)  -sin(θ)  0  dx⎤\n",
       "⎢                      ⎥\n",
       "⎢sin(θ)  cos(θ)   0  dy⎥\n",
       "⎢                      ⎥\n",
       "⎢  0        0     1  0 ⎥\n",
       "⎢                      ⎥\n",
       "⎣  0        0     0  1 ⎦"
      ]
     },
     "execution_count": 56,
     "metadata": {},
     "output_type": "execute_result"
    }
   ],
   "source": [
    "htmtra([dx,dy,0])*htmrot(theta, \"z\") "
   ]
  },
  {
   "cell_type": "markdown",
   "metadata": {},
   "source": [
    "## Matriz DH"
   ]
  },
  {
   "cell_type": "code",
   "execution_count": 60,
   "metadata": {},
   "outputs": [
    {
     "data": {
      "image/png": "[encoded data removed]",
      "text/latex": [
       "$$\\left[\\begin{matrix}\\cos{\\left (\\theta_1 \\right )} & - \\sin{\\left (\\theta_1 \\right )} & 0 & a_{1} \\cos{\\left (\\theta_1 \\right )}\\\\\\sin{\\left (\\theta_1 \\right )} & \\cos{\\left (\\theta_1 \\right )} & 0 & a_{1} \\sin{\\left (\\theta_1 \\right )}\\\\0 & 0 & 1 & 0\\\\0 & 0 & 0 & 1\\end{matrix}\\right]$$"
      ],
      "text/plain": [
       "⎡cos(\\theta₁)  -sin(\\theta₁)  0  a₁⋅cos(\\theta₁)⎤\n",
       "⎢                                               ⎥\n",
       "⎢sin(\\theta₁)  cos(\\theta₁)   0  a₁⋅sin(\\theta₁)⎥\n",
       "⎢                                               ⎥\n",
       "⎢     0              0        1         0       ⎥\n",
       "⎢                                               ⎥\n",
       "⎣     0              0        0         1       ⎦"
      ]
     },
     "execution_count": 60,
     "metadata": {},
     "output_type": "execute_result"
    }
   ],
   "source": [
    "A1 = dh(a1,0,0,t1)\n",
    "A1"
   ]
  },
  {
   "cell_type": "markdown",
   "metadata": {},
   "source": [
    "## La clase `Robot`\n",
    "\n",
    "### Un manipulador planar RR"
   ]
  },
  {
   "cell_type": "code",
   "execution_count": 68,
   "metadata": {},
   "outputs": [
    {
     "data": {
      "text/plain": [
       "<rkd.didactic.core.Robot at 0x28edfbdb550>"
      ]
     },
     "execution_count": 68,
     "metadata": {},
     "output_type": "execute_result"
    }
   ],
   "source": [
    "rr = Robot((l1,0,0,t1,\"r\"), (l2,0,0,t2,\"r\"))\n",
    "rr"
   ]
  },
  {
   "cell_type": "markdown",
   "metadata": {},
   "source": [
    "**Cinemática directa**"
   ]
  },
  {
   "cell_type": "code",
   "execution_count": 69,
   "metadata": {},
   "outputs": [
    {
     "data": {
      "image/png": "[encoded data removed]",
      "text/latex": [
       "$$\\left [ \\left[\\begin{matrix}\\cos{\\left (\\theta_1 \\right )} & - \\sin{\\left (\\theta_1 \\right )} & 0 & l_{1} \\cos{\\left (\\theta_1 \\right )}\\\\\\sin{\\left (\\theta_1 \\right )} & \\cos{\\left (\\theta_1 \\right )} & 0 & l_{1} \\sin{\\left (\\theta_1 \\right )}\\\\0 & 0 & 1 & 0\\\\0 & 0 & 0 & 1\\end{matrix}\\right], \\quad \\left[\\begin{matrix}\\cos{\\left (\\theta_2 \\right )} & - \\sin{\\left (\\theta_2 \\right )} & 0 & l_{2} \\cos{\\left (\\theta_2 \\right )}\\\\\\sin{\\left (\\theta_2 \\right )} & \\cos{\\left (\\theta_2 \\right )} & 0 & l_{2} \\sin{\\left (\\theta_2 \\right )}\\\\0 & 0 & 1 & 0\\\\0 & 0 & 0 & 1\\end{matrix}\\right]\\right ]$$"
      ],
      "text/plain": [
       "⎡⎡cos(\\theta₁)  -sin(\\theta₁)  0  l₁⋅cos(\\theta₁)⎤  ⎡cos(\\theta₂)  -sin(\\theta\n",
       "⎢⎢                                               ⎥  ⎢                         \n",
       "⎢⎢sin(\\theta₁)  cos(\\theta₁)   0  l₁⋅sin(\\theta₁)⎥  ⎢sin(\\theta₂)  cos(\\theta₂\n",
       "⎢⎢                                               ⎥, ⎢                         \n",
       "⎢⎢     0              0        1         0       ⎥  ⎢     0              0    \n",
       "⎢⎢                                               ⎥  ⎢                         \n",
       "⎣⎣     0              0        0         1       ⎦  ⎣     0              0    \n",
       "\n",
       "₂)  0  l₂⋅cos(\\theta₂)⎤⎤\n",
       "                      ⎥⎥\n",
       ")   0  l₂⋅sin(\\theta₂)⎥⎥\n",
       "                      ⎥⎥\n",
       "    1         0       ⎥⎥\n",
       "                      ⎥⎥\n",
       "    0         1       ⎦⎦"
      ]
     },
     "execution_count": 69,
     "metadata": {},
     "output_type": "execute_result"
    }
   ],
   "source": [
    "rr.Ts # Matrices A_i"
   ]
  },
  {
   "cell_type": "code",
   "execution_count": 70,
   "metadata": {},
   "outputs": [
    {
     "data": {
      "image/png": "[encoded data removed]",
      "text/latex": [
       "$$\\left[\\begin{matrix}\\cos{\\left (\\theta_1 + \\theta_2 \\right )} & - \\sin{\\left (\\theta_1 + \\theta_2 \\right )} & 0 & l_{1} \\cos{\\left (\\theta_1 \\right )} + l_{2} \\cos{\\left (\\theta_1 + \\theta_2 \\right )}\\\\\\sin{\\left (\\theta_1 + \\theta_2 \\right )} & \\cos{\\left (\\theta_1 + \\theta_2 \\right )} & 0 & l_{1} \\sin{\\left (\\theta_1 \\right )} + l_{2} \\sin{\\left (\\theta_1 + \\theta_2 \\right )}\\\\0 & 0 & 1 & 0\\\\0 & 0 & 0 & 1\\end{matrix}\\right]$$"
      ],
      "text/plain": [
       "⎡cos(\\theta₁ + \\theta₂)  -sin(\\theta₁ + \\theta₂)  0  l₁⋅cos(\\theta₁) + l₂⋅cos(\n",
       "⎢                                                                             \n",
       "⎢sin(\\theta₁ + \\theta₂)  cos(\\theta₁ + \\theta₂)   0  l₁⋅sin(\\theta₁) + l₂⋅sin(\n",
       "⎢                                                                             \n",
       "⎢          0                        0             1                       0   \n",
       "⎢                                                                             \n",
       "⎣          0                        0             0                       1   \n",
       "\n",
       "\\theta₁ + \\theta₂)⎤\n",
       "                  ⎥\n",
       "\\theta₁ + \\theta₂)⎥\n",
       "                  ⎥\n",
       "                  ⎥\n",
       "                  ⎥\n",
       "                  ⎦"
      ]
     },
     "execution_count": 70,
     "metadata": {},
     "output_type": "execute_result"
    }
   ],
   "source": [
    "rr.T # Matriz T_2^0"
   ]
  },
  {
   "cell_type": "markdown",
   "metadata": {},
   "source": [
    "#### Jacobiano"
   ]
  },
  {
   "cell_type": "code",
   "execution_count": 71,
   "metadata": {},
   "outputs": [
    {
     "data": {
      "image/png": "[encoded data removed]",
      "text/latex": [
       "$$\\left[\\begin{matrix}- l_{1} \\sin{\\left (\\theta_1 \\right )} - l_{2} \\sin{\\left (\\theta_1 + \\theta_2 \\right )} & - l_{2} \\sin{\\left (\\theta_1 + \\theta_2 \\right )}\\\\l_{1} \\cos{\\left (\\theta_1 \\right )} + l_{2} \\cos{\\left (\\theta_1 + \\theta_2 \\right )} & l_{2} \\cos{\\left (\\theta_1 + \\theta_2 \\right )}\\\\0 & 0\\\\0 & 0\\\\0 & 0\\\\1 & 1\\end{matrix}\\right]$$"
      ],
      "text/plain": [
       "⎡-l₁⋅sin(\\theta₁) - l₂⋅sin(\\theta₁ + \\theta₂)  -l₂⋅sin(\\theta₁ + \\theta₂)⎤\n",
       "⎢                                                                        ⎥\n",
       "⎢l₁⋅cos(\\theta₁) + l₂⋅cos(\\theta₁ + \\theta₂)   l₂⋅cos(\\theta₁ + \\theta₂) ⎥\n",
       "⎢                                                                        ⎥\n",
       "⎢                     0                                    0             ⎥\n",
       "⎢                                                                        ⎥\n",
       "⎢                     0                                    0             ⎥\n",
       "⎢                                                                        ⎥\n",
       "⎢                     0                                    0             ⎥\n",
       "⎢                                                                        ⎥\n",
       "⎣                     1                                    1             ⎦"
      ]
     },
     "execution_count": 71,
     "metadata": {},
     "output_type": "execute_result"
    }
   ],
   "source": [
    "rr.J"
   ]
  },
  {
   "cell_type": "markdown",
   "metadata": {},
   "source": [
    "#### Representación esquemática"
   ]
  },
  {
   "cell_type": "code",
   "execution_count": 77,
   "metadata": {},
   "outputs": [
    {
     "data": {
      "image/png": "[encoded data removed]",
      "text/plain": [
       "<Figure size 432x288 with 1 Axes>"
      ]
     },
     "metadata": {},
     "output_type": "display_data"
    }
   ],
   "source": [
    "rr.plot_diagram({l1:100, l2:100, t1:pi/2, t2:-pi/2})"
   ]
  },
  {
   "cell_type": "markdown",
   "metadata": {},
   "source": [
    "## La clase `RigidBody2D`"
   ]
  },
  {
   "cell_type": "code",
   "execution_count": 98,
   "metadata": {},
   "outputs": [
    {
     "data": {
      "image/png": "[encoded data removed]",
      "text/plain": [
       "<Figure size 432x288 with 1 Axes>"
      ]
     },
     "metadata": {},
     "output_type": "display_data"
    }
   ],
   "source": [
    "puntos = ((0,0), (2,0), (0,1))\n",
    "s01 = RigidBody2D(puntos)\n",
    "s01.draw()\n",
    "s01.move([4,5,0])\n",
    "s01.draw(\"y\")\n",
    "s01.rotate(pi/2)\n",
    "s01.draw(\"m\")\n",
    "s01.move([1,3,0])\n",
    "s01.draw(\"k\")"
   ]
  },
  {
   "cell_type": "code",
   "execution_count": null,
   "metadata": {},
   "outputs": [],
   "source": []
  }
 ],
 "metadata": {
  "kernelspec": {
   "display_name": "Python 3",
   "language": "python",
   "name": "python3"
  },
  "language_info": {
   "codemirror_mode": {
    "name": "ipython",
    "version": 3
   },
   "file_extension": ".py",
   "mimetype": "text/x-python",
   "name": "python",
   "nbconvert_exporter": "python",
   "pygments_lexer": "ipython3",
   "version": "3.6.5"
  }
 },
 "nbformat": 4,
 "nbformat_minor": 2
}
