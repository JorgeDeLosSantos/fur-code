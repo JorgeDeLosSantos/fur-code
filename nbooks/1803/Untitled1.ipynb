{
 "cells": [
  {
   "cell_type": "code",
   "execution_count": 2,
   "metadata": {},
   "outputs": [],
   "source": [
    "from sympy import *\n",
    "from sympy.matrices import *\n",
    "init_printing(use_latex=True)"
   ]
  },
  {
   "cell_type": "code",
   "execution_count": 3,
   "metadata": {},
   "outputs": [],
   "source": [
    "def dh(a,alpha,d,theta):\n",
    "    \"\"\"\n",
    "    Denavit-Hartenberg matrix\n",
    "    \"\"\"\n",
    "    M = Matrix([[cos(theta),-sin(theta)*cos(alpha),sin(theta)*sin(alpha),a*cos(theta)],\n",
    "                  [sin(theta),cos(theta)*cos(alpha),-cos(theta)*sin(alpha),a*sin(theta)],\n",
    "                  [0,sin(alpha),cos(alpha),d],\n",
    "                  [0,0,0,1]])\n",
    "    return M\n",
    "\n",
    "def nr(J,b,x0,eps=0.001):\n",
    "    while True:\n",
    "        x = ( J.subs(x0).evalf().inv() )*(-b.subs(x0).evalf() )\n",
    "        if x.norm() < eps: break\n",
    "        for k,var in enumerate(x0):\n",
    "            x0[var] += x[k] \n",
    "    return x0"
   ]
  },
  {
   "cell_type": "code",
   "execution_count": 40,
   "metadata": {},
   "outputs": [],
   "source": [
    "d1,a2,a3 = 100, 200, 200\n",
    "t1,t2,t3 = symbols(\"\\\\theta_1:4\")\n",
    "Px,Py,Pz = 250,100,210\n",
    "T = simplify( dh(0,pi/2,d1,t1)*dh(a2,0,0,t2)*dh(a3,0,0,t3) )"
   ]
  },
  {
   "cell_type": "code",
   "execution_count": 57,
   "metadata": {},
   "outputs": [],
   "source": [
    "ec1 = T[0,3] - Px\n",
    "ec2 = T[1,3] - Py \n",
    "ec3 = T[2,3] - Pz\n",
    "\n",
    "b = Matrix([ec1,ec2,ec3])\n",
    "J = b.jacobian([t1,t2,t3])\n",
    "\n",
    "X0 = {t1:pi/6, t2:rad(15), t3:pi/3}"
   ]
  },
  {
   "cell_type": "code",
   "execution_count": 58,
   "metadata": {},
   "outputs": [
    {
     "data": {
      "image/png": "[encoded data removed]",
      "text/latex": [
       "$$\\left \\{ \\theta_1 : -0.143092398485934 + \\frac{\\pi}{6}, \\quad \\theta_2 : -0.630593776359503 + \\frac{\\pi}{12}, \\quad \\theta_3 : 0.466067043468304 + \\frac{\\pi}{3}\\right \\}$$"
      ],
      "text/plain": [
       "⎧                              π                                π             \n",
       "⎨\\theta₁: -0.143092398485934 + ─, \\theta₂: -0.630593776359503 + ──, \\theta₃: 0\n",
       "⎩                              6                                12            \n",
       "\n",
       "                   π⎫\n",
       ".466067043468304 + ─⎬\n",
       "                   3⎭"
      ]
     },
     "execution_count": 58,
     "metadata": {},
     "output_type": "execute_result"
    }
   ],
   "source": [
    "sol = nr(J,b,X0, eps=1e-12)\n",
    "sol"
   ]
  },
  {
   "cell_type": "code",
   "execution_count": 59,
   "metadata": {},
   "outputs": [
    {
     "data": {
      "image/png": "[encoded data removed]",
      "text/latex": [
       "$$\\left ( -1.01253976430509 \\cdot 10^{-12}, \\quad -4.8042973782493 \\cdot 10^{-13}, \\quad 4.15470415268474 \\cdot 10^{-13}\\right )$$"
      ],
      "text/plain": [
       "(-1.01253976430509e-12, -4.8042973782493e-13, 4.15470415268474e-13)"
      ]
     },
     "execution_count": 59,
     "metadata": {},
     "output_type": "execute_result"
    }
   ],
   "source": [
    "ec1.subs(sol).evalf(), ec2.subs(sol).evalf(), ec3.subs(sol).evalf()"
   ]
  },
  {
   "cell_type": "code",
   "execution_count": 60,
   "metadata": {},
   "outputs": [
    {
     "data": {
      "image/png": "[encoded data removed]",
      "text/latex": [
       "$$\\left ( 21.8014094863518, \\quad -21.130361972616, \\quad 86.7036745608741\\right )$$"
      ],
      "text/plain": [
       "(21.8014094863518, -21.130361972616, 86.7036745608741)"
      ]
     },
     "execution_count": 60,
     "metadata": {},
     "output_type": "execute_result"
    }
   ],
   "source": [
    "deg( sol[t1] ).evalf(), deg(sol[t2]).evalf(), deg(sol[t3]).evalf()"
   ]
  },
  {
   "cell_type": "code",
   "execution_count": 16,
   "metadata": {},
   "outputs": [],
   "source": [
    "d1 = 100\n",
    "t1,t2,d3 = symbols(\"\\\\theta_1, \\\\theta_2, d_3\")\n",
    "Px,Py,Pz = 250,80,150\n",
    "T = simplify( dh(0,pi/2,d1,t1)*dh(0,pi/2,0,t2)*dh(0,0,d3,0) )\n",
    "\n",
    "ec1 = T[0,3] - Px\n",
    "ec2 = T[1,3] - Py \n",
    "ec3 = T[2,3] - Pz\n",
    "\n",
    "b = Matrix([ec1,ec2,ec3])\n",
    "J = b.jacobian([t1,t2,d3])\n",
    "\n",
    "X0 = {t1:pi/9, t2:rad(100), d3:180}"
   ]
  },
  {
   "cell_type": "code",
   "execution_count": 17,
   "metadata": {},
   "outputs": [],
   "source": [
    "sol = nr(J,b,X0,1e-8)"
   ]
  },
  {
   "cell_type": "code",
   "execution_count": 18,
   "metadata": {},
   "outputs": [
    {
     "data": {
      "image/png": "[encoded data removed]",
      "text/latex": [
       "$$\\left ( 17.7446716250569, \\quad 100.784775513381, \\quad 267.207784317748\\right )$$"
      ],
      "text/plain": [
       "(17.7446716250569, 100.784775513381, 267.207784317748)"
      ]
     },
     "execution_count": 18,
     "metadata": {},
     "output_type": "execute_result"
    }
   ],
   "source": [
    "deg( sol[t1] ).evalf(), deg( sol[t2] ).evalf(), sol[d3].evalf()"
   ]
  },
  {
   "cell_type": "code",
   "execution_count": null,
   "metadata": {},
   "outputs": [],
   "source": []
  }
 ],
 "metadata": {
  "kernelspec": {
   "display_name": "Python 3",
   "language": "python",
   "name": "python3"
  },
  "language_info": {
   "codemirror_mode": {
    "name": "ipython",
    "version": 3
   },
   "file_extension": ".py",
   "mimetype": "text/x-python",
   "name": "python",
   "nbconvert_exporter": "python",
   "pygments_lexer": "ipython3",
   "version": "3.6.5"
  }
 },
 "nbformat": 4,
 "nbformat_minor": 2
}
