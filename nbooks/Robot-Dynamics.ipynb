{
 "cells": [
  {
   "cell_type": "code",
   "execution_count": 77,
   "metadata": {},
   "outputs": [],
   "source": [
    "from sympy import *\n",
    "from sympy.matrices import *\n",
    "from sympy.plotting import plot\n",
    "init_printing(use_latex=true)\n",
    "\n",
    "t = symbols('t')\n",
    "M,l,g = symbols(\"M,l,g\")\n",
    "th = Function('\\\\theta')\n",
    "tau = symbols('\\\\tau')\n",
    "I = M*l**2"
   ]
  },
  {
   "cell_type": "code",
   "execution_count": 80,
   "metadata": {},
   "outputs": [],
   "source": [
    "k = (1/2)*I*(th(t).diff(t))**2\n",
    "u = M*g*l*sin(th(t))\n",
    "L = k - u"
   ]
  },
  {
   "cell_type": "code",
   "execution_count": 81,
   "metadata": {},
   "outputs": [
    {
     "data": {
      "image/png": "[encoded data removed]",
      "text/latex": [
       "$$M g l \\cos{\\left (\\theta{\\left (t \\right )} \\right )} + 1.0 M l^{2} \\frac{d^{2}}{d t^{2}}  \\theta{\\left (t \\right )} = \\tau$$"
      ],
      "text/plain": [
       "                                  2                  \n",
       "                              2  d                   \n",
       "M⋅g⋅l⋅cos(\\theta(t)) + 1.0⋅M⋅l ⋅───(\\theta(t)) = \\tau\n",
       "                                  2                  \n",
       "                                dt                   "
      ]
     },
     "execution_count": 81,
     "metadata": {},
     "output_type": "execute_result"
    }
   ],
   "source": [
    "ed = Eq(diff(diff(L, th(t).diff(t)), t) - diff(L, th(t)), tau)\n",
    "ed"
   ]
  },
  {
   "cell_type": "code",
   "execution_count": 82,
   "metadata": {},
   "outputs": [
    {
     "data": {
      "image/png": "[encoded data removed]",
      "text/latex": [
       "$$4.905 \\cos{\\left (\\theta{\\left (t \\right )} \\right )} + 0.5 \\frac{d^{2}}{d t^{2}}  \\theta{\\left (t \\right )} = 0.6$$"
      ],
      "text/plain": [
       "                             2                 \n",
       "                            d                  \n",
       "4.905⋅cos(\\theta(t)) + 0.5⋅───(\\theta(t)) = 0.6\n",
       "                             2                 \n",
       "                           dt                  "
      ]
     },
     "execution_count": 82,
     "metadata": {},
     "output_type": "execute_result"
    }
   ],
   "source": [
    "edn = ed.subs({M:0.5, l:1, g:9.81, tau:0.6})\n",
    "edn"
   ]
  },
  {
   "cell_type": "code",
   "execution_count": 98,
   "metadata": {},
   "outputs": [],
   "source": [
    "cini = {th(0): 0, th(t).diff(t).subs(t, 0): 2}\n",
    "#dsolve(edn, th(t), ics=cini)"
   ]
  },
  {
   "cell_type": "markdown",
   "metadata": {},
   "source": [
    "$$ ML^2\\ddot{\\theta} + MgL\\cos(\\theta) = \\tau $$"
   ]
  },
  {
   "cell_type": "code",
   "execution_count": 153,
   "metadata": {},
   "outputs": [
    {
     "data": {
      "image/png": "[encoded data removed]",
      "text/plain": [
       "<matplotlib.figure.Figure at 0x13d58c18>"
      ]
     },
     "metadata": {},
     "output_type": "display_data"
    }
   ],
   "source": [
    "import matplotlib.pyplot as plt\n",
    "import numpy as np\n",
    "from scipy.integrate import solve_ivp\n",
    "%matplotlib inline\n",
    "\n",
    "def robot_1gdl(t, y):\n",
    "    M,L,tau,g = 2.5, 1, 30, 9.81\n",
    "    x1 = y[1]\n",
    "    x2 = tau/(M*L**2) - (g/L)*np.cos(y[0])\n",
    "    return x1,x2\n",
    "\n",
    "sol = solve_ivp(robot_1gdl, [0,2], [np.pi/2,10], t_eval=np.linspace(0,2,100))\n",
    "plt.plot(sol.t, sol.y[0], label=\"$\\\\theta$\")\n",
    "plt.plot(sol.t, sol.y[1], label=\"$\\\\dot{\\\\theta}$\")\n",
    "plt.legend();"
   ]
  },
  {
   "cell_type": "code",
   "execution_count": null,
   "metadata": {},
   "outputs": [],
   "source": []
  }
 ],
 "metadata": {
  "kernelspec": {
   "display_name": "Python 3",
   "language": "python",
   "name": "python3"
  },
  "language_info": {
   "codemirror_mode": {
    "name": "ipython",
    "version": 3
   },
   "file_extension": ".py",
   "mimetype": "text/x-python",
   "name": "python",
   "nbconvert_exporter": "python",
   "pygments_lexer": "ipython3",
   "version": "3.6.3"
  }
 },
 "nbformat": 4,
 "nbformat_minor": 2
}
