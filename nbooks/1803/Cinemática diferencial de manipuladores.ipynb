{
 "cells": [
  {
   "cell_type": "code",
   "execution_count": 1,
   "metadata": {},
   "outputs": [],
   "source": [
    "from rkd.didactic import *"
   ]
  },
  {
   "cell_type": "code",
   "execution_count": 38,
   "metadata": {},
   "outputs": [],
   "source": [
    "x, y = symbols(\"x,y\", cls=Function)\n",
    "t1 = symbols(\"\\\\theta_1\", cls=Function)\n",
    "px1, py1 = symbols(\"p_x^1, p_y^1\", cls=Function)\n",
    "t = symbols(\"t\")\n",
    "p = Matrix([1,1,0,1])\n",
    "\n",
    "H = htmrot(t1(t))"
   ]
  },
  {
   "cell_type": "code",
   "execution_count": 39,
   "metadata": {},
   "outputs": [
    {
     "data": {
      "image/png": "[encoded data removed]",
      "text/latex": [
       "$$\\left[\\begin{matrix}- \\sin{\\left (\\theta_{1}{\\left (t \\right )} \\right )} \\frac{d}{d t} \\theta_{1}{\\left (t \\right )} - \\cos{\\left (\\theta_{1}{\\left (t \\right )} \\right )} \\frac{d}{d t} \\theta_{1}{\\left (t \\right )}\\\\- \\sin{\\left (\\theta_{1}{\\left (t \\right )} \\right )} \\frac{d}{d t} \\theta_{1}{\\left (t \\right )} + \\cos{\\left (\\theta_{1}{\\left (t \\right )} \\right )} \\frac{d}{d t} \\theta_{1}{\\left (t \\right )}\\\\0\\\\0\\end{matrix}\\right]$$"
      ],
      "text/plain": [
       "⎡                  d                                d             ⎤\n",
       "⎢- sin(\\theta₁(t))⋅──(\\theta₁(t)) - cos(\\theta₁(t))⋅──(\\theta₁(t))⎥\n",
       "⎢                  dt                               dt            ⎥\n",
       "⎢                                                                 ⎥\n",
       "⎢                  d                                d             ⎥\n",
       "⎢- sin(\\theta₁(t))⋅──(\\theta₁(t)) + cos(\\theta₁(t))⋅──(\\theta₁(t))⎥\n",
       "⎢                  dt                               dt            ⎥\n",
       "⎢                                                                 ⎥\n",
       "⎢                                0                                ⎥\n",
       "⎢                                                                 ⎥\n",
       "⎣                                0                                ⎦"
      ]
     },
     "execution_count": 39,
     "metadata": {},
     "output_type": "execute_result"
    }
   ],
   "source": [
    "diff( H * p ) "
   ]
  },
  {
   "cell_type": "code",
   "execution_count": 50,
   "metadata": {},
   "outputs": [
    {
     "data": {
      "image/png": "[encoded data removed]",
      "text/latex": [
       "$$\\left[\\begin{matrix}1 & 0 & 0 & x{\\left (t \\right )}\\\\0 & 1 & 0 & y{\\left (t \\right )}\\\\0 & 0 & 1 & 0\\\\0 & 0 & 0 & 1\\end{matrix}\\right]$$"
      ],
      "text/plain": [
       "⎡1  0  0  x(t)⎤\n",
       "⎢             ⎥\n",
       "⎢0  1  0  y(t)⎥\n",
       "⎢             ⎥\n",
       "⎢0  0  1   0  ⎥\n",
       "⎢             ⎥\n",
       "⎣0  0  0   1  ⎦"
      ]
     },
     "execution_count": 50,
     "metadata": {},
     "output_type": "execute_result"
    }
   ],
   "source": [
    "htmtra([x(t),y(t),0])"
   ]
  },
  {
   "cell_type": "code",
   "execution_count": 52,
   "metadata": {},
   "outputs": [
    {
     "data": {
      "image/png": "[encoded data removed]",
      "text/latex": [
       "$$\\left[\\begin{matrix}- \\omega_z \\left(\\sin{\\left (\\theta_{1}{\\left (t \\right )} \\right )} + \\cos{\\left (\\theta_{1}{\\left (t \\right )} \\right )}\\right)\\\\\\omega_z \\left(- \\sin{\\left (\\theta_{1}{\\left (t \\right )} \\right )} + \\cos{\\left (\\theta_{1}{\\left (t \\right )} \\right )}\\right)\\\\0\\end{matrix}\\right]$$"
      ],
      "text/plain": [
       "⎡-\\omega_z⋅(sin(\\theta₁(t)) + cos(\\theta₁(t)))⎤\n",
       "⎢                                             ⎥\n",
       "⎢\\omega_z⋅(-sin(\\theta₁(t)) + cos(\\theta₁(t)))⎥\n",
       "⎢                                             ⎥\n",
       "⎣                      0                      ⎦"
      ]
     },
     "execution_count": 52,
     "metadata": {},
     "output_type": "execute_result"
    }
   ],
   "source": [
    "wz = symbols(\"\\\\omega_z\")\n",
    "skew([0,0,wz])*( H[:3,:3]*Matrix(p[:3]) )"
   ]
  },
  {
   "cell_type": "code",
   "execution_count": null,
   "metadata": {},
   "outputs": [],
   "source": []
  }
 ],
 "metadata": {
  "kernelspec": {
   "display_name": "Python 3",
   "language": "python",
   "name": "python3"
  },
  "language_info": {
   "codemirror_mode": {
    "name": "ipython",
    "version": 3
   },
   "file_extension": ".py",
   "mimetype": "text/x-python",
   "name": "python",
   "nbconvert_exporter": "python",
   "pygments_lexer": "ipython3",
   "version": "3.6.5"
  }
 },
 "nbformat": 4,
 "nbformat_minor": 2
}
