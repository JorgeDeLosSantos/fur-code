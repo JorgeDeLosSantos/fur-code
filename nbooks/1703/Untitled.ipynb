{
 "cells": [
  {
   "cell_type": "code",
   "execution_count": 1,
   "metadata": {},
   "outputs": [],
   "source": [
    "from rkd.didactic import *"
   ]
  },
  {
   "cell_type": "code",
   "execution_count": 12,
   "metadata": {},
   "outputs": [],
   "source": [
    "r = Robot((0,pi/2,d1,t1), (l2,0,0,t2), (l3,0,0,t3))"
   ]
  },
  {
   "cell_type": "code",
   "execution_count": 13,
   "metadata": {},
   "outputs": [
    {
     "data": {
      "image/png": "[encoded data removed]",
      "text/latex": [
       "$$\\left[\\begin{matrix}\\cos{\\left (\\theta_1 \\right )} \\cos{\\left (\\theta_2 + \\theta_3 \\right )} & - \\sin{\\left (\\theta_2 + \\theta_3 \\right )} \\cos{\\left (\\theta_1 \\right )} & \\sin{\\left (\\theta_1 \\right )} & \\left(l_{2} \\cos{\\left (\\theta_2 \\right )} + l_{3} \\cos{\\left (\\theta_2 + \\theta_3 \\right )}\\right) \\cos{\\left (\\theta_1 \\right )}\\\\\\sin{\\left (\\theta_1 \\right )} \\cos{\\left (\\theta_2 + \\theta_3 \\right )} & - \\sin{\\left (\\theta_1 \\right )} \\sin{\\left (\\theta_2 + \\theta_3 \\right )} & - \\cos{\\left (\\theta_1 \\right )} & \\left(l_{2} \\cos{\\left (\\theta_2 \\right )} + l_{3} \\cos{\\left (\\theta_2 + \\theta_3 \\right )}\\right) \\sin{\\left (\\theta_1 \\right )}\\\\\\sin{\\left (\\theta_2 + \\theta_3 \\right )} & \\cos{\\left (\\theta_2 + \\theta_3 \\right )} & 0 & d_{1} + l_{2} \\sin{\\left (\\theta_2 \\right )} + l_{3} \\sin{\\left (\\theta_2 + \\theta_3 \\right )}\\\\0 & 0 & 0 & 1\\end{matrix}\\right]$$"
      ],
      "text/plain": [
       "⎡cos(\\theta₁)⋅cos(\\theta₂ + \\theta₃)  -sin(\\theta₂ + \\theta₃)⋅cos(\\theta₁)  si\n",
       "⎢                                                                             \n",
       "⎢sin(\\theta₁)⋅cos(\\theta₂ + \\theta₃)  -sin(\\theta₁)⋅sin(\\theta₂ + \\theta₃)  -c\n",
       "⎢                                                                             \n",
       "⎢      sin(\\theta₂ + \\theta₃)                cos(\\theta₂ + \\theta₃)           \n",
       "⎢                                                                             \n",
       "⎣                 0                                    0                      \n",
       "\n",
       "n(\\theta₁)   (l₂⋅cos(\\theta₂) + l₃⋅cos(\\theta₂ + \\theta₃))⋅cos(\\theta₁)⎤\n",
       "                                                                       ⎥\n",
       "os(\\theta₁)  (l₂⋅cos(\\theta₂) + l₃⋅cos(\\theta₂ + \\theta₃))⋅sin(\\theta₁)⎥\n",
       "                                                                       ⎥\n",
       "    0             d₁ + l₂⋅sin(\\theta₂) + l₃⋅sin(\\theta₂ + \\theta₃)     ⎥\n",
       "                                                                       ⎥\n",
       "    0                                    1                             ⎦"
      ]
     },
     "execution_count": 13,
     "metadata": {},
     "output_type": "execute_result"
    }
   ],
   "source": [
    "r.T"
   ]
  },
  {
   "cell_type": "code",
   "execution_count": null,
   "metadata": {},
   "outputs": [],
   "source": []
  }
 ],
 "metadata": {
  "kernelspec": {
   "display_name": "Python 3",
   "language": "python",
   "name": "python3"
  },
  "language_info": {
   "codemirror_mode": {
    "name": "ipython",
    "version": 3
   },
   "file_extension": ".py",
   "mimetype": "text/x-python",
   "name": "python",
   "nbconvert_exporter": "python",
   "pygments_lexer": "ipython3",
   "version": "3.6.5"
  }
 },
 "nbformat": 4,
 "nbformat_minor": 2
}
