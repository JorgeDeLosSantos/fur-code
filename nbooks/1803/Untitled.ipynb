{
 "cells": [
  {
   "cell_type": "code",
   "execution_count": 109,
   "metadata": {},
   "outputs": [],
   "source": [
    "from sympy import *\n",
    "from sympy.matrices import *\n",
    "init_printing(use_latex=True)"
   ]
  },
  {
   "cell_type": "markdown",
   "metadata": {},
   "source": [
    "## Solución utilizando NR de la cinemática inversa del manipulador RR\n",
    "\n",
    "$$ P_x = L_1 \\cos\\theta_1 + L_2 \\cos(\\theta_1 + \\theta_2) $$\n",
    "$$ P_y = L_1 \\sin\\theta_1 + L_2 \\sin(\\theta_1 + \\theta_2) $$"
   ]
  },
  {
   "cell_type": "code",
   "execution_count": 110,
   "metadata": {},
   "outputs": [],
   "source": [
    "L1, L2 = 100, 100\n",
    "Px, Py = 120, 80\n",
    "t1, t2 = symbols(\"\\\\theta_1, \\\\theta_2\")\n",
    "\n",
    "ec1 = L1*cos(t1) + L2*cos(t1 + t2) - Px\n",
    "ec2 = L1*sin(t1) + L2*sin(t1 + t2) - Py\n",
    "\n",
    "b = Matrix([ec1, ec2])\n",
    "J = b.jacobian([t1,t2])\n",
    "\n",
    "# Valores iniciales\n",
    "X0 = {t1:0.1, t2:rad(70)}"
   ]
  },
  {
   "cell_type": "code",
   "execution_count": 111,
   "metadata": {},
   "outputs": [],
   "source": [
    "def nr(J,b,x0,eps=0.001):\n",
    "    while True:\n",
    "        x = ( J.subs(x0).evalf().inv() )*(-b.subs(x0).evalf() )\n",
    "        if x.norm() < eps: break\n",
    "        for k,var in enumerate(x0):\n",
    "            x0[var] += x[k] \n",
    "    return x0"
   ]
  },
  {
   "cell_type": "code",
   "execution_count": 112,
   "metadata": {},
   "outputs": [],
   "source": [
    "x1 = nr(J,b,{t1:},0.1) "
   ]
  },
  {
   "cell_type": "code",
   "execution_count": 113,
   "metadata": {},
   "outputs": [
    {
     "data": {
      "image/png": "[encoded data removed]",
      "text/latex": [
       "$$\\left \\{ \\theta_1 : -0.188293381901746, \\quad \\theta_2 : 0.360815406835367 + \\frac{7 \\pi}{18}\\right \\}$$"
      ],
      "text/plain": [
       "⎧                                                          7⋅π⎫\n",
       "⎨\\theta₁: -0.188293381901746, \\theta₂: 0.360815406835367 + ───⎬\n",
       "⎩                                                           18⎭"
      ]
     },
     "execution_count": 113,
     "metadata": {},
     "output_type": "execute_result"
    }
   ],
   "source": [
    "x1"
   ]
  },
  {
   "cell_type": "code",
   "execution_count": 114,
   "metadata": {},
   "outputs": [],
   "source": [
    "x2 = nr(J,b,X0,0.0001)"
   ]
  },
  {
   "cell_type": "code",
   "execution_count": 115,
   "metadata": {},
   "outputs": [
    {
     "data": {
      "image/png": "[encoded data removed]",
      "text/latex": [
       "$$\\left \\{ \\theta_1 : -0.17739023824577, \\quad \\theta_2 : 0.309055539826028 + \\frac{7 \\pi}{18}\\right \\}$$"
      ],
      "text/plain": [
       "⎧                                                         7⋅π⎫\n",
       "⎨\\theta₁: -0.17739023824577, \\theta₂: 0.309055539826028 + ───⎬\n",
       "⎩                                                          18⎭"
      ]
     },
     "execution_count": 115,
     "metadata": {},
     "output_type": "execute_result"
    }
   ],
   "source": [
    "x2"
   ]
  },
  {
   "cell_type": "code",
   "execution_count": null,
   "metadata": {},
   "outputs": [],
   "source": []
  }
 ],
 "metadata": {
  "kernelspec": {
   "display_name": "Python 3",
   "language": "python",
   "name": "python3"
  },
  "language_info": {
   "codemirror_mode": {
    "name": "ipython",
    "version": 3
   },
   "file_extension": ".py",
   "mimetype": "text/x-python",
   "name": "python",
   "nbconvert_exporter": "python",
   "pygments_lexer": "ipython3",
   "version": "3.6.5"
  }
 },
 "nbformat": 4,
 "nbformat_minor": 2
}
