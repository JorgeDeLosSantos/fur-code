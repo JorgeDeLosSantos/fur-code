{
 "cells": [
  {
   "cell_type": "code",
   "execution_count": 1,
   "metadata": {},
   "outputs": [],
   "source": [
    "from rkd.didactic import *\n",
    "import numpy as np\n",
    "import itertools "
   ]
  },
  {
   "cell_type": "code",
   "execution_count": 5,
   "metadata": {},
   "outputs": [],
   "source": [
    "d1,a2,d4,d6 = 300, 250, 280,50\n",
    "rb = Robot((0,pi/2,d1,t1), (a2,0,0,t2), (0,pi/2,0,t3), (0,-pi/2,d4,t4), (0,pi/2,0,t5), (0,0,d6,t6))"
   ]
  },
  {
   "cell_type": "code",
   "execution_count": 6,
   "metadata": {},
   "outputs": [],
   "source": [
    "T = rb.T"
   ]
  },
  {
   "cell_type": "code",
   "execution_count": 7,
   "metadata": {},
   "outputs": [
    {
     "data": {
      "image/png": "[encoded data removed]",
      "text/latex": [
       "$$\\left[\\begin{matrix}-0.499884 & 0.124034 & 0.857165 & 160.019\\\\-0.0624853 & -0.992278 & 0.107145 & 20.0023\\\\0.863835 & 0 & 0.503774 & 108.967\\\\0 & 0 & 0 & 1.0\\end{matrix}\\right]$$"
      ],
      "text/plain": [
       "⎡-0.499884   0.124034   0.857165  160.019⎤\n",
       "⎢                                        ⎥\n",
       "⎢-0.0624853  -0.992278  0.107145  20.0023⎥\n",
       "⎢                                        ⎥\n",
       "⎢ 0.863835       0      0.503774  108.967⎥\n",
       "⎢                                        ⎥\n",
       "⎣    0           0         0        1.0  ⎦"
      ]
     },
     "execution_count": 7,
     "metadata": {},
     "output_type": "execute_result"
    }
   ],
   "source": [
    "simplify( rb.Ts[0]*rb.Ts[1]*rb.Ts[2] ).subs({t1:rad(7.125), t2:rad(-49.83), t3:rad(170.08)}).evalf(6)"
   ]
  },
  {
   "cell_type": "code",
   "execution_count": 8,
   "metadata": {},
   "outputs": [
    {
     "ename": "NameError",
     "evalue": "name 'T1' is not defined",
     "output_type": "error",
     "traceback": [
      "\u001b[1;31m---------------------------------------------------------------------------\u001b[0m",
      "\u001b[1;31mNameError\u001b[0m                                 Traceback (most recent call last)",
      "\u001b[1;32m<ipython-input-8-087b1ed8e868>\u001b[0m in \u001b[0;36m<module>\u001b[1;34m()\u001b[0m\n\u001b[1;32m----> 1\u001b[1;33m \u001b[0msimplify\u001b[0m\u001b[1;33m(\u001b[0m \u001b[0mrb\u001b[0m\u001b[1;33m.\u001b[0m\u001b[0mTs\u001b[0m\u001b[1;33m[\u001b[0m\u001b[1;36m0\u001b[0m\u001b[1;33m]\u001b[0m\u001b[1;33m*\u001b[0m\u001b[0mrb\u001b[0m\u001b[1;33m.\u001b[0m\u001b[0mTs\u001b[0m\u001b[1;33m[\u001b[0m\u001b[1;36m1\u001b[0m\u001b[1;33m]\u001b[0m\u001b[1;33m*\u001b[0m\u001b[0mrb\u001b[0m\u001b[1;33m.\u001b[0m\u001b[0mTs\u001b[0m\u001b[1;33m[\u001b[0m\u001b[1;36m2\u001b[0m\u001b[1;33m]\u001b[0m \u001b[1;33m)\u001b[0m\u001b[1;33m.\u001b[0m\u001b[0msubs\u001b[0m\u001b[1;33m(\u001b[0m\u001b[1;33m{\u001b[0m\u001b[0mt1\u001b[0m\u001b[1;33m:\u001b[0m\u001b[0mT1\u001b[0m\u001b[1;33m,\u001b[0m \u001b[0mt2\u001b[0m\u001b[1;33m:\u001b[0m\u001b[0mT2\u001b[0m\u001b[1;33m,\u001b[0m \u001b[0mt3\u001b[0m\u001b[1;33m:\u001b[0m\u001b[0mT3\u001b[0m\u001b[1;33m}\u001b[0m\u001b[1;33m)\u001b[0m\u001b[1;33m.\u001b[0m\u001b[0mevalf\u001b[0m\u001b[1;33m(\u001b[0m\u001b[1;36m6\u001b[0m\u001b[1;33m)\u001b[0m\u001b[1;33m\u001b[0m\u001b[0m\n\u001b[0m",
      "\u001b[1;31mNameError\u001b[0m: name 'T1' is not defined"
     ]
    }
   ],
   "source": [
    "simplify( rb.Ts[0]*rb.Ts[1]*rb.Ts[2] ).subs({t1:T1, t2:T2, t3:T3}).evalf(6)"
   ]
  },
  {
   "cell_type": "code",
   "execution_count": 7,
   "metadata": {},
   "outputs": [
    {
     "data": {
      "image/png": "[encoded data removed]",
      "text/latex": [
       "$$\\left[\\begin{matrix}- \\sin{\\left (\\theta_4 \\right )} \\sin{\\left (\\theta_6 \\right )} + \\cos{\\left (\\theta_4 \\right )} \\cos{\\left (\\theta_5 \\right )} \\cos{\\left (\\theta_6 \\right )} & - \\sin{\\left (\\theta_4 \\right )} \\cos{\\left (\\theta_6 \\right )} - \\sin{\\left (\\theta_6 \\right )} \\cos{\\left (\\theta_4 \\right )} \\cos{\\left (\\theta_5 \\right )} & \\sin{\\left (\\theta_5 \\right )} \\cos{\\left (\\theta_4 \\right )} & 50 \\sin{\\left (\\theta_5 \\right )} \\cos{\\left (\\theta_4 \\right )}\\\\\\sin{\\left (\\theta_4 \\right )} \\cos{\\left (\\theta_5 \\right )} \\cos{\\left (\\theta_6 \\right )} + \\sin{\\left (\\theta_6 \\right )} \\cos{\\left (\\theta_4 \\right )} & - \\sin{\\left (\\theta_4 \\right )} \\sin{\\left (\\theta_6 \\right )} \\cos{\\left (\\theta_5 \\right )} + \\cos{\\left (\\theta_4 \\right )} \\cos{\\left (\\theta_6 \\right )} & \\sin{\\left (\\theta_4 \\right )} \\sin{\\left (\\theta_5 \\right )} & 50 \\sin{\\left (\\theta_4 \\right )} \\sin{\\left (\\theta_5 \\right )}\\\\- \\sin{\\left (\\theta_5 \\right )} \\cos{\\left (\\theta_6 \\right )} & \\sin{\\left (\\theta_5 \\right )} \\sin{\\left (\\theta_6 \\right )} & \\cos{\\left (\\theta_5 \\right )} & 50 \\cos{\\left (\\theta_5 \\right )} + 280\\\\0 & 0 & 0 & 1\\end{matrix}\\right]$$"
      ],
      "text/plain": [
       "⎡-sin(\\theta₄)⋅sin(\\theta₆) + cos(\\theta₄)⋅cos(\\theta₅)⋅cos(\\theta₆)  -sin(\\th\n",
       "⎢                                                                             \n",
       "⎢sin(\\theta₄)⋅cos(\\theta₅)⋅cos(\\theta₆) + sin(\\theta₆)⋅cos(\\theta₄)   -sin(\\th\n",
       "⎢                                                                             \n",
       "⎢                    -sin(\\theta₅)⋅cos(\\theta₆)                               \n",
       "⎢                                                                             \n",
       "⎣                                 0                                           \n",
       "\n",
       "eta₄)⋅cos(\\theta₆) - sin(\\theta₆)⋅cos(\\theta₄)⋅cos(\\theta₅)  sin(\\theta₅)⋅cos(\n",
       "                                                                              \n",
       "eta₄)⋅sin(\\theta₆)⋅cos(\\theta₅) + cos(\\theta₄)⋅cos(\\theta₆)  sin(\\theta₄)⋅sin(\n",
       "                                                                              \n",
       "             sin(\\theta₅)⋅sin(\\theta₆)                             cos(\\theta₅\n",
       "                                                                              \n",
       "                         0                                               0    \n",
       "\n",
       "\\theta₄)  50⋅sin(\\theta₅)⋅cos(\\theta₄)⎤\n",
       "                                      ⎥\n",
       "\\theta₅)  50⋅sin(\\theta₄)⋅sin(\\theta₅)⎥\n",
       "                                      ⎥\n",
       ")            50⋅cos(\\theta₅) + 280    ⎥\n",
       "                                      ⎥\n",
       "                       1              ⎦"
      ]
     },
     "execution_count": 7,
     "metadata": {},
     "output_type": "execute_result"
    }
   ],
   "source": [
    "simplify( rb.Ts[3]*rb.Ts[4]*rb.Ts[5] )"
   ]
  },
  {
   "cell_type": "code",
   "execution_count": 10,
   "metadata": {},
   "outputs": [
    {
     "data": {
      "image/png": "[encoded data removed]",
      "text/latex": [
       "$$\\left[\\begin{matrix}1 & 0 & 0 & 400\\\\0 & -1 & 0 & 50\\\\0 & 0 & -1 & 200\\\\0 & 0 & 0 & 1\\end{matrix}\\right]$$"
      ],
      "text/plain": [
       "⎡1  0   0   400⎤\n",
       "⎢              ⎥\n",
       "⎢0  -1  0   50 ⎥\n",
       "⎢              ⎥\n",
       "⎢0  0   -1  200⎥\n",
       "⎢              ⎥\n",
       "⎣0  0   0    1 ⎦"
      ]
     },
     "execution_count": 10,
     "metadata": {},
     "output_type": "execute_result"
    }
   ],
   "source": [
    "H = Matrix([[1,0,0,400], [0,-1,0,50], [0,0,-1,200], [0,0,0,1]])\n",
    "H"
   ]
  },
  {
   "cell_type": "code",
   "execution_count": 11,
   "metadata": {},
   "outputs": [
    {
     "name": "stdout",
     "output_type": "stream",
     "text": [
      "7.12501634890180\n",
      "-49.8378437540761\n",
      "170.087567270146\n",
      "-6.21559563832006e-16\n",
      "-120.249723516069\n",
      "7.12501634890180\n"
     ]
    }
   ],
   "source": [
    "xm,ym,zm = H[:3,3] - d6*H[:3,2]\n",
    "T1 = atan2(ym, xm)\n",
    "r = sqrt(xm**2 + ym**2)\n",
    "s = sqrt(r**2 + (zm-d1)**2)\n",
    "alpha = atan2(zm-d1, r)\n",
    "K = (a2**2 + s**2 - d4**2)/(2*a2*s)\n",
    "beta = atan2(sqrt(1-K**2), K)\n",
    "T2 = alpha - beta\n",
    "K1 = (s**2 - a2**2 - d4**2)/(2*a2*d4)\n",
    "T3 = atan2(sqrt(1-K1**2), K1) + pi/2\n",
    "\n",
    "\n",
    "# s = sqrt(xm**2 + ym**2 + (zm-d1)**2)\n",
    "# alpha = atan2(d1-zm, r)\n",
    "# K = (a2**2 + s**2 - d4**2)/(2*a2*s)\n",
    "# beta = atan2(sqrt(1-K**2), K)\n",
    "# T2 = beta - alpha\n",
    "# K1 = (s**2 - a2**2 - d4**2)/(2*a2*d4)\n",
    "# T3 = - atan2(sqrt(1-K1**2), K1) + pi/2\n",
    "\n",
    "R30 = ( ( rb.Ts[0]*rb.Ts[1]*rb.Ts[2] ).subs({t1:T1, t2:T2, t3:T3}).evalf() )[:3,:3]\n",
    "B = ( R30.inv()*H[:3,:3] )\n",
    "# T5 = atan2(sqrt(1 - B[2,2]**2), B[2,2])\n",
    "# T6 = atan2(B[2,1], -B[2,0])\n",
    "# T4 = atan2(B[1,2], B[0,2])\n",
    "T5 = atan2(-sqrt(1 - B[2,2]**2), B[2,2])\n",
    "T6 = atan2(-B[2,1], B[2,0])\n",
    "T4 = atan2(-B[1,2], -B[0,2])\n",
    "\n",
    "\n",
    "for th in [T1,T2,T3,T4,T5,T6]:\n",
    "    print(deg(th).evalf())"
   ]
  },
  {
   "cell_type": "code",
   "execution_count": 9,
   "metadata": {},
   "outputs": [
    {
     "data": {
      "image/png": "[encoded data removed]",
      "text/latex": [
       "$$187.13$$"
      ],
      "text/plain": [
       "187.13"
      ]
     },
     "execution_count": 9,
     "metadata": {},
     "output_type": "execute_result"
    }
   ],
   "source": []
  },
  {
   "cell_type": "code",
   "execution_count": 10,
   "metadata": {},
   "outputs": [
    {
     "data": {
      "image/png": "[encoded data removed]",
      "text/latex": [
       "$$-7.07055511696583$$"
      ],
      "text/plain": [
       "-7.07055511696583"
      ]
     },
     "execution_count": 10,
     "metadata": {},
     "output_type": "execute_result"
    }
   ],
   "source": [
    "deg(alpha).evalf()"
   ]
  },
  {
   "cell_type": "code",
   "execution_count": 12,
   "metadata": {},
   "outputs": [
    {
     "data": {
      "image/png": "[encoded data removed]",
      "text/latex": [
       "$$\\left[\\begin{matrix}1.0 & -1.4783421762967 \\cdot 10^{-17} & 5.13789867405764 \\cdot 10^{-17} & 400.0\\\\7.7378041278648 \\cdot 10^{-18} & -1.0 & -3.02169420641716 \\cdot 10^{-18} & 50.0\\\\5.15110632304521 \\cdot 10^{-17} & 5.5492766748861 \\cdot 10^{-18} & -1.0 & 200.0\\\\0 & 0 & 0 & 1.0\\end{matrix}\\right]$$"
      ],
      "text/plain": [
       "⎡        1.0           -1.4783421762967e-17  5.13789867405764e-17   400.0⎤\n",
       "⎢                                                                        ⎥\n",
       "⎢7.7378041278648e-18           -1.0          -3.02169420641716e-18  50.0 ⎥\n",
       "⎢                                                                        ⎥\n",
       "⎢5.15110632304521e-17  5.5492766748861e-18           -1.0           200.0⎥\n",
       "⎢                                                                        ⎥\n",
       "⎣         0                     0                      0             1.0 ⎦"
      ]
     },
     "execution_count": 12,
     "metadata": {},
     "output_type": "execute_result"
    }
   ],
   "source": [
    "T.subs({t1:T1, t2:T2, t3:T3, t4:T4, t5:T5, t6:T6}).evalf()"
   ]
  },
  {
   "cell_type": "code",
   "execution_count": 259,
   "metadata": {},
   "outputs": [],
   "source": [
    "# x = lambdify((t1,t2,t3,t4,t5,t6), T[0,3])\n",
    "# y = lambdify((t1,t2,t3,t4,t5,t6), T[1,3])\n",
    "# z = lambdify((t1,t2,t3,t4,t5,t6), T[2,3])\n",
    "\n",
    "# _t1,_t2,_t3 = [0] , np.linspace(float(rad(-110)), float(rad(110)), 60), np.linspace(float(rad(-90)), float(rad(70)), 60)\n",
    "# _t4 = _t5 = _t6 = [0]# np.linspace(-np.pi/2, np.pi/2, 10)\n",
    "\n",
    "# points = itertools.product(_t1,_t2,_t3,_t4,_t5,_t6)\n",
    "# points = list( zip(*list(points) ))\n",
    "# T1,T2,T3 = np.array(points[0]), np.array(points[1]), np.array(points[2])\n",
    "# T4,T5,T6 = np.array(points[3]), np.array(points[4]), np.array(points[5])\n",
    "# plt.plot(x(T1,T2,T3,T4,T5,T6), z(T1,T2,T3,T4,T5,T6), \"b.\")\n",
    "# plt.axis('square');"
   ]
  },
  {
   "cell_type": "code",
   "execution_count": 264,
   "metadata": {},
   "outputs": [
    {
     "data": {
      "image/png": "[encoded data removed]",
      "text/latex": [
       "$$\\left[\\begin{matrix}\\cos{\\left (\\theta_1 \\right )} \\cos{\\left (\\theta_2 + \\theta_3 \\right )} & \\sin{\\left (\\theta_1 \\right )} & \\sin{\\left (\\theta_2 + \\theta_3 \\right )} \\cos{\\left (\\theta_1 \\right )} & 250 \\cos{\\left (\\theta_1 \\right )} \\cos{\\left (\\theta_2 \\right )}\\\\\\sin{\\left (\\theta_1 \\right )} \\cos{\\left (\\theta_2 + \\theta_3 \\right )} & - \\cos{\\left (\\theta_1 \\right )} & \\sin{\\left (\\theta_1 \\right )} \\sin{\\left (\\theta_2 + \\theta_3 \\right )} & 250 \\sin{\\left (\\theta_1 \\right )} \\cos{\\left (\\theta_2 \\right )}\\\\\\sin{\\left (\\theta_2 + \\theta_3 \\right )} & 0 & - \\cos{\\left (\\theta_2 + \\theta_3 \\right )} & 250 \\sin{\\left (\\theta_2 \\right )} + 300\\\\0 & 0 & 0 & 1\\end{matrix}\\right]$$"
      ],
      "text/plain": [
       "⎡cos(\\theta₁)⋅cos(\\theta₂ + \\theta₃)  sin(\\theta₁)   sin(\\theta₂ + \\theta₃)⋅co\n",
       "⎢                                                                             \n",
       "⎢sin(\\theta₁)⋅cos(\\theta₂ + \\theta₃)  -cos(\\theta₁)  sin(\\theta₁)⋅sin(\\theta₂ \n",
       "⎢                                                                             \n",
       "⎢      sin(\\theta₂ + \\theta₃)               0              -cos(\\theta₂ + \\the\n",
       "⎢                                                                             \n",
       "⎣                 0                         0                         0       \n",
       "\n",
       "s(\\theta₁)  250⋅cos(\\theta₁)⋅cos(\\theta₂)⎤\n",
       "                                         ⎥\n",
       "+ \\theta₃)  250⋅sin(\\theta₁)⋅cos(\\theta₂)⎥\n",
       "                                         ⎥\n",
       "ta₃)           250⋅sin(\\theta₂) + 300    ⎥\n",
       "                                         ⎥\n",
       "                          1              ⎦"
      ]
     },
     "execution_count": 264,
     "metadata": {},
     "output_type": "execute_result"
    }
   ],
   "source": [
    "simplify( rb.Ts[0]*rb.Ts[1]*rb.Ts[2] )"
   ]
  },
  {
   "cell_type": "code",
   "execution_count": null,
   "metadata": {},
   "outputs": [],
   "source": []
  }
 ],
 "metadata": {
  "kernelspec": {
   "display_name": "Python 3",
   "language": "python",
   "name": "python3"
  },
  "language_info": {
   "codemirror_mode": {
    "name": "ipython",
    "version": 3
   },
   "file_extension": ".py",
   "mimetype": "text/x-python",
   "name": "python",
   "nbconvert_exporter": "python",
   "pygments_lexer": "ipython3",
   "version": "3.6.5"
  }
 },
 "nbformat": 4,
 "nbformat_minor": 2
}
