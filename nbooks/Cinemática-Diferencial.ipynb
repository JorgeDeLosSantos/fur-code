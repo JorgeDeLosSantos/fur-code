{
 "cells": [
  {
   "cell_type": "code",
   "execution_count": 6,
   "metadata": {},
   "outputs": [],
   "source": [
    "from furlib import *\n",
    "from sympy.abc import t\n",
    "import numpy as np\n",
    "import matplotlib.pyplot as plt\n",
    "%matplotlib inline\n",
    "\n",
    "theta1 = Function('\\\\theta_1')(t)\n",
    "theta2 = Function('\\\\theta_2')(t)"
   ]
  },
  {
   "cell_type": "code",
   "execution_count": 7,
   "metadata": {},
   "outputs": [],
   "source": [
    "R1_0 = htmr(theta1)[:3,:3]\n",
    "R2_1 = htmr(theta2)[:3,:3]"
   ]
  },
  {
   "cell_type": "code",
   "execution_count": 8,
   "metadata": {},
   "outputs": [
    {
     "data": {
      "image/png": "[encoded data removed]",
      "text/latex": [
       "$$\\left[\\begin{matrix}0\\\\0\\\\0\\end{matrix}\\right]$$"
      ],
      "text/plain": [
       "⎡0⎤\n",
       "⎢ ⎥\n",
       "⎢0⎥\n",
       "⎢ ⎥\n",
       "⎣0⎦"
      ]
     },
     "execution_count": 8,
     "metadata": {},
     "output_type": "execute_result"
    }
   ],
   "source": [
    "w1_0 = Matrix([0,0,1])\n",
    "w2_1 = Matrix([0,0,-1])\n",
    "\n",
    "w2_0 = w1_0 + R1_0*w2_1\n",
    "w2_0"
   ]
  },
  {
   "cell_type": "code",
   "execution_count": 9,
   "metadata": {},
   "outputs": [],
   "source": [
    "p1 = Matrix([0,0,0])\n",
    "o = Matrix([cos(t),sin(t),0])\n",
    "R1_0 = htmr(t)[:3,:3]\n",
    "v0 = R1_0.diff(t)*p1 + o.diff(t)"
   ]
  },
  {
   "cell_type": "code",
   "execution_count": 10,
   "metadata": {},
   "outputs": [
    {
     "data": {
      "image/png": "[encoded data removed]",
      "text/plain": [
       "<matplotlib.figure.Figure at 0xb03f2e8>"
      ]
     },
     "metadata": {},
     "output_type": "display_data"
    }
   ],
   "source": [
    "for k in np.linspace(0,6.28):\n",
    "    vn = v0.subs(t,k)\n",
    "    plt.plot(k, vn[0], \"ro\")\n",
    "    plt.plot(k, vn[1], \"bo\")"
   ]
  },
  {
   "cell_type": "code",
   "execution_count": 11,
   "metadata": {},
   "outputs": [],
   "source": [
    "#t1,t2 = Function('\\\\theta_1')(t), Function('\\\\theta_2')(t)\n",
    "rr = Manipulator((l1,0,0,t1),(l2,0,0,t2))\n",
    "T = rr.T"
   ]
  },
  {
   "cell_type": "code",
   "execution_count": 12,
   "metadata": {},
   "outputs": [
    {
     "data": {
      "image/png": "[encoded data removed]",
      "text/latex": [
       "$$\\left ( l_{1} \\cos{\\left (\\theta_1 \\right )} + l_{2} \\cos{\\left (\\theta_1 + \\theta_2 \\right )}, \\quad l_{1} \\sin{\\left (\\theta_1 \\right )} + l_{2} \\sin{\\left (\\theta_1 + \\theta_2 \\right )}\\right )$$"
      ],
      "text/plain": [
       "(l₁⋅cos(\\theta₁) + l₂⋅cos(\\theta₁ + \\theta₂), l₁⋅sin(\\theta₁) + l₂⋅sin(\\theta₁\n",
       " + \\theta₂))"
      ]
     },
     "execution_count": 12,
     "metadata": {},
     "output_type": "execute_result"
    }
   ],
   "source": [
    "px = T[0,3]\n",
    "py = T[1,3]\n",
    "px,py"
   ]
  },
  {
   "cell_type": "code",
   "execution_count": 15,
   "metadata": {},
   "outputs": [
    {
     "data": {
      "image/png": "[encoded data removed]",
      "text/latex": [
       "$$\\left[\\begin{matrix}- l_{1} \\sin{\\left (\\theta_1 \\right )} - l_{2} \\sin{\\left (\\theta_1 + \\theta_2 \\right )} & - l_{2} \\sin{\\left (\\theta_1 + \\theta_2 \\right )}\\\\l_{1} \\cos{\\left (\\theta_1 \\right )} + l_{2} \\cos{\\left (\\theta_1 + \\theta_2 \\right )} & l_{2} \\cos{\\left (\\theta_1 + \\theta_2 \\right )}\\\\0 & 0\\\\0 & 0\\\\0 & 0\\\\1 & 1\\end{matrix}\\right]$$"
      ],
      "text/plain": [
       "⎡-l₁⋅sin(\\theta₁) - l₂⋅sin(\\theta₁ + \\theta₂)  -l₂⋅sin(\\theta₁ + \\theta₂)⎤\n",
       "⎢                                                                        ⎥\n",
       "⎢l₁⋅cos(\\theta₁) + l₂⋅cos(\\theta₁ + \\theta₂)   l₂⋅cos(\\theta₁ + \\theta₂) ⎥\n",
       "⎢                                                                        ⎥\n",
       "⎢                     0                                    0             ⎥\n",
       "⎢                                                                        ⎥\n",
       "⎢                     0                                    0             ⎥\n",
       "⎢                                                                        ⎥\n",
       "⎢                     0                                    0             ⎥\n",
       "⎢                                                                        ⎥\n",
       "⎣                     1                                    1             ⎦"
      ]
     },
     "execution_count": 15,
     "metadata": {},
     "output_type": "execute_result"
    }
   ],
   "source": [
    "J = rr.J\n",
    "J"
   ]
  },
  {
   "cell_type": "code",
   "execution_count": 32,
   "metadata": {},
   "outputs": [],
   "source": [
    "vals = {t1:pi/2,t2:pi/2,l1:100,l2:100}\n",
    "q = Matrix([10,-10])"
   ]
  },
  {
   "cell_type": "code",
   "execution_count": 33,
   "metadata": {},
   "outputs": [
    {
     "data": {
      "image/png": "[encoded data removed]",
      "text/latex": [
       "$$\\left[\\begin{matrix}-1000\\\\0\\\\0\\\\0\\\\0\\\\0\\end{matrix}\\right]$$"
      ],
      "text/plain": [
       "⎡-1000⎤\n",
       "⎢     ⎥\n",
       "⎢  0  ⎥\n",
       "⎢     ⎥\n",
       "⎢  0  ⎥\n",
       "⎢     ⎥\n",
       "⎢  0  ⎥\n",
       "⎢     ⎥\n",
       "⎢  0  ⎥\n",
       "⎢     ⎥\n",
       "⎣  0  ⎦"
      ]
     },
     "execution_count": 33,
     "metadata": {},
     "output_type": "execute_result"
    }
   ],
   "source": [
    "(J*q).subs(vals)"
   ]
  },
  {
   "cell_type": "code",
   "execution_count": null,
   "metadata": {},
   "outputs": [],
   "source": []
  }
 ],
 "metadata": {
  "kernelspec": {
   "display_name": "Python 3",
   "language": "python",
   "name": "python3"
  }
 },
 "nbformat": 4,
 "nbformat_minor": 2
}
