{
 "cells": [
  {
   "cell_type": "code",
   "execution_count": 1,
   "metadata": {},
   "outputs": [],
   "source": [
    "from sympy import *\n",
    "from sympy.matrices import *\n",
    "init_printing(use_latex=true)\n",
    "\n",
    "t1,t2,t3,t4,t5,t6,l1,l2,l3,d1,d2,d3,d4,d5,d6,l1,l2,l3 = symbols('\\\\theta_1, \\\\theta_2, \\\\theta_3, \\\\theta_4, \\\\theta_5, \\\\theta_6, l_1,l_2,l_3,d_1,d_2,d_3,d_4,d_5,d_6,l_1,l_2,l_3')\n",
    "x,y,z = symbols('x,y,z')\n",
    "\n",
    "def dhs(a,alpha,d,theta):\n",
    "    M = Matrix([[cos(theta),-sin(theta)*cos(alpha),sin(theta)*sin(alpha),a*cos(theta)],\n",
    "                  [sin(theta),cos(theta)*cos(alpha),-cos(theta)*sin(alpha),a*sin(theta)],\n",
    "                  [0,sin(alpha),cos(alpha),d],\n",
    "                  [0,0,0,1]])\n",
    "    return M\n",
    "\n",
    "class Manipulator(object):\n",
    "    def __init__(self,*args):\n",
    "        self.Ts = []\n",
    "        self.type = []\n",
    "        for k in args:\n",
    "            self.Ts.append(dhs(k[0],k[1],k[2],k[3]))\n",
    "            if len(k)>4:\n",
    "                self.type.append(k[4])\n",
    "            else:\n",
    "                self.type.append('r')\n",
    "        self.dof = len(args)\n",
    "    \n",
    "    def z(self,i):\n",
    "        if i == 0: return Matrix([[0],[0],[1]])\n",
    "        MTH = eye(4)\n",
    "        for k in range(i):\n",
    "            MTH = MTH*self.Ts[k]\n",
    "        return MTH[:3,2]\n",
    "    \n",
    "    def p(self,i):\n",
    "        if i == 0: return Matrix([[0],[0],[0]])\n",
    "        MTH = eye(4)\n",
    "        for k in range(i):\n",
    "            MTH = MTH*self.Ts[k]\n",
    "        return MTH[:3,3]\n",
    "    \n",
    "    @property\n",
    "    def J(self):\n",
    "        n = self.dof\n",
    "        M_ = zeros(6,n)\n",
    "        for i in range(self.dof):\n",
    "            if self.type[i]=='r':\n",
    "                jp = self.z(i).cross(self.p(n) - self.p(i))\n",
    "                jo = self.z(i)\n",
    "            else:\n",
    "                jp = self.z(i)\n",
    "                jo = zeros(3,1)\n",
    "            jp = jp.col_join(jo)\n",
    "            M_[:,i] = jp\n",
    "        return M_\n"
   ]
  },
  {
   "cell_type": "markdown",
   "metadata": {},
   "source": [
    "## Manipulador PPR"
   ]
  },
  {
   "cell_type": "code",
   "execution_count": 3,
   "metadata": {},
   "outputs": [
    {
     "data": {
      "image/png": "[encoded data removed]",
      "text/latex": [
       "$$\\left[\\begin{matrix}\\sin{\\left (\\theta_3 \\right )} & \\cos{\\left (\\theta_3 \\right )} & 0 & d_{2} + l_{3} \\sin{\\left (\\theta_3 \\right )}\\\\\\cos{\\left (\\theta_3 \\right )} & - \\sin{\\left (\\theta_3 \\right )} & 0 & l_{3} \\cos{\\left (\\theta_3 \\right )}\\\\0 & 0 & -1 & d_{1}\\\\0 & 0 & 0 & 1\\end{matrix}\\right]$$"
      ],
      "text/plain": [
       "⎡sin(\\theta₃)  cos(\\theta₃)   0   d₂ + l₃⋅sin(\\theta₃)⎤\n",
       "⎢                                                     ⎥\n",
       "⎢cos(\\theta₃)  -sin(\\theta₃)  0     l₃⋅cos(\\theta₃)   ⎥\n",
       "⎢                                                     ⎥\n",
       "⎢     0              0        -1           d₁         ⎥\n",
       "⎢                                                     ⎥\n",
       "⎣     0              0        0            1          ⎦"
      ]
     },
     "execution_count": 3,
     "metadata": {},
     "output_type": "execute_result"
    }
   ],
   "source": [
    "import operator, functools\n",
    "PPR = Manipulator((0,pi/2,d1,pi/2,'p'),(0,pi/2,d2,0,'p'),(l3,0,0,t3,'r'))\n",
    "TPPR = functools.reduce(operator.mul, PPR.Ts)\n",
    "TPPR"
   ]
  },
  {
   "cell_type": "markdown",
   "metadata": {},
   "source": [
    "### Cinemática inversa"
   ]
  },
  {
   "cell_type": "code",
   "execution_count": 3,
   "metadata": {},
   "outputs": [
    {
     "data": {
      "image/png": "[encoded data removed]",
      "text/latex": [
       "$$\\left [ \\left ( z, \\quad - l_{3} \\sqrt{1 - \\frac{y^{2}}{l_{3}^{2}}} + x, \\quad \\operatorname{acos}{\\left (\\frac{y}{l_{3}} \\right )}\\right ), \\quad \\left ( z, \\quad l_{3} \\sqrt{1 - \\frac{y^{2}}{l_{3}^{2}}} + x, \\quad - \\operatorname{acos}{\\left (\\frac{y}{l_{3}} \\right )} + 2 \\pi\\right )\\right ]$$"
      ],
      "text/plain": [
       "⎡⎛              _________              ⎞  ⎛            _________              \n",
       "⎢⎜             ╱       2               ⎟  ⎜           ╱       2               \n",
       "⎢⎜            ╱       y            ⎛y ⎞⎟  ⎜          ╱       y              ⎛y\n",
       "⎢⎜z, - l₃⋅   ╱   1 - ───  + x, acos⎜──⎟⎟, ⎜z, l₃⋅   ╱   1 - ───  + x, - acos⎜─\n",
       "⎢⎜          ╱          2           ⎝l₃⎠⎟  ⎜        ╱          2             ⎝l\n",
       "⎣⎝        ╲╱         l₃                ⎠  ⎝      ╲╱         l₃                \n",
       "\n",
       "        ⎞⎤\n",
       "        ⎟⎥\n",
       " ⎞      ⎟⎥\n",
       "─⎟ + 2⋅π⎟⎥\n",
       "₃⎠      ⎟⎥\n",
       "        ⎠⎦"
      ]
     },
     "execution_count": 3,
     "metadata": {},
     "output_type": "execute_result"
    }
   ],
   "source": [
    "xx,yy,zz = TPPR[0,3],TPPR[1,3],TPPR[2,3]\n",
    "simplify(solve([Eq(zz,z),Eq(xx,x),Eq(yy,y)],[d1,d2,t3]))"
   ]
  },
  {
   "cell_type": "markdown",
   "metadata": {},
   "source": [
    "### Matriz jacobiana"
   ]
  },
  {
   "cell_type": "code",
   "execution_count": 4,
   "metadata": {},
   "outputs": [
    {
     "data": {
      "image/png": "[encoded data removed]",
      "text/latex": [
       "$$\\left[\\begin{matrix}0 & 1 & l_{3} \\cos{\\left (\\theta_3 \\right )}\\\\0 & 0 & - l_{3} \\sin{\\left (\\theta_3 \\right )}\\\\1 & 0 & 0\\\\0 & 0 & 0\\\\0 & 0 & 0\\\\0 & 0 & -1\\end{matrix}\\right]$$"
      ],
      "text/plain": [
       "⎡0  1  l₃⋅cos(\\theta₃) ⎤\n",
       "⎢                      ⎥\n",
       "⎢0  0  -l₃⋅sin(\\theta₃)⎥\n",
       "⎢                      ⎥\n",
       "⎢1  0         0        ⎥\n",
       "⎢                      ⎥\n",
       "⎢0  0         0        ⎥\n",
       "⎢                      ⎥\n",
       "⎢0  0         0        ⎥\n",
       "⎢                      ⎥\n",
       "⎣0  0         -1       ⎦"
      ]
     },
     "execution_count": 4,
     "metadata": {},
     "output_type": "execute_result"
    }
   ],
   "source": [
    "JPPR = PPR.J\n",
    "JPPR"
   ]
  },
  {
   "cell_type": "code",
   "execution_count": 5,
   "metadata": {},
   "outputs": [
    {
     "data": {
      "image/png": "[encoded data removed]",
      "text/latex": [
       "$$\\left ( 523.37658378469, \\quad 1.5\\right )$$"
      ],
      "text/plain": [
       "(523.37658378469, 1.5)"
      ]
     },
     "execution_count": 5,
     "metadata": {},
     "output_type": "execute_result"
    }
   ],
   "source": [
    "d1p, d2p, t3p = 200,200,1.5\n",
    "JN = JPPR.subs({t3:pi/6,l3:200})\n",
    "VW = (JN*Matrix([[d1p],[d2p],[t3p]])).evalf()\n",
    "v = sqrt(VW[0]**2+ VW[1]**2 + VW[2]**2)\n",
    "w = sqrt(VW[3]**2+ VW[4]**2 + VW[5]**2)\n",
    "v,w"
   ]
  },
  {
   "cell_type": "markdown",
   "metadata": {},
   "source": [
    "# PUMA 560 "
   ]
  },
  {
   "cell_type": "code",
   "execution_count": 6,
   "metadata": {},
   "outputs": [],
   "source": [
    "PUMA560 = Manipulator((0,-pi/2,0,t1),(l2,0,d2,t2),(0,pi/2,0,t3),(0,-pi/2,d4,t4),(0,pi/2,0,t5),(0,0,d6,t6))"
   ]
  },
  {
   "cell_type": "code",
   "execution_count": 7,
   "metadata": {},
   "outputs": [
    {
     "data": {
      "image/png": "[encoded data removed]",
      "text/latex": [
       "$$\\left[\\begin{matrix}- \\sin{\\left (\\theta_4 \\right )} \\sin{\\left (\\theta_6 \\right )} + \\cos{\\left (\\theta_4 \\right )} \\cos{\\left (\\theta_5 \\right )} \\cos{\\left (\\theta_6 \\right )} & - \\sin{\\left (\\theta_4 \\right )} \\cos{\\left (\\theta_6 \\right )} - \\sin{\\left (\\theta_6 \\right )} \\cos{\\left (\\theta_4 \\right )} \\cos{\\left (\\theta_5 \\right )} & \\sin{\\left (\\theta_5 \\right )} \\cos{\\left (\\theta_4 \\right )}\\\\\\sin{\\left (\\theta_4 \\right )} \\cos{\\left (\\theta_5 \\right )} \\cos{\\left (\\theta_6 \\right )} + \\sin{\\left (\\theta_6 \\right )} \\cos{\\left (\\theta_4 \\right )} & - \\sin{\\left (\\theta_4 \\right )} \\sin{\\left (\\theta_6 \\right )} \\cos{\\left (\\theta_5 \\right )} + \\cos{\\left (\\theta_4 \\right )} \\cos{\\left (\\theta_6 \\right )} & \\sin{\\left (\\theta_4 \\right )} \\sin{\\left (\\theta_5 \\right )}\\\\- \\sin{\\left (\\theta_5 \\right )} \\cos{\\left (\\theta_6 \\right )} & \\sin{\\left (\\theta_5 \\right )} \\sin{\\left (\\theta_6 \\right )} & \\cos{\\left (\\theta_5 \\right )}\\end{matrix}\\right]$$"
      ],
      "text/plain": [
       "⎡-sin(\\theta₄)⋅sin(\\theta₆) + cos(\\theta₄)⋅cos(\\theta₅)⋅cos(\\theta₆)  -sin(\\th\n",
       "⎢                                                                             \n",
       "⎢sin(\\theta₄)⋅cos(\\theta₅)⋅cos(\\theta₆) + sin(\\theta₆)⋅cos(\\theta₄)   -sin(\\th\n",
       "⎢                                                                             \n",
       "⎣                    -sin(\\theta₅)⋅cos(\\theta₆)                               \n",
       "\n",
       "eta₄)⋅cos(\\theta₆) - sin(\\theta₆)⋅cos(\\theta₄)⋅cos(\\theta₅)  sin(\\theta₅)⋅cos(\n",
       "                                                                              \n",
       "eta₄)⋅sin(\\theta₆)⋅cos(\\theta₅) + cos(\\theta₄)⋅cos(\\theta₆)  sin(\\theta₄)⋅sin(\n",
       "                                                                              \n",
       "             sin(\\theta₅)⋅sin(\\theta₆)                             cos(\\theta₅\n",
       "\n",
       "\\theta₄)⎤\n",
       "        ⎥\n",
       "\\theta₅)⎥\n",
       "        ⎥\n",
       ")       ⎦"
      ]
     },
     "execution_count": 7,
     "metadata": {},
     "output_type": "execute_result"
    }
   ],
   "source": [
    "T63 = PUMA560.Ts[3]*PUMA560.Ts[4]*PUMA560.Ts[5]\n",
    "T30 = PUMA560.Ts[0]*PUMA560.Ts[1]*PUMA560.Ts[2]\n",
    "R63 = T63[:3,:3]\n",
    "simplify(R63)"
   ]
  },
  {
   "cell_type": "code",
   "execution_count": 8,
   "metadata": {},
   "outputs": [],
   "source": [
    "Tm = T30*PUMA560.Ts[3]\n",
    "pmx,pmy,pmz = Tm[0,3], Tm[1,3], Tm[2,3]"
   ]
  },
  {
   "cell_type": "code",
   "execution_count": 9,
   "metadata": {},
   "outputs": [
    {
     "data": {
      "image/png": "[encoded data removed]",
      "text/latex": [
       "$$x^{2} + y^{2} + z^{2} = d_{2}^{2} + d_{4}^{2} + 2 d_{4} l_{2} \\sin{\\left (\\theta_3 \\right )} + l_{2}^{2}$$"
      ],
      "text/plain": [
       " 2    2    2     2     2                            2\n",
       "x  + y  + z  = d₂  + d₄  + 2⋅d₄⋅l₂⋅sin(\\theta₃) + l₂ "
      ]
     },
     "execution_count": 9,
     "metadata": {},
     "output_type": "execute_result"
    }
   ],
   "source": [
    "simplify(Eq(x**2 + y**2 + z**2, pmx**2 + pmy**2 + pmz**2))"
   ]
  },
  {
   "cell_type": "code",
   "execution_count": 10,
   "metadata": {},
   "outputs": [
    {
     "data": {
      "image/png": "[encoded data removed]",
      "text/latex": [
       "$$\\left ( - d_{2} \\sin{\\left (\\theta_1 \\right )} + d_{4} \\left(\\sin{\\left (\\theta_2 \\right )} \\cos{\\left (\\theta_1 \\right )} \\cos{\\left (\\theta_3 \\right )} + \\sin{\\left (\\theta_3 \\right )} \\cos{\\left (\\theta_1 \\right )} \\cos{\\left (\\theta_2 \\right )}\\right) + l_{2} \\cos{\\left (\\theta_1 \\right )} \\cos{\\left (\\theta_2 \\right )}, \\quad d_{2} \\cos{\\left (\\theta_1 \\right )} + d_{4} \\left(\\sin{\\left (\\theta_1 \\right )} \\sin{\\left (\\theta_2 \\right )} \\cos{\\left (\\theta_3 \\right )} + \\sin{\\left (\\theta_1 \\right )} \\sin{\\left (\\theta_3 \\right )} \\cos{\\left (\\theta_2 \\right )}\\right) + l_{2} \\sin{\\left (\\theta_1 \\right )} \\cos{\\left (\\theta_2 \\right )}, \\quad d_{4} \\left(- \\sin{\\left (\\theta_2 \\right )} \\sin{\\left (\\theta_3 \\right )} + \\cos{\\left (\\theta_2 \\right )} \\cos{\\left (\\theta_3 \\right )}\\right) - l_{2} \\sin{\\left (\\theta_2 \\right )}\\right )$$"
      ],
      "text/plain": [
       "(-d₂⋅sin(\\theta₁) + d₄⋅(sin(\\theta₂)⋅cos(\\theta₁)⋅cos(\\theta₃) + sin(\\theta₃)⋅\n",
       "cos(\\theta₁)⋅cos(\\theta₂)) + l₂⋅cos(\\theta₁)⋅cos(\\theta₂), d₂⋅cos(\\theta₁) + d\n",
       "₄⋅(sin(\\theta₁)⋅sin(\\theta₂)⋅cos(\\theta₃) + sin(\\theta₁)⋅sin(\\theta₃)⋅cos(\\the\n",
       "ta₂)) + l₂⋅sin(\\theta₁)⋅cos(\\theta₂), d₄⋅(-sin(\\theta₂)⋅sin(\\theta₃) + cos(\\th\n",
       "eta₂)⋅cos(\\theta₃)) - l₂⋅sin(\\theta₂))"
      ]
     },
     "execution_count": 10,
     "metadata": {},
     "output_type": "execute_result"
    }
   ],
   "source": [
    "pmx,pmy,pmz"
   ]
  },
  {
   "cell_type": "code",
   "execution_count": 19,
   "metadata": {},
   "outputs": [],
   "source": [
    "sxy = symbols('s_{xy}')\n",
    "eq1 = d2*sin(t1) + sxy*cos(t1)\n",
    "eq2 = -d2*cos(t1) + sxy*sin(t1)"
   ]
  },
  {
   "cell_type": "code",
   "execution_count": 29,
   "metadata": {},
   "outputs": [
    {
     "data": {
      "image/png": "[encoded data removed]",
      "text/latex": [
       "$$\\left [ - 2 \\operatorname{atan}{\\left (\\frac{1}{d_{2} y + s_{xy} x} \\left(- d_{2} x + s_{xy} y + \\sqrt{\\left(d_{2}^{2} + s_{xy}^{2}\\right) \\left(x^{2} + y^{2}\\right)}\\right) \\right )}, \\quad 2 \\operatorname{atan}{\\left (\\frac{1}{d_{2} y + s_{xy} x} \\left(d_{2} x - s_{xy} y + \\sqrt{\\left(d_{2}^{2} + s_{xy}^{2}\\right) \\left(x^{2} + y^{2}\\right)}\\right) \\right )}\\right ]$$"
      ],
      "text/plain": [
       "⎡       ⎛                      ___________________________⎞        ⎛          \n",
       "⎢       ⎜                     ╱ ⎛  2         2⎞ ⎛ 2    2⎞ ⎟        ⎜          \n",
       "⎢       ⎜-d₂⋅x + s_{xy}⋅y + ╲╱  ⎝d₂  + s_{xy} ⎠⋅⎝x  + y ⎠ ⎟        ⎜d₂⋅x - s_{\n",
       "⎢-2⋅atan⎜─────────────────────────────────────────────────⎟, 2⋅atan⎜──────────\n",
       "⎣       ⎝                 d₂⋅y + s_{xy}⋅x                 ⎠        ⎝          \n",
       "\n",
       "           ___________________________⎞⎤\n",
       "          ╱ ⎛  2         2⎞ ⎛ 2    2⎞ ⎟⎥\n",
       "xy}⋅y + ╲╱  ⎝d₂  + s_{xy} ⎠⋅⎝x  + y ⎠ ⎟⎥\n",
       "──────────────────────────────────────⎟⎥\n",
       "      d₂⋅y + s_{xy}⋅x                 ⎠⎦"
      ]
     },
     "execution_count": 29,
     "metadata": {},
     "output_type": "execute_result"
    }
   ],
   "source": [
    "solve(Eq(simplify(eq2/eq1),x/y),t1)"
   ]
  },
  {
   "cell_type": "code",
   "execution_count": null,
   "metadata": {},
   "outputs": [],
   "source": []
  },
  {
   "cell_type": "code",
   "execution_count": null,
   "metadata": {},
   "outputs": [],
   "source": []
  }
 ],
 "metadata": {
  "kernelspec": {
   "display_name": "Python 3",
   "language": "python",
   "name": "python3"
  },
  "language_info": {
   "codemirror_mode": {
    "name": "ipython",
    "version": 3
   },
   "file_extension": ".py",
   "mimetype": "text/x-python",
   "name": "python",
   "nbconvert_exporter": "python",
   "pygments_lexer": "ipython3",
   "version": "3.6.3"
  }
 },
 "nbformat": 4,
 "nbformat_minor": 2
}
