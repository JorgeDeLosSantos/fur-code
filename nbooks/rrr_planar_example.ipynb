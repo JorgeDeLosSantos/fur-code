{
 "cells": [
  {
   "cell_type": "code",
   "execution_count": 1,
   "metadata": {},
   "outputs": [],
   "source": [
    "from furlib import *"
   ]
  },
  {
   "cell_type": "code",
   "execution_count": 2,
   "metadata": {},
   "outputs": [],
   "source": [
    "rrr = Robot((l1,0,0,t1),(l2,0,0,t2))"
   ]
  },
  {
   "cell_type": "code",
   "execution_count": 7,
   "metadata": {},
   "outputs": [
    {
     "data": {
      "image/png": "[encoded data removed]",
      "text/latex": [
       "$$\\left[\\begin{matrix}\\cos{\\left (\\theta_1 + \\theta_2 \\right )} & - \\sin{\\left (\\theta_1 + \\theta_2 \\right )} & 0 & l_{1} \\cos{\\left (\\theta_1 \\right )} + l_{2} \\cos{\\left (\\theta_1 + \\theta_2 \\right )}\\\\\\sin{\\left (\\theta_1 + \\theta_2 \\right )} & \\cos{\\left (\\theta_1 + \\theta_2 \\right )} & 0 & l_{1} \\sin{\\left (\\theta_1 \\right )} + l_{2} \\sin{\\left (\\theta_1 + \\theta_2 \\right )}\\\\0 & 0 & 1 & 0\\\\0 & 0 & 0 & 1\\end{matrix}\\right]$$"
      ],
      "text/plain": [
       "⎡cos(\\theta₁ + \\theta₂)  -sin(\\theta₁ + \\theta₂)  0  l₁⋅cos(\\theta₁) + l₂⋅cos(\n",
       "⎢                                                                             \n",
       "⎢sin(\\theta₁ + \\theta₂)  cos(\\theta₁ + \\theta₂)   0  l₁⋅sin(\\theta₁) + l₂⋅sin(\n",
       "⎢                                                                             \n",
       "⎢          0                        0             1                       0   \n",
       "⎢                                                                             \n",
       "⎣          0                        0             0                       1   \n",
       "\n",
       "\\theta₁ + \\theta₂)⎤\n",
       "                  ⎥\n",
       "\\theta₁ + \\theta₂)⎥\n",
       "                  ⎥\n",
       "                  ⎥\n",
       "                  ⎥\n",
       "                  ⎦"
      ]
     },
     "execution_count": 7,
     "metadata": {},
     "output_type": "execute_result"
    }
   ],
   "source": [
    "simplify(rrr.Ts[0]*rrr.Ts[1])"
   ]
  },
  {
   "cell_type": "code",
   "execution_count": null,
   "metadata": {},
   "outputs": [],
   "source": []
  }
 ],
 "metadata": {
  "kernelspec": {
   "display_name": "Python 3",
   "language": "python",
   "name": "python3"
  },
  "language_info": {
   "codemirror_mode": {
    "name": "ipython",
    "version": 3
   },
   "file_extension": ".py",
   "mimetype": "text/x-python",
   "name": "python",
   "nbconvert_exporter": "python",
   "pygments_lexer": "ipython3",
   "version": "3.6.5"
  }
 },
 "nbformat": 4,
 "nbformat_minor": 2
}
