{
 "cells": [
  {
   "cell_type": "code",
   "execution_count": 8,
   "metadata": {},
   "outputs": [],
   "source": [
    "from sympy import *\n",
    "from sympy.matrices import *\n",
    "init_printing(use_latex=true)\n",
    "import operator, functools\n",
    "\n",
    "t1,t2,t3,t4,t5,t6,l1,l2,l3,d1,d2,d3,d4,d5,d6 = symbols('\\\\theta_1, \\\\theta_2, \\\\theta_3, \\\\theta_4, \\\\theta_5, \\\\theta_6, l_1,l_2,l_3,d_1,d_2,d_3,d_4,d_5,d_6')\n",
    "x,y,z = symbols('x,y,z')\n",
    "\n",
    "def dhs(a,alpha,d,theta):\n",
    "    M = Matrix([[cos(theta),-sin(theta)*cos(alpha),sin(theta)*sin(alpha),a*cos(theta)],\n",
    "                  [sin(theta),cos(theta)*cos(alpha),-cos(theta)*sin(alpha),a*sin(theta)],\n",
    "                  [0,sin(alpha),cos(alpha),d],\n",
    "                  [0,0,0,1]])\n",
    "    return M\n",
    "\n",
    "class Manipulator(object):\n",
    "    def __init__(self,*args):\n",
    "        self.Ts = []\n",
    "        self.type = []\n",
    "        for k in args:\n",
    "            self.Ts.append(dhs(k[0],k[1],k[2],k[3]))\n",
    "            if len(k)>4:\n",
    "                self.type.append(k[4])\n",
    "            else:\n",
    "                self.type.append('r')\n",
    "        self.dof = len(args)\n",
    "    \n",
    "    def z(self,i):\n",
    "        if i == 0: return Matrix([[0],[0],[1]])\n",
    "        MTH = eye(4)\n",
    "        for k in range(i):\n",
    "            MTH = MTH*self.Ts[k]\n",
    "        return MTH[:3,2]\n",
    "    \n",
    "    def p(self,i):\n",
    "        if i == 0: return Matrix([[0],[0],[0]])\n",
    "        MTH = eye(4)\n",
    "        for k in range(i):\n",
    "            MTH = MTH*self.Ts[k]\n",
    "        return MTH[:3,3]\n",
    "    \n",
    "    @property\n",
    "    def J(self):\n",
    "        n = self.dof\n",
    "        M_ = zeros(6,n)\n",
    "        for i in range(self.dof):\n",
    "            if self.type[i]=='r':\n",
    "                jp = self.z(i).cross(self.p(n) - self.p(i))\n",
    "                jo = self.z(i)\n",
    "            else:\n",
    "                jp = self.z(i)\n",
    "                jo = zeros(3,1)\n",
    "            jp = jp.col_join(jo)\n",
    "            M_[:,i] = jp\n",
    "        return simplify(M_)\n",
    "    \n",
    "    @property\n",
    "    def T(self):\n",
    "        return simplify(functools.reduce(operator.mul, self.Ts))\n"
   ]
  },
  {
   "cell_type": "code",
   "execution_count": 9,
   "metadata": {},
   "outputs": [],
   "source": [
    "TR = Manipulator((l1,0,0,t1)) #R\n",
    "TP = Manipulator((0,0,d1,0,'p')) #P\n",
    "T1 = Manipulator((0,pi/2,d1,t1),(l2,0,0,t2),(l3,0,0,t3)) # RRR\n",
    "T2 = Manipulator((l1,0,0,t1),(l2,0,0,t2)) # RR\n",
    "T3 = Manipulator((0,pi/2,0,t1,'r'),(0,0,d1,0,'p')) ## RP\n",
    "T4 = Manipulator((0,pi/2,d1,0,'p'), (0,pi/2,d2,pi/2,'p'), (0,0,d3,0,'p')) # PPP\n",
    "T6DOF = Manipulator((0,-pi/2,0,t1,'r'), (0,pi/2,d2,t2,'r'), (0,0,d3,0,'p'),\n",
    "                    (0,-pi/2,0,t4),(0,pi/2,0,t5),(0,0,d6,t6)) # PPP"
   ]
  },
  {
   "cell_type": "code",
   "execution_count": 35,
   "metadata": {},
   "outputs": [
    {
     "data": {
      "image/png": "[encoded data removed]",
      "text/latex": [
       "$$\\left ( \\left[\\begin{matrix}\\cos{\\left (\\theta_1 \\right )} & 0 & \\sin{\\left (\\theta_1 \\right )} & 0\\\\\\sin{\\left (\\theta_1 \\right )} & 0 & - \\cos{\\left (\\theta_1 \\right )} & 0\\\\0 & 1 & 0 & 0\\\\0 & 0 & 0 & 1\\end{matrix}\\right], \\quad \\left[\\begin{matrix}\\cos{\\left (\\theta_1 \\right )} \\cos{\\left (\\theta_2 \\right )} & - \\sin{\\left (\\theta_2 \\right )} \\cos{\\left (\\theta_1 \\right )} & \\sin{\\left (\\theta_1 \\right )} & l_{2} \\cos{\\left (\\theta_1 \\right )} \\cos{\\left (\\theta_2 \\right )}\\\\\\sin{\\left (\\theta_1 \\right )} \\cos{\\left (\\theta_2 \\right )} & - \\sin{\\left (\\theta_1 \\right )} \\sin{\\left (\\theta_2 \\right )} & - \\cos{\\left (\\theta_1 \\right )} & l_{2} \\sin{\\left (\\theta_1 \\right )} \\cos{\\left (\\theta_2 \\right )}\\\\\\sin{\\left (\\theta_2 \\right )} & \\cos{\\left (\\theta_2 \\right )} & 0 & l_{2} \\sin{\\left (\\theta_2 \\right )}\\\\0 & 0 & 0 & 1\\end{matrix}\\right]\\right )$$"
      ],
      "text/plain": [
       "⎛⎡cos(\\theta₁)  0  sin(\\theta₁)   0⎤  ⎡cos(\\theta₁)⋅cos(\\theta₂)  -sin(\\theta₂\n",
       "⎜⎢                                 ⎥  ⎢                                       \n",
       "⎜⎢sin(\\theta₁)  0  -cos(\\theta₁)  0⎥  ⎢sin(\\theta₁)⋅cos(\\theta₂)  -sin(\\theta₁\n",
       "⎜⎢                                 ⎥, ⎢                                       \n",
       "⎜⎢     0        1        0        0⎥  ⎢      sin(\\theta₂)                cos(\\\n",
       "⎜⎢                                 ⎥  ⎢                                       \n",
       "⎝⎣     0        0        0        1⎦  ⎣            0                          \n",
       "\n",
       ")⋅cos(\\theta₁)  sin(\\theta₁)   l₂⋅cos(\\theta₁)⋅cos(\\theta₂)⎤⎞\n",
       "                                                           ⎥⎟\n",
       ")⋅sin(\\theta₂)  -cos(\\theta₁)  l₂⋅sin(\\theta₁)⋅cos(\\theta₂)⎥⎟\n",
       "                                                           ⎥⎟\n",
       "theta₂)               0              l₂⋅sin(\\theta₂)       ⎥⎟\n",
       "                                                           ⎥⎟\n",
       "0                     0                     1              ⎦⎠"
      ]
     },
     "execution_count": 35,
     "metadata": {},
     "output_type": "execute_result"
    }
   ],
   "source": [
    "RRR = Manipulator((0,pi/2,d1,t1),(l2,0,0,t2),(l3,0,0,t3)) # RRR\n",
    "RRR1 = Manipulator((l1,0,0,t1),(l2,0,0,t2),(l3,0,0,t3)) # RRR\n",
    "RR = Manipulator((l1,0,0,t1),(l2,0,0,t2)) # RR\n",
    "RRR0 = Manipulator((0,pi/2,0,t1),(l2,0,0,t2)) # RRR\n",
    "RRR0.Ts[0],RRR0.Ts[0]*RRR0.Ts[1]\n",
    "#RRR0.J"
   ]
  },
  {
   "cell_type": "code",
   "execution_count": 8,
   "metadata": {},
   "outputs": [
    {
     "data": {
      "image/png": "[encoded data removed]",
      "text/latex": [
       "$$\\left[\\begin{matrix}- \\sin{\\left (\\theta_4 \\right )} \\sin{\\left (\\theta_6 \\right )} + \\cos{\\left (\\theta_4 \\right )} \\cos{\\left (\\theta_5 \\right )} \\cos{\\left (\\theta_6 \\right )} & - \\sin{\\left (\\theta_4 \\right )} \\cos{\\left (\\theta_6 \\right )} - \\sin{\\left (\\theta_6 \\right )} \\cos{\\left (\\theta_4 \\right )} \\cos{\\left (\\theta_5 \\right )} & \\sin{\\left (\\theta_5 \\right )} \\cos{\\left (\\theta_4 \\right )}\\\\\\sin{\\left (\\theta_4 \\right )} \\cos{\\left (\\theta_5 \\right )} \\cos{\\left (\\theta_6 \\right )} + \\sin{\\left (\\theta_6 \\right )} \\cos{\\left (\\theta_4 \\right )} & - \\sin{\\left (\\theta_4 \\right )} \\sin{\\left (\\theta_6 \\right )} \\cos{\\left (\\theta_5 \\right )} + \\cos{\\left (\\theta_4 \\right )} \\cos{\\left (\\theta_6 \\right )} & \\sin{\\left (\\theta_4 \\right )} \\sin{\\left (\\theta_5 \\right )}\\\\- \\sin{\\left (\\theta_5 \\right )} \\cos{\\left (\\theta_6 \\right )} & \\sin{\\left (\\theta_5 \\right )} \\sin{\\left (\\theta_6 \\right )} & \\cos{\\left (\\theta_5 \\right )}\\end{matrix}\\right]$$"
      ],
      "text/plain": [
       "⎡-sin(\\theta₄)⋅sin(\\theta₆) + cos(\\theta₄)⋅cos(\\theta₅)⋅cos(\\theta₆)  -sin(\\th\n",
       "⎢                                                                             \n",
       "⎢sin(\\theta₄)⋅cos(\\theta₅)⋅cos(\\theta₆) + sin(\\theta₆)⋅cos(\\theta₄)   -sin(\\th\n",
       "⎢                                                                             \n",
       "⎣                    -sin(\\theta₅)⋅cos(\\theta₆)                               \n",
       "\n",
       "eta₄)⋅cos(\\theta₆) - sin(\\theta₆)⋅cos(\\theta₄)⋅cos(\\theta₅)  sin(\\theta₅)⋅cos(\n",
       "                                                                              \n",
       "eta₄)⋅sin(\\theta₆)⋅cos(\\theta₅) + cos(\\theta₄)⋅cos(\\theta₆)  sin(\\theta₄)⋅sin(\n",
       "                                                                              \n",
       "             sin(\\theta₅)⋅sin(\\theta₆)                             cos(\\theta₅\n",
       "\n",
       "\\theta₄)⎤\n",
       "        ⎥\n",
       "\\theta₅)⎥\n",
       "        ⎥\n",
       ")       ⎦"
      ]
     },
     "execution_count": 8,
     "metadata": {},
     "output_type": "execute_result"
    }
   ],
   "source": [
    "import operator, functools\n",
    "RRR = Manipulator((0,pi/2,d1,t1),(l2,0,0,t2),(l3,0,0,t3)) # RRR\n",
    "PPP = Manipulator((0,pi/2,d1,0,'p'), (0,pi/2,d2,pi/2,'p'), (0,0,d3,0,'p')) # PPP\n",
    "RRP = Manipulator((l1,0,0,t1),(l2,0,0,t2),(0,0,d3,0,'p')) # RR\n",
    "T63 = T6DOF.Ts[3]*T6DOF.Ts[4]*T6DOF.Ts[5]\n",
    "R63 = T63[:3,:3]\n",
    "R63"
   ]
  },
  {
   "cell_type": "code",
   "execution_count": 45,
   "metadata": {},
   "outputs": [
    {
     "data": {
      "image/png": "[encoded data removed]",
      "text/latex": [
       "$$\\left ( -230.597149997, \\quad 1004.8507125, \\quad 1030.97041665\\right )$$"
      ],
      "text/plain": [
       "(-230.597149997, 1004.8507125, 1030.97041665)"
      ]
     },
     "execution_count": 45,
     "metadata": {},
     "output_type": "execute_result"
    }
   ],
   "source": [
    "import numpy as np\n",
    "x,y = 200,50\n",
    "d1 = np.sqrt(x**2+y**2)\n",
    "t1 = np.arctan2(x,-y)\n",
    "t1p = 5\n",
    "d1p = 20\n",
    "vx = d1*np.cos(t1)*t1p + np.sin(t1)*d1p\n",
    "vy = d1*np.sin(t1)*t1p - np.cos(t1)*d1p\n",
    "v = np.sqrt(vx**2 + vy**2)\n",
    "vx,vy,v"
   ]
  },
  {
   "cell_type": "code",
   "execution_count": 5,
   "metadata": {},
   "outputs": [
    {
     "data": {
      "image/png": "[encoded data removed]",
      "text/latex": [
       "$$77.0753184716$$"
      ],
      "text/plain": [
       "77.0753184716"
      ]
     },
     "execution_count": 5,
     "metadata": {},
     "output_type": "execute_result"
    }
   ],
   "source": [
    "np.arctan(-vy/vx)*180/np.pi"
   ]
  },
  {
   "cell_type": "code",
   "execution_count": null,
   "metadata": {},
   "outputs": [],
   "source": []
  },
  {
   "cell_type": "code",
   "execution_count": 6,
   "metadata": {},
   "outputs": [
    {
     "data": {
      "image/png": "[encoded data removed]",
      "text/plain": [
       "<matplotlib.figure.Figure at 0x9e7fc88>"
      ]
     },
     "metadata": {},
     "output_type": "display_data"
    }
   ],
   "source": [
    "from numpy import *\n",
    "import numpy as np\n",
    "import matplotlib.pyplot as plt\n",
    "%matplotlib inline\n",
    "\n",
    "l1, l2 = 100, 100\n",
    "t = np.array([0,1,2,3,4,5])\n",
    "t1 = np.array([0,0.1,0.5,0.3,0.1,0.2])\n",
    "t2 =  np.array([0,0.4,0.2,0.5,0.6,0.1])\n",
    "t1p = diff(t1)/np.diff(t)\n",
    "t2p = diff(t2)/np.diff(t)\n",
    "w = t1p + t2p\n",
    "vx = (-l1*np.sin(t1[:-1]) - l2*np.sin(t1[:-1]+t2[:-1]))*t1p + (-l2*np.sin(t1[:-1]+t2[:-1]))*t2p\n",
    "vy = (l1*np.cos(t1[:-1]) + l2*np.cos(t1[:-1]+t2[:-1]))*t1p + (l2*np.cos(t1[:-1]+t2[:-1]))*t2p\n",
    "plt.plot(t[:-1],vx,'r');\n",
    "plt.plot(t[:-1],vy,'b');\n",
    "#plt.plot(t[:-1],w,'g');\n",
    "plt.grid(ls='--')"
   ]
  },
  {
   "cell_type": "code",
   "execution_count": 7,
   "metadata": {},
   "outputs": [
    {
     "ename": "TypeError",
     "evalue": "cannot determine truth value of Relational",
     "output_type": "error",
     "traceback": [
      "\u001b[1;31m---------------------------------------------------------------------------\u001b[0m",
      "\u001b[1;31mTypeError\u001b[0m                                 Traceback (most recent call last)",
      "\u001b[1;32m<ipython-input-7-1299517ddd03>\u001b[0m in \u001b[0;36m<module>\u001b[1;34m()\u001b[0m\n\u001b[0;32m      2\u001b[0m \u001b[0mx\u001b[0m \u001b[1;33m=\u001b[0m \u001b[0mFunction\u001b[0m\u001b[1;33m(\u001b[0m\u001b[1;34m'x'\u001b[0m\u001b[1;33m)\u001b[0m\u001b[1;33m(\u001b[0m\u001b[0mt\u001b[0m\u001b[1;33m)\u001b[0m\u001b[1;33m\u001b[0m\u001b[0m\n\u001b[0;32m      3\u001b[0m \u001b[0my\u001b[0m \u001b[1;33m=\u001b[0m \u001b[0mFunction\u001b[0m\u001b[1;33m(\u001b[0m\u001b[1;34m'y'\u001b[0m\u001b[1;33m)\u001b[0m\u001b[1;33m(\u001b[0m\u001b[0mt\u001b[0m\u001b[1;33m)\u001b[0m\u001b[1;33m\u001b[0m\u001b[0m\n\u001b[1;32m----> 4\u001b[1;33m \u001b[0mdiff\u001b[0m\u001b[1;33m(\u001b[0m\u001b[0matan\u001b[0m\u001b[1;33m(\u001b[0m\u001b[0my\u001b[0m\u001b[1;33m/\u001b[0m\u001b[0mx\u001b[0m\u001b[1;33m)\u001b[0m\u001b[1;33m,\u001b[0m\u001b[0mt\u001b[0m\u001b[1;33m)\u001b[0m\u001b[1;33m\u001b[0m\u001b[0m\n\u001b[0m",
      "\u001b[1;32m~\\Anaconda3\\lib\\site-packages\\numpy\\lib\\function_base.py\u001b[0m in \u001b[0;36mdiff\u001b[1;34m(a, n, axis)\u001b[0m\n\u001b[0;32m   1915\u001b[0m     \u001b[1;32mif\u001b[0m \u001b[0mn\u001b[0m \u001b[1;33m==\u001b[0m \u001b[1;36m0\u001b[0m\u001b[1;33m:\u001b[0m\u001b[1;33m\u001b[0m\u001b[0m\n\u001b[0;32m   1916\u001b[0m         \u001b[1;32mreturn\u001b[0m \u001b[0ma\u001b[0m\u001b[1;33m\u001b[0m\u001b[0m\n\u001b[1;32m-> 1917\u001b[1;33m     \u001b[1;32mif\u001b[0m \u001b[0mn\u001b[0m \u001b[1;33m<\u001b[0m \u001b[1;36m0\u001b[0m\u001b[1;33m:\u001b[0m\u001b[1;33m\u001b[0m\u001b[0m\n\u001b[0m\u001b[0;32m   1918\u001b[0m         raise ValueError(\n\u001b[0;32m   1919\u001b[0m             \"order must be non-negative but got \" + repr(n))\n",
      "\u001b[1;32m~\\Anaconda3\\lib\\site-packages\\sympy\\core\\relational.py\u001b[0m in \u001b[0;36m__nonzero__\u001b[1;34m(self)\u001b[0m\n\u001b[0;32m    193\u001b[0m \u001b[1;33m\u001b[0m\u001b[0m\n\u001b[0;32m    194\u001b[0m     \u001b[1;32mdef\u001b[0m \u001b[0m__nonzero__\u001b[0m\u001b[1;33m(\u001b[0m\u001b[0mself\u001b[0m\u001b[1;33m)\u001b[0m\u001b[1;33m:\u001b[0m\u001b[1;33m\u001b[0m\u001b[0m\n\u001b[1;32m--> 195\u001b[1;33m         \u001b[1;32mraise\u001b[0m \u001b[0mTypeError\u001b[0m\u001b[1;33m(\u001b[0m\u001b[1;34m\"cannot determine truth value of Relational\"\u001b[0m\u001b[1;33m)\u001b[0m\u001b[1;33m\u001b[0m\u001b[0m\n\u001b[0m\u001b[0;32m    196\u001b[0m \u001b[1;33m\u001b[0m\u001b[0m\n\u001b[0;32m    197\u001b[0m     \u001b[0m__bool__\u001b[0m \u001b[1;33m=\u001b[0m \u001b[0m__nonzero__\u001b[0m\u001b[1;33m\u001b[0m\u001b[0m\n",
      "\u001b[1;31mTypeError\u001b[0m: cannot determine truth value of Relational"
     ]
    }
   ],
   "source": [
    "t = symbols('t')\n",
    "x = Function('x')(t)\n",
    "y = Function('y')(t)\n",
    "diff(atan(y/x),t)"
   ]
  },
  {
   "cell_type": "code",
   "execution_count": null,
   "metadata": {},
   "outputs": [],
   "source": []
  }
 ],
 "metadata": {
  "kernelspec": {
   "display_name": "Python 3",
   "language": "python",
   "name": "python3"
  },
  "language_info": {
   "codemirror_mode": {
    "name": "ipython",
    "version": 3
   },
   "file_extension": ".py",
   "mimetype": "text/x-python",
   "name": "python",
   "nbconvert_exporter": "python",
   "pygments_lexer": "ipython3",
   "version": "3.6.3"
  }
 },
 "nbformat": 4,
 "nbformat_minor": 2
}
