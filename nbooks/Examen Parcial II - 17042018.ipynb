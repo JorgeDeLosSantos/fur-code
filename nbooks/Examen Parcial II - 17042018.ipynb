{
 "cells": [
  {
   "cell_type": "code",
   "execution_count": 2,
   "metadata": {},
   "outputs": [],
   "source": [
    "from furlib import *"
   ]
  },
  {
   "cell_type": "code",
   "execution_count": 18,
   "metadata": {},
   "outputs": [],
   "source": [
    "r1 = Robot((0,pi/2,d1,pi/2,'p'),(0,pi/2,d2,-pi/2,'p'),(l3,0,0,t3,'r'))\n",
    "r2 = Robot((0,pi/2,d1,pi/2,'p'),(0,pi/2,d2,pi/2,'p'),(l3,0,0,t3,'r'))\n",
    "r3 = Robot((0,pi/2,d1,pi/2,'p'),(0,3*pi/2,d2,pi/2,'p'),(l3,0,0,t3,'r'))\n",
    "r4 = Robot((0,-pi/2,d1,pi/2,'p'),(0,pi/2,d2,pi/2,'p'),(l3,0,0,t3,'r'))"
   ]
  },
  {
   "cell_type": "code",
   "execution_count": 19,
   "metadata": {},
   "outputs": [],
   "source": [
    "J = r2.J"
   ]
  },
  {
   "cell_type": "code",
   "execution_count": 20,
   "metadata": {},
   "outputs": [],
   "source": [
    "qs = Matrix([10,-20,2])\n",
    "JN = J.subs({t3:pi/2,l3:50})"
   ]
  },
  {
   "cell_type": "code",
   "execution_count": 21,
   "metadata": {},
   "outputs": [],
   "source": [
    "qv = JN*qs"
   ]
  },
  {
   "cell_type": "code",
   "execution_count": 22,
   "metadata": {},
   "outputs": [
    {
     "data": {
      "image/png": "[encoded data removed]",
      "text/latex": [
       "$$92.1954445729289$$"
      ],
      "text/plain": [
       "92.1954445729289"
      ]
     },
     "execution_count": 22,
     "metadata": {},
     "output_type": "execute_result"
    }
   ],
   "source": [
    "Matrix(qv[:3]).norm().evalf()"
   ]
  },
  {
   "cell_type": "code",
   "execution_count": 24,
   "metadata": {},
   "outputs": [
    {
     "data": {
      "image/png": "[encoded data removed]",
      "text/latex": [
       "$$\\left ( \\left[\\begin{matrix}0 & -1 & - l_{3} \\cos{\\left (\\theta_3 \\right )}\\\\0 & 0 & 0\\\\1 & 0 & l_{3} \\sin{\\left (\\theta_3 \\right )}\\\\0 & 0 & 0\\\\0 & 0 & 1\\\\0 & 0 & 0\\end{matrix}\\right], \\quad \\left[\\begin{matrix}- \\sin{\\left (\\theta_3 \\right )} & - \\cos{\\left (\\theta_3 \\right )} & 0 & - d_{2} - l_{3} \\sin{\\left (\\theta_3 \\right )}\\\\0 & 0 & 1 & 0\\\\- \\cos{\\left (\\theta_3 \\right )} & \\sin{\\left (\\theta_3 \\right )} & 0 & d_{1} - l_{3} \\cos{\\left (\\theta_3 \\right )}\\\\0 & 0 & 0 & 1\\end{matrix}\\right]\\right )$$"
      ],
      "text/plain": [
       "⎛⎡0  -1  -l₃⋅cos(\\theta₃)⎤                                                    \n",
       "⎜⎢                       ⎥                                                    \n",
       "⎜⎢0  0          0        ⎥  ⎡-sin(\\theta₃)  -cos(\\theta₃)  0  -d₂ - l₃⋅sin(\\th\n",
       "⎜⎢                       ⎥  ⎢                                                 \n",
       "⎜⎢1  0   l₃⋅sin(\\theta₃) ⎥  ⎢      0              0        1            0     \n",
       "⎜⎢                       ⎥, ⎢                                                 \n",
       "⎜⎢0  0          0        ⎥  ⎢-cos(\\theta₃)  sin(\\theta₃)   0  d₁ - l₃⋅cos(\\the\n",
       "⎜⎢                       ⎥  ⎢                                                 \n",
       "⎜⎢0  0          1        ⎥  ⎣      0              0        0            1     \n",
       "⎜⎢                       ⎥                                                    \n",
       "⎝⎣0  0          0        ⎦                                                    \n",
       "\n",
       "      ⎞\n",
       "      ⎟\n",
       "eta₃)⎤⎟\n",
       "     ⎥⎟\n",
       "     ⎥⎟\n",
       "     ⎥⎟\n",
       "ta₃) ⎥⎟\n",
       "     ⎥⎟\n",
       "     ⎦⎟\n",
       "      ⎟\n",
       "      ⎠"
      ]
     },
     "execution_count": 24,
     "metadata": {},
     "output_type": "execute_result"
    }
   ],
   "source": [
    "r4.J,r4.T"
   ]
  },
  {
   "cell_type": "code",
   "execution_count": 1,
   "metadata": {},
   "outputs": [
    {
     "data": {
      "text/plain": [
       "2.2916666666666665"
      ]
     },
     "execution_count": 1,
     "metadata": {},
     "output_type": "execute_result"
    }
   ],
   "source": [
    "825/360"
   ]
  },
  {
   "cell_type": "code",
   "execution_count": 2,
   "metadata": {},
   "outputs": [
    {
     "data": {
      "text/plain": [
       "2.2929936305732483"
      ]
     },
     "execution_count": 2,
     "metadata": {},
     "output_type": "execute_result"
    }
   ],
   "source": [
    "14.4/6.28"
   ]
  },
  {
   "cell_type": "code",
   "execution_count": null,
   "metadata": {},
   "outputs": [],
   "source": []
  }
 ],
 "metadata": {
  "kernelspec": {
   "display_name": "Python 3",
   "language": "python",
   "name": "python3"
  },
  "language_info": {
   "codemirror_mode": {
    "name": "ipython",
    "version": 3
   },
   "file_extension": ".py",
   "mimetype": "text/x-python",
   "name": "python",
   "nbconvert_exporter": "python",
   "pygments_lexer": "ipython3",
   "version": "3.6.3"
  }
 },
 "nbformat": 4,
 "nbformat_minor": 2
}
