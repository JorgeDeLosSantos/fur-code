{
 "cells": [
  {
   "cell_type": "code",
   "execution_count": 3,
   "metadata": {},
   "outputs": [],
   "source": [
    "from furlib import *\n",
    "import numpy as np \n",
    "import matplotlib.pyplot as plt\n",
    "from mpl_toolkits.mplot3d import Axes3D\n",
    "%matplotlib nbagg"
   ]
  },
  {
   "cell_type": "code",
   "execution_count": 4,
   "metadata": {},
   "outputs": [],
   "source": [
    "Fanuc = Robot((75,-pi/2,330,t1), (300,pi,0,t2), (75,-pi/2,0,t3), (0,pi/2,-320,t4), (0,-pi/2,0,t5), (0,pi,-80,t6))\n",
    "T = Fanuc.T"
   ]
  },
  {
   "cell_type": "markdown",
   "metadata": {},
   "source": [
    "## Inverse Kinematics"
   ]
  },
  {
   "cell_type": "code",
   "execution_count": 5,
   "metadata": {},
   "outputs": [],
   "source": [
    "#vals = {t1:0,t2:pi/2,t3:0,t4:pi/3,t5:pi/3,t6:0}\n",
    "#H = T.subs(vals).evalf()"
   ]
  },
  {
   "cell_type": "code",
   "execution_count": 6,
   "metadata": {
    "scrolled": true
   },
   "outputs": [
    {
     "name": "stdout",
     "output_type": "stream",
     "text": [
      "33.6900675259798\n",
      "-57.7632635578044\n",
      "-48.5005956216640\n",
      "180.000000000000\n",
      "9.26266793614049\n",
      "146.309932474020\n"
     ]
    }
   ],
   "source": [
    "deg = lambda x: (x*180/pi).evalf()\n",
    "rad = lambda x: (x*pi/180).evalf()\n",
    "\n",
    "phi,theta,psi = 0,pi,0\n",
    "H = ea2htm(phi,theta,psi)\n",
    "a1,d1,a2,a3,d4,d6 = 75,330,300,75,320,80\n",
    "x,y,z = 300,200,200\n",
    "\n",
    "xm,ym,zm = x - d6*H[0,2], y - d6*H[1,2], z - d6*H[2,2]\n",
    "T1 = atan2(ym,xm).evalf(chop=True)\n",
    "b = sqrt(xm**2 + ym**2)\n",
    "a = zm - d1\n",
    "c = sqrt(a**2 + (b-a1)**2)\n",
    "d = sqrt(a3**2 + d4**2)\n",
    "beta = atan2(a, b-a1)\n",
    "K1 = (a2**2+c**2-d**2)/(2*a2*c)\n",
    "alpha = atan2(sqrt(1-K1**2), K1)\n",
    "K2 = (a2**2+d**2-c**2)/(2*a2*d)\n",
    "gamma = atan2(sqrt(1-K2**2), K2)\n",
    "delta = atan2(d4,a3)\n",
    "\n",
    "T2 = -(alpha + beta).evalf(chop=True)\n",
    "T3 = (gamma + delta - pi).evalf(chop=True)\n",
    "\n",
    "# Orientación\n",
    "\n",
    "R3_0 = ( dhs(75,-pi/2,330,T1)*dhs(300,pi,0,T2)*dhs(75,-pi/2,0,T3) )[:3,:3]\n",
    "R6_0 = H[:3,:3]\n",
    "R6_3 = R3_0.inv()*R6_0\n",
    "T4 = atan2(R6_3[1,2], R6_3[0,2]).evalf(chop=True)\n",
    "K5 = -R6_3[2,2]\n",
    "T5 = atan2(sqrt(1-K5**2),K5).evalf(chop=True)\n",
    "T6 = atan2(R6_3[2,1], R6_3[2,0]).evalf(chop=True)\n",
    "\n",
    "for ang in (T1,T2,T3,T4,T5,T6):\n",
    "    print(deg(ang))"
   ]
  },
  {
   "cell_type": "code",
   "execution_count": 7,
   "metadata": {},
   "outputs": [
    {
     "data": {
      "image/png": "[encoded data removed]",
      "text/latex": [
       "$$\\left[\\begin{matrix}1.0 & -2.22044604925031 \\cdot 10^{-16} & -1.49880108324396 \\cdot 10^{-15} & 300.0\\\\-1.11022302462516 \\cdot 10^{-16} & -1.0 & -9.99200722162641 \\cdot 10^{-16} & 200.0\\\\-1.53514055708897 \\cdot 10^{-15} & 9.99736149418085 \\cdot 10^{-16} & -1.0 & 200.0\\\\0 & 0 & 0 & 1.0\\end{matrix}\\right]$$"
      ],
      "text/plain": [
       "⎡         1.0           -2.22044604925031e-16  -1.49880108324396e-15  300.0⎤\n",
       "⎢                                                                          ⎥\n",
       "⎢-1.11022302462516e-16          -1.0           -9.99200722162641e-16  200.0⎥\n",
       "⎢                                                                          ⎥\n",
       "⎢-1.53514055708897e-15  9.99736149418085e-16           -1.0           200.0⎥\n",
       "⎢                                                                          ⎥\n",
       "⎣          0                      0                      0             1.0 ⎦"
      ]
     },
     "execution_count": 7,
     "metadata": {},
     "output_type": "execute_result"
    }
   ],
   "source": [
    "vals = {t1:T1,t2:T2,t3:T3,t4:T4,t5:T5,t6:T6}\n",
    "T.subs(vals).evalf(chop=True)"
   ]
  },
  {
   "cell_type": "code",
   "execution_count": 8,
   "metadata": {},
   "outputs": [],
   "source": [
    "#simplify(Fanuc.Ts[3]*Fanuc.Ts[4]*Fanuc.Ts[5])"
   ]
  },
  {
   "cell_type": "code",
   "execution_count": 9,
   "metadata": {},
   "outputs": [],
   "source": [
    "#Fanuc.plot_diagram(vals)"
   ]
  },
  {
   "cell_type": "markdown",
   "metadata": {},
   "source": [
    "## IK, other solution"
   ]
  },
  {
   "cell_type": "code",
   "execution_count": 12,
   "metadata": {},
   "outputs": [
    {
     "name": "stdout",
     "output_type": "stream",
     "text": [
      "33.6900675259798\n",
      "77.6265993768722\n",
      "-157.880625802750\n",
      "-180.000000000000\n",
      "124.492774820378\n",
      "146.309932474020\n"
     ]
    }
   ],
   "source": [
    "T1 = atan2(ym,xm).evalf(chop=True)\n",
    "b = sqrt(xm**2 + ym**2)\n",
    "a = zm - d1\n",
    "c = sqrt(a**2 + (b-a1)**2)\n",
    "d = sqrt(a3**2 + d4**2)\n",
    "beta = atan2(a, b-a1)\n",
    "K1 = (a2**2+c**2-d**2)/(2*a2*c)\n",
    "alpha = atan2(-sqrt(1-K1**2), K1)\n",
    "K2 = (a2**2+d**2-c**2)/(2*a2*d)\n",
    "gamma = atan2(-sqrt(1-K2**2), K2)\n",
    "delta = atan2(d4,a3)\n",
    "\n",
    "T2 = -(alpha + beta).evalf(chop=True)\n",
    "T3 = (gamma + delta - pi).evalf(chop=True)\n",
    "\n",
    "# Orientación\n",
    "\n",
    "R3_0 = ( dhs(75,-pi/2,330,T1)*dhs(300,pi,0,T2)*dhs(75,-pi/2,0,T3) )[:3,:3]\n",
    "R6_0 = H[:3,:3]\n",
    "R6_3 = R3_0.inv()*R6_0\n",
    "T4 = atan2(R6_3[1,2], R6_3[0,2]).evalf(chop=True)\n",
    "K5 = -R6_3[2,2]\n",
    "T5 = atan2(sqrt(1-K5**2),K5).evalf(chop=True)\n",
    "T6 = atan2(R6_3[2,1], R6_3[2,0]).evalf(chop=True)\n",
    "\n",
    "for ang in (T1,T2,T3,T4,T5,T6):\n",
    "    print(deg(ang))"
   ]
  },
  {
   "cell_type": "code",
   "execution_count": 13,
   "metadata": {},
   "outputs": [
    {
     "data": {
      "image/png": "[encoded data removed]",
      "text/latex": [
       "$$\\left[\\begin{matrix}1.0 & -2.22044604925031 \\cdot 10^{-16} & -4.9960036108132 \\cdot 10^{-16} & 300.0\\\\-1.66533453693773 \\cdot 10^{-16} & -1.0 & -4.44089209850063 \\cdot 10^{-16} & 200.0\\\\-4.98268118976849 \\cdot 10^{-16} & 4.53487634280742 \\cdot 10^{-16} & -1.0 & 200.0\\\\0 & 0 & 0 & 1.0\\end{matrix}\\right]$$"
      ],
      "text/plain": [
       "⎡         1.0           -2.22044604925031e-16  -4.9960036108132e-16   300.0⎤\n",
       "⎢                                                                          ⎥\n",
       "⎢-1.66533453693773e-16          -1.0           -4.44089209850063e-16  200.0⎥\n",
       "⎢                                                                          ⎥\n",
       "⎢-4.98268118976849e-16  4.53487634280742e-16           -1.0           200.0⎥\n",
       "⎢                                                                          ⎥\n",
       "⎣          0                      0                      0             1.0 ⎦"
      ]
     },
     "execution_count": 13,
     "metadata": {},
     "output_type": "execute_result"
    }
   ],
   "source": [
    "vals = {t1:T1,t2:T2,t3:T3,t4:T4,t5:T5,t6:T6}\n",
    "T.subs(vals).evalf(chop=True)"
   ]
  },
  {
   "cell_type": "markdown",
   "metadata": {},
   "source": [
    "## Jacobiano"
   ]
  },
  {
   "cell_type": "code",
   "execution_count": 90,
   "metadata": {},
   "outputs": [],
   "source": [
    "J = Fanuc.J"
   ]
  },
  {
   "cell_type": "code",
   "execution_count": 91,
   "metadata": {},
   "outputs": [
    {
     "data": {
      "image/png": "[encoded data removed]",
      "text/latex": [
       "$$\\left ( \\left[\\begin{matrix}-1505.33008588991\\\\-694.669914110089\\\\-2687.00576850888\\\\17.0710678118655\\\\2.92893218813452\\\\24.142135623731\\end{matrix}\\right], \\quad \\left[\\begin{matrix}0.5 & 0.707106781186548 & -0.5 & 40.5330085889911\\\\0.5 & -0.707106781186548 & -0.5 & 40.5330085889911\\\\-0.707106781186548 & 0 & -0.707106781186548 & -218.007755419574\\\\0 & 0 & 0 & 1.0\\end{matrix}\\right]\\right )$$"
      ],
      "text/plain": [
       "⎛⎡-1505.33008588991⎤                                                          \n",
       "⎜⎢                 ⎥                                                          \n",
       "⎜⎢-694.669914110089⎥  ⎡       0.5          0.707106781186548          -0.5    \n",
       "⎜⎢                 ⎥  ⎢                                                       \n",
       "⎜⎢-2687.00576850888⎥  ⎢       0.5          -0.707106781186548         -0.5    \n",
       "⎜⎢                 ⎥, ⎢                                                       \n",
       "⎜⎢17.0710678118655 ⎥  ⎢-0.707106781186548          0           -0.707106781186\n",
       "⎜⎢                 ⎥  ⎢                                                       \n",
       "⎜⎢2.92893218813452 ⎥  ⎣        0                   0                   0      \n",
       "⎜⎢                 ⎥                                                          \n",
       "⎝⎣ 24.142135623731 ⎦                                                          \n",
       "\n",
       "                       ⎞\n",
       "                       ⎟\n",
       "     40.5330085889911 ⎤⎟\n",
       "                      ⎥⎟\n",
       "     40.5330085889911 ⎥⎟\n",
       "                      ⎥⎟\n",
       "548  -218.007755419574⎥⎟\n",
       "                      ⎥⎟\n",
       "            1.0       ⎦⎟\n",
       "                       ⎟\n",
       "                       ⎠"
      ]
     },
     "execution_count": 91,
     "metadata": {},
     "output_type": "execute_result"
    }
   ],
   "source": [
    "vals={t1:pi/4, t2:pi/4, t3:0, t4:0, t5:0, t6:0}\n",
    "JN = J.subs(vals)\n",
    "TN = T.subs(vals)\n",
    "qv = Matrix([10,10,10,10,10,10])\n",
    "(JN*qv).evalf(), TN.evalf()"
   ]
  },
  {
   "cell_type": "code",
   "execution_count": 37,
   "metadata": {},
   "outputs": [
    {
     "data": {
      "image/png": "[encoded data removed]",
      "text/latex": [
       "$$2645.7$$"
      ],
      "text/plain": [
       "2645.70000000000"
      ]
     },
     "execution_count": 37,
     "metadata": {},
     "output_type": "execute_result"
    }
   ],
   "source": [
    "sqrt(264.57**2)*10"
   ]
  },
  {
   "cell_type": "code",
   "execution_count": 5,
   "metadata": {},
   "outputs": [
    {
     "data": {
      "image/png": "[encoded data removed]",
      "text/latex": [
       "$$\\left[\\begin{matrix}\\sin{\\left (\\theta_4 \\right )} \\sin{\\left (\\theta_6 \\right )} + \\cos{\\left (\\theta_4 \\right )} \\cos{\\left (\\theta_5 \\right )} \\cos{\\left (\\theta_6 \\right )} & \\sin{\\left (\\theta_4 \\right )} \\cos{\\left (\\theta_6 \\right )} - \\sin{\\left (\\theta_6 \\right )} \\cos{\\left (\\theta_4 \\right )} \\cos{\\left (\\theta_5 \\right )} & \\sin{\\left (\\theta_5 \\right )} \\cos{\\left (\\theta_4 \\right )} & 80 \\sin{\\left (\\theta_5 \\right )} \\cos{\\left (\\theta_4 \\right )}\\\\\\sin{\\left (\\theta_4 \\right )} \\cos{\\left (\\theta_5 \\right )} \\cos{\\left (\\theta_6 \\right )} - \\sin{\\left (\\theta_6 \\right )} \\cos{\\left (\\theta_4 \\right )} & - \\sin{\\left (\\theta_4 \\right )} \\sin{\\left (\\theta_6 \\right )} \\cos{\\left (\\theta_5 \\right )} - \\cos{\\left (\\theta_4 \\right )} \\cos{\\left (\\theta_6 \\right )} & \\sin{\\left (\\theta_4 \\right )} \\sin{\\left (\\theta_5 \\right )} & 80 \\sin{\\left (\\theta_4 \\right )} \\sin{\\left (\\theta_5 \\right )}\\\\\\sin{\\left (\\theta_5 \\right )} \\cos{\\left (\\theta_6 \\right )} & - \\sin{\\left (\\theta_5 \\right )} \\sin{\\left (\\theta_6 \\right )} & - \\cos{\\left (\\theta_5 \\right )} & - 80 \\cos{\\left (\\theta_5 \\right )} - 320\\\\0 & 0 & 0 & 1\\end{matrix}\\right]$$"
      ],
      "text/plain": [
       "⎡sin(\\theta₄)⋅sin(\\theta₆) + cos(\\theta₄)⋅cos(\\theta₅)⋅cos(\\theta₆)  sin(\\thet\n",
       "⎢                                                                             \n",
       "⎢sin(\\theta₄)⋅cos(\\theta₅)⋅cos(\\theta₆) - sin(\\theta₆)⋅cos(\\theta₄)  -sin(\\the\n",
       "⎢                                                                             \n",
       "⎢                    sin(\\theta₅)⋅cos(\\theta₆)                                \n",
       "⎢                                                                             \n",
       "⎣                                0                                            \n",
       "\n",
       "a₄)⋅cos(\\theta₆) - sin(\\theta₆)⋅cos(\\theta₄)⋅cos(\\theta₅)   sin(\\theta₅)⋅cos(\\\n",
       "                                                                              \n",
       "ta₄)⋅sin(\\theta₆)⋅cos(\\theta₅) - cos(\\theta₄)⋅cos(\\theta₆)  sin(\\theta₄)⋅sin(\\\n",
       "                                                                              \n",
       "           -sin(\\theta₅)⋅sin(\\theta₆)                             -cos(\\theta₅\n",
       "                                                                              \n",
       "                        0                                               0     \n",
       "\n",
       "theta₄)  80⋅sin(\\theta₅)⋅cos(\\theta₄)⎤\n",
       "                                     ⎥\n",
       "theta₅)  80⋅sin(\\theta₄)⋅sin(\\theta₅)⎥\n",
       "                                     ⎥\n",
       ")           -80⋅cos(\\theta₅) - 320   ⎥\n",
       "                                     ⎥\n",
       "                      1              ⎦"
      ]
     },
     "execution_count": 5,
     "metadata": {},
     "output_type": "execute_result"
    }
   ],
   "source": [
    "simplify(Fanuc.Ts[3]*Fanuc.Ts[4]*Fanuc.Ts[5])"
   ]
  },
  {
   "cell_type": "code",
   "execution_count": 6,
   "metadata": {},
   "outputs": [
    {
     "data": {
      "image/png": "[encoded data removed]",
      "text/latex": [
       "$$\\left [ \\left[\\begin{matrix}\\cos{\\left (\\theta_4 \\right )} & 0 & \\sin{\\left (\\theta_4 \\right )} & 0\\\\\\sin{\\left (\\theta_4 \\right )} & 0 & - \\cos{\\left (\\theta_4 \\right )} & 0\\\\0 & 1 & 0 & -320\\\\0 & 0 & 0 & 1\\end{matrix}\\right], \\quad \\left[\\begin{matrix}\\cos{\\left (\\theta_5 \\right )} & 0 & \\sin{\\left (\\theta_5 \\right )} & 0\\\\\\sin{\\left (\\theta_5 \\right )} & 0 & - \\cos{\\left (\\theta_5 \\right )} & 0\\\\0 & 1 & 0 & 0\\\\0 & 0 & 0 & 1\\end{matrix}\\right], \\quad \\left[\\begin{matrix}\\cos{\\left (\\theta_6 \\right )} & - \\sin{\\left (\\theta_6 \\right )} & 0 & 0\\\\\\sin{\\left (\\theta_6 \\right )} & \\cos{\\left (\\theta_6 \\right )} & 0 & 0\\\\0 & 0 & 1 & 80\\\\0 & 0 & 0 & 1\\end{matrix}\\right]\\right ]$$"
      ],
      "text/plain": [
       "⎡⎡cos(\\theta₄)  0  sin(\\theta₄)    0  ⎤  ⎡cos(\\theta₅)  0  sin(\\theta₅)   0⎤  \n",
       "⎢⎢                                    ⎥  ⎢                                 ⎥  \n",
       "⎢⎢sin(\\theta₄)  0  -cos(\\theta₄)   0  ⎥  ⎢sin(\\theta₅)  0  -cos(\\theta₅)  0⎥  \n",
       "⎢⎢                                    ⎥, ⎢                                 ⎥, \n",
       "⎢⎢     0        1        0        -320⎥  ⎢     0        1        0        0⎥  \n",
       "⎢⎢                                    ⎥  ⎢                                 ⎥  \n",
       "⎣⎣     0        0        0         1  ⎦  ⎣     0        0        0        1⎦  \n",
       "\n",
       "⎡cos(\\theta₆)  -sin(\\theta₆)  0  0 ⎤⎤\n",
       "⎢                                  ⎥⎥\n",
       "⎢sin(\\theta₆)  cos(\\theta₆)   0  0 ⎥⎥\n",
       "⎢                                  ⎥⎥\n",
       "⎢     0              0        1  80⎥⎥\n",
       "⎢                                  ⎥⎥\n",
       "⎣     0              0        0  1 ⎦⎦"
      ]
     },
     "execution_count": 6,
     "metadata": {},
     "output_type": "execute_result"
    }
   ],
   "source": [
    "Fanuc.Ts[3:]"
   ]
  },
  {
   "cell_type": "code",
   "execution_count": 8,
   "metadata": {},
   "outputs": [
    {
     "data": {
      "image/png": "[encoded data removed]",
      "text/latex": [
       "$$\\left[\\begin{matrix}1 & 0 & 0 & 0\\\\0 & -1 & 0 & 0\\\\0 & 0 & -1 & 0\\\\0 & 0 & 0 & 1\\end{matrix}\\right]$$"
      ],
      "text/plain": [
       "⎡1  0   0   0⎤\n",
       "⎢            ⎥\n",
       "⎢0  -1  0   0⎥\n",
       "⎢            ⎥\n",
       "⎢0  0   -1  0⎥\n",
       "⎢            ⎥\n",
       "⎣0  0   0   1⎦"
      ]
     },
     "execution_count": 8,
     "metadata": {},
     "output_type": "execute_result"
    }
   ],
   "source": [
    "MR"
   ]
  },
  {
   "cell_type": "code",
   "execution_count": null,
   "metadata": {},
   "outputs": [],
   "source": []
  }
 ],
 "metadata": {
  "kernelspec": {
   "display_name": "Python 3",
   "language": "python",
   "name": "python3"
  },
  "language_info": {
   "codemirror_mode": {
    "name": "ipython",
    "version": 3
   },
   "file_extension": ".py",
   "mimetype": "text/x-python",
   "name": "python",
   "nbconvert_exporter": "python",
   "pygments_lexer": "ipython3",
   "version": "3.6.5"
  }
 },
 "nbformat": 4,
 "nbformat_minor": 2
}
