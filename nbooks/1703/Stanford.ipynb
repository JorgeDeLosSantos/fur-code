{
 "cells": [
  {
   "cell_type": "code",
   "execution_count": 2,
   "metadata": {},
   "outputs": [],
   "source": [
    "from sympy import *\n",
    "from sympy.matrices import *\n",
    "init_printing(use_latex=true)\n",
    "\n",
    "t1,t2,t3,t4,t5,t6 = symbols('\\\\theta_1, \\\\theta_2, \\\\theta_3, \\\\theta_4, \\\\theta_5, \\\\theta_6')\n",
    "d1,d2,d3,d4,d5,d6 = symbols('d_1, d_2, d_3, d_4, d_5, d_6')\n",
    "x,y,z = symbols('x,y,z')\n",
    "\n",
    "def dhs(a,alpha,d,theta):\n",
    "    M = Matrix([[cos(theta),-sin(theta)*cos(alpha),sin(theta)*sin(alpha),a*cos(theta)],\n",
    "                  [sin(theta),cos(theta)*cos(alpha),-cos(theta)*sin(alpha),a*sin(theta)],\n",
    "                  [0,sin(alpha),cos(alpha),d],\n",
    "                  [0,0,0,1]])\n",
    "    return M"
   ]
  },
  {
   "cell_type": "code",
   "execution_count": 3,
   "metadata": {},
   "outputs": [
    {
     "data": {
      "image/png": "[encoded data removed]",
      "text/latex": [
       "$$\\left ( - d_{2} \\sin{\\left (\\theta_1 \\right )} + d_{3} \\sin{\\left (\\theta_2 \\right )} \\cos{\\left (\\theta_1 \\right )} - d_{6} \\sin{\\left (\\theta_1 \\right )} \\sin{\\left (\\theta_4 \\right )} \\sin{\\left (\\theta_5 \\right )} + d_{6} \\sin{\\left (\\theta_2 \\right )} \\cos{\\left (\\theta_1 \\right )} \\cos{\\left (\\theta_5 \\right )} + d_{6} \\sin{\\left (\\theta_5 \\right )} \\cos{\\left (\\theta_1 \\right )} \\cos{\\left (\\theta_2 \\right )} \\cos{\\left (\\theta_4 \\right )}, \\quad d_{2} \\cos{\\left (\\theta_1 \\right )} + d_{3} \\sin{\\left (\\theta_1 \\right )} \\sin{\\left (\\theta_2 \\right )} + d_{6} \\sin{\\left (\\theta_1 \\right )} \\sin{\\left (\\theta_2 \\right )} \\cos{\\left (\\theta_5 \\right )} + d_{6} \\sin{\\left (\\theta_1 \\right )} \\sin{\\left (\\theta_5 \\right )} \\cos{\\left (\\theta_2 \\right )} \\cos{\\left (\\theta_4 \\right )} + d_{6} \\sin{\\left (\\theta_4 \\right )} \\sin{\\left (\\theta_5 \\right )} \\cos{\\left (\\theta_1 \\right )}, \\quad d_{3} \\cos{\\left (\\theta_2 \\right )} - d_{6} \\sin{\\left (\\theta_2 \\right )} \\sin{\\left (\\theta_5 \\right )} \\cos{\\left (\\theta_4 \\right )} + d_{6} \\cos{\\left (\\theta_2 \\right )} \\cos{\\left (\\theta_5 \\right )}\\right )$$"
      ],
      "text/plain": [
       "(-d₂⋅sin(\\theta₁) + d₃⋅sin(\\theta₂)⋅cos(\\theta₁) - d₆⋅sin(\\theta₁)⋅sin(\\theta₄\n",
       ")⋅sin(\\theta₅) + d₆⋅sin(\\theta₂)⋅cos(\\theta₁)⋅cos(\\theta₅) + d₆⋅sin(\\theta₅)⋅c\n",
       "os(\\theta₁)⋅cos(\\theta₂)⋅cos(\\theta₄), d₂⋅cos(\\theta₁) + d₃⋅sin(\\theta₁)⋅sin(\\\n",
       "theta₂) + d₆⋅sin(\\theta₁)⋅sin(\\theta₂)⋅cos(\\theta₅) + d₆⋅sin(\\theta₁)⋅sin(\\the\n",
       "ta₅)⋅cos(\\theta₂)⋅cos(\\theta₄) + d₆⋅sin(\\theta₄)⋅sin(\\theta₅)⋅cos(\\theta₁), d₃\n",
       "⋅cos(\\theta₂) - d₆⋅sin(\\theta₂)⋅sin(\\theta₅)⋅cos(\\theta₄) + d₆⋅cos(\\theta₂)⋅co\n",
       "s(\\theta₅))"
      ]
     },
     "execution_count": 3,
     "metadata": {},
     "output_type": "execute_result"
    }
   ],
   "source": [
    "T3_0 = dhs(0,-pi/2,0,t1)*dhs(0,pi/2,d2,t2)*dhs(0,0,d3,0)\n",
    "T6_3 = dhs(0,-pi/2,0,t4)*dhs(0,pi/2,0,t5)*dhs(0,0,d6,t6)\n",
    "T6_0 = T3_0*T6_3\n",
    "xx = simplify(T6_0[0,3])\n",
    "yy = simplify(T6_0[1,3])\n",
    "zz = simplify(T6_0[2,3])\n",
    "xx,yy,zz"
   ]
  },
  {
   "cell_type": "code",
   "execution_count": 4,
   "metadata": {},
   "outputs": [
    {
     "data": {
      "image/png": "[encoded data removed]",
      "text/latex": [
       "$$\\left ( - d_{2} \\sin{\\left (\\theta_1 \\right )} + d_{3} \\sin{\\left (\\theta_2 \\right )} \\cos{\\left (\\theta_1 \\right )}, \\quad d_{2} \\cos{\\left (\\theta_1 \\right )} + d_{3} \\sin{\\left (\\theta_1 \\right )} \\sin{\\left (\\theta_2 \\right )}, \\quad d_{3} \\cos{\\left (\\theta_2 \\right )}\\right )$$"
      ],
      "text/plain": [
       "(-d₂⋅sin(\\theta₁) + d₃⋅sin(\\theta₂)⋅cos(\\theta₁), d₂⋅cos(\\theta₁) + d₃⋅sin(\\th\n",
       "eta₁)⋅sin(\\theta₂), d₃⋅cos(\\theta₂))"
      ]
     },
     "execution_count": 4,
     "metadata": {},
     "output_type": "execute_result"
    }
   ],
   "source": [
    "Pw = simplify(T6_0[:3,3]-d6*T6_0[:3,2])\n",
    "Pwx = Pw[0]\n",
    "Pwy = Pw[1]\n",
    "Pwz = Pw[2]\n",
    "Pwx,Pwy,Pwz"
   ]
  },
  {
   "cell_type": "code",
   "execution_count": 5,
   "metadata": {},
   "outputs": [
    {
     "data": {
      "image/png": "[encoded data removed]",
      "text/latex": [
       "$$\\left ( \\left[\\begin{matrix}\\cos{\\left (\\theta_1 \\right )} \\cos{\\left (\\theta_2 \\right )} & - \\sin{\\left (\\theta_1 \\right )} & \\sin{\\left (\\theta_2 \\right )} \\cos{\\left (\\theta_1 \\right )} & - d_{2} \\sin{\\left (\\theta_1 \\right )} + d_{3} \\sin{\\left (\\theta_2 \\right )} \\cos{\\left (\\theta_1 \\right )}\\\\\\sin{\\left (\\theta_1 \\right )} \\cos{\\left (\\theta_2 \\right )} & \\cos{\\left (\\theta_1 \\right )} & \\sin{\\left (\\theta_1 \\right )} \\sin{\\left (\\theta_2 \\right )} & d_{2} \\cos{\\left (\\theta_1 \\right )} + d_{3} \\sin{\\left (\\theta_1 \\right )} \\sin{\\left (\\theta_2 \\right )}\\\\- \\sin{\\left (\\theta_2 \\right )} & 0 & \\cos{\\left (\\theta_2 \\right )} & d_{3} \\cos{\\left (\\theta_2 \\right )}\\\\0 & 0 & 0 & 1\\end{matrix}\\right], \\quad \\left[\\begin{matrix}- \\sin{\\left (\\theta_4 \\right )} \\sin{\\left (\\theta_6 \\right )} + \\cos{\\left (\\theta_4 \\right )} \\cos{\\left (\\theta_5 \\right )} \\cos{\\left (\\theta_6 \\right )} & - \\sin{\\left (\\theta_4 \\right )} \\cos{\\left (\\theta_6 \\right )} - \\sin{\\left (\\theta_6 \\right )} \\cos{\\left (\\theta_4 \\right )} \\cos{\\left (\\theta_5 \\right )} & \\sin{\\left (\\theta_5 \\right )} \\cos{\\left (\\theta_4 \\right )} & d_{6} \\sin{\\left (\\theta_5 \\right )} \\cos{\\left (\\theta_4 \\right )}\\\\\\sin{\\left (\\theta_4 \\right )} \\cos{\\left (\\theta_5 \\right )} \\cos{\\left (\\theta_6 \\right )} + \\sin{\\left (\\theta_6 \\right )} \\cos{\\left (\\theta_4 \\right )} & - \\sin{\\left (\\theta_4 \\right )} \\sin{\\left (\\theta_6 \\right )} \\cos{\\left (\\theta_5 \\right )} + \\cos{\\left (\\theta_4 \\right )} \\cos{\\left (\\theta_6 \\right )} & \\sin{\\left (\\theta_4 \\right )} \\sin{\\left (\\theta_5 \\right )} & d_{6} \\sin{\\left (\\theta_4 \\right )} \\sin{\\left (\\theta_5 \\right )}\\\\- \\sin{\\left (\\theta_5 \\right )} \\cos{\\left (\\theta_6 \\right )} & \\sin{\\left (\\theta_5 \\right )} \\sin{\\left (\\theta_6 \\right )} & \\cos{\\left (\\theta_5 \\right )} & d_{6} \\cos{\\left (\\theta_5 \\right )}\\\\0 & 0 & 0 & 1\\end{matrix}\\right]\\right )$$"
      ],
      "text/plain": [
       "⎛⎡cos(\\theta₁)⋅cos(\\theta₂)  -sin(\\theta₁)  sin(\\theta₂)⋅cos(\\theta₁)  -d₂⋅sin\n",
       "⎜⎢                                                                            \n",
       "⎜⎢sin(\\theta₁)⋅cos(\\theta₂)  cos(\\theta₁)   sin(\\theta₁)⋅sin(\\theta₂)  d₂⋅cos(\n",
       "⎜⎢                                                                            \n",
       "⎜⎢      -sin(\\theta₂)              0              cos(\\theta₂)                \n",
       "⎜⎢                                                                            \n",
       "⎝⎣            0                    0                    0                     \n",
       "\n",
       "(\\theta₁) + d₃⋅sin(\\theta₂)⋅cos(\\theta₁)⎤  ⎡-sin(\\theta₄)⋅sin(\\theta₆) + cos(\\\n",
       "                                        ⎥  ⎢                                  \n",
       "\\theta₁) + d₃⋅sin(\\theta₁)⋅sin(\\theta₂) ⎥  ⎢sin(\\theta₄)⋅cos(\\theta₅)⋅cos(\\the\n",
       "                                        ⎥, ⎢                                  \n",
       "         d₃⋅cos(\\theta₂)                ⎥  ⎢                    -sin(\\theta₅)⋅\n",
       "                                        ⎥  ⎢                                  \n",
       "                1                       ⎦  ⎣                                 0\n",
       "\n",
       "theta₄)⋅cos(\\theta₅)⋅cos(\\theta₆)  -sin(\\theta₄)⋅cos(\\theta₆) - sin(\\theta₆)⋅c\n",
       "                                                                              \n",
       "ta₆) + sin(\\theta₆)⋅cos(\\theta₄)   -sin(\\theta₄)⋅sin(\\theta₆)⋅cos(\\theta₅) + c\n",
       "                                                                              \n",
       "cos(\\theta₆)                                            sin(\\theta₅)⋅sin(\\thet\n",
       "                                                                              \n",
       "                                                                    0         \n",
       "\n",
       "os(\\theta₄)⋅cos(\\theta₅)  sin(\\theta₅)⋅cos(\\theta₄)  d₆⋅sin(\\theta₅)⋅cos(\\thet\n",
       "                                                                              \n",
       "os(\\theta₄)⋅cos(\\theta₆)  sin(\\theta₄)⋅sin(\\theta₅)  d₆⋅sin(\\theta₄)⋅sin(\\thet\n",
       "                                                                              \n",
       "a₆)                             cos(\\theta₅)               d₆⋅cos(\\theta₅)    \n",
       "                                                                              \n",
       "                                      0                           1           \n",
       "\n",
       "a₄)⎤⎞\n",
       "   ⎥⎟\n",
       "a₅)⎥⎟\n",
       "   ⎥⎟\n",
       "   ⎥⎟\n",
       "   ⎥⎟\n",
       "   ⎦⎠"
      ]
     },
     "execution_count": 5,
     "metadata": {},
     "output_type": "execute_result"
    }
   ],
   "source": [
    "T3_0,T6_3"
   ]
  },
  {
   "cell_type": "code",
   "execution_count": 6,
   "metadata": {},
   "outputs": [],
   "source": [
    "R3_0 = T3_0[:3,:3]\n",
    "R6_3 = T6_3[:3,:3]\n",
    "R6_0 = T6_0[:3,:3]\n",
    "R = R6_3"
   ]
  },
  {
   "cell_type": "code",
   "execution_count": 7,
   "metadata": {},
   "outputs": [
    {
     "data": {
      "image/png": "[encoded data removed]",
      "text/latex": [
       "$$\\left[\\begin{matrix}- \\sin{\\left (\\theta_4 \\right )} \\sin{\\left (\\theta_6 \\right )} + \\cos{\\left (\\theta_4 \\right )} \\cos{\\left (\\theta_5 \\right )} \\cos{\\left (\\theta_6 \\right )} & - \\sin{\\left (\\theta_4 \\right )} \\cos{\\left (\\theta_6 \\right )} - \\sin{\\left (\\theta_6 \\right )} \\cos{\\left (\\theta_4 \\right )} \\cos{\\left (\\theta_5 \\right )} & \\sin{\\left (\\theta_5 \\right )} \\cos{\\left (\\theta_4 \\right )}\\\\\\sin{\\left (\\theta_4 \\right )} \\cos{\\left (\\theta_5 \\right )} \\cos{\\left (\\theta_6 \\right )} + \\sin{\\left (\\theta_6 \\right )} \\cos{\\left (\\theta_4 \\right )} & - \\sin{\\left (\\theta_4 \\right )} \\sin{\\left (\\theta_6 \\right )} \\cos{\\left (\\theta_5 \\right )} + \\cos{\\left (\\theta_4 \\right )} \\cos{\\left (\\theta_6 \\right )} & \\sin{\\left (\\theta_4 \\right )} \\sin{\\left (\\theta_5 \\right )}\\\\- \\sin{\\left (\\theta_5 \\right )} \\cos{\\left (\\theta_6 \\right )} & \\sin{\\left (\\theta_5 \\right )} \\sin{\\left (\\theta_6 \\right )} & \\cos{\\left (\\theta_5 \\right )}\\end{matrix}\\right]$$"
      ],
      "text/plain": [
       "⎡-sin(\\theta₄)⋅sin(\\theta₆) + cos(\\theta₄)⋅cos(\\theta₅)⋅cos(\\theta₆)  -sin(\\th\n",
       "⎢                                                                             \n",
       "⎢sin(\\theta₄)⋅cos(\\theta₅)⋅cos(\\theta₆) + sin(\\theta₆)⋅cos(\\theta₄)   -sin(\\th\n",
       "⎢                                                                             \n",
       "⎣                    -sin(\\theta₅)⋅cos(\\theta₆)                               \n",
       "\n",
       "eta₄)⋅cos(\\theta₆) - sin(\\theta₆)⋅cos(\\theta₄)⋅cos(\\theta₅)  sin(\\theta₅)⋅cos(\n",
       "                                                                              \n",
       "eta₄)⋅sin(\\theta₆)⋅cos(\\theta₅) + cos(\\theta₄)⋅cos(\\theta₆)  sin(\\theta₄)⋅sin(\n",
       "                                                                              \n",
       "             sin(\\theta₅)⋅sin(\\theta₆)                             cos(\\theta₅\n",
       "\n",
       "\\theta₄)⎤\n",
       "        ⎥\n",
       "\\theta₅)⎥\n",
       "        ⎥\n",
       ")       ⎦"
      ]
     },
     "execution_count": 7,
     "metadata": {},
     "output_type": "execute_result"
    }
   ],
   "source": [
    "simplify(R3_0.transpose()*R6_0)"
   ]
  },
  {
   "cell_type": "code",
   "execution_count": 13,
   "metadata": {},
   "outputs": [
    {
     "data": {
      "image/png": "[encoded data removed]",
      "text/latex": [
       "$$- \\frac{\\sin{\\left (\\theta_6 \\right )}}{\\cos{\\left (\\theta_6 \\right )}}$$"
      ],
      "text/plain": [
       "-sin(\\theta₆) \n",
       "──────────────\n",
       " cos(\\theta₆) "
      ]
     },
     "execution_count": 13,
     "metadata": {},
     "output_type": "execute_result"
    }
   ],
   "source": [
    "R[2,1]/R[2,0]"
   ]
  },
  {
   "cell_type": "code",
   "execution_count": 14,
   "metadata": {},
   "outputs": [
    {
     "data": {
      "image/png": "[encoded data removed]",
      "text/latex": [
       "$$\\left ( \\left[\\begin{matrix}\\cos{\\left (\\theta_4 \\right )} & 0 & - \\sin{\\left (\\theta_4 \\right )} & 0\\\\\\sin{\\left (\\theta_4 \\right )} & 0 & \\cos{\\left (\\theta_4 \\right )} & 0\\\\0 & -1 & 0 & 0\\\\0 & 0 & 0 & 1\\end{matrix}\\right], \\quad \\left[\\begin{matrix}\\cos{\\left (\\theta_5 \\right )} & 0 & \\sin{\\left (\\theta_5 \\right )} & 0\\\\\\sin{\\left (\\theta_5 \\right )} & 0 & - \\cos{\\left (\\theta_5 \\right )} & 0\\\\0 & 1 & 0 & 0\\\\0 & 0 & 0 & 1\\end{matrix}\\right], \\quad \\left[\\begin{matrix}\\cos{\\left (\\theta_6 \\right )} & - \\sin{\\left (\\theta_6 \\right )} & 0 & 0\\\\\\sin{\\left (\\theta_6 \\right )} & \\cos{\\left (\\theta_6 \\right )} & 0 & 0\\\\0 & 0 & 1 & d_{6}\\\\0 & 0 & 0 & 1\\end{matrix}\\right]\\right )$$"
      ],
      "text/plain": [
       "⎛⎡cos(\\theta₄)  0   -sin(\\theta₄)  0⎤  ⎡cos(\\theta₅)  0  sin(\\theta₅)   0⎤  ⎡c\n",
       "⎜⎢                                  ⎥  ⎢                                 ⎥  ⎢ \n",
       "⎜⎢sin(\\theta₄)  0   cos(\\theta₄)   0⎥  ⎢sin(\\theta₅)  0  -cos(\\theta₅)  0⎥  ⎢s\n",
       "⎜⎢                                  ⎥, ⎢                                 ⎥, ⎢ \n",
       "⎜⎢     0        -1        0        0⎥  ⎢     0        1        0        0⎥  ⎢ \n",
       "⎜⎢                                  ⎥  ⎢                                 ⎥  ⎢ \n",
       "⎝⎣     0        0         0        1⎦  ⎣     0        0        0        1⎦  ⎣ \n",
       "\n",
       "os(\\theta₆)  -sin(\\theta₆)  0  0 ⎤⎞\n",
       "                                 ⎥⎟\n",
       "in(\\theta₆)  cos(\\theta₆)   0  0 ⎥⎟\n",
       "                                 ⎥⎟\n",
       "    0              0        1  d₆⎥⎟\n",
       "                                 ⎥⎟\n",
       "    0              0        0  1 ⎦⎠"
      ]
     },
     "execution_count": 14,
     "metadata": {},
     "output_type": "execute_result"
    }
   ],
   "source": [
    "T4_3 = dhs(0,-pi/2,0,t4)\n",
    "T5_4 = dhs(0,pi/2,0,t5)\n",
    "T6_5 = dhs(0,0,d6,t6)\n",
    "T4_3,T5_4,T6_5"
   ]
  },
  {
   "cell_type": "code",
   "execution_count": null,
   "metadata": {},
   "outputs": [],
   "source": []
  }
 ],
 "metadata": {
  "kernelspec": {
   "display_name": "Python 3",
   "language": "python",
   "name": "python3"
  },
  "language_info": {
   "codemirror_mode": {
    "name": "ipython",
    "version": 3
   },
   "file_extension": ".py",
   "mimetype": "text/x-python",
   "name": "python",
   "nbconvert_exporter": "python",
   "pygments_lexer": "ipython3",
   "version": "3.6.3"
  }
 },
 "nbformat": 4,
 "nbformat_minor": 2
}
