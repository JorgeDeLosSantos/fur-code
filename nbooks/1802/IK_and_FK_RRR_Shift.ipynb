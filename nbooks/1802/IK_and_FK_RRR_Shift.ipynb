{
 "cells": [
  {
   "cell_type": "code",
   "execution_count": 2,
   "metadata": {},
   "outputs": [],
   "source": [
    "from furlib import *"
   ]
  },
  {
   "cell_type": "code",
   "execution_count": 16,
   "metadata": {},
   "outputs": [],
   "source": [
    "Px,Py,Pz = 30,-100,100\n",
    "d1,d2,a2,a3 = 100,50,200,200\n",
    "a = sqrt(Px**2 + Py**2)\n",
    "b = sqrt(a**2 - d2**2)\n",
    "d = b\n",
    "c = Pz - d1\n",
    "r = sqrt(d**2 + c**2)\n",
    "K1 = (r**2 + a2**2 - a3**2)/(2*r*a2)\n",
    "beta = atan2(sqrt(1-K1**2), K1)\n",
    "K2 = (r**2 - a2**2 - a3**2)/(2*a2*a3)\n",
    "T3 = atan2(sqrt(1-K2**2), K2)\n",
    "alpha = atan2(c,d)\n",
    "T1 = atan2(Py*b - Px*d2, Px*b + Py*d2)\n",
    "T2 = alpha - beta"
   ]
  },
  {
   "cell_type": "code",
   "execution_count": 17,
   "metadata": {},
   "outputs": [],
   "source": [
    "rrr = Robot((0,pi/2,d1,t1), (a2,0,-d2,t2), (a3,0,0,t3))"
   ]
  },
  {
   "cell_type": "code",
   "execution_count": 18,
   "metadata": {},
   "outputs": [],
   "source": [
    "T = rrr.T"
   ]
  },
  {
   "cell_type": "code",
   "execution_count": 19,
   "metadata": {},
   "outputs": [
    {
     "data": {
      "image/png": "[encoded data removed]",
      "text/latex": [
       "$$\\left[\\begin{matrix}-0.0473068 & 0.200971 & -0.978454 & 30.0\\\\-0.224192 & 0.952424 & 0.206464 & -100.0\\\\0.973396 & 0.229129 & 0 & 100.0\\\\0 & 0 & 0 & 1.0\\end{matrix}\\right]$$"
      ],
      "text/plain": [
       "⎡-0.0473068  0.200971  -0.978454   30.0 ⎤\n",
       "⎢                                       ⎥\n",
       "⎢-0.224192   0.952424  0.206464   -100.0⎥\n",
       "⎢                                       ⎥\n",
       "⎢ 0.973396   0.229129      0      100.0 ⎥\n",
       "⎢                                       ⎥\n",
       "⎣    0          0          0       1.0  ⎦"
      ]
     },
     "execution_count": 19,
     "metadata": {},
     "output_type": "execute_result"
    }
   ],
   "source": [
    "T.subs({t1:T1, t2:T2, t3:T3}).evalf(6)"
   ]
  },
  {
   "cell_type": "code",
   "execution_count": null,
   "metadata": {},
   "outputs": [],
   "source": []
  }
 ],
 "metadata": {
  "kernelspec": {
   "display_name": "Python 3",
   "language": "python",
   "name": "python3"
  },
  "language_info": {
   "codemirror_mode": {
    "name": "ipython",
    "version": 3
   },
   "file_extension": ".py",
   "mimetype": "text/x-python",
   "name": "python",
   "nbconvert_exporter": "python",
   "pygments_lexer": "ipython3",
   "version": "3.6.5"
  }
 },
 "nbformat": 4,
 "nbformat_minor": 2
}
