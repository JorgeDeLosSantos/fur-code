{
 "cells": [
  {
   "cell_type": "code",
   "execution_count": 11,
   "metadata": {},
   "outputs": [],
   "source": [
    "from sympy import *\n",
    "from sympy.matrices import *\n",
    "from sympy.plotting import plot\n",
    "init_printing(use_latex=true)\n",
    "import operator, functools\n",
    "\n",
    "t1,t2,t3,t4,t5,t6 = symbols(\"\\\\theta_1:7\")\n",
    "d1,d2,d3,d4,d5,d6 = symbols(\"d_1:7\")\n",
    "a1,a2,a3,a4,a5,a6 = symbols(\"a_1:7\")\n",
    "x,y,z,t = symbols('x,y,z,t')\n",
    "\n",
    "def dhs(a,alpha,d,theta):\n",
    "    M = Matrix([[cos(theta),-sin(theta)*cos(alpha),sin(theta)*sin(alpha),a*cos(theta)],\n",
    "                  [sin(theta),cos(theta)*cos(alpha),-cos(theta)*sin(alpha),a*sin(theta)],\n",
    "                  [0,sin(alpha),cos(alpha),d],\n",
    "                  [0,0,0,1]])\n",
    "    return M\n",
    "\n",
    "class Manipulator(object):\n",
    "    def __init__(self,*args):\n",
    "        self.Ts = []\n",
    "        self.type = []\n",
    "        for k in args:\n",
    "            self.Ts.append(dhs(k[0],k[1],k[2],k[3]))\n",
    "            if len(k)>4:\n",
    "                self.type.append(k[4])\n",
    "            else:\n",
    "                self.type.append('r')\n",
    "        self.dof = len(args)\n",
    "    \n",
    "    def z(self,i):\n",
    "        if i == 0: return Matrix([[0],[0],[1]])\n",
    "        MTH = eye(4)\n",
    "        for k in range(i):\n",
    "            MTH = MTH*self.Ts[k]\n",
    "        return MTH[:3,2]\n",
    "    \n",
    "    def p(self,i):\n",
    "        if i == 0: return Matrix([[0],[0],[0]])\n",
    "        MTH = eye(4)\n",
    "        for k in range(i):\n",
    "            MTH = MTH*self.Ts[k]\n",
    "        return MTH[:3,3]\n",
    "    \n",
    "    @property\n",
    "    def J(self):\n",
    "        n = self.dof\n",
    "        M_ = zeros(6,n)\n",
    "        for i in range(self.dof):\n",
    "            if self.type[i]=='r':\n",
    "                jp = self.z(i).cross(self.p(n) - self.p(i))\n",
    "                jo = self.z(i)\n",
    "            else:\n",
    "                jp = self.z(i)\n",
    "                jo = zeros(3,1)\n",
    "            jp = jp.col_join(jo)\n",
    "            M_[:,i] = jp\n",
    "        return simplify(M_)\n",
    "    \n",
    "    @property\n",
    "    def T(self):\n",
    "        return simplify(functools.reduce(operator.mul, self.Ts))\n",
    "    \n",
    "def newton_raphson(J,b,X0,vals,eps=0.001,icg=[t3,t4]):\n",
    "    ei, k = [], 1\n",
    "    Jinv = J.inv().subs(vals)\n",
    "    b = b.subs(vals)\n",
    "    while True:\n",
    "        x = (Jinv.subs(X0)*b.subs(X0)).evalf()\n",
    "        ei.append([x.norm(),X0[icg[0]],X0[icg[1]]])\n",
    "        if x.norm()<eps: break\n",
    "        for jj,ky in enumerate(X0):\n",
    "            X0[ky] += (x[jj]).evalf()\n",
    "        k += 1\n",
    "    return X0,x,k,ei\n"
   ]
  },
  {
   "cell_type": "code",
   "execution_count": 12,
   "metadata": {},
   "outputs": [],
   "source": [
    "#Fanuc = Manipulator((75,pi/2,330,t1), (300,0,0,t2), (75,-pi/2,0,t3),(0,pi/2,-320,t4),(0,pi/2,0,t5),(0,0,80,t6))\n",
    "Fanuc = Manipulator((75,pi/2,330,t1), (300,0,0,t2), (75,-pi/2,0,t3))"
   ]
  },
  {
   "cell_type": "code",
   "execution_count": 33,
   "metadata": {},
   "outputs": [
    {
     "data": {
      "image/png": "[encoded data removed]",
      "text/latex": [
       "$$\\left[\\begin{matrix}\\cos{\\left (\\theta_1 \\right )} \\cos{\\left (\\theta_2 + \\theta_3 \\right )} & - \\sin{\\left (\\theta_1 \\right )} & - \\sin{\\left (\\theta_2 + \\theta_3 \\right )} \\cos{\\left (\\theta_1 \\right )} & 75 \\left(4 \\cos{\\left (\\theta_2 \\right )} + \\cos{\\left (\\theta_2 + \\theta_3 \\right )} + 1\\right) \\cos{\\left (\\theta_1 \\right )}\\\\\\sin{\\left (\\theta_1 \\right )} \\cos{\\left (\\theta_2 + \\theta_3 \\right )} & \\cos{\\left (\\theta_1 \\right )} & - \\sin{\\left (\\theta_1 \\right )} \\sin{\\left (\\theta_2 + \\theta_3 \\right )} & 75 \\left(4 \\cos{\\left (\\theta_2 \\right )} + \\cos{\\left (\\theta_2 + \\theta_3 \\right )} + 1\\right) \\sin{\\left (\\theta_1 \\right )}\\\\\\sin{\\left (\\theta_2 + \\theta_3 \\right )} & 0 & \\cos{\\left (\\theta_2 + \\theta_3 \\right )} & 300 \\sin{\\left (\\theta_2 \\right )} + 75 \\sin{\\left (\\theta_2 + \\theta_3 \\right )} + 330\\\\0 & 0 & 0 & 1\\end{matrix}\\right] = \\left[\\begin{matrix}1 & 0 & 0 & 450\\\\0 & 1 & 0 & 0\\\\0 & 0 & 1 & 330\\\\0 & 0 & 0 & 1\\end{matrix}\\right]$$"
      ],
      "text/plain": [
       "⎡cos(\\theta₁)⋅cos(\\theta₂ + \\theta₃)  -sin(\\theta₁)  -sin(\\theta₂ + \\theta₃)⋅c\n",
       "⎢                                                                             \n",
       "⎢sin(\\theta₁)⋅cos(\\theta₂ + \\theta₃)  cos(\\theta₁)   -sin(\\theta₁)⋅sin(\\theta₂\n",
       "⎢                                                                             \n",
       "⎢      sin(\\theta₂ + \\theta₃)               0               cos(\\theta₂ + \\the\n",
       "⎢                                                                             \n",
       "⎣                 0                         0                         0       \n",
       "\n",
       "os(\\theta₁)  75⋅(4⋅cos(\\theta₂) + cos(\\theta₂ + \\theta₃) + 1)⋅cos(\\theta₁)⎤   \n",
       "                                                                          ⎥   \n",
       " + \\theta₃)  75⋅(4⋅cos(\\theta₂) + cos(\\theta₂ + \\theta₃) + 1)⋅sin(\\theta₁)⎥   \n",
       "                                                                          ⎥ = \n",
       "ta₃)              300⋅sin(\\theta₂) + 75⋅sin(\\theta₂ + \\theta₃) + 330      ⎥   \n",
       "                                                                          ⎥   \n",
       "                                           1                              ⎦   \n",
       "\n",
       "⎡1  0  0  450⎤\n",
       "⎢            ⎥\n",
       "⎢0  1  0   0 ⎥\n",
       "⎢            ⎥\n",
       "⎢0  0  1  330⎥\n",
       "⎢            ⎥\n",
       "⎣0  0  0   1 ⎦"
      ]
     },
     "execution_count": 33,
     "metadata": {},
     "output_type": "execute_result"
    }
   ],
   "source": [
    "T = Fanuc.T"
   ]
  },
  {
   "cell_type": "code",
   "execution_count": 43,
   "metadata": {},
   "outputs": [
    {
     "data": {
      "image/png": "[encoded data removed]",
      "text/latex": [
       "$$\\left[\\begin{matrix}\\cos{\\left (\\theta_1 \\right )} \\cos{\\left (\\theta_2 + \\theta_3 \\right )} & - \\sin{\\left (\\theta_1 \\right )} & - \\sin{\\left (\\theta_2 + \\theta_3 \\right )} \\cos{\\left (\\theta_1 \\right )} & 75 \\left(4 \\cos{\\left (\\theta_2 \\right )} + \\cos{\\left (\\theta_2 + \\theta_3 \\right )} + 1\\right) \\cos{\\left (\\theta_1 \\right )}\\\\\\sin{\\left (\\theta_1 \\right )} \\cos{\\left (\\theta_2 + \\theta_3 \\right )} & \\cos{\\left (\\theta_1 \\right )} & - \\sin{\\left (\\theta_1 \\right )} \\sin{\\left (\\theta_2 + \\theta_3 \\right )} & 75 \\left(4 \\cos{\\left (\\theta_2 \\right )} + \\cos{\\left (\\theta_2 + \\theta_3 \\right )} + 1\\right) \\sin{\\left (\\theta_1 \\right )}\\\\\\sin{\\left (\\theta_2 + \\theta_3 \\right )} & 0 & \\cos{\\left (\\theta_2 + \\theta_3 \\right )} & 300 \\sin{\\left (\\theta_2 \\right )} + 75 \\sin{\\left (\\theta_2 + \\theta_3 \\right )} + 330\\\\0 & 0 & 0 & 1\\end{matrix}\\right] = \\left[\\begin{matrix}1 & 0 & 0 & 300\\\\0 & 1 & 0 & 20\\\\0 & 0 & 1 & 400\\\\0 & 0 & 0 & 1\\end{matrix}\\right]$$"
      ],
      "text/plain": [
       "⎡cos(\\theta₁)⋅cos(\\theta₂ + \\theta₃)  -sin(\\theta₁)  -sin(\\theta₂ + \\theta₃)⋅c\n",
       "⎢                                                                             \n",
       "⎢sin(\\theta₁)⋅cos(\\theta₂ + \\theta₃)  cos(\\theta₁)   -sin(\\theta₁)⋅sin(\\theta₂\n",
       "⎢                                                                             \n",
       "⎢      sin(\\theta₂ + \\theta₃)               0               cos(\\theta₂ + \\the\n",
       "⎢                                                                             \n",
       "⎣                 0                         0                         0       \n",
       "\n",
       "os(\\theta₁)  75⋅(4⋅cos(\\theta₂) + cos(\\theta₂ + \\theta₃) + 1)⋅cos(\\theta₁)⎤   \n",
       "                                                                          ⎥   \n",
       " + \\theta₃)  75⋅(4⋅cos(\\theta₂) + cos(\\theta₂ + \\theta₃) + 1)⋅sin(\\theta₁)⎥   \n",
       "                                                                          ⎥ = \n",
       "ta₃)              300⋅sin(\\theta₂) + 75⋅sin(\\theta₂ + \\theta₃) + 330      ⎥   \n",
       "                                                                          ⎥   \n",
       "                                           1                              ⎦   \n",
       "\n",
       "⎡1  0  0  300⎤\n",
       "⎢            ⎥\n",
       "⎢0  1  0  20 ⎥\n",
       "⎢            ⎥\n",
       "⎢0  0  1  400⎥\n",
       "⎢            ⎥\n",
       "⎣0  0  0   1 ⎦"
      ]
     },
     "execution_count": 43,
     "metadata": {},
     "output_type": "execute_result"
    }
   ],
   "source": [
    "PT = Matrix([[1,0,0,300],\n",
    "             [0,1,0,20],\n",
    "             [0,0,1,400],\n",
    "             [0,0,0,1]])\n",
    "Eq(T, PT)"
   ]
  },
  {
   "cell_type": "code",
   "execution_count": 46,
   "metadata": {},
   "outputs": [],
   "source": [
    "# f1 = T[0,0] - PT[0,0]\n",
    "# f2 = T[1,0] - PT[1,0]\n",
    "# f3 = T[2,0] - PT[2,0]\n",
    "# f4 = T[3,0] - PT[3,0]\n",
    "# f5 = T[0,1] - PT[0,1]\n",
    "# f6 = T[1,1] - PT[0,0]\n",
    "f1 = T[0,3] - PT[0,3]\n",
    "f2 = T[1,3] - PT[1,3]\n",
    "f3 = T[2,3] - PT[2,3]\n",
    "\n",
    "F = Matrix([f1,f2,f3])\n",
    "J = F.jacobian([t1,t2,t3])\n",
    "b = -F\n",
    "\n",
    "X0 = {t1:0.1, t2:pi/3, t3:-pi/3}\n",
    "vals = {}\n",
    "XS,*_, data = newton_raphson(J,b,X0,vals,1e-4,[t1,t2,t3])"
   ]
  },
  {
   "cell_type": "code",
   "execution_count": 47,
   "metadata": {},
   "outputs": [
    {
     "data": {
      "image/png": "[encoded data removed]",
      "text/latex": [
       "$$\\left ( 3.81407483429469, \\quad 25.7525008252236, \\quad -152.181975997615\\right )$$"
      ],
      "text/plain": [
       "(3.81407483429469, 25.7525008252236, -152.181975997615)"
      ]
     },
     "execution_count": 47,
     "metadata": {},
     "output_type": "execute_result"
    }
   ],
   "source": [
    "(XS[t1]*180/pi).evalf(), (XS[t2]*180/pi).evalf(), (XS[t3]*180/pi).evalf()"
   ]
  },
  {
   "cell_type": "code",
   "execution_count": null,
   "metadata": {},
   "outputs": [],
   "source": []
  }
 ],
 "metadata": {
  "kernelspec": {
   "display_name": "Python 3",
   "language": "python",
   "name": "python3"
  },
  "language_info": {
   "codemirror_mode": {
    "name": "ipython",
    "version": 3
   },
   "file_extension": ".py",
   "mimetype": "text/x-python",
   "name": "python",
   "nbconvert_exporter": "python",
   "pygments_lexer": "ipython3",
   "version": "3.6.3"
  }
 },
 "nbformat": 4,
 "nbformat_minor": 2
}
