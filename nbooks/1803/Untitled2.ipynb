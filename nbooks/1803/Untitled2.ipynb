{
 "cells": [
  {
   "cell_type": "code",
   "execution_count": 1,
   "metadata": {},
   "outputs": [],
   "source": [
    "from rkd.didactic import *"
   ]
  },
  {
   "cell_type": "code",
   "execution_count": 5,
   "metadata": {},
   "outputs": [
    {
     "data": {
      "image/png": "[encoded data removed]",
      "text/latex": [
       "$$\\left [ - i \\log{\\left (- \\sqrt{- \\frac{\\left(l_{1} e^{i \\theta_2} + l_{2}\\right) e^{- i \\theta_2}}{l_{1} + l_{2} e^{i \\theta_2}}} \\right )}, \\quad - i \\log{\\left (\\sqrt{- \\frac{\\left(l_{1} e^{i \\theta_2} + l_{2}\\right) e^{- i \\theta_2}}{l_{1} + l_{2} e^{i \\theta_2}}} \\right )}\\right ]$$"
      ],
      "text/plain": [
       "⎡      ⎛       ____________________________________⎞        ⎛      ___________\n",
       "⎢      ⎜      ╱  ⎛    ⅈ⋅\\theta₂     ⎞  -ⅈ⋅\\theta₂  ⎟        ⎜     ╱  ⎛    ⅈ⋅\\t\n",
       "⎢      ⎜     ╱  -⎝l₁⋅ℯ          + l₂⎠⋅ℯ            ⎟        ⎜    ╱  -⎝l₁⋅ℯ    \n",
       "⎢-ⅈ⋅log⎜-   ╱   ────────────────────────────────── ⎟, -ⅈ⋅log⎜   ╱   ──────────\n",
       "⎢      ⎜   ╱                     ⅈ⋅\\theta₂         ⎟        ⎜  ╱              \n",
       "⎣      ⎝ ╲╱             l₁ + l₂⋅ℯ                  ⎠        ⎝╲╱             l₁\n",
       "\n",
       "_________________________⎞⎤\n",
       "heta₂     ⎞  -ⅈ⋅\\theta₂  ⎟⎥\n",
       "      + l₂⎠⋅ℯ            ⎟⎥\n",
       "──────────────────────── ⎟⎥\n",
       "       ⅈ⋅\\theta₂         ⎟⎥\n",
       " + l₂⋅ℯ                  ⎠⎦"
      ]
     },
     "execution_count": 5,
     "metadata": {},
     "output_type": "execute_result"
    }
   ],
   "source": [
    "solve( l1*cos(t1) + l2*cos(t1+t2), [t1])"
   ]
  },
  {
   "cell_type": "code",
   "execution_count": 12,
   "metadata": {},
   "outputs": [],
   "source": [
    "x,y = l1*cos(t1) + l2*cos(t1+t2), ( l1*sin(t1) + l2*sin(t1+t2) )\n",
    "px,py = symbols(\"p_x, p_y\")"
   ]
  },
  {
   "cell_type": "code",
   "execution_count": 17,
   "metadata": {},
   "outputs": [],
   "source": [
    "# solve(Eq(y/x, py/px), [t2])"
   ]
  },
  {
   "cell_type": "code",
   "execution_count": 28,
   "metadata": {},
   "outputs": [
    {
     "data": {
      "image/png": "[encoded data removed]",
      "text/latex": [
       "$$\\left [ 2 \\operatorname{atan}{\\left (\\frac{1}{- l_{1} p_{y} + l_{2} p_{x} \\sin{\\left (\\theta_2 \\right )} - l_{2} p_{y} \\cos{\\left (\\theta_2 \\right )}} \\left(l_{1} p_{x} + l_{2} p_{x} \\cos{\\left (\\theta_2 \\right )} + l_{2} p_{y} \\sin{\\left (\\theta_2 \\right )} - \\sqrt{l_{1}^{2} p_{x}^{2} + l_{1}^{2} p_{y}^{2} + 2 l_{1} l_{2} p_{x}^{2} \\cos{\\left (\\theta_2 \\right )} + 2 l_{1} l_{2} p_{y}^{2} \\cos{\\left (\\theta_2 \\right )} + l_{2}^{2} p_{x}^{2} + l_{2}^{2} p_{y}^{2}}\\right) \\right )}, \\quad 2 \\operatorname{atan}{\\left (\\frac{1}{- l_{1} p_{y} + l_{2} p_{x} \\sin{\\left (\\theta_2 \\right )} - l_{2} p_{y} \\cos{\\left (\\theta_2 \\right )}} \\left(l_{1} p_{x} + l_{2} p_{x} \\cos{\\left (\\theta_2 \\right )} + l_{2} p_{y} \\sin{\\left (\\theta_2 \\right )} + \\sqrt{l_{1}^{2} p_{x}^{2} + l_{1}^{2} p_{y}^{2} + 2 l_{1} l_{2} p_{x}^{2} \\cos{\\left (\\theta_2 \\right )} + 2 l_{1} l_{2} p_{y}^{2} \\cos{\\left (\\theta_2 \\right )} + l_{2}^{2} p_{x}^{2} + l_{2}^{2} p_{y}^{2}}\\right) \\right )}\\right ]$$"
      ],
      "text/plain": [
       "⎡      ⎛                                                      ________________\n",
       "⎢      ⎜                                                     ╱   2   2     2  \n",
       "⎢      ⎜l₁⋅pₓ + l₂⋅pₓ⋅cos(\\theta₂) + l₂⋅p_y⋅sin(\\theta₂) - ╲╱  l₁ ⋅pₓ  + l₁ ⋅p\n",
       "⎢2⋅atan⎜──────────────────────────────────────────────────────────────────────\n",
       "⎣      ⎝                                                  -l₁⋅p_y + l₂⋅pₓ⋅sin(\n",
       "\n",
       "______________________________________________________________________________\n",
       "  2             2                           2                  2   2     2    \n",
       "_y  + 2⋅l₁⋅l₂⋅pₓ ⋅cos(\\theta₂) + 2⋅l₁⋅l₂⋅p_y ⋅cos(\\theta₂) + l₂ ⋅pₓ  + l₂ ⋅p_y\n",
       "──────────────────────────────────────────────────────────────────────────────\n",
       "\\theta₂) - l₂⋅p_y⋅cos(\\theta₂)                                                \n",
       "\n",
       "__⎞        ⎛                                                      ____________\n",
       "2 ⎟        ⎜                                                     ╱   2   2    \n",
       "  ⎟        ⎜l₁⋅pₓ + l₂⋅pₓ⋅cos(\\theta₂) + l₂⋅p_y⋅sin(\\theta₂) + ╲╱  l₁ ⋅pₓ  + l\n",
       "──⎟, 2⋅atan⎜──────────────────────────────────────────────────────────────────\n",
       "  ⎠        ⎝                                                  -l₁⋅p_y + l₂⋅pₓ⋅\n",
       "\n",
       "______________________________________________________________________________\n",
       " 2    2             2                           2                  2   2     2\n",
       "₁ ⋅p_y  + 2⋅l₁⋅l₂⋅pₓ ⋅cos(\\theta₂) + 2⋅l₁⋅l₂⋅p_y ⋅cos(\\theta₂) + l₂ ⋅pₓ  + l₂ \n",
       "──────────────────────────────────────────────────────────────────────────────\n",
       "sin(\\theta₂) - l₂⋅p_y⋅cos(\\theta₂)                                            \n",
       "\n",
       "______⎞⎤\n",
       "    2 ⎟⎥\n",
       "⋅p_y  ⎟⎥\n",
       "──────⎟⎥\n",
       "      ⎠⎦"
      ]
     },
     "execution_count": 28,
     "metadata": {},
     "output_type": "execute_result"
    }
   ],
   "source": [
    "solve( Eq( expand_trig(y)/expand_trig(x), py/px), [t1])"
   ]
  },
  {
   "cell_type": "code",
   "execution_count": 31,
   "metadata": {},
   "outputs": [
    {
     "data": {
      "image/png": "[encoded data removed]",
      "text/latex": [
       "$$l_{1}^{2} \\cos^{2}{\\left (\\theta_1 \\right )} - 2 l_{1} p_{x} \\cos{\\left (\\theta_1 \\right )} + p_{x}^{2}$$"
      ],
      "text/plain": [
       "  2    2                                     2\n",
       "l₁ ⋅cos (\\theta₁) - 2⋅l₁⋅pₓ⋅cos(\\theta₁) + pₓ "
      ]
     },
     "execution_count": 31,
     "metadata": {},
     "output_type": "execute_result"
    }
   ],
   "source": [
    "expand( (px - l1*cos(t1))**2 )"
   ]
  },
  {
   "cell_type": "code",
   "execution_count": 35,
   "metadata": {},
   "outputs": [
    {
     "data": {
      "image/png": "[encoded data removed]",
      "text/latex": [
       "$$\\frac{l_{2}^{2}}{2} \\left(\\cos{\\left (2 \\theta_1 + 2 \\theta_2 \\right )} + 1\\right)$$"
      ],
      "text/plain": [
       "  2                                 \n",
       "l₂ ⋅(cos(2⋅\\theta₁ + 2⋅\\theta₂) + 1)\n",
       "────────────────────────────────────\n",
       "                 2                  "
      ]
     },
     "execution_count": 35,
     "metadata": {},
     "output_type": "execute_result"
    }
   ],
   "source": [
    "simplify( expand( expand_trig( (l2*cos(t1+t2))**2 ) ) )"
   ]
  },
  {
   "cell_type": "code",
   "execution_count": null,
   "metadata": {},
   "outputs": [],
   "source": [
    "expand"
   ]
  }
 ],
 "metadata": {
  "kernelspec": {
   "display_name": "Python 3",
   "language": "python",
   "name": "python3"
  },
  "language_info": {
   "codemirror_mode": {
    "name": "ipython",
    "version": 3
   },
   "file_extension": ".py",
   "mimetype": "text/x-python",
   "name": "python",
   "nbconvert_exporter": "python",
   "pygments_lexer": "ipython3",
   "version": "3.6.5"
  }
 },
 "nbformat": 4,
 "nbformat_minor": 2
}
