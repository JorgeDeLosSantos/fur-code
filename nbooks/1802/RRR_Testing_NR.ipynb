{
 "cells": [
  {
   "cell_type": "code",
   "execution_count": 5,
   "metadata": {},
   "outputs": [],
   "source": [
    "from furlib import *\n",
    "\n",
    "def newton_raphson(J,b,X0,vals,eps=1e-5):\n",
    "    k = 1\n",
    "    #Jinv = (J.subs(X0)#J.inv().subs(vals).evalf()\n",
    "    b = b.subs(vals).evalf()\n",
    "    while True:\n",
    "        x = ((J.subs(X0).subs(vals)).inv()*b.subs(X0)).evalf()\n",
    "        if x.norm()<eps: break\n",
    "        for jj,ky in enumerate(X0):\n",
    "            X0[ky] += (x[jj]).evalf()\n",
    "        k += 1\n",
    "        \n",
    "    return X0,x,k\n",
    "\n",
    "\n",
    "rad = lambda x: (x*pi/180).evalf()\n",
    "deg = lambda x: (x*180/pi).evalf()"
   ]
  },
  {
   "cell_type": "code",
   "execution_count": 6,
   "metadata": {},
   "outputs": [],
   "source": [
    "#t1,t2,t3 = symbols('\\\\theta_1,\\\\theta_2,\\\\theta_3', real=True)\n",
    "#l1,l2,l3 = symbols('l_1,l_2,l_3', real=True)\n",
    "r = Robot((0,pi/2,d1,t1),(l2,0,0,t2),(l3,0,0,t3))\n",
    "T = r.T\n",
    "px,py,pz = T[0,3], T[1,3], T[2,3]"
   ]
  },
  {
   "cell_type": "code",
   "execution_count": 14,
   "metadata": {},
   "outputs": [
    {
     "data": {
      "image/png": "[encoded data removed]",
      "text/latex": [
       "$$\\left[\\begin{matrix}- \\left(l_{2} \\cos{\\left (\\theta_2 \\right )} + l_{3} \\cos{\\left (\\theta_2 + \\theta_3 \\right )}\\right) \\sin{\\left (\\theta_1 \\right )} & - \\left(l_{2} \\sin{\\left (\\theta_2 \\right )} + l_{3} \\sin{\\left (\\theta_2 + \\theta_3 \\right )}\\right) \\cos{\\left (\\theta_1 \\right )} & - l_{3} \\sin{\\left (\\theta_2 + \\theta_3 \\right )} \\cos{\\left (\\theta_1 \\right )}\\\\\\left(l_{2} \\cos{\\left (\\theta_2 \\right )} + l_{3} \\cos{\\left (\\theta_2 + \\theta_3 \\right )}\\right) \\cos{\\left (\\theta_1 \\right )} & - \\left(l_{2} \\sin{\\left (\\theta_2 \\right )} + l_{3} \\sin{\\left (\\theta_2 + \\theta_3 \\right )}\\right) \\sin{\\left (\\theta_1 \\right )} & - l_{3} \\sin{\\left (\\theta_1 \\right )} \\sin{\\left (\\theta_2 + \\theta_3 \\right )}\\\\0 & l_{2} \\cos{\\left (\\theta_2 \\right )} + l_{3} \\cos{\\left (\\theta_2 + \\theta_3 \\right )} & l_{3} \\cos{\\left (\\theta_2 + \\theta_3 \\right )}\\\\0 & \\sin{\\left (\\theta_1 \\right )} & \\sin{\\left (\\theta_1 \\right )}\\\\0 & - \\cos{\\left (\\theta_1 \\right )} & - \\cos{\\left (\\theta_1 \\right )}\\\\1 & 0 & 0\\end{matrix}\\right]$$"
      ],
      "text/plain": [
       "⎡-(l₂⋅cos(\\theta₂) + l₃⋅cos(\\theta₂ + \\theta₃))⋅sin(\\theta₁)  -(l₂⋅sin(\\theta₂\n",
       "⎢                                                                             \n",
       "⎢(l₂⋅cos(\\theta₂) + l₃⋅cos(\\theta₂ + \\theta₃))⋅cos(\\theta₁)   -(l₂⋅sin(\\theta₂\n",
       "⎢                                                                             \n",
       "⎢                             0                                       l₂⋅cos(\\\n",
       "⎢                                                                             \n",
       "⎢                             0                                               \n",
       "⎢                                                                             \n",
       "⎢                             0                                               \n",
       "⎢                                                                             \n",
       "⎣                             1                                               \n",
       "\n",
       ") + l₃⋅sin(\\theta₂ + \\theta₃))⋅cos(\\theta₁)  -l₃⋅sin(\\theta₂ + \\theta₃)⋅cos(\\t\n",
       "                                                                              \n",
       ") + l₃⋅sin(\\theta₂ + \\theta₃))⋅sin(\\theta₁)  -l₃⋅sin(\\theta₁)⋅sin(\\theta₂ + \\t\n",
       "                                                                              \n",
       "theta₂) + l₃⋅cos(\\theta₂ + \\theta₃)                 l₃⋅cos(\\theta₂ + \\theta₃) \n",
       "                                                                              \n",
       "       sin(\\theta₁)                                       sin(\\theta₁)        \n",
       "                                                                              \n",
       "       -cos(\\theta₁)                                      -cos(\\theta₁)       \n",
       "                                                                              \n",
       "             0                                                  0             \n",
       "\n",
       "heta₁)⎤\n",
       "      ⎥\n",
       "heta₃)⎥\n",
       "      ⎥\n",
       "      ⎥\n",
       "      ⎥\n",
       "      ⎥\n",
       "      ⎥\n",
       "      ⎥\n",
       "      ⎥\n",
       "      ⎦"
      ]
     },
     "execution_count": 14,
     "metadata": {},
     "output_type": "execute_result"
    }
   ],
   "source": [
    "r.J"
   ]
  },
  {
   "cell_type": "code",
   "execution_count": 16,
   "metadata": {},
   "outputs": [
    {
     "data": {
      "image/png": "[encoded data removed]",
      "text/latex": [
       "$$\\theta_1$$"
      ],
      "text/plain": [
       "\\theta₁"
      ]
     },
     "execution_count": 16,
     "metadata": {},
     "output_type": "execute_result"
    }
   ],
   "source": [
    "t1"
   ]
  },
  {
   "cell_type": "code",
   "execution_count": 20,
   "metadata": {},
   "outputs": [
    {
     "data": {
      "image/png": "[encoded data removed]",
      "text/latex": [
       "$$\\left ( 0, \\quad \\frac{\\pi}{3}, \\quad 0\\right )$$"
      ],
      "text/plain": [
       "⎛   π   ⎞\n",
       "⎜0, ─, 0⎟\n",
       "⎝   3   ⎠"
      ]
     },
     "execution_count": 20,
     "metadata": {},
     "output_type": "execute_result"
    }
   ],
   "source": [
    "euler_angles(htmr(pi/3,\"x\"))"
   ]
  },
  {
   "cell_type": "code",
   "execution_count": 22,
   "metadata": {},
   "outputs": [],
   "source": [
    "r.z?"
   ]
  },
  {
   "cell_type": "code",
   "execution_count": null,
   "metadata": {},
   "outputs": [],
   "source": []
  }
 ],
 "metadata": {
  "kernelspec": {
   "display_name": "Python 3",
   "language": "python",
   "name": "python3"
  },
  "language_info": {
   "codemirror_mode": {
    "name": "ipython",
    "version": 3
   },
   "file_extension": ".py",
   "mimetype": "text/x-python",
   "name": "python",
   "nbconvert_exporter": "python",
   "pygments_lexer": "ipython3",
   "version": "3.6.5"
  }
 },
 "nbformat": 4,
 "nbformat_minor": 2
}
